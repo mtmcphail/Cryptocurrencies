{
 "cells": [
  {
   "cell_type": "markdown",
   "metadata": {},
   "source": [
    "# Clustering Crypto"
   ]
  },
  {
   "cell_type": "code",
   "execution_count": 96,
   "metadata": {},
   "outputs": [],
   "source": [
    "# Initial imports\n",
    "import pandas as pd\n",
    "import hvplot.pandas\n",
    "from path import Path\n",
    "import plotly.express as px\n",
    "from sklearn.preprocessing import StandardScaler, MinMaxScaler\n",
    "from sklearn.decomposition import PCA\n",
    "from sklearn.cluster import KMeans\n"
   ]
  },
  {
   "cell_type": "markdown",
   "metadata": {},
   "source": [
    "### Deliverable 1: Preprocessing the Data for PCA"
   ]
  },
  {
   "cell_type": "code",
   "execution_count": 2,
   "metadata": {},
   "outputs": [
    {
     "data": {
      "text/html": [
       "<div>\n",
       "<style scoped>\n",
       "    .dataframe tbody tr th:only-of-type {\n",
       "        vertical-align: middle;\n",
       "    }\n",
       "\n",
       "    .dataframe tbody tr th {\n",
       "        vertical-align: top;\n",
       "    }\n",
       "\n",
       "    .dataframe thead th {\n",
       "        text-align: right;\n",
       "    }\n",
       "</style>\n",
       "<table border=\"1\" class=\"dataframe\">\n",
       "  <thead>\n",
       "    <tr style=\"text-align: right;\">\n",
       "      <th></th>\n",
       "      <th>CoinName</th>\n",
       "      <th>Algorithm</th>\n",
       "      <th>IsTrading</th>\n",
       "      <th>ProofType</th>\n",
       "      <th>TotalCoinsMined</th>\n",
       "      <th>TotalCoinSupply</th>\n",
       "    </tr>\n",
       "  </thead>\n",
       "  <tbody>\n",
       "    <tr>\n",
       "      <th>42</th>\n",
       "      <td>42 Coin</td>\n",
       "      <td>Scrypt</td>\n",
       "      <td>True</td>\n",
       "      <td>PoW/PoS</td>\n",
       "      <td>4.199995e+01</td>\n",
       "      <td>42</td>\n",
       "    </tr>\n",
       "    <tr>\n",
       "      <th>365</th>\n",
       "      <td>365Coin</td>\n",
       "      <td>X11</td>\n",
       "      <td>True</td>\n",
       "      <td>PoW/PoS</td>\n",
       "      <td>NaN</td>\n",
       "      <td>2300000000</td>\n",
       "    </tr>\n",
       "    <tr>\n",
       "      <th>404</th>\n",
       "      <td>404Coin</td>\n",
       "      <td>Scrypt</td>\n",
       "      <td>True</td>\n",
       "      <td>PoW/PoS</td>\n",
       "      <td>1.055185e+09</td>\n",
       "      <td>532000000</td>\n",
       "    </tr>\n",
       "    <tr>\n",
       "      <th>611</th>\n",
       "      <td>SixEleven</td>\n",
       "      <td>SHA-256</td>\n",
       "      <td>True</td>\n",
       "      <td>PoW</td>\n",
       "      <td>NaN</td>\n",
       "      <td>611000</td>\n",
       "    </tr>\n",
       "    <tr>\n",
       "      <th>808</th>\n",
       "      <td>808</td>\n",
       "      <td>SHA-256</td>\n",
       "      <td>True</td>\n",
       "      <td>PoW/PoS</td>\n",
       "      <td>0.000000e+00</td>\n",
       "      <td>0</td>\n",
       "    </tr>\n",
       "    <tr>\n",
       "      <th>1337</th>\n",
       "      <td>EliteCoin</td>\n",
       "      <td>X13</td>\n",
       "      <td>True</td>\n",
       "      <td>PoW/PoS</td>\n",
       "      <td>2.927942e+10</td>\n",
       "      <td>314159265359</td>\n",
       "    </tr>\n",
       "    <tr>\n",
       "      <th>2015</th>\n",
       "      <td>2015 coin</td>\n",
       "      <td>X11</td>\n",
       "      <td>True</td>\n",
       "      <td>PoW/PoS</td>\n",
       "      <td>NaN</td>\n",
       "      <td>0</td>\n",
       "    </tr>\n",
       "    <tr>\n",
       "      <th>BTC</th>\n",
       "      <td>Bitcoin</td>\n",
       "      <td>SHA-256</td>\n",
       "      <td>True</td>\n",
       "      <td>PoW</td>\n",
       "      <td>1.792718e+07</td>\n",
       "      <td>21000000</td>\n",
       "    </tr>\n",
       "    <tr>\n",
       "      <th>ETH</th>\n",
       "      <td>Ethereum</td>\n",
       "      <td>Ethash</td>\n",
       "      <td>True</td>\n",
       "      <td>PoW</td>\n",
       "      <td>1.076842e+08</td>\n",
       "      <td>0</td>\n",
       "    </tr>\n",
       "    <tr>\n",
       "      <th>LTC</th>\n",
       "      <td>Litecoin</td>\n",
       "      <td>Scrypt</td>\n",
       "      <td>True</td>\n",
       "      <td>PoW</td>\n",
       "      <td>6.303924e+07</td>\n",
       "      <td>84000000</td>\n",
       "    </tr>\n",
       "  </tbody>\n",
       "</table>\n",
       "</div>"
      ],
      "text/plain": [
       "       CoinName Algorithm  IsTrading ProofType  TotalCoinsMined  \\\n",
       "42      42 Coin    Scrypt       True   PoW/PoS     4.199995e+01   \n",
       "365     365Coin       X11       True   PoW/PoS              NaN   \n",
       "404     404Coin    Scrypt       True   PoW/PoS     1.055185e+09   \n",
       "611   SixEleven   SHA-256       True       PoW              NaN   \n",
       "808         808   SHA-256       True   PoW/PoS     0.000000e+00   \n",
       "1337  EliteCoin       X13       True   PoW/PoS     2.927942e+10   \n",
       "2015  2015 coin       X11       True   PoW/PoS              NaN   \n",
       "BTC     Bitcoin   SHA-256       True       PoW     1.792718e+07   \n",
       "ETH    Ethereum    Ethash       True       PoW     1.076842e+08   \n",
       "LTC    Litecoin    Scrypt       True       PoW     6.303924e+07   \n",
       "\n",
       "     TotalCoinSupply  \n",
       "42                42  \n",
       "365       2300000000  \n",
       "404        532000000  \n",
       "611           611000  \n",
       "808                0  \n",
       "1337    314159265359  \n",
       "2015               0  \n",
       "BTC         21000000  \n",
       "ETH                0  \n",
       "LTC         84000000  "
      ]
     },
     "execution_count": 2,
     "metadata": {},
     "output_type": "execute_result"
    }
   ],
   "source": [
    "# Load the crypto_data.csv dataset.\n",
    "file_path = \"./Resources/crypto_data.csv\"\n",
    "df = pd.read_csv(file_path, index_col=0)\n",
    "\n",
    "df.head(10)\n"
   ]
  },
  {
   "cell_type": "code",
   "execution_count": 3,
   "metadata": {},
   "outputs": [
    {
     "name": "stdout",
     "output_type": "stream",
     "text": [
      "<class 'pandas.core.frame.DataFrame'>\n",
      "Index: 1252 entries, 42 to PUNK\n",
      "Data columns (total 6 columns):\n",
      " #   Column           Non-Null Count  Dtype  \n",
      "---  ------           --------------  -----  \n",
      " 0   CoinName         1252 non-null   object \n",
      " 1   Algorithm        1252 non-null   object \n",
      " 2   IsTrading        1252 non-null   bool   \n",
      " 3   ProofType        1252 non-null   object \n",
      " 4   TotalCoinsMined  744 non-null    float64\n",
      " 5   TotalCoinSupply  1252 non-null   object \n",
      "dtypes: bool(1), float64(1), object(4)\n",
      "memory usage: 59.9+ KB\n"
     ]
    }
   ],
   "source": [
    "df.info()"
   ]
  },
  {
   "cell_type": "code",
   "execution_count": 4,
   "metadata": {},
   "outputs": [
    {
     "data": {
      "text/html": [
       "<div>\n",
       "<style scoped>\n",
       "    .dataframe tbody tr th:only-of-type {\n",
       "        vertical-align: middle;\n",
       "    }\n",
       "\n",
       "    .dataframe tbody tr th {\n",
       "        vertical-align: top;\n",
       "    }\n",
       "\n",
       "    .dataframe thead th {\n",
       "        text-align: right;\n",
       "    }\n",
       "</style>\n",
       "<table border=\"1\" class=\"dataframe\">\n",
       "  <thead>\n",
       "    <tr style=\"text-align: right;\">\n",
       "      <th></th>\n",
       "      <th>CoinName</th>\n",
       "      <th>Algorithm</th>\n",
       "      <th>IsTrading</th>\n",
       "      <th>ProofType</th>\n",
       "      <th>TotalCoinsMined</th>\n",
       "      <th>TotalCoinSupply</th>\n",
       "    </tr>\n",
       "  </thead>\n",
       "  <tbody>\n",
       "    <tr>\n",
       "      <th>42</th>\n",
       "      <td>42 Coin</td>\n",
       "      <td>Scrypt</td>\n",
       "      <td>True</td>\n",
       "      <td>PoW/PoS</td>\n",
       "      <td>4.199995e+01</td>\n",
       "      <td>42</td>\n",
       "    </tr>\n",
       "    <tr>\n",
       "      <th>365</th>\n",
       "      <td>365Coin</td>\n",
       "      <td>X11</td>\n",
       "      <td>True</td>\n",
       "      <td>PoW/PoS</td>\n",
       "      <td>NaN</td>\n",
       "      <td>2300000000</td>\n",
       "    </tr>\n",
       "    <tr>\n",
       "      <th>404</th>\n",
       "      <td>404Coin</td>\n",
       "      <td>Scrypt</td>\n",
       "      <td>True</td>\n",
       "      <td>PoW/PoS</td>\n",
       "      <td>1.055185e+09</td>\n",
       "      <td>532000000</td>\n",
       "    </tr>\n",
       "    <tr>\n",
       "      <th>611</th>\n",
       "      <td>SixEleven</td>\n",
       "      <td>SHA-256</td>\n",
       "      <td>True</td>\n",
       "      <td>PoW</td>\n",
       "      <td>NaN</td>\n",
       "      <td>611000</td>\n",
       "    </tr>\n",
       "    <tr>\n",
       "      <th>808</th>\n",
       "      <td>808</td>\n",
       "      <td>SHA-256</td>\n",
       "      <td>True</td>\n",
       "      <td>PoW/PoS</td>\n",
       "      <td>0.000000e+00</td>\n",
       "      <td>0</td>\n",
       "    </tr>\n",
       "  </tbody>\n",
       "</table>\n",
       "</div>"
      ],
      "text/plain": [
       "      CoinName Algorithm  IsTrading ProofType  TotalCoinsMined TotalCoinSupply\n",
       "42     42 Coin    Scrypt       True   PoW/PoS     4.199995e+01              42\n",
       "365    365Coin       X11       True   PoW/PoS              NaN      2300000000\n",
       "404    404Coin    Scrypt       True   PoW/PoS     1.055185e+09       532000000\n",
       "611  SixEleven   SHA-256       True       PoW              NaN          611000\n",
       "808        808   SHA-256       True   PoW/PoS     0.000000e+00               0"
      ]
     },
     "execution_count": 4,
     "metadata": {},
     "output_type": "execute_result"
    }
   ],
   "source": [
    "# Keep all the cryptocurrencies that are being traded; IsTrading ==True.\n",
    "df1 = df.loc[df['IsTrading'] == True]\n",
    "df1.head()"
   ]
  },
  {
   "cell_type": "code",
   "execution_count": 5,
   "metadata": {},
   "outputs": [
    {
     "name": "stdout",
     "output_type": "stream",
     "text": [
      "<class 'pandas.core.frame.DataFrame'>\n",
      "Index: 1144 entries, 42 to XBC\n",
      "Data columns (total 6 columns):\n",
      " #   Column           Non-Null Count  Dtype  \n",
      "---  ------           --------------  -----  \n",
      " 0   CoinName         1144 non-null   object \n",
      " 1   Algorithm        1144 non-null   object \n",
      " 2   IsTrading        1144 non-null   bool   \n",
      " 3   ProofType        1144 non-null   object \n",
      " 4   TotalCoinsMined  685 non-null    float64\n",
      " 5   TotalCoinSupply  1144 non-null   object \n",
      "dtypes: bool(1), float64(1), object(4)\n",
      "memory usage: 54.7+ KB\n"
     ]
    }
   ],
   "source": [
    "df1.info()"
   ]
  },
  {
   "cell_type": "code",
   "execution_count": 6,
   "metadata": {},
   "outputs": [
    {
     "name": "stdout",
     "output_type": "stream",
     "text": [
      "<class 'pandas.core.frame.DataFrame'>\n",
      "Index: 1144 entries, 42 to XBC\n",
      "Data columns (total 6 columns):\n",
      " #   Column           Non-Null Count  Dtype  \n",
      "---  ------           --------------  -----  \n",
      " 0   CoinName         1144 non-null   object \n",
      " 1   Algorithm        1144 non-null   object \n",
      " 2   IsTrading        1144 non-null   bool   \n",
      " 3   ProofType        1144 non-null   object \n",
      " 4   TotalCoinsMined  685 non-null    float64\n",
      " 5   TotalCoinSupply  1144 non-null   object \n",
      "dtypes: bool(1), float64(1), object(4)\n",
      "memory usage: 54.7+ KB\n"
     ]
    }
   ],
   "source": [
    "# Based on info and sort below like all rows have a working Algorithm\n",
    "# Check if any \"Algorthm\" values is NaN, blank or \" \";\n",
    "df0 = df1.sort_values(by='Algorithm', ascending=False)\n",
    "df0.tail()\n",
    "\n",
    "# Keep all the cryptocurrencies that have a working algorithm: drop NaN values; filtering Algorithm.\n",
    "df2 = df1.dropna(axis=0, subset=['Algorithm'])\n",
    "df2.info()"
   ]
  },
  {
   "cell_type": "code",
   "execution_count": 7,
   "metadata": {},
   "outputs": [
    {
     "data": {
      "text/html": [
       "<div>\n",
       "<style scoped>\n",
       "    .dataframe tbody tr th:only-of-type {\n",
       "        vertical-align: middle;\n",
       "    }\n",
       "\n",
       "    .dataframe tbody tr th {\n",
       "        vertical-align: top;\n",
       "    }\n",
       "\n",
       "    .dataframe thead th {\n",
       "        text-align: right;\n",
       "    }\n",
       "</style>\n",
       "<table border=\"1\" class=\"dataframe\">\n",
       "  <thead>\n",
       "    <tr style=\"text-align: right;\">\n",
       "      <th></th>\n",
       "      <th>CoinName</th>\n",
       "      <th>Algorithm</th>\n",
       "      <th>ProofType</th>\n",
       "      <th>TotalCoinsMined</th>\n",
       "      <th>TotalCoinSupply</th>\n",
       "    </tr>\n",
       "  </thead>\n",
       "  <tbody>\n",
       "    <tr>\n",
       "      <th>42</th>\n",
       "      <td>42 Coin</td>\n",
       "      <td>Scrypt</td>\n",
       "      <td>PoW/PoS</td>\n",
       "      <td>4.199995e+01</td>\n",
       "      <td>42</td>\n",
       "    </tr>\n",
       "    <tr>\n",
       "      <th>365</th>\n",
       "      <td>365Coin</td>\n",
       "      <td>X11</td>\n",
       "      <td>PoW/PoS</td>\n",
       "      <td>NaN</td>\n",
       "      <td>2300000000</td>\n",
       "    </tr>\n",
       "    <tr>\n",
       "      <th>404</th>\n",
       "      <td>404Coin</td>\n",
       "      <td>Scrypt</td>\n",
       "      <td>PoW/PoS</td>\n",
       "      <td>1.055185e+09</td>\n",
       "      <td>532000000</td>\n",
       "    </tr>\n",
       "    <tr>\n",
       "      <th>611</th>\n",
       "      <td>SixEleven</td>\n",
       "      <td>SHA-256</td>\n",
       "      <td>PoW</td>\n",
       "      <td>NaN</td>\n",
       "      <td>611000</td>\n",
       "    </tr>\n",
       "    <tr>\n",
       "      <th>808</th>\n",
       "      <td>808</td>\n",
       "      <td>SHA-256</td>\n",
       "      <td>PoW/PoS</td>\n",
       "      <td>0.000000e+00</td>\n",
       "      <td>0</td>\n",
       "    </tr>\n",
       "    <tr>\n",
       "      <th>...</th>\n",
       "      <td>...</td>\n",
       "      <td>...</td>\n",
       "      <td>...</td>\n",
       "      <td>...</td>\n",
       "      <td>...</td>\n",
       "    </tr>\n",
       "    <tr>\n",
       "      <th>SERO</th>\n",
       "      <td>Super Zero</td>\n",
       "      <td>Ethash</td>\n",
       "      <td>PoW</td>\n",
       "      <td>NaN</td>\n",
       "      <td>1000000000</td>\n",
       "    </tr>\n",
       "    <tr>\n",
       "      <th>UOS</th>\n",
       "      <td>UOS</td>\n",
       "      <td>SHA-256</td>\n",
       "      <td>DPoI</td>\n",
       "      <td>NaN</td>\n",
       "      <td>1000000000</td>\n",
       "    </tr>\n",
       "    <tr>\n",
       "      <th>BDX</th>\n",
       "      <td>Beldex</td>\n",
       "      <td>CryptoNight</td>\n",
       "      <td>PoW</td>\n",
       "      <td>9.802226e+08</td>\n",
       "      <td>1400222610</td>\n",
       "    </tr>\n",
       "    <tr>\n",
       "      <th>ZEN</th>\n",
       "      <td>Horizen</td>\n",
       "      <td>Equihash</td>\n",
       "      <td>PoW</td>\n",
       "      <td>7.296538e+06</td>\n",
       "      <td>21000000</td>\n",
       "    </tr>\n",
       "    <tr>\n",
       "      <th>XBC</th>\n",
       "      <td>BitcoinPlus</td>\n",
       "      <td>Scrypt</td>\n",
       "      <td>PoS</td>\n",
       "      <td>1.283270e+05</td>\n",
       "      <td>1000000</td>\n",
       "    </tr>\n",
       "  </tbody>\n",
       "</table>\n",
       "<p>1144 rows × 5 columns</p>\n",
       "</div>"
      ],
      "text/plain": [
       "         CoinName    Algorithm ProofType  TotalCoinsMined TotalCoinSupply\n",
       "42        42 Coin       Scrypt   PoW/PoS     4.199995e+01              42\n",
       "365       365Coin          X11   PoW/PoS              NaN      2300000000\n",
       "404       404Coin       Scrypt   PoW/PoS     1.055185e+09       532000000\n",
       "611     SixEleven      SHA-256       PoW              NaN          611000\n",
       "808           808      SHA-256   PoW/PoS     0.000000e+00               0\n",
       "...           ...          ...       ...              ...             ...\n",
       "SERO   Super Zero       Ethash       PoW              NaN      1000000000\n",
       "UOS           UOS      SHA-256      DPoI              NaN      1000000000\n",
       "BDX        Beldex  CryptoNight       PoW     9.802226e+08      1400222610\n",
       "ZEN       Horizen     Equihash       PoW     7.296538e+06        21000000\n",
       "XBC   BitcoinPlus       Scrypt       PoS     1.283270e+05         1000000\n",
       "\n",
       "[1144 rows x 5 columns]"
      ]
     },
     "execution_count": 7,
     "metadata": {},
     "output_type": "execute_result"
    }
   ],
   "source": [
    "# Remove the \"IsTrading\" column. \n",
    "df3 = df2.drop(['IsTrading'], axis=1)\n",
    "df3"
   ]
  },
  {
   "cell_type": "code",
   "execution_count": 8,
   "metadata": {},
   "outputs": [
    {
     "data": {
      "text/html": [
       "<div>\n",
       "<style scoped>\n",
       "    .dataframe tbody tr th:only-of-type {\n",
       "        vertical-align: middle;\n",
       "    }\n",
       "\n",
       "    .dataframe tbody tr th {\n",
       "        vertical-align: top;\n",
       "    }\n",
       "\n",
       "    .dataframe thead th {\n",
       "        text-align: right;\n",
       "    }\n",
       "</style>\n",
       "<table border=\"1\" class=\"dataframe\">\n",
       "  <thead>\n",
       "    <tr style=\"text-align: right;\">\n",
       "      <th></th>\n",
       "      <th>CoinName</th>\n",
       "      <th>Algorithm</th>\n",
       "      <th>ProofType</th>\n",
       "      <th>TotalCoinsMined</th>\n",
       "      <th>TotalCoinSupply</th>\n",
       "    </tr>\n",
       "  </thead>\n",
       "  <tbody>\n",
       "    <tr>\n",
       "      <th>42</th>\n",
       "      <td>42 Coin</td>\n",
       "      <td>Scrypt</td>\n",
       "      <td>PoW/PoS</td>\n",
       "      <td>4.199995e+01</td>\n",
       "      <td>42</td>\n",
       "    </tr>\n",
       "    <tr>\n",
       "      <th>404</th>\n",
       "      <td>404Coin</td>\n",
       "      <td>Scrypt</td>\n",
       "      <td>PoW/PoS</td>\n",
       "      <td>1.055185e+09</td>\n",
       "      <td>532000000</td>\n",
       "    </tr>\n",
       "    <tr>\n",
       "      <th>808</th>\n",
       "      <td>808</td>\n",
       "      <td>SHA-256</td>\n",
       "      <td>PoW/PoS</td>\n",
       "      <td>0.000000e+00</td>\n",
       "      <td>0</td>\n",
       "    </tr>\n",
       "    <tr>\n",
       "      <th>1337</th>\n",
       "      <td>EliteCoin</td>\n",
       "      <td>X13</td>\n",
       "      <td>PoW/PoS</td>\n",
       "      <td>2.927942e+10</td>\n",
       "      <td>314159265359</td>\n",
       "    </tr>\n",
       "    <tr>\n",
       "      <th>BTC</th>\n",
       "      <td>Bitcoin</td>\n",
       "      <td>SHA-256</td>\n",
       "      <td>PoW</td>\n",
       "      <td>1.792718e+07</td>\n",
       "      <td>21000000</td>\n",
       "    </tr>\n",
       "    <tr>\n",
       "      <th>...</th>\n",
       "      <td>...</td>\n",
       "      <td>...</td>\n",
       "      <td>...</td>\n",
       "      <td>...</td>\n",
       "      <td>...</td>\n",
       "    </tr>\n",
       "    <tr>\n",
       "      <th>ZEPH</th>\n",
       "      <td>ZEPHYR</td>\n",
       "      <td>SHA-256</td>\n",
       "      <td>DPoS</td>\n",
       "      <td>2.000000e+09</td>\n",
       "      <td>2000000000</td>\n",
       "    </tr>\n",
       "    <tr>\n",
       "      <th>GAP</th>\n",
       "      <td>Gapcoin</td>\n",
       "      <td>Scrypt</td>\n",
       "      <td>PoW/PoS</td>\n",
       "      <td>1.493105e+07</td>\n",
       "      <td>250000000</td>\n",
       "    </tr>\n",
       "    <tr>\n",
       "      <th>BDX</th>\n",
       "      <td>Beldex</td>\n",
       "      <td>CryptoNight</td>\n",
       "      <td>PoW</td>\n",
       "      <td>9.802226e+08</td>\n",
       "      <td>1400222610</td>\n",
       "    </tr>\n",
       "    <tr>\n",
       "      <th>ZEN</th>\n",
       "      <td>Horizen</td>\n",
       "      <td>Equihash</td>\n",
       "      <td>PoW</td>\n",
       "      <td>7.296538e+06</td>\n",
       "      <td>21000000</td>\n",
       "    </tr>\n",
       "    <tr>\n",
       "      <th>XBC</th>\n",
       "      <td>BitcoinPlus</td>\n",
       "      <td>Scrypt</td>\n",
       "      <td>PoS</td>\n",
       "      <td>1.283270e+05</td>\n",
       "      <td>1000000</td>\n",
       "    </tr>\n",
       "  </tbody>\n",
       "</table>\n",
       "<p>685 rows × 5 columns</p>\n",
       "</div>"
      ],
      "text/plain": [
       "         CoinName    Algorithm ProofType  TotalCoinsMined TotalCoinSupply\n",
       "42        42 Coin       Scrypt   PoW/PoS     4.199995e+01              42\n",
       "404       404Coin       Scrypt   PoW/PoS     1.055185e+09       532000000\n",
       "808           808      SHA-256   PoW/PoS     0.000000e+00               0\n",
       "1337    EliteCoin          X13   PoW/PoS     2.927942e+10    314159265359\n",
       "BTC       Bitcoin      SHA-256       PoW     1.792718e+07        21000000\n",
       "...           ...          ...       ...              ...             ...\n",
       "ZEPH       ZEPHYR      SHA-256      DPoS     2.000000e+09      2000000000\n",
       "GAP       Gapcoin       Scrypt   PoW/PoS     1.493105e+07       250000000\n",
       "BDX        Beldex  CryptoNight       PoW     9.802226e+08      1400222610\n",
       "ZEN       Horizen     Equihash       PoW     7.296538e+06        21000000\n",
       "XBC   BitcoinPlus       Scrypt       PoS     1.283270e+05         1000000\n",
       "\n",
       "[685 rows x 5 columns]"
      ]
     },
     "execution_count": 8,
     "metadata": {},
     "output_type": "execute_result"
    }
   ],
   "source": [
    "# Remove rows that have at least 1 null value.\n",
    "df4 = df3.dropna()\n",
    "df4"
   ]
  },
  {
   "cell_type": "code",
   "execution_count": 9,
   "metadata": {},
   "outputs": [
    {
     "data": {
      "text/html": [
       "<div>\n",
       "<style scoped>\n",
       "    .dataframe tbody tr th:only-of-type {\n",
       "        vertical-align: middle;\n",
       "    }\n",
       "\n",
       "    .dataframe tbody tr th {\n",
       "        vertical-align: top;\n",
       "    }\n",
       "\n",
       "    .dataframe thead th {\n",
       "        text-align: right;\n",
       "    }\n",
       "</style>\n",
       "<table border=\"1\" class=\"dataframe\">\n",
       "  <thead>\n",
       "    <tr style=\"text-align: right;\">\n",
       "      <th></th>\n",
       "      <th>CoinName</th>\n",
       "      <th>Algorithm</th>\n",
       "      <th>ProofType</th>\n",
       "      <th>TotalCoinsMined</th>\n",
       "      <th>TotalCoinSupply</th>\n",
       "    </tr>\n",
       "  </thead>\n",
       "  <tbody>\n",
       "    <tr>\n",
       "      <th>42</th>\n",
       "      <td>42 Coin</td>\n",
       "      <td>Scrypt</td>\n",
       "      <td>PoW/PoS</td>\n",
       "      <td>4.199995e+01</td>\n",
       "      <td>42</td>\n",
       "    </tr>\n",
       "    <tr>\n",
       "      <th>404</th>\n",
       "      <td>404Coin</td>\n",
       "      <td>Scrypt</td>\n",
       "      <td>PoW/PoS</td>\n",
       "      <td>1.055185e+09</td>\n",
       "      <td>532000000</td>\n",
       "    </tr>\n",
       "    <tr>\n",
       "      <th>1337</th>\n",
       "      <td>EliteCoin</td>\n",
       "      <td>X13</td>\n",
       "      <td>PoW/PoS</td>\n",
       "      <td>2.927942e+10</td>\n",
       "      <td>314159265359</td>\n",
       "    </tr>\n",
       "    <tr>\n",
       "      <th>BTC</th>\n",
       "      <td>Bitcoin</td>\n",
       "      <td>SHA-256</td>\n",
       "      <td>PoW</td>\n",
       "      <td>1.792718e+07</td>\n",
       "      <td>21000000</td>\n",
       "    </tr>\n",
       "    <tr>\n",
       "      <th>ETH</th>\n",
       "      <td>Ethereum</td>\n",
       "      <td>Ethash</td>\n",
       "      <td>PoW</td>\n",
       "      <td>1.076842e+08</td>\n",
       "      <td>0</td>\n",
       "    </tr>\n",
       "    <tr>\n",
       "      <th>...</th>\n",
       "      <td>...</td>\n",
       "      <td>...</td>\n",
       "      <td>...</td>\n",
       "      <td>...</td>\n",
       "      <td>...</td>\n",
       "    </tr>\n",
       "    <tr>\n",
       "      <th>ZEPH</th>\n",
       "      <td>ZEPHYR</td>\n",
       "      <td>SHA-256</td>\n",
       "      <td>DPoS</td>\n",
       "      <td>2.000000e+09</td>\n",
       "      <td>2000000000</td>\n",
       "    </tr>\n",
       "    <tr>\n",
       "      <th>GAP</th>\n",
       "      <td>Gapcoin</td>\n",
       "      <td>Scrypt</td>\n",
       "      <td>PoW/PoS</td>\n",
       "      <td>1.493105e+07</td>\n",
       "      <td>250000000</td>\n",
       "    </tr>\n",
       "    <tr>\n",
       "      <th>BDX</th>\n",
       "      <td>Beldex</td>\n",
       "      <td>CryptoNight</td>\n",
       "      <td>PoW</td>\n",
       "      <td>9.802226e+08</td>\n",
       "      <td>1400222610</td>\n",
       "    </tr>\n",
       "    <tr>\n",
       "      <th>ZEN</th>\n",
       "      <td>Horizen</td>\n",
       "      <td>Equihash</td>\n",
       "      <td>PoW</td>\n",
       "      <td>7.296538e+06</td>\n",
       "      <td>21000000</td>\n",
       "    </tr>\n",
       "    <tr>\n",
       "      <th>XBC</th>\n",
       "      <td>BitcoinPlus</td>\n",
       "      <td>Scrypt</td>\n",
       "      <td>PoS</td>\n",
       "      <td>1.283270e+05</td>\n",
       "      <td>1000000</td>\n",
       "    </tr>\n",
       "  </tbody>\n",
       "</table>\n",
       "<p>532 rows × 5 columns</p>\n",
       "</div>"
      ],
      "text/plain": [
       "         CoinName    Algorithm ProofType  TotalCoinsMined TotalCoinSupply\n",
       "42        42 Coin       Scrypt   PoW/PoS     4.199995e+01              42\n",
       "404       404Coin       Scrypt   PoW/PoS     1.055185e+09       532000000\n",
       "1337    EliteCoin          X13   PoW/PoS     2.927942e+10    314159265359\n",
       "BTC       Bitcoin      SHA-256       PoW     1.792718e+07        21000000\n",
       "ETH      Ethereum       Ethash       PoW     1.076842e+08               0\n",
       "...           ...          ...       ...              ...             ...\n",
       "ZEPH       ZEPHYR      SHA-256      DPoS     2.000000e+09      2000000000\n",
       "GAP       Gapcoin       Scrypt   PoW/PoS     1.493105e+07       250000000\n",
       "BDX        Beldex  CryptoNight       PoW     9.802226e+08      1400222610\n",
       "ZEN       Horizen     Equihash       PoW     7.296538e+06        21000000\n",
       "XBC   BitcoinPlus       Scrypt       PoS     1.283270e+05         1000000\n",
       "\n",
       "[532 rows x 5 columns]"
      ]
     },
     "execution_count": 9,
     "metadata": {},
     "output_type": "execute_result"
    }
   ],
   "source": [
    "# Keep the rows where coins are mined.\n",
    "df5 = df4.loc[df4['TotalCoinsMined'] > 0]\n",
    "df5"
   ]
  },
  {
   "cell_type": "code",
   "execution_count": 10,
   "metadata": {},
   "outputs": [
    {
     "data": {
      "text/html": [
       "<div>\n",
       "<style scoped>\n",
       "    .dataframe tbody tr th:only-of-type {\n",
       "        vertical-align: middle;\n",
       "    }\n",
       "\n",
       "    .dataframe tbody tr th {\n",
       "        vertical-align: top;\n",
       "    }\n",
       "\n",
       "    .dataframe thead th {\n",
       "        text-align: right;\n",
       "    }\n",
       "</style>\n",
       "<table border=\"1\" class=\"dataframe\">\n",
       "  <thead>\n",
       "    <tr style=\"text-align: right;\">\n",
       "      <th></th>\n",
       "      <th>CoinName</th>\n",
       "    </tr>\n",
       "  </thead>\n",
       "  <tbody>\n",
       "    <tr>\n",
       "      <th>42</th>\n",
       "      <td>42 Coin</td>\n",
       "    </tr>\n",
       "    <tr>\n",
       "      <th>404</th>\n",
       "      <td>404Coin</td>\n",
       "    </tr>\n",
       "    <tr>\n",
       "      <th>1337</th>\n",
       "      <td>EliteCoin</td>\n",
       "    </tr>\n",
       "    <tr>\n",
       "      <th>BTC</th>\n",
       "      <td>Bitcoin</td>\n",
       "    </tr>\n",
       "    <tr>\n",
       "      <th>ETH</th>\n",
       "      <td>Ethereum</td>\n",
       "    </tr>\n",
       "    <tr>\n",
       "      <th>...</th>\n",
       "      <td>...</td>\n",
       "    </tr>\n",
       "    <tr>\n",
       "      <th>ZEPH</th>\n",
       "      <td>ZEPHYR</td>\n",
       "    </tr>\n",
       "    <tr>\n",
       "      <th>GAP</th>\n",
       "      <td>Gapcoin</td>\n",
       "    </tr>\n",
       "    <tr>\n",
       "      <th>BDX</th>\n",
       "      <td>Beldex</td>\n",
       "    </tr>\n",
       "    <tr>\n",
       "      <th>ZEN</th>\n",
       "      <td>Horizen</td>\n",
       "    </tr>\n",
       "    <tr>\n",
       "      <th>XBC</th>\n",
       "      <td>BitcoinPlus</td>\n",
       "    </tr>\n",
       "  </tbody>\n",
       "</table>\n",
       "<p>532 rows × 1 columns</p>\n",
       "</div>"
      ],
      "text/plain": [
       "         CoinName\n",
       "42        42 Coin\n",
       "404       404Coin\n",
       "1337    EliteCoin\n",
       "BTC       Bitcoin\n",
       "ETH      Ethereum\n",
       "...           ...\n",
       "ZEPH       ZEPHYR\n",
       "GAP       Gapcoin\n",
       "BDX        Beldex\n",
       "ZEN       Horizen\n",
       "XBC   BitcoinPlus\n",
       "\n",
       "[532 rows x 1 columns]"
      ]
     },
     "execution_count": 10,
     "metadata": {},
     "output_type": "execute_result"
    }
   ],
   "source": [
    "# Create a new DataFrame that holds only the cryptocurrencies names.\n",
    "cc_names_df = df5[[\"CoinName\"]]\n",
    "cc_names_df"
   ]
  },
  {
   "cell_type": "code",
   "execution_count": 11,
   "metadata": {},
   "outputs": [
    {
     "data": {
      "text/html": [
       "<div>\n",
       "<style scoped>\n",
       "    .dataframe tbody tr th:only-of-type {\n",
       "        vertical-align: middle;\n",
       "    }\n",
       "\n",
       "    .dataframe tbody tr th {\n",
       "        vertical-align: top;\n",
       "    }\n",
       "\n",
       "    .dataframe thead th {\n",
       "        text-align: right;\n",
       "    }\n",
       "</style>\n",
       "<table border=\"1\" class=\"dataframe\">\n",
       "  <thead>\n",
       "    <tr style=\"text-align: right;\">\n",
       "      <th></th>\n",
       "      <th>Algorithm</th>\n",
       "      <th>ProofType</th>\n",
       "      <th>TotalCoinsMined</th>\n",
       "      <th>TotalCoinSupply</th>\n",
       "    </tr>\n",
       "  </thead>\n",
       "  <tbody>\n",
       "    <tr>\n",
       "      <th>42</th>\n",
       "      <td>Scrypt</td>\n",
       "      <td>PoW/PoS</td>\n",
       "      <td>4.199995e+01</td>\n",
       "      <td>42</td>\n",
       "    </tr>\n",
       "    <tr>\n",
       "      <th>404</th>\n",
       "      <td>Scrypt</td>\n",
       "      <td>PoW/PoS</td>\n",
       "      <td>1.055185e+09</td>\n",
       "      <td>532000000</td>\n",
       "    </tr>\n",
       "    <tr>\n",
       "      <th>1337</th>\n",
       "      <td>X13</td>\n",
       "      <td>PoW/PoS</td>\n",
       "      <td>2.927942e+10</td>\n",
       "      <td>314159265359</td>\n",
       "    </tr>\n",
       "    <tr>\n",
       "      <th>BTC</th>\n",
       "      <td>SHA-256</td>\n",
       "      <td>PoW</td>\n",
       "      <td>1.792718e+07</td>\n",
       "      <td>21000000</td>\n",
       "    </tr>\n",
       "    <tr>\n",
       "      <th>ETH</th>\n",
       "      <td>Ethash</td>\n",
       "      <td>PoW</td>\n",
       "      <td>1.076842e+08</td>\n",
       "      <td>0</td>\n",
       "    </tr>\n",
       "    <tr>\n",
       "      <th>...</th>\n",
       "      <td>...</td>\n",
       "      <td>...</td>\n",
       "      <td>...</td>\n",
       "      <td>...</td>\n",
       "    </tr>\n",
       "    <tr>\n",
       "      <th>ZEPH</th>\n",
       "      <td>SHA-256</td>\n",
       "      <td>DPoS</td>\n",
       "      <td>2.000000e+09</td>\n",
       "      <td>2000000000</td>\n",
       "    </tr>\n",
       "    <tr>\n",
       "      <th>GAP</th>\n",
       "      <td>Scrypt</td>\n",
       "      <td>PoW/PoS</td>\n",
       "      <td>1.493105e+07</td>\n",
       "      <td>250000000</td>\n",
       "    </tr>\n",
       "    <tr>\n",
       "      <th>BDX</th>\n",
       "      <td>CryptoNight</td>\n",
       "      <td>PoW</td>\n",
       "      <td>9.802226e+08</td>\n",
       "      <td>1400222610</td>\n",
       "    </tr>\n",
       "    <tr>\n",
       "      <th>ZEN</th>\n",
       "      <td>Equihash</td>\n",
       "      <td>PoW</td>\n",
       "      <td>7.296538e+06</td>\n",
       "      <td>21000000</td>\n",
       "    </tr>\n",
       "    <tr>\n",
       "      <th>XBC</th>\n",
       "      <td>Scrypt</td>\n",
       "      <td>PoS</td>\n",
       "      <td>1.283270e+05</td>\n",
       "      <td>1000000</td>\n",
       "    </tr>\n",
       "  </tbody>\n",
       "</table>\n",
       "<p>532 rows × 4 columns</p>\n",
       "</div>"
      ],
      "text/plain": [
       "        Algorithm ProofType  TotalCoinsMined TotalCoinSupply\n",
       "42         Scrypt   PoW/PoS     4.199995e+01              42\n",
       "404        Scrypt   PoW/PoS     1.055185e+09       532000000\n",
       "1337          X13   PoW/PoS     2.927942e+10    314159265359\n",
       "BTC       SHA-256       PoW     1.792718e+07        21000000\n",
       "ETH        Ethash       PoW     1.076842e+08               0\n",
       "...           ...       ...              ...             ...\n",
       "ZEPH      SHA-256      DPoS     2.000000e+09      2000000000\n",
       "GAP        Scrypt   PoW/PoS     1.493105e+07       250000000\n",
       "BDX   CryptoNight       PoW     9.802226e+08      1400222610\n",
       "ZEN      Equihash       PoW     7.296538e+06        21000000\n",
       "XBC        Scrypt       PoS     1.283270e+05         1000000\n",
       "\n",
       "[532 rows x 4 columns]"
      ]
     },
     "execution_count": 11,
     "metadata": {},
     "output_type": "execute_result"
    }
   ],
   "source": [
    "# Drop the 'CoinName' column since it's not going to be used on the clustering algorithm.\n",
    "crypto_df = df5.drop(['CoinName'], axis=1)\n",
    "crypto_df"
   ]
  },
  {
   "cell_type": "code",
   "execution_count": 12,
   "metadata": {},
   "outputs": [
    {
     "data": {
      "text/html": [
       "<div>\n",
       "<style scoped>\n",
       "    .dataframe tbody tr th:only-of-type {\n",
       "        vertical-align: middle;\n",
       "    }\n",
       "\n",
       "    .dataframe tbody tr th {\n",
       "        vertical-align: top;\n",
       "    }\n",
       "\n",
       "    .dataframe thead th {\n",
       "        text-align: right;\n",
       "    }\n",
       "</style>\n",
       "<table border=\"1\" class=\"dataframe\">\n",
       "  <thead>\n",
       "    <tr style=\"text-align: right;\">\n",
       "      <th></th>\n",
       "      <th>TotalCoinsMined</th>\n",
       "      <th>TotalCoinSupply</th>\n",
       "      <th>Algorithm_1GB AES Pattern Search</th>\n",
       "      <th>Algorithm_536</th>\n",
       "      <th>Algorithm_Argon2d</th>\n",
       "      <th>Algorithm_BLAKE256</th>\n",
       "      <th>Algorithm_Blake</th>\n",
       "      <th>Algorithm_Blake2S</th>\n",
       "      <th>Algorithm_Blake2b</th>\n",
       "      <th>Algorithm_C11</th>\n",
       "      <th>...</th>\n",
       "      <th>ProofType_PoW/PoS</th>\n",
       "      <th>ProofType_PoW/PoS</th>\n",
       "      <th>ProofType_PoW/PoW</th>\n",
       "      <th>ProofType_PoW/nPoS</th>\n",
       "      <th>ProofType_Pos</th>\n",
       "      <th>ProofType_Proof of Authority</th>\n",
       "      <th>ProofType_Proof of Trust</th>\n",
       "      <th>ProofType_TPoS</th>\n",
       "      <th>ProofType_Zero-Knowledge Proof</th>\n",
       "      <th>ProofType_dPoW/PoW</th>\n",
       "    </tr>\n",
       "  </thead>\n",
       "  <tbody>\n",
       "    <tr>\n",
       "      <th>42</th>\n",
       "      <td>4.199995e+01</td>\n",
       "      <td>42</td>\n",
       "      <td>0</td>\n",
       "      <td>0</td>\n",
       "      <td>0</td>\n",
       "      <td>0</td>\n",
       "      <td>0</td>\n",
       "      <td>0</td>\n",
       "      <td>0</td>\n",
       "      <td>0</td>\n",
       "      <td>...</td>\n",
       "      <td>1</td>\n",
       "      <td>0</td>\n",
       "      <td>0</td>\n",
       "      <td>0</td>\n",
       "      <td>0</td>\n",
       "      <td>0</td>\n",
       "      <td>0</td>\n",
       "      <td>0</td>\n",
       "      <td>0</td>\n",
       "      <td>0</td>\n",
       "    </tr>\n",
       "    <tr>\n",
       "      <th>404</th>\n",
       "      <td>1.055185e+09</td>\n",
       "      <td>532000000</td>\n",
       "      <td>0</td>\n",
       "      <td>0</td>\n",
       "      <td>0</td>\n",
       "      <td>0</td>\n",
       "      <td>0</td>\n",
       "      <td>0</td>\n",
       "      <td>0</td>\n",
       "      <td>0</td>\n",
       "      <td>...</td>\n",
       "      <td>1</td>\n",
       "      <td>0</td>\n",
       "      <td>0</td>\n",
       "      <td>0</td>\n",
       "      <td>0</td>\n",
       "      <td>0</td>\n",
       "      <td>0</td>\n",
       "      <td>0</td>\n",
       "      <td>0</td>\n",
       "      <td>0</td>\n",
       "    </tr>\n",
       "    <tr>\n",
       "      <th>1337</th>\n",
       "      <td>2.927942e+10</td>\n",
       "      <td>314159265359</td>\n",
       "      <td>0</td>\n",
       "      <td>0</td>\n",
       "      <td>0</td>\n",
       "      <td>0</td>\n",
       "      <td>0</td>\n",
       "      <td>0</td>\n",
       "      <td>0</td>\n",
       "      <td>0</td>\n",
       "      <td>...</td>\n",
       "      <td>1</td>\n",
       "      <td>0</td>\n",
       "      <td>0</td>\n",
       "      <td>0</td>\n",
       "      <td>0</td>\n",
       "      <td>0</td>\n",
       "      <td>0</td>\n",
       "      <td>0</td>\n",
       "      <td>0</td>\n",
       "      <td>0</td>\n",
       "    </tr>\n",
       "    <tr>\n",
       "      <th>BTC</th>\n",
       "      <td>1.792718e+07</td>\n",
       "      <td>21000000</td>\n",
       "      <td>0</td>\n",
       "      <td>0</td>\n",
       "      <td>0</td>\n",
       "      <td>0</td>\n",
       "      <td>0</td>\n",
       "      <td>0</td>\n",
       "      <td>0</td>\n",
       "      <td>0</td>\n",
       "      <td>...</td>\n",
       "      <td>0</td>\n",
       "      <td>0</td>\n",
       "      <td>0</td>\n",
       "      <td>0</td>\n",
       "      <td>0</td>\n",
       "      <td>0</td>\n",
       "      <td>0</td>\n",
       "      <td>0</td>\n",
       "      <td>0</td>\n",
       "      <td>0</td>\n",
       "    </tr>\n",
       "    <tr>\n",
       "      <th>ETH</th>\n",
       "      <td>1.076842e+08</td>\n",
       "      <td>0</td>\n",
       "      <td>0</td>\n",
       "      <td>0</td>\n",
       "      <td>0</td>\n",
       "      <td>0</td>\n",
       "      <td>0</td>\n",
       "      <td>0</td>\n",
       "      <td>0</td>\n",
       "      <td>0</td>\n",
       "      <td>...</td>\n",
       "      <td>0</td>\n",
       "      <td>0</td>\n",
       "      <td>0</td>\n",
       "      <td>0</td>\n",
       "      <td>0</td>\n",
       "      <td>0</td>\n",
       "      <td>0</td>\n",
       "      <td>0</td>\n",
       "      <td>0</td>\n",
       "      <td>0</td>\n",
       "    </tr>\n",
       "    <tr>\n",
       "      <th>...</th>\n",
       "      <td>...</td>\n",
       "      <td>...</td>\n",
       "      <td>...</td>\n",
       "      <td>...</td>\n",
       "      <td>...</td>\n",
       "      <td>...</td>\n",
       "      <td>...</td>\n",
       "      <td>...</td>\n",
       "      <td>...</td>\n",
       "      <td>...</td>\n",
       "      <td>...</td>\n",
       "      <td>...</td>\n",
       "      <td>...</td>\n",
       "      <td>...</td>\n",
       "      <td>...</td>\n",
       "      <td>...</td>\n",
       "      <td>...</td>\n",
       "      <td>...</td>\n",
       "      <td>...</td>\n",
       "      <td>...</td>\n",
       "      <td>...</td>\n",
       "    </tr>\n",
       "    <tr>\n",
       "      <th>ZEPH</th>\n",
       "      <td>2.000000e+09</td>\n",
       "      <td>2000000000</td>\n",
       "      <td>0</td>\n",
       "      <td>0</td>\n",
       "      <td>0</td>\n",
       "      <td>0</td>\n",
       "      <td>0</td>\n",
       "      <td>0</td>\n",
       "      <td>0</td>\n",
       "      <td>0</td>\n",
       "      <td>...</td>\n",
       "      <td>0</td>\n",
       "      <td>0</td>\n",
       "      <td>0</td>\n",
       "      <td>0</td>\n",
       "      <td>0</td>\n",
       "      <td>0</td>\n",
       "      <td>0</td>\n",
       "      <td>0</td>\n",
       "      <td>0</td>\n",
       "      <td>0</td>\n",
       "    </tr>\n",
       "    <tr>\n",
       "      <th>GAP</th>\n",
       "      <td>1.493105e+07</td>\n",
       "      <td>250000000</td>\n",
       "      <td>0</td>\n",
       "      <td>0</td>\n",
       "      <td>0</td>\n",
       "      <td>0</td>\n",
       "      <td>0</td>\n",
       "      <td>0</td>\n",
       "      <td>0</td>\n",
       "      <td>0</td>\n",
       "      <td>...</td>\n",
       "      <td>1</td>\n",
       "      <td>0</td>\n",
       "      <td>0</td>\n",
       "      <td>0</td>\n",
       "      <td>0</td>\n",
       "      <td>0</td>\n",
       "      <td>0</td>\n",
       "      <td>0</td>\n",
       "      <td>0</td>\n",
       "      <td>0</td>\n",
       "    </tr>\n",
       "    <tr>\n",
       "      <th>BDX</th>\n",
       "      <td>9.802226e+08</td>\n",
       "      <td>1400222610</td>\n",
       "      <td>0</td>\n",
       "      <td>0</td>\n",
       "      <td>0</td>\n",
       "      <td>0</td>\n",
       "      <td>0</td>\n",
       "      <td>0</td>\n",
       "      <td>0</td>\n",
       "      <td>0</td>\n",
       "      <td>...</td>\n",
       "      <td>0</td>\n",
       "      <td>0</td>\n",
       "      <td>0</td>\n",
       "      <td>0</td>\n",
       "      <td>0</td>\n",
       "      <td>0</td>\n",
       "      <td>0</td>\n",
       "      <td>0</td>\n",
       "      <td>0</td>\n",
       "      <td>0</td>\n",
       "    </tr>\n",
       "    <tr>\n",
       "      <th>ZEN</th>\n",
       "      <td>7.296538e+06</td>\n",
       "      <td>21000000</td>\n",
       "      <td>0</td>\n",
       "      <td>0</td>\n",
       "      <td>0</td>\n",
       "      <td>0</td>\n",
       "      <td>0</td>\n",
       "      <td>0</td>\n",
       "      <td>0</td>\n",
       "      <td>0</td>\n",
       "      <td>...</td>\n",
       "      <td>0</td>\n",
       "      <td>0</td>\n",
       "      <td>0</td>\n",
       "      <td>0</td>\n",
       "      <td>0</td>\n",
       "      <td>0</td>\n",
       "      <td>0</td>\n",
       "      <td>0</td>\n",
       "      <td>0</td>\n",
       "      <td>0</td>\n",
       "    </tr>\n",
       "    <tr>\n",
       "      <th>XBC</th>\n",
       "      <td>1.283270e+05</td>\n",
       "      <td>1000000</td>\n",
       "      <td>0</td>\n",
       "      <td>0</td>\n",
       "      <td>0</td>\n",
       "      <td>0</td>\n",
       "      <td>0</td>\n",
       "      <td>0</td>\n",
       "      <td>0</td>\n",
       "      <td>0</td>\n",
       "      <td>...</td>\n",
       "      <td>0</td>\n",
       "      <td>0</td>\n",
       "      <td>0</td>\n",
       "      <td>0</td>\n",
       "      <td>0</td>\n",
       "      <td>0</td>\n",
       "      <td>0</td>\n",
       "      <td>0</td>\n",
       "      <td>0</td>\n",
       "      <td>0</td>\n",
       "    </tr>\n",
       "  </tbody>\n",
       "</table>\n",
       "<p>532 rows × 98 columns</p>\n",
       "</div>"
      ],
      "text/plain": [
       "      TotalCoinsMined TotalCoinSupply  Algorithm_1GB AES Pattern Search  \\\n",
       "42       4.199995e+01              42                                 0   \n",
       "404      1.055185e+09       532000000                                 0   \n",
       "1337     2.927942e+10    314159265359                                 0   \n",
       "BTC      1.792718e+07        21000000                                 0   \n",
       "ETH      1.076842e+08               0                                 0   \n",
       "...               ...             ...                               ...   \n",
       "ZEPH     2.000000e+09      2000000000                                 0   \n",
       "GAP      1.493105e+07       250000000                                 0   \n",
       "BDX      9.802226e+08      1400222610                                 0   \n",
       "ZEN      7.296538e+06        21000000                                 0   \n",
       "XBC      1.283270e+05         1000000                                 0   \n",
       "\n",
       "      Algorithm_536  Algorithm_Argon2d  Algorithm_BLAKE256  Algorithm_Blake  \\\n",
       "42                0                  0                   0                0   \n",
       "404               0                  0                   0                0   \n",
       "1337              0                  0                   0                0   \n",
       "BTC               0                  0                   0                0   \n",
       "ETH               0                  0                   0                0   \n",
       "...             ...                ...                 ...              ...   \n",
       "ZEPH              0                  0                   0                0   \n",
       "GAP               0                  0                   0                0   \n",
       "BDX               0                  0                   0                0   \n",
       "ZEN               0                  0                   0                0   \n",
       "XBC               0                  0                   0                0   \n",
       "\n",
       "      Algorithm_Blake2S  Algorithm_Blake2b  Algorithm_C11  ...  \\\n",
       "42                    0                  0              0  ...   \n",
       "404                   0                  0              0  ...   \n",
       "1337                  0                  0              0  ...   \n",
       "BTC                   0                  0              0  ...   \n",
       "ETH                   0                  0              0  ...   \n",
       "...                 ...                ...            ...  ...   \n",
       "ZEPH                  0                  0              0  ...   \n",
       "GAP                   0                  0              0  ...   \n",
       "BDX                   0                  0              0  ...   \n",
       "ZEN                   0                  0              0  ...   \n",
       "XBC                   0                  0              0  ...   \n",
       "\n",
       "      ProofType_PoW/PoS  ProofType_PoW/PoS   ProofType_PoW/PoW  \\\n",
       "42                    1                   0                  0   \n",
       "404                   1                   0                  0   \n",
       "1337                  1                   0                  0   \n",
       "BTC                   0                   0                  0   \n",
       "ETH                   0                   0                  0   \n",
       "...                 ...                 ...                ...   \n",
       "ZEPH                  0                   0                  0   \n",
       "GAP                   1                   0                  0   \n",
       "BDX                   0                   0                  0   \n",
       "ZEN                   0                   0                  0   \n",
       "XBC                   0                   0                  0   \n",
       "\n",
       "      ProofType_PoW/nPoS  ProofType_Pos  ProofType_Proof of Authority  \\\n",
       "42                     0              0                             0   \n",
       "404                    0              0                             0   \n",
       "1337                   0              0                             0   \n",
       "BTC                    0              0                             0   \n",
       "ETH                    0              0                             0   \n",
       "...                  ...            ...                           ...   \n",
       "ZEPH                   0              0                             0   \n",
       "GAP                    0              0                             0   \n",
       "BDX                    0              0                             0   \n",
       "ZEN                    0              0                             0   \n",
       "XBC                    0              0                             0   \n",
       "\n",
       "      ProofType_Proof of Trust  ProofType_TPoS  \\\n",
       "42                           0               0   \n",
       "404                          0               0   \n",
       "1337                         0               0   \n",
       "BTC                          0               0   \n",
       "ETH                          0               0   \n",
       "...                        ...             ...   \n",
       "ZEPH                         0               0   \n",
       "GAP                          0               0   \n",
       "BDX                          0               0   \n",
       "ZEN                          0               0   \n",
       "XBC                          0               0   \n",
       "\n",
       "      ProofType_Zero-Knowledge Proof  ProofType_dPoW/PoW  \n",
       "42                                 0                   0  \n",
       "404                                0                   0  \n",
       "1337                               0                   0  \n",
       "BTC                                0                   0  \n",
       "ETH                                0                   0  \n",
       "...                              ...                 ...  \n",
       "ZEPH                               0                   0  \n",
       "GAP                                0                   0  \n",
       "BDX                                0                   0  \n",
       "ZEN                                0                   0  \n",
       "XBC                                0                   0  \n",
       "\n",
       "[532 rows x 98 columns]"
      ]
     },
     "execution_count": 12,
     "metadata": {},
     "output_type": "execute_result"
    }
   ],
   "source": [
    "# Use get_dummies() to create variables for text features.\n",
    "X = pd.get_dummies(crypto_df, columns=[\n",
    "                        'Algorithm',\n",
    "                        'ProofType'])\n",
    "X"
   ]
  },
  {
   "cell_type": "code",
   "execution_count": 13,
   "metadata": {},
   "outputs": [
    {
     "name": "stdout",
     "output_type": "stream",
     "text": [
      "[[-0.11710817 -0.1528703  -0.0433963  -0.0433963  -0.0433963  -0.06142951\n",
      "  -0.07530656 -0.0433963  -0.06142951 -0.06142951 -0.0433963  -0.0433963\n",
      "  -0.19245009 -0.06142951 -0.09740465 -0.0433963  -0.11547005 -0.07530656\n",
      "  -0.0433963  -0.0433963  -0.15191091 -0.0433963  -0.13118084 -0.0433963\n",
      "  -0.0433963  -0.08703883 -0.0433963  -0.0433963  -0.0433963  -0.0433963\n",
      "  -0.06142951 -0.0433963  -0.08703883 -0.08703883 -0.08703883 -0.0433963\n",
      "  -0.13118084 -0.13840913 -0.13840913 -0.0433963  -0.06142951 -0.0433963\n",
      "  -0.07530656 -0.18168574 -0.0433963  -0.0433963  -0.0433963  -0.07530656\n",
      "  -0.15826614 -0.31491833 -0.0433963  -0.08703883 -0.07530656 -0.06142951\n",
      "   1.38675049 -0.0433963  -0.0433963  -0.06142951 -0.0433963  -0.0433963\n",
      "  -0.0433963  -0.0433963  -0.0433963  -0.0433963  -0.0433963  -0.0433963\n",
      "  -0.39879994 -0.0433963  -0.18168574 -0.0433963  -0.08703883 -0.08703883\n",
      "  -0.10680283 -0.0433963  -0.13118084 -0.0433963  -0.0433963  -0.0433963\n",
      "  -0.0433963  -0.07530656 -0.43911856 -0.0433963  -0.06142951 -0.0433963\n",
      "  -0.0433963  -0.89632016 -0.0433963  -0.0433963   1.42222617 -0.0433963\n",
      "  -0.0433963  -0.0433963  -0.0433963  -0.0433963  -0.0433963  -0.0433963\n",
      "  -0.0433963  -0.0433963 ]\n",
      " [-0.09396955 -0.145009   -0.0433963  -0.0433963  -0.0433963  -0.06142951\n",
      "  -0.07530656 -0.0433963  -0.06142951 -0.06142951 -0.0433963  -0.0433963\n",
      "  -0.19245009 -0.06142951 -0.09740465 -0.0433963  -0.11547005 -0.07530656\n",
      "  -0.0433963  -0.0433963  -0.15191091 -0.0433963  -0.13118084 -0.0433963\n",
      "  -0.0433963  -0.08703883 -0.0433963  -0.0433963  -0.0433963  -0.0433963\n",
      "  -0.06142951 -0.0433963  -0.08703883 -0.08703883 -0.08703883 -0.0433963\n",
      "  -0.13118084 -0.13840913 -0.13840913 -0.0433963  -0.06142951 -0.0433963\n",
      "  -0.07530656 -0.18168574 -0.0433963  -0.0433963  -0.0433963  -0.07530656\n",
      "  -0.15826614 -0.31491833 -0.0433963  -0.08703883 -0.07530656 -0.06142951\n",
      "   1.38675049 -0.0433963  -0.0433963  -0.06142951 -0.0433963  -0.0433963\n",
      "  -0.0433963  -0.0433963  -0.0433963  -0.0433963  -0.0433963  -0.0433963\n",
      "  -0.39879994 -0.0433963  -0.18168574 -0.0433963  -0.08703883 -0.08703883\n",
      "  -0.10680283 -0.0433963  -0.13118084 -0.0433963  -0.0433963  -0.0433963\n",
      "  -0.0433963  -0.07530656 -0.43911856 -0.0433963  -0.06142951 -0.0433963\n",
      "  -0.0433963  -0.89632016 -0.0433963  -0.0433963   1.42222617 -0.0433963\n",
      "  -0.0433963  -0.0433963  -0.0433963  -0.0433963  -0.0433963  -0.0433963\n",
      "  -0.0433963  -0.0433963 ]\n",
      " [ 0.52494561  4.48942416 -0.0433963  -0.0433963  -0.0433963  -0.06142951\n",
      "  -0.07530656 -0.0433963  -0.06142951 -0.06142951 -0.0433963  -0.0433963\n",
      "  -0.19245009 -0.06142951 -0.09740465 -0.0433963  -0.11547005 -0.07530656\n",
      "  -0.0433963  -0.0433963  -0.15191091 -0.0433963  -0.13118084 -0.0433963\n",
      "  -0.0433963  -0.08703883 -0.0433963  -0.0433963  -0.0433963  -0.0433963\n",
      "  -0.06142951 -0.0433963  -0.08703883 -0.08703883 -0.08703883 -0.0433963\n",
      "  -0.13118084 -0.13840913 -0.13840913 -0.0433963  -0.06142951 -0.0433963\n",
      "  -0.07530656 -0.18168574 -0.0433963  -0.0433963  -0.0433963  -0.07530656\n",
      "  -0.15826614 -0.31491833 -0.0433963  -0.08703883 -0.07530656 -0.06142951\n",
      "  -0.72111026 -0.0433963  -0.0433963  -0.06142951 -0.0433963  -0.0433963\n",
      "  -0.0433963  -0.0433963  -0.0433963  -0.0433963  -0.0433963  -0.0433963\n",
      "  -0.39879994 -0.0433963   5.50400923 -0.0433963  -0.08703883 -0.08703883\n",
      "  -0.10680283 -0.0433963  -0.13118084 -0.0433963  -0.0433963  -0.0433963\n",
      "  -0.0433963  -0.07530656 -0.43911856 -0.0433963  -0.06142951 -0.0433963\n",
      "  -0.0433963  -0.89632016 -0.0433963  -0.0433963   1.42222617 -0.0433963\n",
      "  -0.0433963  -0.0433963  -0.0433963  -0.0433963  -0.0433963  -0.0433963\n",
      "  -0.0433963  -0.0433963 ]\n",
      " [-0.11671506 -0.15255998 -0.0433963  -0.0433963  -0.0433963  -0.06142951\n",
      "  -0.07530656 -0.0433963  -0.06142951 -0.06142951 -0.0433963  -0.0433963\n",
      "  -0.19245009 -0.06142951 -0.09740465 -0.0433963  -0.11547005 -0.07530656\n",
      "  -0.0433963  -0.0433963  -0.15191091 -0.0433963  -0.13118084 -0.0433963\n",
      "  -0.0433963  -0.08703883 -0.0433963  -0.0433963  -0.0433963  -0.0433963\n",
      "  -0.06142951 -0.0433963  -0.08703883 -0.08703883 -0.08703883 -0.0433963\n",
      "  -0.13118084 -0.13840913 -0.13840913 -0.0433963  -0.06142951 -0.0433963\n",
      "  -0.07530656 -0.18168574 -0.0433963  -0.0433963  -0.0433963  -0.07530656\n",
      "  -0.15826614  3.17542648 -0.0433963  -0.08703883 -0.07530656 -0.06142951\n",
      "  -0.72111026 -0.0433963  -0.0433963  -0.06142951 -0.0433963  -0.0433963\n",
      "  -0.0433963  -0.0433963  -0.0433963  -0.0433963  -0.0433963  -0.0433963\n",
      "  -0.39879994 -0.0433963  -0.18168574 -0.0433963  -0.08703883 -0.08703883\n",
      "  -0.10680283 -0.0433963  -0.13118084 -0.0433963  -0.0433963  -0.0433963\n",
      "  -0.0433963  -0.07530656 -0.43911856 -0.0433963  -0.06142951 -0.0433963\n",
      "  -0.0433963   1.11567277 -0.0433963  -0.0433963  -0.70312305 -0.0433963\n",
      "  -0.0433963  -0.0433963  -0.0433963  -0.0433963  -0.0433963  -0.0433963\n",
      "  -0.0433963  -0.0433963 ]\n",
      " [-0.11474682 -0.1528703  -0.0433963  -0.0433963  -0.0433963  -0.06142951\n",
      "  -0.07530656 -0.0433963  -0.06142951 -0.06142951 -0.0433963  -0.0433963\n",
      "  -0.19245009 -0.06142951 -0.09740465 -0.0433963  -0.11547005 -0.07530656\n",
      "  -0.0433963  -0.0433963  -0.15191091 -0.0433963   7.62306442 -0.0433963\n",
      "  -0.0433963  -0.08703883 -0.0433963  -0.0433963  -0.0433963  -0.0433963\n",
      "  -0.06142951 -0.0433963  -0.08703883 -0.08703883 -0.08703883 -0.0433963\n",
      "  -0.13118084 -0.13840913 -0.13840913 -0.0433963  -0.06142951 -0.0433963\n",
      "  -0.07530656 -0.18168574 -0.0433963  -0.0433963  -0.0433963  -0.07530656\n",
      "  -0.15826614 -0.31491833 -0.0433963  -0.08703883 -0.07530656 -0.06142951\n",
      "  -0.72111026 -0.0433963  -0.0433963  -0.06142951 -0.0433963  -0.0433963\n",
      "  -0.0433963  -0.0433963  -0.0433963  -0.0433963  -0.0433963  -0.0433963\n",
      "  -0.39879994 -0.0433963  -0.18168574 -0.0433963  -0.08703883 -0.08703883\n",
      "  -0.10680283 -0.0433963  -0.13118084 -0.0433963  -0.0433963  -0.0433963\n",
      "  -0.0433963  -0.07530656 -0.43911856 -0.0433963  -0.06142951 -0.0433963\n",
      "  -0.0433963   1.11567277 -0.0433963  -0.0433963  -0.70312305 -0.0433963\n",
      "  -0.0433963  -0.0433963  -0.0433963  -0.0433963  -0.0433963  -0.0433963\n",
      "  -0.0433963  -0.0433963 ]]\n"
     ]
    }
   ],
   "source": [
    "# Standardize the data with StandardScaler().\n",
    "X_scaled = StandardScaler().fit_transform(X)\n",
    "print(X_scaled[0:5])"
   ]
  },
  {
   "cell_type": "markdown",
   "metadata": {},
   "source": [
    "### Deliverable 2: Reducing Data Dimensions Using PCA"
   ]
  },
  {
   "cell_type": "code",
   "execution_count": 14,
   "metadata": {},
   "outputs": [],
   "source": [
    "# Using PCA to reduce dimension to three principal components.\n",
    "# Initialize PCA model\n",
    "pca = PCA(n_components=3)"
   ]
  },
  {
   "cell_type": "code",
   "execution_count": 15,
   "metadata": {},
   "outputs": [
    {
     "data": {
      "text/plain": [
       "array([[-0.33419736,  1.00933848, -0.54991606],\n",
       "       [-0.31753804,  1.0094904 , -0.55038917],\n",
       "       [ 2.30898759,  1.68053468, -0.68127406],\n",
       "       ...,\n",
       "       [ 0.33620004, -2.26208651,  0.36934082],\n",
       "       [-0.18717655, -2.26093323,  0.52239478],\n",
       "       [-0.28612612,  0.82290857, -0.26073507]])"
      ]
     },
     "execution_count": 15,
     "metadata": {},
     "output_type": "execute_result"
    }
   ],
   "source": [
    "# Apply dimensionality reduction on the scaled dataset\n",
    "# Get 3 principal components for the scaled crypto dataset.\n",
    "X_pca = pca.fit_transform(X_scaled)\n",
    "X_pca"
   ]
  },
  {
   "cell_type": "code",
   "execution_count": 16,
   "metadata": {},
   "outputs": [
    {
     "data": {
      "text/plain": [
       "['42',\n",
       " '404',\n",
       " '1337',\n",
       " 'BTC',\n",
       " 'ETH',\n",
       " 'LTC',\n",
       " 'DASH',\n",
       " 'XMR',\n",
       " 'ETC',\n",
       " 'ZEC',\n",
       " 'BTS',\n",
       " 'DGB',\n",
       " 'BTCD',\n",
       " 'XPY',\n",
       " 'PRC',\n",
       " 'KOBO',\n",
       " 'SPR',\n",
       " 'ARG',\n",
       " 'AUR',\n",
       " 'BLU',\n",
       " 'XMY',\n",
       " 'MOON',\n",
       " 'ZET',\n",
       " 'SXC',\n",
       " 'QTL',\n",
       " 'ENRG',\n",
       " 'QRK',\n",
       " 'RIC',\n",
       " 'DGC',\n",
       " 'BTB',\n",
       " 'CAT',\n",
       " 'CBX',\n",
       " 'CCN',\n",
       " 'CRYPT',\n",
       " 'CSC',\n",
       " 'DMD',\n",
       " 'XVG',\n",
       " 'DVC',\n",
       " 'EAC',\n",
       " 'EFL',\n",
       " 'EMC2',\n",
       " 'EMD',\n",
       " 'EXCL',\n",
       " 'FLT',\n",
       " 'FRK',\n",
       " 'FTC',\n",
       " 'GDC',\n",
       " 'GLC',\n",
       " 'GLD',\n",
       " 'HBN',\n",
       " 'HYP',\n",
       " 'IFC',\n",
       " 'IOC',\n",
       " 'IXC',\n",
       " 'KGC',\n",
       " 'LKY',\n",
       " 'LTB',\n",
       " 'MAX',\n",
       " 'MEC',\n",
       " 'MED',\n",
       " 'MINT',\n",
       " 'MINC',\n",
       " 'MZC',\n",
       " 'NAUT',\n",
       " 'NAV',\n",
       " 'NOBL',\n",
       " 'NMC',\n",
       " 'NYAN',\n",
       " 'OPAL',\n",
       " 'ORB',\n",
       " 'POT',\n",
       " 'PXC',\n",
       " 'RDD',\n",
       " 'RPC',\n",
       " 'SBC',\n",
       " 'SMC',\n",
       " 'SUPER',\n",
       " 'SYNC',\n",
       " 'SYS',\n",
       " 'TES',\n",
       " 'TGC',\n",
       " 'TIT',\n",
       " 'TOR',\n",
       " 'TRC',\n",
       " 'UNB',\n",
       " 'UNO',\n",
       " 'URO',\n",
       " 'USDE',\n",
       " 'UTC',\n",
       " 'VIA',\n",
       " 'VRC',\n",
       " 'VTC',\n",
       " 'WDC',\n",
       " 'XC',\n",
       " 'XCR',\n",
       " 'XJO',\n",
       " 'XST',\n",
       " 'ZCC',\n",
       " 'BCN',\n",
       " 'XDN',\n",
       " 'BURST',\n",
       " 'SJCX',\n",
       " 'MONA',\n",
       " 'NTRN',\n",
       " 'FAIR',\n",
       " 'NLG',\n",
       " 'RBY',\n",
       " 'PTC',\n",
       " 'KORE',\n",
       " 'WBB',\n",
       " 'NOTE',\n",
       " 'FLO',\n",
       " '8BIT',\n",
       " 'STV',\n",
       " 'ABY',\n",
       " 'FLDC',\n",
       " 'U',\n",
       " 'UIS',\n",
       " 'CYP',\n",
       " 'OMC',\n",
       " 'VTR',\n",
       " 'GRE',\n",
       " 'XCN',\n",
       " 'MSC',\n",
       " 'SOON',\n",
       " '1CR',\n",
       " 'ISL',\n",
       " 'NXS',\n",
       " 'MARS',\n",
       " 'CTO',\n",
       " 'ACP',\n",
       " 'DRZ',\n",
       " 'BSC',\n",
       " 'SQL',\n",
       " 'SONG',\n",
       " 'ZNY',\n",
       " 'DIGS',\n",
       " 'EXP',\n",
       " 'CON',\n",
       " 'SC',\n",
       " 'EMC',\n",
       " 'EGC',\n",
       " 'MND',\n",
       " 'I0C',\n",
       " 'DCR',\n",
       " 'RVR',\n",
       " 'HODL',\n",
       " 'EDRC',\n",
       " 'HTC',\n",
       " 'GAME',\n",
       " 'DBIC',\n",
       " 'DIEM',\n",
       " 'PWR',\n",
       " 'BLRY',\n",
       " 'GPU',\n",
       " 'ADZ',\n",
       " 'SOIL',\n",
       " 'YOC',\n",
       " 'SIB',\n",
       " 'ERC',\n",
       " 'ZEIT',\n",
       " 'SWING',\n",
       " 'SAFEX',\n",
       " 'NEBU',\n",
       " 'FRN',\n",
       " 'BOLI',\n",
       " 'XRA',\n",
       " 'REV',\n",
       " 'CKC',\n",
       " 'VIP',\n",
       " 'BSD',\n",
       " 'OMNI',\n",
       " 'LIR',\n",
       " 'PUT',\n",
       " 'IBANK',\n",
       " 'FRWC',\n",
       " 'MUDRA',\n",
       " 'PIZZA',\n",
       " 'LC',\n",
       " 'KMD',\n",
       " 'GB',\n",
       " 'CTC',\n",
       " 'KRB',\n",
       " 'BXT',\n",
       " 'ZYD',\n",
       " 'MST',\n",
       " 'ZNE',\n",
       " 'COVAL',\n",
       " 'ROOT',\n",
       " 'DOPE',\n",
       " 'BTCR',\n",
       " 'DLC',\n",
       " 'SCN',\n",
       " 'SH',\n",
       " 'BUZZ',\n",
       " 'XPO',\n",
       " 'PSB',\n",
       " 'HALLO',\n",
       " 'XZC',\n",
       " 'CFC',\n",
       " 'ROYAL',\n",
       " 'GNJ',\n",
       " 'TEAM',\n",
       " 'LANA',\n",
       " 'ELE',\n",
       " 'ZCL',\n",
       " 'ARK',\n",
       " 'INSANE',\n",
       " 'KLC',\n",
       " 'ATX',\n",
       " 'EMB',\n",
       " 'XEN',\n",
       " 'FRE',\n",
       " 'PLNC',\n",
       " 'ARCO',\n",
       " 'KURT',\n",
       " 'XCRE',\n",
       " 'ENT',\n",
       " 'EUC',\n",
       " 'BCF',\n",
       " 'XSN',\n",
       " 'BCCOIN',\n",
       " 'MONEY',\n",
       " 'XNG',\n",
       " 'XCI',\n",
       " 'RC',\n",
       " 'PND',\n",
       " 'UNITS',\n",
       " 'GAKH',\n",
       " 'ASAFE2',\n",
       " 'LTCR',\n",
       " 'OS76',\n",
       " 'BIC',\n",
       " 'HXX',\n",
       " 'KED',\n",
       " 'IOP',\n",
       " 'KUSH',\n",
       " 'PRX',\n",
       " 'PAC',\n",
       " 'IMPCH',\n",
       " 'CTL',\n",
       " 'ZBC',\n",
       " 'FRST',\n",
       " 'BVC',\n",
       " 'FIND',\n",
       " 'VLTC',\n",
       " 'ZER',\n",
       " 'CHAT',\n",
       " 'CDN',\n",
       " 'ZOI',\n",
       " 'RNS',\n",
       " 'DBIX',\n",
       " 'XVP',\n",
       " 'TAJ',\n",
       " 'IMX',\n",
       " 'EB3',\n",
       " 'ATMOS',\n",
       " 'HPC',\n",
       " 'CXT',\n",
       " 'MCRN',\n",
       " 'RAIN',\n",
       " 'IMS',\n",
       " 'ARGUS',\n",
       " 'LMC',\n",
       " 'PROC',\n",
       " 'XGR',\n",
       " 'BENJI',\n",
       " 'GRW',\n",
       " 'ILC',\n",
       " 'PHR',\n",
       " 'DEA',\n",
       " 'HTML5',\n",
       " 'USC',\n",
       " 'EQT',\n",
       " 'QTUM',\n",
       " 'QRL',\n",
       " 'ESP',\n",
       " 'DYN',\n",
       " 'NANO',\n",
       " 'CHAN',\n",
       " 'DCY',\n",
       " 'DNR',\n",
       " 'DP',\n",
       " 'VUC',\n",
       " 'BTPL',\n",
       " 'UNIFY',\n",
       " 'BRIT',\n",
       " 'SOCC',\n",
       " 'ARC',\n",
       " 'DAS',\n",
       " 'LINDA',\n",
       " 'XLC',\n",
       " 'ONION',\n",
       " 'BTX',\n",
       " 'GCN',\n",
       " 'SMART',\n",
       " 'SIGT',\n",
       " 'ONX',\n",
       " 'CRM',\n",
       " 'BCH',\n",
       " 'XMCC',\n",
       " 'DFT',\n",
       " 'VET',\n",
       " 'SOJ',\n",
       " 'STCN',\n",
       " 'NYC',\n",
       " 'FRAZ',\n",
       " 'KRONE',\n",
       " 'ACC',\n",
       " 'LINX',\n",
       " 'XCXT',\n",
       " 'ETHD',\n",
       " 'SUMO',\n",
       " 'ODN',\n",
       " 'ADA',\n",
       " 'REC',\n",
       " 'BTCZ',\n",
       " 'TZC',\n",
       " 'ELM',\n",
       " 'TER',\n",
       " 'VIVO',\n",
       " 'RUP',\n",
       " 'BTG',\n",
       " 'WOMEN',\n",
       " 'MAY',\n",
       " 'NAMO',\n",
       " 'LUX',\n",
       " 'PIRL',\n",
       " 'XIOS',\n",
       " 'BTDX',\n",
       " 'EBST',\n",
       " 'KEK',\n",
       " 'BLHC',\n",
       " 'XIN',\n",
       " 'PURA',\n",
       " 'INN',\n",
       " 'ELLA',\n",
       " 'GBX',\n",
       " 'MAG',\n",
       " 'TAU',\n",
       " 'ECA',\n",
       " 'BCD',\n",
       " 'XSH',\n",
       " 'CNBC',\n",
       " 'XUN',\n",
       " 'COAL',\n",
       " 'DAXX',\n",
       " 'BWK',\n",
       " 'KLKS',\n",
       " 'AC3',\n",
       " 'LTHN',\n",
       " 'GER',\n",
       " 'LTCU',\n",
       " 'POP',\n",
       " 'PNX',\n",
       " 'PHO',\n",
       " 'SUCR',\n",
       " 'SPK',\n",
       " 'WAGE',\n",
       " 'GUN',\n",
       " 'IRL',\n",
       " 'TROLL',\n",
       " 'LCP',\n",
       " 'MONK',\n",
       " 'PCOIN',\n",
       " 'UBTC',\n",
       " 'ITZ',\n",
       " 'TPAY',\n",
       " 'MCT',\n",
       " 'MBC',\n",
       " 'TRTL',\n",
       " 'MUN',\n",
       " 'USX',\n",
       " 'NBR',\n",
       " 'SSS',\n",
       " 'TRF',\n",
       " 'KREDS',\n",
       " 'TOKC',\n",
       " 'BBP',\n",
       " 'LCC',\n",
       " 'FLIP',\n",
       " 'LOT',\n",
       " 'CIF',\n",
       " 'SPD',\n",
       " 'POA',\n",
       " 'PUSHI',\n",
       " 'ELP',\n",
       " 'VLX',\n",
       " 'ONT',\n",
       " 'CLO',\n",
       " 'TUBE',\n",
       " 'PSD',\n",
       " 'ADK',\n",
       " 'BSX',\n",
       " 'BRIA',\n",
       " 'IC',\n",
       " 'BTL',\n",
       " 'MEDIC',\n",
       " 'ALPS',\n",
       " 'BITG',\n",
       " 'DEV',\n",
       " 'ABJ',\n",
       " 'SEM',\n",
       " 'FTO',\n",
       " 'CARE',\n",
       " 'NZL',\n",
       " 'XMC',\n",
       " 'PROTON',\n",
       " 'DEAL',\n",
       " 'JUMP',\n",
       " 'INFX',\n",
       " 'XBI',\n",
       " 'KEC',\n",
       " 'HWC',\n",
       " 'GIN',\n",
       " 'PLTC',\n",
       " 'LOKI',\n",
       " 'NCP',\n",
       " 'SIC',\n",
       " 'XT3',\n",
       " 'MGD',\n",
       " 'VIG',\n",
       " 'PLURA',\n",
       " 'EMAR',\n",
       " 'DKD',\n",
       " 'LYNX',\n",
       " 'POSQ',\n",
       " 'BWS',\n",
       " 'MUSE',\n",
       " 'XMN',\n",
       " 'PLUS1',\n",
       " 'AXE',\n",
       " 'TRVC',\n",
       " 'DTEM',\n",
       " 'GIC',\n",
       " 'PNY',\n",
       " 'ABS',\n",
       " 'VITAE',\n",
       " 'HEX',\n",
       " 'TPC',\n",
       " 'WEBC',\n",
       " 'RYO',\n",
       " 'URALS',\n",
       " 'QWC',\n",
       " 'ARE',\n",
       " 'EUNO',\n",
       " 'MMO',\n",
       " 'KETAN',\n",
       " 'PPAI',\n",
       " 'XDNA',\n",
       " 'PAXEX',\n",
       " 'AZART',\n",
       " 'TSC',\n",
       " 'KCASH',\n",
       " 'XCG',\n",
       " 'AAC',\n",
       " 'CRYP',\n",
       " 'BTXC',\n",
       " 'ACM',\n",
       " 'BSV',\n",
       " 'BITM',\n",
       " 'JMC',\n",
       " 'FRED',\n",
       " 'HERB',\n",
       " 'UMO',\n",
       " 'LIT',\n",
       " 'PIRATE',\n",
       " 'EXO',\n",
       " 'BLTG',\n",
       " 'OWC',\n",
       " 'BEAM',\n",
       " 'GALI',\n",
       " 'BTH',\n",
       " 'CSPN',\n",
       " 'CREDIT',\n",
       " 'SLC',\n",
       " 'DASHP',\n",
       " 'NSD',\n",
       " 'BEET',\n",
       " 'TTN',\n",
       " 'AWR',\n",
       " 'BLAST',\n",
       " 'XRC',\n",
       " 'GLT',\n",
       " 'INSN',\n",
       " 'ALX',\n",
       " 'LDOGE',\n",
       " 'SLR',\n",
       " 'TRK',\n",
       " 'UFO',\n",
       " 'OC',\n",
       " 'BLC',\n",
       " 'BITS',\n",
       " 'NEOS',\n",
       " 'HYPER',\n",
       " 'PINK',\n",
       " 'CESC',\n",
       " 'ADC',\n",
       " 'NKA',\n",
       " 'PIGGY',\n",
       " 'CRW',\n",
       " 'GEN',\n",
       " 'SMLY',\n",
       " 'MI',\n",
       " 'GRS',\n",
       " 'CPC',\n",
       " 'CLUB',\n",
       " 'RADS',\n",
       " 'BTA',\n",
       " 'PAK',\n",
       " 'CRB',\n",
       " 'OK',\n",
       " 'LSK',\n",
       " 'XHI',\n",
       " 'XWC',\n",
       " 'FSC',\n",
       " 'J',\n",
       " 'TRI',\n",
       " 'VOLLAR',\n",
       " 'EOS',\n",
       " 'RCC',\n",
       " 'OXY',\n",
       " 'TCH',\n",
       " 'WAVES',\n",
       " 'PART',\n",
       " 'BTT',\n",
       " 'NXT',\n",
       " 'ZEPH',\n",
       " 'GAP',\n",
       " 'BDX',\n",
       " 'ZEN',\n",
       " 'XBC']"
      ]
     },
     "execution_count": 16,
     "metadata": {},
     "output_type": "execute_result"
    }
   ],
   "source": [
    "index_values = (X.index.tolist())\n",
    "index_values"
   ]
  },
  {
   "cell_type": "code",
   "execution_count": 81,
   "metadata": {},
   "outputs": [
    {
     "data": {
      "text/html": [
       "<div>\n",
       "<style scoped>\n",
       "    .dataframe tbody tr th:only-of-type {\n",
       "        vertical-align: middle;\n",
       "    }\n",
       "\n",
       "    .dataframe tbody tr th {\n",
       "        vertical-align: top;\n",
       "    }\n",
       "\n",
       "    .dataframe thead th {\n",
       "        text-align: right;\n",
       "    }\n",
       "</style>\n",
       "<table border=\"1\" class=\"dataframe\">\n",
       "  <thead>\n",
       "    <tr style=\"text-align: right;\">\n",
       "      <th></th>\n",
       "      <th>PC 1</th>\n",
       "      <th>PC 2</th>\n",
       "      <th>PC 3</th>\n",
       "    </tr>\n",
       "  </thead>\n",
       "  <tbody>\n",
       "    <tr>\n",
       "      <th>42</th>\n",
       "      <td>-0.334197</td>\n",
       "      <td>1.009338</td>\n",
       "      <td>-0.549916</td>\n",
       "    </tr>\n",
       "    <tr>\n",
       "      <th>404</th>\n",
       "      <td>-0.317538</td>\n",
       "      <td>1.009490</td>\n",
       "      <td>-0.550389</td>\n",
       "    </tr>\n",
       "    <tr>\n",
       "      <th>1337</th>\n",
       "      <td>2.308988</td>\n",
       "      <td>1.680535</td>\n",
       "      <td>-0.681274</td>\n",
       "    </tr>\n",
       "    <tr>\n",
       "      <th>BTC</th>\n",
       "      <td>-0.144656</td>\n",
       "      <td>-1.264208</td>\n",
       "      <td>0.176064</td>\n",
       "    </tr>\n",
       "    <tr>\n",
       "      <th>ETH</th>\n",
       "      <td>-0.151072</td>\n",
       "      <td>-2.059972</td>\n",
       "      <td>0.356587</td>\n",
       "    </tr>\n",
       "    <tr>\n",
       "      <th>...</th>\n",
       "      <td>...</td>\n",
       "      <td>...</td>\n",
       "      <td>...</td>\n",
       "    </tr>\n",
       "    <tr>\n",
       "      <th>ZEPH</th>\n",
       "      <td>2.469821</td>\n",
       "      <td>0.862199</td>\n",
       "      <td>-0.204383</td>\n",
       "    </tr>\n",
       "    <tr>\n",
       "      <th>GAP</th>\n",
       "      <td>-0.332242</td>\n",
       "      <td>1.009226</td>\n",
       "      <td>-0.549948</td>\n",
       "    </tr>\n",
       "    <tr>\n",
       "      <th>BDX</th>\n",
       "      <td>0.336200</td>\n",
       "      <td>-2.262087</td>\n",
       "      <td>0.369341</td>\n",
       "    </tr>\n",
       "    <tr>\n",
       "      <th>ZEN</th>\n",
       "      <td>-0.187177</td>\n",
       "      <td>-2.260933</td>\n",
       "      <td>0.522395</td>\n",
       "    </tr>\n",
       "    <tr>\n",
       "      <th>XBC</th>\n",
       "      <td>-0.286126</td>\n",
       "      <td>0.822909</td>\n",
       "      <td>-0.260735</td>\n",
       "    </tr>\n",
       "  </tbody>\n",
       "</table>\n",
       "<p>532 rows × 3 columns</p>\n",
       "</div>"
      ],
      "text/plain": [
       "          PC 1      PC 2      PC 3\n",
       "42   -0.334197  1.009338 -0.549916\n",
       "404  -0.317538  1.009490 -0.550389\n",
       "1337  2.308988  1.680535 -0.681274\n",
       "BTC  -0.144656 -1.264208  0.176064\n",
       "ETH  -0.151072 -2.059972  0.356587\n",
       "...        ...       ...       ...\n",
       "ZEPH  2.469821  0.862199 -0.204383\n",
       "GAP  -0.332242  1.009226 -0.549948\n",
       "BDX   0.336200 -2.262087  0.369341\n",
       "ZEN  -0.187177 -2.260933  0.522395\n",
       "XBC  -0.286126  0.822909 -0.260735\n",
       "\n",
       "[532 rows x 3 columns]"
      ]
     },
     "execution_count": 81,
     "metadata": {},
     "output_type": "execute_result"
    }
   ],
   "source": [
    "# Create a DataFrame with the three principal components.\n",
    "pcs_df = pd.DataFrame(\n",
    "    data = X_pca, columns=[\"PC 1\", \"PC 2\", \"PC 3\"], index = index_values)\n",
    "\n",
    "pcs_df"
   ]
  },
  {
   "cell_type": "markdown",
   "metadata": {},
   "source": [
    "### Deliverable 3: Clustering Crytocurrencies Using K-Means\n",
    "\n",
    "#### Finding the Best Value for `k` Using the Elbow Curve"
   ]
  },
  {
   "cell_type": "code",
   "execution_count": 18,
   "metadata": {},
   "outputs": [
    {
     "data": {},
     "metadata": {},
     "output_type": "display_data"
    },
    {
     "data": {
      "application/vnd.holoviews_exec.v0+json": "",
      "text/html": [
       "<div id='1001'>\n",
       "\n",
       "\n",
       "\n",
       "\n",
       "\n",
       "  <div class=\"bk-root\" id=\"0ef77a79-fbb0-43bf-86f5-6b2f55efef47\" data-root-id=\"1001\"></div>\n",
       "</div>\n",
       "<script type=\"application/javascript\">(function(root) {\n",
       "  function embed_document(root) {\n",
       "  var docs_json = {\"4618b4c0-b8ac-4fa7-8949-7a01f7aeb17d\":{\"roots\":{\"references\":[{\"attributes\":{},\"id\":\"1024\",\"type\":\"PanTool\"},{\"attributes\":{\"end\":10.0,\"reset_end\":10.0,\"reset_start\":1.0,\"start\":1.0,\"tags\":[[[\"k\",\"k\",null]]]},\"id\":\"1003\",\"type\":\"Range1d\"},{\"attributes\":{},\"id\":\"1025\",\"type\":\"WheelZoomTool\"},{\"attributes\":{},\"id\":\"1013\",\"type\":\"LinearScale\"},{\"attributes\":{\"overlay\":{\"id\":\"1028\"}},\"id\":\"1026\",\"type\":\"BoxZoomTool\"},{\"attributes\":{\"data\":{\"inertia\":{\"__ndarray__\":\"XgzBjaBwrEAsf3RnY1SjQBr6WjYbQJdAiOsMkMAmfkCteIQLsXRzQEf3L8FunW5AonJxIe5OaEA2TcYYiIxiQDxFpXP/dl1AvnGQsDZrV0A=\",\"dtype\":\"float64\",\"order\":\"little\",\"shape\":[10]},\"k\":[1,2,3,4,5,6,7,8,9,10]},\"selected\":{\"id\":\"1037\"},\"selection_policy\":{\"id\":\"1056\"}},\"id\":\"1036\",\"type\":\"ColumnDataSource\"},{\"attributes\":{},\"id\":\"1027\",\"type\":\"ResetTool\"},{\"attributes\":{\"axis_label\":\"k\",\"bounds\":\"auto\",\"formatter\":{\"id\":\"1046\"},\"major_label_orientation\":\"horizontal\",\"ticker\":{\"id\":\"1044\"}},\"id\":\"1015\",\"type\":\"LinearAxis\"},{\"attributes\":{\"line_alpha\":0.1,\"line_color\":\"#1f77b3\",\"line_width\":2,\"x\":{\"field\":\"k\"},\"y\":{\"field\":\"inertia\"}},\"id\":\"1040\",\"type\":\"Line\"},{\"attributes\":{\"text\":\"Elbow Curve\",\"text_color\":{\"value\":\"black\"},\"text_font_size\":{\"value\":\"12pt\"}},\"id\":\"1007\",\"type\":\"Title\"},{\"attributes\":{},\"id\":\"1056\",\"type\":\"UnionRenderers\"},{\"attributes\":{},\"id\":\"1037\",\"type\":\"Selection\"},{\"attributes\":{\"axis\":{\"id\":\"1019\"},\"dimension\":1,\"grid_line_color\":null,\"ticker\":null},\"id\":\"1022\",\"type\":\"Grid\"},{\"attributes\":{\"margin\":[5,5,5,5],\"name\":\"HSpacer01537\",\"sizing_mode\":\"stretch_width\"},\"id\":\"1002\",\"type\":\"Spacer\"},{\"attributes\":{\"below\":[{\"id\":\"1015\"}],\"center\":[{\"id\":\"1018\"},{\"id\":\"1022\"}],\"left\":[{\"id\":\"1019\"}],\"margin\":null,\"min_border_bottom\":10,\"min_border_left\":10,\"min_border_right\":10,\"min_border_top\":10,\"plot_height\":300,\"plot_width\":700,\"renderers\":[{\"id\":\"1042\"}],\"sizing_mode\":\"fixed\",\"title\":{\"id\":\"1007\"},\"toolbar\":{\"id\":\"1029\"},\"x_range\":{\"id\":\"1003\"},\"x_scale\":{\"id\":\"1011\"},\"y_range\":{\"id\":\"1004\"},\"y_scale\":{\"id\":\"1013\"}},\"id\":\"1006\",\"subtype\":\"Figure\",\"type\":\"Plot\"},{\"attributes\":{\"line_alpha\":0.2,\"line_color\":\"#1f77b3\",\"line_width\":2,\"x\":{\"field\":\"k\"},\"y\":{\"field\":\"inertia\"}},\"id\":\"1041\",\"type\":\"Line\"},{\"attributes\":{\"children\":[{\"id\":\"1002\"},{\"id\":\"1006\"},{\"id\":\"1065\"}],\"margin\":[0,0,0,0],\"name\":\"Row01533\",\"tags\":[\"embedded\"]},\"id\":\"1001\",\"type\":\"Row\"},{\"attributes\":{\"axis\":{\"id\":\"1015\"},\"grid_line_color\":null,\"ticker\":null},\"id\":\"1018\",\"type\":\"Grid\"},{\"attributes\":{\"source\":{\"id\":\"1036\"}},\"id\":\"1043\",\"type\":\"CDSView\"},{\"attributes\":{\"line_color\":\"#1f77b3\",\"line_width\":2,\"x\":{\"field\":\"k\"},\"y\":{\"field\":\"inertia\"}},\"id\":\"1039\",\"type\":\"Line\"},{\"attributes\":{},\"id\":\"1020\",\"type\":\"BasicTicker\"},{\"attributes\":{\"axis_label\":\"inertia\",\"bounds\":\"auto\",\"formatter\":{\"id\":\"1050\"},\"major_label_orientation\":\"horizontal\",\"ticker\":{\"id\":\"1020\"}},\"id\":\"1019\",\"type\":\"LinearAxis\"},{\"attributes\":{\"data_source\":{\"id\":\"1036\"},\"glyph\":{\"id\":\"1039\"},\"hover_glyph\":null,\"muted_glyph\":{\"id\":\"1041\"},\"nonselection_glyph\":{\"id\":\"1040\"},\"selection_glyph\":null,\"view\":{\"id\":\"1043\"}},\"id\":\"1042\",\"type\":\"GlyphRenderer\"},{\"attributes\":{\"callback\":null,\"renderers\":[{\"id\":\"1042\"}],\"tags\":[\"hv_created\"],\"tooltips\":[[\"k\",\"@{k}\"],[\"inertia\",\"@{inertia}\"]]},\"id\":\"1005\",\"type\":\"HoverTool\"},{\"attributes\":{},\"id\":\"1011\",\"type\":\"LinearScale\"},{\"attributes\":{},\"id\":\"1046\",\"type\":\"BasicTickFormatter\"},{\"attributes\":{\"bottom_units\":\"screen\",\"fill_alpha\":0.5,\"fill_color\":\"lightgrey\",\"left_units\":\"screen\",\"level\":\"overlay\",\"line_alpha\":1.0,\"line_color\":\"black\",\"line_dash\":[4,4],\"line_width\":2,\"right_units\":\"screen\",\"top_units\":\"screen\"},\"id\":\"1028\",\"type\":\"BoxAnnotation\"},{\"attributes\":{\"active_drag\":\"auto\",\"active_inspect\":\"auto\",\"active_multi\":null,\"active_scroll\":\"auto\",\"active_tap\":\"auto\",\"tools\":[{\"id\":\"1005\"},{\"id\":\"1023\"},{\"id\":\"1024\"},{\"id\":\"1025\"},{\"id\":\"1026\"},{\"id\":\"1027\"}]},\"id\":\"1029\",\"type\":\"Toolbar\"},{\"attributes\":{\"ticks\":[1,2,3,4,5,6,7,8,9,10]},\"id\":\"1044\",\"type\":\"FixedTicker\"},{\"attributes\":{},\"id\":\"1023\",\"type\":\"SaveTool\"},{\"attributes\":{},\"id\":\"1050\",\"type\":\"BasicTickFormatter\"},{\"attributes\":{\"margin\":[5,5,5,5],\"name\":\"HSpacer01538\",\"sizing_mode\":\"stretch_width\"},\"id\":\"1065\",\"type\":\"Spacer\"},{\"attributes\":{\"end\":3994.9774183482455,\"reset_end\":3994.9774183482455,\"reset_start\":-260.9886238556969,\"start\":-260.9886238556969,\"tags\":[[[\"inertia\",\"inertia\",null]]]},\"id\":\"1004\",\"type\":\"Range1d\"}],\"root_ids\":[\"1001\"]},\"title\":\"Bokeh Application\",\"version\":\"2.1.1\"}};\n",
       "  var render_items = [{\"docid\":\"4618b4c0-b8ac-4fa7-8949-7a01f7aeb17d\",\"root_ids\":[\"1001\"],\"roots\":{\"1001\":\"0ef77a79-fbb0-43bf-86f5-6b2f55efef47\"}}];\n",
       "  root.Bokeh.embed.embed_items_notebook(docs_json, render_items);\n",
       "  }\n",
       "if (root.Bokeh !== undefined) {\n",
       "    embed_document(root);\n",
       "  } else {\n",
       "    var attempts = 0;\n",
       "    var timer = setInterval(function(root) {\n",
       "      if (root.Bokeh !== undefined) {\n",
       "        clearInterval(timer);\n",
       "        embed_document(root);\n",
       "      } else if (document.readyState == \"complete\") {\n",
       "        attempts++;\n",
       "        if (attempts > 100) {\n",
       "          clearInterval(timer);\n",
       "          console.log(\"Bokeh: ERROR: Unable to run BokehJS code because BokehJS library is missing\");\n",
       "        }\n",
       "      }\n",
       "    }, 10, root)\n",
       "  }\n",
       "})(window);</script>"
      ],
      "text/plain": [
       ":Curve   [k]   (inertia)"
      ]
     },
     "execution_count": 18,
     "metadata": {
      "application/vnd.holoviews_exec.v0+json": {
       "id": "1001"
      }
     },
     "output_type": "execute_result"
    }
   ],
   "source": [
    "# Create an elbow curve to find the best value for K.\n",
    "inertia = []\n",
    "k = list(range(1, 11))\n",
    "\n",
    "for i in k:\n",
    "   km = KMeans(n_clusters=i, random_state=0)\n",
    "   km.fit(pcs_df)\n",
    "   inertia.append(km.inertia_)\n",
    "\n",
    "# Plot the elbow curve\n",
    "elbow_data = {\"k\": k, \"inertia\": inertia}\n",
    "df_elbow = pd.DataFrame(elbow_data)\n",
    "df_elbow.hvplot.line(x=\"k\", y=\"inertia\", title=\"Elbow Curve\", xticks=k)"
   ]
  },
  {
   "cell_type": "markdown",
   "metadata": {},
   "source": [
    "Running K-Means with `k=4`"
   ]
  },
  {
   "cell_type": "code",
   "execution_count": 86,
   "metadata": {},
   "outputs": [
    {
     "name": "stdout",
     "output_type": "stream",
     "text": [
      "[1 1 1 0 0 0 1 0 0 0 1 0 1 1 0 1 0 0 1 1 0 0 0 0 0 1 0 0 0 1 0 1 0 0 1 1 0\n",
      " 0 0 0 0 0 1 1 0 0 0 0 0 1 1 0 1 0 0 0 0 1 0 0 1 0 1 1 1 0 0 0 1 1 1 1 1 0\n",
      " 0 0 1 1 0 1 0 1 1 0 0 0 0 1 1 0 1 0 0 1 1 0 1 1 0 0 1 1 0 1 1 0 1 0 1 0 1\n",
      " 0 1 1 0 0 1 0 0 0 1 0 0 0 0 0 1 1 0 0 0 1 0 1 0 0 1 0 1 0 1 1 0 0 1 0 0 1\n",
      " 1 0 1 0 1 1 1 0 0 0 0 1 1 1 1 1 0 0 1 1 1 1 1 0 1 1 1 1 1 0 1 0 1 1 0 1 0\n",
      " 1 1 0 1 0 1 0 1 0 1 1 1 1 0 1 1 1 1 1 0 0 1 1 0 0 1 1 1 1 1 0 1 1 1 1 1 1\n",
      " 1 1 0 1 1 1 1 1 1 0 0 0 1 1 1 1 0 1 0 1 1 0 1 0 0 1 0 0 1 0 1 1 1 0 1 1 0\n",
      " 1 1 1 1 1 1 1 0 1 0 1 1 1 1 0 1 0 1 0 0 0 0 1 0 1 1 0 1 0 0 0 1 0 1 0 0 0\n",
      " 1 0 1 0 1 1 3 0 1 0 0 0 0 0 1 1 0 1 1 1 0 1 0 1 0 1 0 1 1 1 1 0 1 1 0 1 1\n",
      " 1 0 0 0 0 1 1 1 1 0 1 0 0 0 1 1 0 0 1 1 0 1 0 0 0 1 0 0 1 1 1 0 0 0 1 1 1\n",
      " 0 0 1 0 0 0 0 1 3 3 0 0 0 1 3 1 1 1 1 0 0 0 0 1 1 1 0 1 0 1 1 1 1 0 1 1 0\n",
      " 1 1 0 0 1 0 1 0 0 0 0 1 1 0 1 0 1 1 1 1 1 1 0 0 0 1 1 1 1 1 1 0 1 0 0 0 0\n",
      " 1 1 1 1 0 1 1 0 1 1 0 3 0 1 0 0 1 1 0 1 0 0 0 0 0 1 0 1 0 1 1 0 1 1 1 1 1\n",
      " 0 0 0 1 1 1 0 1 0 1 0 1 1 1 1 0 1 1 1 0 1 0 1 0 1 1 1 0 0 1 1 1 1 1 1 0 1\n",
      " 0 1 0 1 1 3 1 2 1 1 1 0 0 1]\n"
     ]
    }
   ],
   "source": [
    "# Initialize the K-Means model.\n",
    "model = KMeans(n_clusters=4, random_state=0)\n",
    "\n",
    "# Fit the model\n",
    "model.fit(pcs_df)\n",
    "\n",
    "# Predict clusters\n",
    "predictions = model.predict(pcs_df)\n",
    "print(predictions)\n",
    "\n",
    "pcs_df[\"Class\"] = model.labels_"
   ]
  },
  {
   "cell_type": "code",
   "execution_count": 87,
   "metadata": {},
   "outputs": [
    {
     "data": {
      "text/html": [
       "<div>\n",
       "<style scoped>\n",
       "    .dataframe tbody tr th:only-of-type {\n",
       "        vertical-align: middle;\n",
       "    }\n",
       "\n",
       "    .dataframe tbody tr th {\n",
       "        vertical-align: top;\n",
       "    }\n",
       "\n",
       "    .dataframe thead th {\n",
       "        text-align: right;\n",
       "    }\n",
       "</style>\n",
       "<table border=\"1\" class=\"dataframe\">\n",
       "  <thead>\n",
       "    <tr style=\"text-align: right;\">\n",
       "      <th></th>\n",
       "      <th>PC 1</th>\n",
       "      <th>PC 2</th>\n",
       "      <th>PC 3</th>\n",
       "      <th>Class</th>\n",
       "    </tr>\n",
       "  </thead>\n",
       "  <tbody>\n",
       "    <tr>\n",
       "      <th>42</th>\n",
       "      <td>-0.334197</td>\n",
       "      <td>1.009338</td>\n",
       "      <td>-0.549916</td>\n",
       "      <td>1</td>\n",
       "    </tr>\n",
       "    <tr>\n",
       "      <th>404</th>\n",
       "      <td>-0.317538</td>\n",
       "      <td>1.009490</td>\n",
       "      <td>-0.550389</td>\n",
       "      <td>1</td>\n",
       "    </tr>\n",
       "    <tr>\n",
       "      <th>1337</th>\n",
       "      <td>2.308988</td>\n",
       "      <td>1.680535</td>\n",
       "      <td>-0.681274</td>\n",
       "      <td>1</td>\n",
       "    </tr>\n",
       "    <tr>\n",
       "      <th>BTC</th>\n",
       "      <td>-0.144656</td>\n",
       "      <td>-1.264208</td>\n",
       "      <td>0.176064</td>\n",
       "      <td>0</td>\n",
       "    </tr>\n",
       "    <tr>\n",
       "      <th>ETH</th>\n",
       "      <td>-0.151072</td>\n",
       "      <td>-2.059972</td>\n",
       "      <td>0.356587</td>\n",
       "      <td>0</td>\n",
       "    </tr>\n",
       "    <tr>\n",
       "      <th>...</th>\n",
       "      <td>...</td>\n",
       "      <td>...</td>\n",
       "      <td>...</td>\n",
       "      <td>...</td>\n",
       "    </tr>\n",
       "    <tr>\n",
       "      <th>ZEPH</th>\n",
       "      <td>2.469821</td>\n",
       "      <td>0.862199</td>\n",
       "      <td>-0.204383</td>\n",
       "      <td>1</td>\n",
       "    </tr>\n",
       "    <tr>\n",
       "      <th>GAP</th>\n",
       "      <td>-0.332242</td>\n",
       "      <td>1.009226</td>\n",
       "      <td>-0.549948</td>\n",
       "      <td>1</td>\n",
       "    </tr>\n",
       "    <tr>\n",
       "      <th>BDX</th>\n",
       "      <td>0.336200</td>\n",
       "      <td>-2.262087</td>\n",
       "      <td>0.369341</td>\n",
       "      <td>0</td>\n",
       "    </tr>\n",
       "    <tr>\n",
       "      <th>ZEN</th>\n",
       "      <td>-0.187177</td>\n",
       "      <td>-2.260933</td>\n",
       "      <td>0.522395</td>\n",
       "      <td>0</td>\n",
       "    </tr>\n",
       "    <tr>\n",
       "      <th>XBC</th>\n",
       "      <td>-0.286126</td>\n",
       "      <td>0.822909</td>\n",
       "      <td>-0.260735</td>\n",
       "      <td>1</td>\n",
       "    </tr>\n",
       "  </tbody>\n",
       "</table>\n",
       "<p>532 rows × 4 columns</p>\n",
       "</div>"
      ],
      "text/plain": [
       "          PC 1      PC 2      PC 3  Class\n",
       "42   -0.334197  1.009338 -0.549916      1\n",
       "404  -0.317538  1.009490 -0.550389      1\n",
       "1337  2.308988  1.680535 -0.681274      1\n",
       "BTC  -0.144656 -1.264208  0.176064      0\n",
       "ETH  -0.151072 -2.059972  0.356587      0\n",
       "...        ...       ...       ...    ...\n",
       "ZEPH  2.469821  0.862199 -0.204383      1\n",
       "GAP  -0.332242  1.009226 -0.549948      1\n",
       "BDX   0.336200 -2.262087  0.369341      0\n",
       "ZEN  -0.187177 -2.260933  0.522395      0\n",
       "XBC  -0.286126  0.822909 -0.260735      1\n",
       "\n",
       "[532 rows x 4 columns]"
      ]
     },
     "execution_count": 87,
     "metadata": {},
     "output_type": "execute_result"
    }
   ],
   "source": [
    "pcs_df"
   ]
  },
  {
   "cell_type": "code",
   "execution_count": 88,
   "metadata": {},
   "outputs": [
    {
     "data": {
      "text/html": [
       "<div>\n",
       "<style scoped>\n",
       "    .dataframe tbody tr th:only-of-type {\n",
       "        vertical-align: middle;\n",
       "    }\n",
       "\n",
       "    .dataframe tbody tr th {\n",
       "        vertical-align: top;\n",
       "    }\n",
       "\n",
       "    .dataframe thead th {\n",
       "        text-align: right;\n",
       "    }\n",
       "</style>\n",
       "<table border=\"1\" class=\"dataframe\">\n",
       "  <thead>\n",
       "    <tr style=\"text-align: right;\">\n",
       "      <th></th>\n",
       "      <th>Algorithm</th>\n",
       "      <th>ProofType</th>\n",
       "      <th>TotalCoinsMined</th>\n",
       "      <th>TotalCoinSupply</th>\n",
       "    </tr>\n",
       "  </thead>\n",
       "  <tbody>\n",
       "    <tr>\n",
       "      <th>42</th>\n",
       "      <td>Scrypt</td>\n",
       "      <td>PoW/PoS</td>\n",
       "      <td>4.199995e+01</td>\n",
       "      <td>42</td>\n",
       "    </tr>\n",
       "    <tr>\n",
       "      <th>404</th>\n",
       "      <td>Scrypt</td>\n",
       "      <td>PoW/PoS</td>\n",
       "      <td>1.055185e+09</td>\n",
       "      <td>532000000</td>\n",
       "    </tr>\n",
       "    <tr>\n",
       "      <th>1337</th>\n",
       "      <td>X13</td>\n",
       "      <td>PoW/PoS</td>\n",
       "      <td>2.927942e+10</td>\n",
       "      <td>314159265359</td>\n",
       "    </tr>\n",
       "    <tr>\n",
       "      <th>BTC</th>\n",
       "      <td>SHA-256</td>\n",
       "      <td>PoW</td>\n",
       "      <td>1.792718e+07</td>\n",
       "      <td>21000000</td>\n",
       "    </tr>\n",
       "    <tr>\n",
       "      <th>ETH</th>\n",
       "      <td>Ethash</td>\n",
       "      <td>PoW</td>\n",
       "      <td>1.076842e+08</td>\n",
       "      <td>0</td>\n",
       "    </tr>\n",
       "    <tr>\n",
       "      <th>...</th>\n",
       "      <td>...</td>\n",
       "      <td>...</td>\n",
       "      <td>...</td>\n",
       "      <td>...</td>\n",
       "    </tr>\n",
       "    <tr>\n",
       "      <th>ZEPH</th>\n",
       "      <td>SHA-256</td>\n",
       "      <td>DPoS</td>\n",
       "      <td>2.000000e+09</td>\n",
       "      <td>2000000000</td>\n",
       "    </tr>\n",
       "    <tr>\n",
       "      <th>GAP</th>\n",
       "      <td>Scrypt</td>\n",
       "      <td>PoW/PoS</td>\n",
       "      <td>1.493105e+07</td>\n",
       "      <td>250000000</td>\n",
       "    </tr>\n",
       "    <tr>\n",
       "      <th>BDX</th>\n",
       "      <td>CryptoNight</td>\n",
       "      <td>PoW</td>\n",
       "      <td>9.802226e+08</td>\n",
       "      <td>1400222610</td>\n",
       "    </tr>\n",
       "    <tr>\n",
       "      <th>ZEN</th>\n",
       "      <td>Equihash</td>\n",
       "      <td>PoW</td>\n",
       "      <td>7.296538e+06</td>\n",
       "      <td>21000000</td>\n",
       "    </tr>\n",
       "    <tr>\n",
       "      <th>XBC</th>\n",
       "      <td>Scrypt</td>\n",
       "      <td>PoS</td>\n",
       "      <td>1.283270e+05</td>\n",
       "      <td>1000000</td>\n",
       "    </tr>\n",
       "  </tbody>\n",
       "</table>\n",
       "<p>532 rows × 4 columns</p>\n",
       "</div>"
      ],
      "text/plain": [
       "        Algorithm ProofType  TotalCoinsMined TotalCoinSupply\n",
       "42         Scrypt   PoW/PoS     4.199995e+01              42\n",
       "404        Scrypt   PoW/PoS     1.055185e+09       532000000\n",
       "1337          X13   PoW/PoS     2.927942e+10    314159265359\n",
       "BTC       SHA-256       PoW     1.792718e+07        21000000\n",
       "ETH        Ethash       PoW     1.076842e+08               0\n",
       "...           ...       ...              ...             ...\n",
       "ZEPH      SHA-256      DPoS     2.000000e+09      2000000000\n",
       "GAP        Scrypt   PoW/PoS     1.493105e+07       250000000\n",
       "BDX   CryptoNight       PoW     9.802226e+08      1400222610\n",
       "ZEN      Equihash       PoW     7.296538e+06        21000000\n",
       "XBC        Scrypt       PoS     1.283270e+05         1000000\n",
       "\n",
       "[532 rows x 4 columns]"
      ]
     },
     "execution_count": 88,
     "metadata": {},
     "output_type": "execute_result"
    }
   ],
   "source": [
    "crypto_df"
   ]
  },
  {
   "cell_type": "code",
   "execution_count": 92,
   "metadata": {},
   "outputs": [
    {
     "name": "stdout",
     "output_type": "stream",
     "text": [
      "(532, 9)\n"
     ]
    },
    {
     "data": {
      "text/html": [
       "<div>\n",
       "<style scoped>\n",
       "    .dataframe tbody tr th:only-of-type {\n",
       "        vertical-align: middle;\n",
       "    }\n",
       "\n",
       "    .dataframe tbody tr th {\n",
       "        vertical-align: top;\n",
       "    }\n",
       "\n",
       "    .dataframe thead th {\n",
       "        text-align: right;\n",
       "    }\n",
       "</style>\n",
       "<table border=\"1\" class=\"dataframe\">\n",
       "  <thead>\n",
       "    <tr style=\"text-align: right;\">\n",
       "      <th></th>\n",
       "      <th>Algorithm</th>\n",
       "      <th>ProofType</th>\n",
       "      <th>TotalCoinsMined</th>\n",
       "      <th>TotalCoinSupply</th>\n",
       "      <th>PC 1</th>\n",
       "      <th>PC 2</th>\n",
       "      <th>PC 3</th>\n",
       "      <th>Class</th>\n",
       "      <th>CoinName</th>\n",
       "    </tr>\n",
       "  </thead>\n",
       "  <tbody>\n",
       "    <tr>\n",
       "      <th>42</th>\n",
       "      <td>Scrypt</td>\n",
       "      <td>PoW/PoS</td>\n",
       "      <td>4.199995e+01</td>\n",
       "      <td>42</td>\n",
       "      <td>-0.334197</td>\n",
       "      <td>1.009338</td>\n",
       "      <td>-0.549916</td>\n",
       "      <td>1</td>\n",
       "      <td>42 Coin</td>\n",
       "    </tr>\n",
       "    <tr>\n",
       "      <th>404</th>\n",
       "      <td>Scrypt</td>\n",
       "      <td>PoW/PoS</td>\n",
       "      <td>1.055185e+09</td>\n",
       "      <td>532000000</td>\n",
       "      <td>-0.317538</td>\n",
       "      <td>1.009490</td>\n",
       "      <td>-0.550389</td>\n",
       "      <td>1</td>\n",
       "      <td>404Coin</td>\n",
       "    </tr>\n",
       "    <tr>\n",
       "      <th>1337</th>\n",
       "      <td>X13</td>\n",
       "      <td>PoW/PoS</td>\n",
       "      <td>2.927942e+10</td>\n",
       "      <td>314159265359</td>\n",
       "      <td>2.308988</td>\n",
       "      <td>1.680535</td>\n",
       "      <td>-0.681274</td>\n",
       "      <td>1</td>\n",
       "      <td>EliteCoin</td>\n",
       "    </tr>\n",
       "    <tr>\n",
       "      <th>BTC</th>\n",
       "      <td>SHA-256</td>\n",
       "      <td>PoW</td>\n",
       "      <td>1.792718e+07</td>\n",
       "      <td>21000000</td>\n",
       "      <td>-0.144656</td>\n",
       "      <td>-1.264208</td>\n",
       "      <td>0.176064</td>\n",
       "      <td>0</td>\n",
       "      <td>Bitcoin</td>\n",
       "    </tr>\n",
       "    <tr>\n",
       "      <th>ETH</th>\n",
       "      <td>Ethash</td>\n",
       "      <td>PoW</td>\n",
       "      <td>1.076842e+08</td>\n",
       "      <td>0</td>\n",
       "      <td>-0.151072</td>\n",
       "      <td>-2.059972</td>\n",
       "      <td>0.356587</td>\n",
       "      <td>0</td>\n",
       "      <td>Ethereum</td>\n",
       "    </tr>\n",
       "    <tr>\n",
       "      <th>...</th>\n",
       "      <td>...</td>\n",
       "      <td>...</td>\n",
       "      <td>...</td>\n",
       "      <td>...</td>\n",
       "      <td>...</td>\n",
       "      <td>...</td>\n",
       "      <td>...</td>\n",
       "      <td>...</td>\n",
       "      <td>...</td>\n",
       "    </tr>\n",
       "    <tr>\n",
       "      <th>ZEPH</th>\n",
       "      <td>SHA-256</td>\n",
       "      <td>DPoS</td>\n",
       "      <td>2.000000e+09</td>\n",
       "      <td>2000000000</td>\n",
       "      <td>2.469821</td>\n",
       "      <td>0.862199</td>\n",
       "      <td>-0.204383</td>\n",
       "      <td>1</td>\n",
       "      <td>ZEPHYR</td>\n",
       "    </tr>\n",
       "    <tr>\n",
       "      <th>GAP</th>\n",
       "      <td>Scrypt</td>\n",
       "      <td>PoW/PoS</td>\n",
       "      <td>1.493105e+07</td>\n",
       "      <td>250000000</td>\n",
       "      <td>-0.332242</td>\n",
       "      <td>1.009226</td>\n",
       "      <td>-0.549948</td>\n",
       "      <td>1</td>\n",
       "      <td>Gapcoin</td>\n",
       "    </tr>\n",
       "    <tr>\n",
       "      <th>BDX</th>\n",
       "      <td>CryptoNight</td>\n",
       "      <td>PoW</td>\n",
       "      <td>9.802226e+08</td>\n",
       "      <td>1400222610</td>\n",
       "      <td>0.336200</td>\n",
       "      <td>-2.262087</td>\n",
       "      <td>0.369341</td>\n",
       "      <td>0</td>\n",
       "      <td>Beldex</td>\n",
       "    </tr>\n",
       "    <tr>\n",
       "      <th>ZEN</th>\n",
       "      <td>Equihash</td>\n",
       "      <td>PoW</td>\n",
       "      <td>7.296538e+06</td>\n",
       "      <td>21000000</td>\n",
       "      <td>-0.187177</td>\n",
       "      <td>-2.260933</td>\n",
       "      <td>0.522395</td>\n",
       "      <td>0</td>\n",
       "      <td>Horizen</td>\n",
       "    </tr>\n",
       "    <tr>\n",
       "      <th>XBC</th>\n",
       "      <td>Scrypt</td>\n",
       "      <td>PoS</td>\n",
       "      <td>1.283270e+05</td>\n",
       "      <td>1000000</td>\n",
       "      <td>-0.286126</td>\n",
       "      <td>0.822909</td>\n",
       "      <td>-0.260735</td>\n",
       "      <td>1</td>\n",
       "      <td>BitcoinPlus</td>\n",
       "    </tr>\n",
       "  </tbody>\n",
       "</table>\n",
       "<p>532 rows × 9 columns</p>\n",
       "</div>"
      ],
      "text/plain": [
       "        Algorithm ProofType  TotalCoinsMined TotalCoinSupply      PC 1  \\\n",
       "42         Scrypt   PoW/PoS     4.199995e+01              42 -0.334197   \n",
       "404        Scrypt   PoW/PoS     1.055185e+09       532000000 -0.317538   \n",
       "1337          X13   PoW/PoS     2.927942e+10    314159265359  2.308988   \n",
       "BTC       SHA-256       PoW     1.792718e+07        21000000 -0.144656   \n",
       "ETH        Ethash       PoW     1.076842e+08               0 -0.151072   \n",
       "...           ...       ...              ...             ...       ...   \n",
       "ZEPH      SHA-256      DPoS     2.000000e+09      2000000000  2.469821   \n",
       "GAP        Scrypt   PoW/PoS     1.493105e+07       250000000 -0.332242   \n",
       "BDX   CryptoNight       PoW     9.802226e+08      1400222610  0.336200   \n",
       "ZEN      Equihash       PoW     7.296538e+06        21000000 -0.187177   \n",
       "XBC        Scrypt       PoS     1.283270e+05         1000000 -0.286126   \n",
       "\n",
       "          PC 2      PC 3  Class     CoinName  \n",
       "42    1.009338 -0.549916      1      42 Coin  \n",
       "404   1.009490 -0.550389      1      404Coin  \n",
       "1337  1.680535 -0.681274      1    EliteCoin  \n",
       "BTC  -1.264208  0.176064      0      Bitcoin  \n",
       "ETH  -2.059972  0.356587      0     Ethereum  \n",
       "...        ...       ...    ...          ...  \n",
       "ZEPH  0.862199 -0.204383      1       ZEPHYR  \n",
       "GAP   1.009226 -0.549948      1      Gapcoin  \n",
       "BDX  -2.262087  0.369341      0       Beldex  \n",
       "ZEN  -2.260933  0.522395      0      Horizen  \n",
       "XBC   0.822909 -0.260735      1  BitcoinPlus  \n",
       "\n",
       "[532 rows x 9 columns]"
      ]
     },
     "execution_count": 92,
     "metadata": {},
     "output_type": "execute_result"
    }
   ],
   "source": [
    "# Create a new DataFrame including predicted clusters and cryptocurrencies features.\n",
    "# Concatentate the crypto_df and pcs_df DataFrames on the same columns.\n",
    "#  Add a new column, \"Class\" to the clustered_df DataFrame that holds the predictions.\n",
    "\n",
    "clustered_df = crypto_df.join(pcs_df, how='inner')\n",
    "\n",
    "#  Add a new column, \"CoinName\" to the clustered_df DataFrame that holds the names of the cryptocurrencies. \n",
    "clustered_df = clustered_df.join(cc_names_df, how='inner')\n",
    "\n",
    "\n",
    "# Print the shape of the clustered_df\n",
    "print(clustered_df.shape)\n",
    "clustered_df"
   ]
  },
  {
   "cell_type": "markdown",
   "metadata": {},
   "source": [
    "### Deliverable 4: Visualizing Cryptocurrencies Results\n",
    "\n",
    "#### 3D-Scatter with Clusters"
   ]
  },
  {
   "cell_type": "code",
   "execution_count": 66,
   "metadata": {},
   "outputs": [
    {
     "data": {
      "application/vnd.plotly.v1+json": {
       "config": {
        "plotlyServerURL": "https://plot.ly"
       },
       "data": [
        {
         "customdata": [
          [
           "Scrypt",
           41.99995383,
           "42"
          ],
          [
           "Scrypt",
           1055184902.04,
           "532000000"
          ],
          [
           "X13",
           29279424622.5027,
           "314159265359"
          ],
          [
           "X11",
           9031294.37563393,
           "22000000"
          ],
          [
           "SHA-512",
           2741570000,
           "3600570502"
          ],
          [
           "SHA-256",
           1288862,
           "22000000"
          ],
          [
           "SHA-256",
           11995334.8847328,
           "12500000"
          ],
          [
           "X15",
           25542535.5881841,
           "350000000"
          ],
          [
           "Scrypt",
           18135099.992959,
           "16768584"
          ],
          [
           "Scrypt",
           635423900,
           "0"
          ],
          [
           "Scrypt",
           123062801.128773,
           "0"
          ],
          [
           "Scrypt",
           42579.476901,
           "500000"
          ],
          [
           "Scrypt",
           1039116.65144562,
           "1000000"
          ],
          [
           "Scrypt",
           39999997299.8568,
           "40000000000"
          ],
          [
           "Groestl",
           3304487.74735637,
           "4380000"
          ],
          [
           "PoS",
           5679705,
           "0"
          ],
          [
           "Scrypt",
           461829905.32892996,
           "0"
          ],
          [
           "Scrypt",
           89266933.684704,
           "120000000"
          ],
          [
           "X11",
           1678520090.7713,
           "0"
          ],
          [
           "X11",
           17650913.974345602,
           "22000000"
          ],
          [
           "SHA3",
           61445805,
           "100000000"
          ],
          [
           "Scrypt",
           21293925445.4969,
           "0"
          ],
          [
           "SHA-256",
           1613836099.99999,
           "2419200000"
          ],
          [
           "Scrypt",
           16180000,
           "16180000"
          ],
          [
           "X13",
           66087096.20771079,
           "0"
          ],
          [
           "X13",
           15156364.3306548,
           "0"
          ],
          [
           "NeoScrypt",
           3220616.279225,
           "3770000"
          ],
          [
           "Scrypt",
           222677226.014206,
           "420000000"
          ],
          [
           "Scrypt",
           73959274.625,
           "98000000"
          ],
          [
           "Scrypt",
           29315567169.0888,
           "0"
          ],
          [
           "X11",
           50707661.74935179,
           "0"
          ],
          [
           "X11",
           1177,
           "1000"
          ],
          [
           "Multiple",
           80260463.7331396,
           "100000000"
          ],
          [
           "PHI1612",
           1622326490.46336,
           "2300000000"
          ],
          [
           "X11",
           1431851.00002479,
           "10000000"
          ],
          [
           "Scrypt",
           1098952592.6,
           "1600000000"
          ],
          [
           "Scrypt",
           50235211.141939,
           "100000000"
          ],
          [
           "Scrypt",
           32021108.413669605,
           "0"
          ],
          [
           "X11",
           6950831.0970606,
           "5500000"
          ],
          [
           "Multiple",
           100000000,
           "0"
          ],
          [
           "X13",
           33093725.4123502,
           "0"
          ],
          [
           "Scrypt",
           147990237.978331,
           "1000000000"
          ],
          [
           "Shabal256",
           1813033920,
           "2158812800"
          ],
          [
           "Counterparty",
           51173144,
           "500000000"
          ],
          [
           "SHA-256",
           39121694,
           "68000000"
          ],
          [
           "Groestl",
           53193831,
           "0"
          ],
          [
           "Scrypt",
           27184490.3918338,
           "0"
          ],
          [
           "X13",
           2022464.886973,
           "12000000"
          ],
          [
           "Scrypt",
           174646113.934655,
           "500000000"
          ],
          [
           "Scrypt",
           1467841,
           "0"
          ],
          [
           "X13",
           7096834,
           "10000000"
          ],
          [
           "X11",
           2689812,
           "20000000"
          ],
          [
           "Scrypt",
           11604722,
           "20000000"
          ],
          [
           "X11",
           1513704,
           "0"
          ],
          [
           "SHA3",
           63657220,
           "78000000"
          ],
          [
           "QUAIT",
           8568038.35935056,
           "5060000"
          ],
          [
           "X11",
           329200.01639,
           "0"
          ],
          [
           "Scrypt",
           100000000,
           "100000000"
          ],
          [
           "X13",
           23042604,
           "50000000"
          ],
          [
           "SHA-256",
           43059794.804778,
           "1000000000"
          ],
          [
           "X15",
           13530556.4180753,
           "26298000"
          ],
          [
           "BLAKE256",
           10365046.928166099,
           "21000000"
          ],
          [
           "SHA-256",
           3669691.84494672,
           "22000000"
          ],
          [
           "X11",
           10996318099,
           "26550000000"
          ],
          [
           "SHA-256",
           5129014,
           "10500000"
          ],
          [
           "NIST5",
           10069449031.9252,
           "0"
          ],
          [
           "Scrypt",
           8998743.2411911,
           "42000000"
          ],
          [
           "Scrypt",
           40477042,
           "221052632"
          ],
          [
           "X11",
           10407269.788186802,
           "384000000"
          ],
          [
           "Scrypt",
           36971236046.8073,
           " 99000000000"
          ],
          [
           "SHA-256",
           4377081.60953993,
           "40000000"
          ],
          [
           "Scrypt",
           2147483647,
           "2147483647"
          ],
          [
           "PoS",
           20000000,
           "20000000"
          ],
          [
           "X11",
           134554941.15118998,
           "75000000"
          ],
          [
           "SHA-256",
           1195525,
           "222725000"
          ],
          [
           "SHA-256",
           16662820,
           "525000000"
          ],
          [
           "NIST5",
           83450403,
           "90000000"
          ],
          [
           "X11",
           24387724.5010828,
           "139000000"
          ],
          [
           "POS 3.0",
           38589808.6658096,
           "33500000"
          ],
          [
           "Scrypt",
           813092338.575672,
           "2000000000"
          ],
          [
           "Scrypt",
           4526324,
           "44333333"
          ],
          [
           "Scrypt",
           100000000,
           "100000000"
          ],
          [
           "X13",
           5000000,
           "200000000"
          ],
          [
           "X11",
           657000000,
           "657000000"
          ],
          [
           "X11",
           15563873,
           "50000000"
          ],
          [
           "Scrypt",
           43165500,
           "90000000"
          ],
          [
           "SHA-256",
           595429,
           "21000000"
          ],
          [
           "X11",
           657636.34549789,
           "3000000"
          ],
          [
           "Scrypt",
           2581970,
           "21000000"
          ],
          [
           "Scrypt",
           1939889,
           "0"
          ],
          [
           "Scrypt",
           169598616,
           "0"
          ],
          [
           "Scrypt",
           665200057,
           "3100000000"
          ],
          [
           "SHA-256D",
           19577787259,
           "20000000000"
          ],
          [
           "PoS",
           74033806.79496829,
           "74000000"
          ],
          [
           "Scrypt",
           33522957,
           "0"
          ],
          [
           "X11",
           264678458.28861898,
           "1500000000"
          ],
          [
           "PoS",
           148716816,
           "39999898"
          ],
          [
           "X13",
           2500124,
           "2500124"
          ],
          [
           "X14",
           100000000,
           "100000000"
          ],
          [
           "PoS",
           17818682.1654,
           "301000000"
          ],
          [
           "SHA-256D",
           1082162635.5368302,
           "7506000000"
          ],
          [
           "DPoS",
           108202084,
           "125000000"
          ],
          [
           "X11",
           18342813,
           "30000000"
          ],
          [
           "X13",
           92192822723,
           "850000000"
          ],
          [
           "X11",
           3853326.77707314,
           "3853326.77707314"
          ],
          [
           "PoS",
           50000000,
           "50000000"
          ],
          [
           "Scrypt",
           17089600,
           "38540000 "
          ],
          [
           "Scrypt",
           2449577.41533168,
           "42000000"
          ],
          [
           "PoS",
           20000000,
           "20000000"
          ],
          [
           "X11",
           6069482.07721352,
           "60000000"
          ],
          [
           "SHA-256",
           12416554,
           "20000000"
          ],
          [
           "Scrypt",
           20244023.640728,
           "33000000"
          ],
          [
           "X11",
           75590369,
           "76500000"
          ],
          [
           "Scrypt",
           11080722.3769581,
           "28000000"
          ],
          [
           "Scrypt",
           10914418,
           "650659833"
          ],
          [
           "X11",
           814671,
           "5000000"
          ],
          [
           "Scrypt",
           8377873,
           "144000000"
          ],
          [
           "Scrypt",
           33813143821.8337,
           "32514916898"
          ],
          [
           "Scrypt",
           3472983,
           "13000000"
          ],
          [
           "Scrypt",
           3315789,
           "3315789"
          ],
          [
           "Quark",
           10517772.7391666,
           "15000000"
          ],
          [
           "QuBit",
           30227750,
           "78835200"
          ],
          [
           "Scrypt",
           23965372,
           "500000000"
          ],
          [
           "SHA-256",
           2526078.47525448,
           "21000000"
          ],
          [
           "X11",
           5659096.95728771,
           "9354000"
          ],
          [
           "Scrypt",
           11821728,
           "20000000"
          ],
          [
           "Scrypt",
           308179,
           "21933333"
          ],
          [
           "Scrypt",
           2922613.96424908,
           "55000000"
          ],
          [
           "Scrypt",
           110000000,
           "110000000"
          ],
          [
           "X13",
           14524851.4827,
           "14524851.4827"
          ],
          [
           "Scrypt",
           1000000000,
           "1000000000"
          ],
          [
           "Scrypt",
           36050365,
           "34426423"
          ],
          [
           "X11",
           13162749.085802699,
           "100000000"
          ],
          [
           "Blake2S",
           12184195.9258495,
           "36900000"
          ],
          [
           "X11",
           110630387.85047099,
           "110000000"
          ],
          [
           "PoS",
           111135836.889,
           "110290030"
          ],
          [
           "X11",
           21521322.0099142,
           "100000000"
          ],
          [
           "PoS",
           401421401,
           "400000000"
          ],
          [
           "X11",
           121665451.643876,
           "500000000"
          ],
          [
           "Scrypt",
           5368934,
           "21212121"
          ],
          [
           "Scrypt",
           1148324,
           "28600000"
          ],
          [
           "Scrypt",
           500000,
           "1000000000"
          ],
          [
           "SHA-256",
           100545745,
           "75000000000"
          ],
          [
           "X11",
           17171382,
           "40000000"
          ],
          [
           "Scrypt",
           295135466.361878,
           "2000000000"
          ],
          [
           "PoS",
           11390225.974277198,
           "30000000"
          ],
          [
           "Scrypt",
           21358764,
           "105000000"
          ],
          [
           "X15",
           40659020000,
           "90000000000"
          ],
          [
           "SHA-256",
           10343113,
           "200084200"
          ],
          [
           "POS 3.0",
           100000000,
           "100000000"
          ],
          [
           "536",
           22801882871,
           "50000000000"
          ],
          [
           "NIST5",
           4171382,
           "10000000"
          ],
          [
           "NIST5",
           62942075,
           "120000000"
          ],
          [
           "Skein",
           6804362,
           "100000000"
          ],
          [
           "X13",
           21268092,
           "30000000"
          ],
          [
           "Scrypt",
           9044930943.24243,
           "50000000000"
          ],
          [
           "X13",
           21917018.0492836,
           "18898187.6216583"
          ],
          [
           "SkunkHash v2 Raptor",
           107972766,
           "137500000"
          ],
          [
           "Skein",
           47331802.477423795,
           "100000000"
          ],
          [
           "X11",
           12569262.535930699,
           "9507271"
          ],
          [
           "Scrypt",
           18663297.348979898,
           "17405891.19707116"
          ],
          [
           "PoS",
           4000000,
           "61599965"
          ],
          [
           "Scrypt",
           19539588,
           "48252000"
          ],
          [
           "Scrypt",
           4200000,
           "4200000"
          ],
          [
           "SHA-512",
           25000000,
           "91388946"
          ],
          [
           "Ouroboros",
           25927070538,
           "45000000000"
          ],
          [
           "X11",
           7262402.04264803,
           "27000000"
          ],
          [
           "NeoScrypt",
           182638400,
           "400000000"
          ],
          [
           "Scrypt",
           1140734.91680375,
           "15733333"
          ],
          [
           "Lyra2REv2",
           24000000,
           "24000000"
          ],
          [
           "Scrypt",
           48459472454,
           "25000000000"
          ],
          [
           "SHA-256",
           92050800,
           "100000000"
          ],
          [
           "NIST5",
           560563220,
           "1200000000"
          ],
          [
           "PHI1612",
           8305775.31777569,
           "60000000"
          ],
          [
           "Scrypt",
           2149688,
           "21000000"
          ],
          [
           "Quark",
           30711550.5294042,
           "200000000"
          ],
          [
           "POS 2.0",
           12330806.30517,
           "21000000"
          ],
          [
           "Scrypt",
           16362544.992,
           "14788275.991"
          ],
          [
           "SHA-256",
           8999999990,
           "9000000000"
          ],
          [
           "X11",
           38198594.8342105,
           "144000000"
          ],
          [
           "DPoS",
           288090567.493887,
           "500000000"
          ],
          [
           "NIST5",
           28399150208,
           "30000000000"
          ],
          [
           "X13",
           183534024.88980702,
           "210000000"
          ],
          [
           "Scrypt",
           110976977.29338,
           "210000000"
          ],
          [
           "NIST5",
           13247178.880728599,
           "27716121"
          ],
          [
           "Quark",
           16955764.902064003,
           "20000000"
          ],
          [
           "Scrypt",
           4911500269.41,
           "50000000000"
          ],
          [
           "Scrypt",
           8419402.321,
           "150000000"
          ],
          [
           "X11",
           45174214.1078625,
           "50000000"
          ],
          [
           "Quark",
           27299680,
           "120000000"
          ],
          [
           "Scrypt",
           591022748,
           "900000000"
          ],
          [
           "Scrypt",
           2504486.227718,
           "4000000"
          ],
          [
           "X11",
           4407252,
           "21000000"
          ],
          [
           "POS 3.0",
           20445861.534425102,
           "25000000"
          ],
          [
           "Ethash",
           1618033,
           "1618033"
          ],
          [
           "Scrypt",
           9399342.52839847,
           "30000000"
          ],
          [
           "Scrypt",
           234846265.78215697,
           "232000000"
          ],
          [
           "X13",
           230298925,
           "800000000"
          ],
          [
           "C11",
           11251342.1879021,
           "19340594"
          ],
          [
           "X11",
           2167827.1,
           "25000000"
          ],
          [
           "XEVAN",
           419275.38,
           "60000000"
          ],
          [
           "Scrypt",
           25570013.1348022,
           "124000000"
          ],
          [
           "VBFT",
           650848625,
           "1000000000"
          ],
          [
           "NIST5",
           13787854.6277781,
           "50000000"
          ],
          [
           "Scrypt",
           845637.81347436,
           "3000000"
          ],
          [
           "Scrypt",
           1182153.5,
           "5000000"
          ],
          [
           "Scrypt",
           267297676.3125,
           "500000000"
          ],
          [
           "Green Protocol",
           9803691.3618195,
           "21000000"
          ],
          [
           "PoS",
           21876586.8530324,
           "88000000"
          ],
          [
           "Scrypt",
           9880502.37178894,
           "30000000"
          ],
          [
           "Semux BFT consensus",
           1231147,
           "100000000"
          ],
          [
           "Quark",
           139739596.506702,
           "200000000"
          ],
          [
           "PoS",
           11075254.0929996,
           "80000000"
          ],
          [
           "X16R",
           4403800,
           "45000000"
          ],
          [
           "Scrypt",
           1404157529.46026,
           "5121951220"
          ],
          [
           "XEVAN",
           10904963.0923455,
           "21000000"
          ],
          [
           "Scrypt",
           38706809.466534995,
           "26000000"
          ],
          [
           "Scrypt",
           10200000000,
           "10200000000"
          ],
          [
           "Scrypt",
           7630000.0154,
           "44000000"
          ],
          [
           "SHA-256D",
           33238183.7225834,
           "100000000"
          ],
          [
           "Scrypt",
           21599339.6728,
           "84000000"
          ],
          [
           "X15",
           30284196.369129,
           "90000000"
          ],
          [
           "Scrypt",
           77872059787.8998,
           "92000000000"
          ],
          [
           "Quark",
           2716264.95302831,
           "650000000 "
          ],
          [
           "SHA-256",
           57811001.000889,
           "100262205"
          ],
          [
           "DPoS",
           18194936,
           "18081806 "
          ],
          [
           "X16R",
           36923120.6205934,
           "82546564"
          ],
          [
           "Quark",
           7082392.24744494,
           "21000000"
          ],
          [
           "Quark",
           5919489.76813523,
           "5151000"
          ],
          [
           "Scrypt",
           1042012.45227735,
           "16880000000"
          ],
          [
           "Lyra2REv2",
           13332617.9413708,
           "52500000"
          ],
          [
           "Quark",
           66053877.6256106,
           "100000000"
          ],
          [
           "Scrypt",
           5403802.49590733,
           "1000000000"
          ],
          [
           "X11",
           19269509.94,
           "55000000"
          ],
          [
           "X11",
           30771125.976086702,
           "50000000"
          ],
          [
           "Scrypt",
           107763867.917675,
           "260000000"
          ],
          [
           "PoS",
           9327131.59708692,
           "210000000"
          ],
          [
           "Keccak",
           4672513.84432375,
           "366000000"
          ],
          [
           "X11",
           4504639,
           "100000000"
          ],
          [
           "Scrypt",
           1059954080.4343901,
           "18000000000"
          ],
          [
           "SHA-512",
           1000000000,
           "1000000000"
          ],
          [
           "XEVAN",
           6787405.18013774,
           "50000000"
          ],
          [
           "XEVAN",
           208515864.36734298,
           "70000000000"
          ],
          [
           "X11",
           17209923728.3266,
           "0"
          ],
          [
           "Quark",
           35312185.7437239,
           "54000000"
          ],
          [
           "Scrypt",
           14777549.394076401,
           "21000000"
          ],
          [
           "Quark",
           18265011.248600602,
           "19035999"
          ],
          [
           "Quark",
           1934701.67524713,
           "13370000"
          ],
          [
           "Scrypt",
           30825710000.0296,
           "74800000000"
          ],
          [
           "X11",
           715659.44237941,
           "19700000"
          ],
          [
           "Scrypt",
           20546528.2059957,
           "84000000"
          ],
          [
           "XEVAN",
           198938144.363399,
           "500000000"
          ],
          [
           "SHA-256D",
           896361168,
           "5000000000"
          ],
          [
           "X11",
           15420234.5389336,
           "420000000"
          ],
          [
           "X11",
           23775960.3207514,
           "30000000"
          ],
          [
           "DPoS",
           1000000000,
           "1000000000"
          ],
          [
           "Scrypt",
           15318887081.0146,
           "35000000000"
          ],
          [
           "X11",
           242574105.22384,
           "0"
          ],
          [
           "Scrypt",
           3537150,
           "200000000"
          ],
          [
           "Scrypt",
           20576532,
           "54256119"
          ],
          [
           "SHA-256",
           4392258.24647793,
           "21000000"
          ],
          [
           "Scrypt",
           9631199.99309942,
           "0"
          ],
          [
           "X11",
           436353624.49031204,
           "500000000"
          ],
          [
           "Scrypt",
           980732528.97974,
           "10500000000"
          ],
          [
           "SHA-256",
           17939725045.334,
           "190000000"
          ],
          [
           "X11",
           494240666.028571,
           "1000000000"
          ],
          [
           "Scrypt",
           60000000,
           "15000000"
          ],
          [
           "Scrypt",
           404316475.545465,
           "400000000"
          ],
          [
           "X11",
           201364327.427503,
           "208000000"
          ],
          [
           "Scrypt",
           103621876.167052,
           "160000000"
          ],
          [
           "PoS",
           3821245.74150193,
           "9000000"
          ],
          [
           "X11",
           16901016.6609755,
           "16504333"
          ],
          [
           "SHA-256",
           74676064.9488608,
           "105000000"
          ],
          [
           "DPoS",
           120012140,
           "159918400"
          ],
          [
           "Scrypt",
           10000244677.7002,
           "10008835635"
          ],
          [
           "Scrypt",
           252005564.19257003,
           "300000000"
          ],
          [
           "NeoScrypt",
           1120385.00502,
           "60168145"
          ],
          [
           "X13",
           140777.753365,
           "120000"
          ],
          [
           "DPoS",
           1020544523.0722,
           "0"
          ],
          [
           "DPoS",
           1122382283.37,
           "0"
          ],
          [
           "SHA-256",
           1000000000,
           "1000000000"
          ],
          [
           "PoS",
           9283137.5558676,
           "8634140"
          ],
          [
           "PoS",
           1000000000,
           "1000000000"
          ],
          [
           "SHA-256",
           1999999995.3056,
           "2000000000"
          ],
          [
           "Scrypt",
           14931046.1546605,
           "250000000"
          ],
          [
           "Scrypt",
           128326.99633965,
           "1000000"
          ]
         ],
         "hovertemplate": "<b>%{hovertext}</b><br><br>Class=%{marker.color}<br>PC 1=%{x}<br>PC 2=%{y}<br>PC 3=%{z}<br>Algorithm=%{customdata[0]}<br>TotalCoinsMined=%{customdata[1]}<br>TotalCoinSupply=%{customdata[2]}<extra></extra>",
         "hovertext": [
          "42 Coin",
          "404Coin",
          "EliteCoin",
          "Dash",
          "Bitshares",
          "BitcoinDark",
          "PayCoin",
          "KoboCoin",
          "Aurora Coin",
          "BlueCoin",
          "EnergyCoin",
          "BitBar",
          "CryptoBullion",
          "CasinoCoin",
          "Diamond",
          "Exclusive Coin",
          "FlutterCoin",
          "HoboNickels",
          "HyperStake",
          "IOCoin",
          "MaxCoin",
          "MintCoin",
          "MazaCoin",
          "Nautilus Coin",
          "NavCoin",
          "OpalCoin",
          "Orbitcoin",
          "PotCoin",
          "PhoenixCoin",
          "Reddcoin",
          "SuperCoin",
          "SyncCoin",
          "TeslaCoin",
          "TittieCoin",
          "TorCoin",
          "UnitaryStatus Dollar",
          "UltraCoin",
          "VeriCoin",
          "X11 Coin",
          "Crypti",
          "StealthCoin",
          "ZCC Coin",
          "BurstCoin",
          "StorjCoin",
          "Neutron",
          "FairCoin",
          "RubyCoin",
          "Kore",
          "Dnotes",
          "8BIT Coin",
          "Sativa Coin",
          "Ucoin",
          "Vtorrent",
          "IslaCoin",
          "Nexus",
          "Droidz",
          "Squall Coin",
          "Diggits",
          "Paycon",
          "Emercoin",
          "EverGreenCoin",
          "Decred",
          "EDRCoin",
          "Hitcoin",
          "DubaiCoin",
          "PWR Coin",
          "BillaryCoin",
          "GPU Coin",
          "EuropeCoin",
          "ZeitCoin",
          "SwingCoin",
          "SafeExchangeCoin",
          "Nebuchadnezzar",
          "Ratecoin",
          "Revenu",
          "Clockcoin",
          "VIP Tokens",
          "BitSend",
          "Let it Ride",
          "PutinCoin",
          "iBankCoin",
          "Frankywillcoin",
          "MudraCoin",
          "Lutetium Coin",
          "GoldBlocks",
          "CarterCoin",
          "BitTokens",
          "MustangCoin",
          "ZoneCoin",
          "RootCoin",
          "BitCurrency",
          "Swiscoin",
          "BuzzCoin",
          "Opair",
          "PesoBit",
          "Halloween Coin",
          "CoffeeCoin",
          "RoyalCoin",
          "GanjaCoin V2",
          "TeamUP",
          "LanaCoin",
          "ARK",
          "InsaneCoin",
          "EmberCoin",
          "XenixCoin",
          "FreeCoin",
          "PLNCoin",
          "AquariusCoin",
          "Creatio",
          "Eternity",
          "Eurocoin",
          "BitcoinFast",
          "Stakenet",
          "BitConnect Coin",
          "MoneyCoin",
          "Enigma",
          "Russiacoin",
          "PandaCoin",
          "GameUnits",
          "GAKHcoin",
          "Allsafe",
          "LiteCreed",
          "Klingon Empire Darsek",
          "Internet of People",
          "KushCoin",
          "Printerium",
          "Impeach",
          "Zilbercoin",
          "FirstCoin",
          "FindCoin",
          "OpenChat",
          "RenosCoin",
          "VirtacoinPlus",
          "TajCoin",
          "Impact",
          "Atmos",
          "HappyCoin",
          "MacronCoin",
          "Condensate",
          "Independent Money System",
          "ArgusCoin",
          "LomoCoin",
          "ProCurrency",
          "GoldReserve",
          "GrowthCoin",
          "Phreak",
          "Degas Coin",
          "HTML5 Coin",
          "Ultimate Secure Cash",
          "QTUM",
          "Espers",
          "Denarius",
          "Virta Unique Coin",
          "Bitcoin Planet",
          "BritCoin",
          "Linda",
          "DeepOnion",
          "Signatum",
          "Cream",
          "Monoeci",
          "Draftcoin",
          "Stakecoin",
          "CoinonatX",
          "Ethereum Dark",
          "Obsidian",
          "Cardano",
          "Regalcoin",
          "TrezarCoin",
          "TerraNovaCoin",
          "Rupee",
          "WomenCoin",
          "Theresa May Coin",
          "NamoCoin",
          "LUXCoin",
          "Xios",
          "Bitcloud 2.0",
          "KekCoin",
          "BlackholeCoin",
          "Infinity Economics",
          "Magnet",
          "Lamden Tau",
          "Electra",
          "Bitcoin Diamond",
          "Cash & Back Coin",
          "Bulwark",
          "Kalkulus",
          "GermanCoin",
          "LiteCoin Ultra",
          "PhantomX",
          "Digiwage",
          "Trollcoin",
          "Litecoin Plus",
          "Monkey Project",
          "TokenPay",
          "1717 Masonic Commemorative Token",
          "My Big Coin",
          "Unified Society USDEX",
          "Tokyo Coin",
          "Stipend",
          "Pushi",
          "Ellerium",
          "Velox",
          "Ontology",
          "Bitspace",
          "Briacoin",
          "Ignition",
          "MedicCoin",
          "Bitcoin Green",
          "Deviant Coin",
          "Abjcoin",
          "Semux",
          "Carebit",
          "Zealium",
          "Proton",
          "iDealCash",
          "Bitcoin Incognito",
          "HollyWoodCoin",
          "Swisscoin",
          "Xt3ch",
          "TheVig",
          "EmaratCoin",
          "Dekado",
          "Lynx",
          "Poseidon Quark",
          "BitcoinWSpectrum",
          "Muse",
          "Trivechain",
          "Dystem",
          "Giant",
          "Peony Coin",
          "Absolute Coin",
          "Vitae",
          "TPCash",
          "ARENON",
          "EUNO",
          "MMOCoin",
          "Ketan",
          "XDNA",
          "PAXEX",
          "ThunderStake",
          "Kcash",
          "Bettex coin",
          "BitMoney",
          "Junson Ming Chan Coin",
          "HerbCoin",
          "Oduwa",
          "Galilel",
          "Crypto Sports",
          "Credit",
          "Dash Platinum",
          "Nasdacoin",
          "Beetle Coin",
          "Titan Coin",
          "Award",
          "Insane Coin",
          "ALAX",
          "LiteDoge",
          "TruckCoin",
          "OrangeCoin",
          "BitstarCoin",
          "NeosCoin",
          "HyperCoin",
          "PinkCoin",
          "AudioCoin",
          "IncaKoin",
          "Piggy Coin",
          "Genstake",
          "XiaoMiCoin",
          "CapriCoin",
          " ClubCoin",
          "Radium",
          "Creditbit ",
          "OKCash",
          "Lisk",
          "HiCoin",
          "WhiteCoin",
          "FriendshipCoin",
          "Triangles Coin",
          "EOS",
          "Oxycoin",
          "TigerCash",
          "Particl",
          "Nxt",
          "ZEPHYR",
          "Gapcoin",
          "BitcoinPlus"
         ],
         "legendgroup": "0",
         "marker": {
          "color": [
           0,
           0,
           0,
           0,
           0,
           0,
           0,
           0,
           0,
           0,
           0,
           0,
           0,
           0,
           0,
           0,
           0,
           0,
           0,
           0,
           0,
           0,
           0,
           0,
           0,
           0,
           0,
           0,
           0,
           0,
           0,
           0,
           0,
           0,
           0,
           0,
           0,
           0,
           0,
           0,
           0,
           0,
           0,
           0,
           0,
           0,
           0,
           0,
           0,
           0,
           0,
           0,
           0,
           0,
           0,
           0,
           0,
           0,
           0,
           0,
           0,
           0,
           0,
           0,
           0,
           0,
           0,
           0,
           0,
           0,
           0,
           0,
           0,
           0,
           0,
           0,
           0,
           0,
           0,
           0,
           0,
           0,
           0,
           0,
           0,
           0,
           0,
           0,
           0,
           0,
           0,
           0,
           0,
           0,
           0,
           0,
           0,
           0,
           0,
           0,
           0,
           0,
           0,
           0,
           0,
           0,
           0,
           0,
           0,
           0,
           0,
           0,
           0,
           0,
           0,
           0,
           0,
           0,
           0,
           0,
           0,
           0,
           0,
           0,
           0,
           0,
           0,
           0,
           0,
           0,
           0,
           0,
           0,
           0,
           0,
           0,
           0,
           0,
           0,
           0,
           0,
           0,
           0,
           0,
           0,
           0,
           0,
           0,
           0,
           0,
           0,
           0,
           0,
           0,
           0,
           0,
           0,
           0,
           0,
           0,
           0,
           0,
           0,
           0,
           0,
           0,
           0,
           0,
           0,
           0,
           0,
           0,
           0,
           0,
           0,
           0,
           0,
           0,
           0,
           0,
           0,
           0,
           0,
           0,
           0,
           0,
           0,
           0,
           0,
           0,
           0,
           0,
           0,
           0,
           0,
           0,
           0,
           0,
           0,
           0,
           0,
           0,
           0,
           0,
           0,
           0,
           0,
           0,
           0,
           0,
           0,
           0,
           0,
           0,
           0,
           0,
           0,
           0,
           0,
           0,
           0,
           0,
           0,
           0,
           0,
           0,
           0,
           0,
           0,
           0,
           0,
           0,
           0,
           0,
           0,
           0,
           0,
           0,
           0,
           0,
           0,
           0,
           0,
           0,
           0,
           0,
           0,
           0,
           0,
           0,
           0,
           0,
           0,
           0,
           0,
           0,
           0,
           0,
           0,
           0,
           0,
           0,
           0,
           0,
           0,
           0,
           0,
           0,
           0,
           0,
           0,
           0,
           0,
           0,
           0,
           0,
           0,
           0,
           0,
           0,
           0,
           0,
           0,
           0,
           0,
           0
          ],
          "coloraxis": "coloraxis",
          "symbol": "circle"
         },
         "mode": "markers",
         "name": "0",
         "scene": "scene",
         "showlegend": true,
         "type": "scatter3d",
         "x": [
          -0.3341973577125254,
          -0.3175380399782952,
          2.308987589082175,
          -0.4015186599184629,
          -0.25607757014590826,
          -0.3173393217314323,
          -0.26921337894161934,
          -0.25401906450270484,
          -0.333856956814766,
          -0.32643750640734065,
          -0.3326945048570729,
          -0.3341932921965145,
          -0.33417757605505655,
          0.6348909945348064,
          -0.3730339973407,
          -0.3576496745502309,
          -0.26717597853538455,
          -0.33225610073438466,
          -0.33322418120615227,
          -0.4014133963717473,
          -0.3990413192406985,
          -0.026091507888286795,
          -0.2806441695618324,
          -0.2858224323908586,
          -0.27600096029502674,
          -0.2766229308370928,
          -0.3486458044362775,
          -0.32849907709000026,
          -0.33259907827354485,
          0.023806905918530647,
          -0.35310316863764213,
          -0.40178496847809386,
          -0.243940464371281,
          -0.32637506032398284,
          -0.40169657720462404,
          -0.3094285574968829,
          -0.33287461323695594,
          -0.31044478098708,
          -0.40166109602076416,
          -0.24440867193606472,
          -0.2764038782182899,
          -0.3252974037808996,
          -0.0885843183693195,
          -0.33063078881129476,
          -0.3165510403736936,
          -0.3724558102878748,
          -0.2858028042378869,
          -0.27669821094270086,
          -0.280455647502137,
          -0.3341794331209423,
          -0.2766504276743707,
          -0.3535477131081344,
          -0.3339137869447502,
          -0.4017665044590668,
          -0.3689117838283918,
          -0.42237576821748746,
          -0.3685516647231389,
          -0.2842043063762191,
          -0.2761719891379657,
          -0.30989256548376154,
          -0.2564616721740382,
          -0.07817743249182557,
          -0.3173102468296068,
          -0.07918620587629473,
          -0.3173739913380884,
          -0.24761530999094034,
          -0.3337895723138326,
          -0.28407261774118925,
          -0.39893430440140687,
          0.8675369963981909,
          -0.31717393979331443,
          -0.095843181872276,
          -0.3573329401572125,
          -0.3996098418832012,
          -0.31591678236594245,
          -0.3135839530385698,
          -0.3689268550047132,
          -0.4005012817037911,
          -0.3323799192532027,
          -0.3100824338472887,
          -0.3338276402918167,
          -0.3322668812927818,
          -0.22726584931959026,
          -0.34103917962318836,
          -0.4012402883170689,
          -0.33303187601676876,
          -0.3173548826807818,
          -0.4017556807768405,
          -0.33401688089448717,
          -0.3341736684295738,
          -0.2840636305084343,
          -0.22796805420468888,
          0.03221074408827962,
          -0.3562900696011904,
          -0.3337879732471152,
          -0.3879136859518964,
          -0.35561918619057864,
          -0.2286971824397748,
          -0.41535941279340866,
          -0.35536653410412294,
          -0.282275444718774,
          3.7234349899213255,
          -0.4013482053601317,
          0.8550875567475271,
          -0.40171060234835576,
          -0.35675379698805015,
          -0.33371530675530486,
          -0.3338695512983998,
          -0.3573329401572125,
          -0.4012853077971086,
          -0.31721761475577354,
          -0.33371607813367216,
          -0.40211484035711414,
          -0.33386344459353595,
          -0.32944914543325376,
          -0.401739577685852,
          -0.33307370056110125,
          0.3574123441198666,
          -0.3340627412463153,
          -0.33413334797166505,
          -0.3487257011763591,
          -0.35760129564974347,
          -0.33035834878810316,
          -0.31733130542091514,
          -0.4016495355826477,
          -0.3339111368485414,
          -0.3340380287915894,
          -0.28570899471267547,
          -0.2758344513998659,
          -0.22846504781368668,
          -0.3148925862179129,
          -0.2854503576280409,
          -0.40091497679973315,
          -0.44056171489525997,
          -0.3996537666393707,
          -0.35557958261907757,
          -0.4008129011777873,
          -0.34997976840810874,
          -0.39675285831094453,
          -0.33398134173947575,
          -0.33398048429822386,
          -0.32709856743757465,
          0.2637307259896093,
          -0.4012915841273055,
          -0.2683451934528232,
          -0.35736715661851076,
          -0.3331917915040965,
          0.8780597221294927,
          -0.26790308036997673,
          -0.33115830908247335,
          0.5633622523402108,
          -0.3704624321306832,
          -0.3689645239446098,
          -0.4277445578426934,
          -0.27633551333420175,
          0.13089437955183508,
          -0.2764063302512568,
          -0.33689825764773057,
          -0.42724963320302534,
          -0.40156406093466834,
          -0.2857834112867754,
          -0.35723327810391703,
          -0.3336165031309258,
          -0.33411627847964015,
          -0.3141420795750654,
          0.6610821972550796,
          -0.4015047983607825,
          -0.34364440421065506,
          -0.3340718361933427,
          -0.29631704874738957,
          0.4349110738710003,
          -0.31567769959110564,
          -0.3552274312523242,
          -0.41003581155300745,
          -0.33402215995999357,
          -0.39522952118358057,
          -0.35892977273903526,
          -0.333892649112111,
          -0.09570557495444318,
          -0.40029715872489025,
          3.7282915606702063,
          0.1890091515448689,
          -0.2730772242943105,
          -0.3313526341335549,
          -0.3221633679242078,
          -0.34861161642905486,
          0.08041656346621934,
          -0.3330306372911567,
          -0.40087868424756384,
          -0.3477760271310232,
          -0.3205963206122507,
          -0.33413840277879187,
          -0.35351964689594295,
          -0.33266178254172973,
          -0.2767796500865482,
          -0.27271938628612413,
          -0.32968389250236163,
          -0.2202588681618943,
          -0.36337370554277554,
          -0.4015811991246357,
          -0.3175731193884029,
          -0.284943027429812,
          -0.3229129047195241,
          -0.37006128752610284,
          -0.3341657534654252,
          -0.3341474585364117,
          -0.2793241785372981,
          -0.34687010231368226,
          -0.3568277205319423,
          -0.3338639164148898,
          3.9180335835326634,
          -0.39389806117195925,
          -0.3570163688305046,
          -0.3115165114136669,
          -0.2807212774375999,
          -0.2844923769697479,
          -0.28547768286077607,
          -0.13728868100814254,
          -0.28572952723889994,
          -0.3476134270788457,
          -0.3333377999588714,
          -0.2077426821218624,
          2.251498088943383,
          -0.34431711886848493,
          -0.26803140435031636,
          1.020917315008139,
          -0.3589156515962021,
          -0.3487250982324539,
          -0.39691428658080535,
          -0.1663975349488393,
          -0.3443077531408228,
          -0.3474446111886428,
          -0.32703868177357276,
          -0.353096996413618,
          -0.40105457601669003,
          -0.28297466373696917,
          -0.35611566799949657,
          -0.34746366497106046,
          -0.3529581354790734,
          -0.19358477603987942,
          -0.27904433515695887,
          -0.26950370316543837,
          0.5233130457667814,
          -0.1435533246628934,
          -0.39620886984102544,
          -0.3338679474147002,
          -0.3966650400704579,
          -0.3488420794657974,
          0.5727817431003206,
          -0.35357394943695186,
          -0.3333506569843759,
          -0.31202800821843635,
          -0.30231873716952556,
          -0.3986177489769069,
          -0.4012818552909366,
          3.740531803304592,
          0.10112220376063892,
          -0.39882265380359655,
          -0.3327356255304362,
          -0.33356125455528846,
          -0.26924594055413736,
          -0.3340797414685568,
          -0.3929098588834172,
          -0.24774737435524996,
          -0.09708200260646101,
          -0.38865659475967995,
          -0.33335824301189354,
          -0.3264227364251278,
          -0.3978506327173864,
          -0.331797089522446,
          -0.357608536051492,
          -0.39967876473931674,
          -0.3158544179465163,
          3.7238268805691566,
          -0.09302140415103353,
          -0.3289920390699326,
          -0.34827143836442687,
          -0.27680545136847917,
          3.7336900097710166,
          3.734933661386471,
          -0.25014375327560096,
          -0.3575444298817819,
          -0.3969118721461998,
          2.4698211816646554,
          -0.33224184802422074,
          -0.2861261237812404
         ],
         "y": [
          1.0093384826677416,
          1.0094903954314585,
          1.6805346820285392,
          1.2094038452424258,
          1.7234009876431668,
          0.864248195283735,
          0.6778272734932742,
          1.738476417341086,
          1.0093374950388927,
          1.0095811497289677,
          1.0093854800977013,
          1.009338262973755,
          1.009338407590433,
          0.28491322589374585,
          0.8873697402716271,
          1.5931561496191176,
          0.23943121095074094,
          1.0093159434186265,
          1.023622307919008,
          1.2094071370571151,
          2.0843876946656703,
          0.8310410944431809,
          0.8637327429073074,
          0.8229075323664954,
          1.8176354457150328,
          1.8176159953751294,
          0.5269063631347235,
          1.0092253172599492,
          1.0093204796421442,
          1.0205340364147313,
          1.0230006497594424,
          1.2094107783740622,
          0.1318557458943447,
          1.5566099620660345,
          1.2094066060417166,
          1.0090031022593673,
          1.0093104756368216,
          0.2279099640587998,
          1.2094108373577153,
          0.13191047613862408,
          1.8176228456157821,
          1.00892308226671,
          0.4098352595953992,
          1.4507414436654087,
          0.8642409353550103,
          0.887390859906338,
          0.8229193705845768,
          1.8176053165556179,
          0.8227397270864889,
          1.0093390432369314,
          1.817608198281695,
          1.0229728734917882,
          1.0093334761392296,
          1.2094113564768751,
          2.4209727221292368,
          1.9183524175902178,
          0.7367577425767708,
          0.8228999869185949,
          1.817595411235205,
          0.8638026121350675,
          1.7386245906516393,
          0.9508602999550343,
          0.8642491045176695,
          1.2010808378602265,
          0.864255088881766,
          1.4845322156310374,
          1.0093220987349227,
          0.8228201283619525,
          1.2092335365653253,
          0.790308387420503,
          0.8642408801521345,
          0.2883206975768158,
          1.5931521801584663,
          1.2094267708293607,
          0.8641534339849041,
          0.8640166920299408,
          1.4806761110747246,
          1.2093544954756221,
          1.5623118657059434,
          1.0087051657998918,
          1.009319289586543,
          1.0093294807055264,
          1.6310882393805257,
          1.0229221416929397,
          1.2093931263286606,
          1.009312494904603,
          0.8642484023806906,
          1.2094096137937282,
          1.0093295584515585,
          1.0093392235110745,
          0.8229737582410681,
          0.4146907631184964,
          1.902541073905213,
          1.5931473320075715,
          1.009351285018639,
          1.2088039821952978,
          1.5931918985378843,
          1.6311804883440697,
          1.9436888365310938,
          1.5930187382814376,
          1.9013737716550798,
          1.864752786586761,
          1.2094036259513696,
          1.852417323294008,
          1.2094104315213192,
          1.5931494795686678,
          1.0093268214509663,
          1.0093195976222014,
          1.5931521801584663,
          1.20938478126497,
          0.8642533887611529,
          1.0093306405420732,
          0.608036077570818,
          1.0093295006843341,
          1.009035593059614,
          1.209408729929801,
          1.0092737260340483,
          0.8204777972657799,
          1.009333674068094,
          1.0093381841853273,
          1.4829138774545945,
          0.5647663388749357,
          1.0091116762134569,
          0.8642491396916839,
          1.2094085252768478,
          1.0093335590133665,
          1.0093282496392963,
          0.8228841495585676,
          0.2341223187540848,
          1.63117940588219,
          1.009248463011535,
          0.8229065100097521,
          1.209368613466116,
          1.8462501893335495,
          1.2094011169776875,
          1.593144375292546,
          1.2093718055876215,
          1.5931185155177352,
          1.2092212833943425,
          1.0093305226836506,
          1.009325424371643,
          1.008866756053529,
          0.6424731721578776,
          1.2093984594086524,
          0.8220778653675666,
          1.5931441729281168,
          1.0092970881942631,
          1.7116868474601434,
          0.6777381182339319,
          1.5623039356112778,
          1.768361761142006,
          1.4806835879878952,
          1.4806541214601776,
          1.7854060928426363,
          1.8176041719041252,
          0.9891968445198318,
          1.8176096588679123,
          1.6750195359631155,
          1.7854215701873293,
          1.2094110919233412,
          0.8229079022129644,
          1.5931264380376862,
          1.0093231738328452,
          1.0093381045889542,
          1.7240195796679514,
          1.5037691928085493,
          1.2094008101183176,
          0.5267878945132449,
          1.0093314934795736,
          0.8178901106208527,
          1.0160471146003147,
          0.8642460475076665,
          1.480334490961606,
          1.7434801600700314,
          1.0093293933639673,
          1.6692637784531121,
          1.4995561155974169,
          1.0093377526459857,
          0.677018414525839,
          1.209357410230261,
          1.864644516534487,
          1.4773747631368663,
          1.817581195762216,
          1.0092817618578152,
          1.294249199680077,
          1.482913976522491,
          0.9876182959969328,
          1.009270910388607,
          1.2094044344559547,
          1.4828707350853219,
          1.0091394672116973,
          1.009337551459306,
          1.0229730574609615,
          1.5623089478698282,
          -0.11798006667262805,
          0.2452641307904888,
          1.0093186850933527,
          1.6308911300282543,
          1.0502711001788922,
          1.2093998083459438,
          1.3915107979675934,
          0.8228602362407891,
          1.5119984973489298,
          1.480668383795986,
          1.009337389866136,
          1.009336574545638,
          0.8227751105242376,
          1.548036449256504,
          1.5931208064285047,
          1.0093280984876931,
          1.9571714391697344,
          1.6693054160356708,
          1.5931204567626671,
          0.6830340646106058,
          1.0074575887352877,
          0.9188800456743832,
          0.822911501077374,
          1.00842028213962,
          0.8228911383926842,
          1.904468211103207,
          1.0093070903385148,
          1.5521714329518892,
          0.3196515699417021,
          1.4826112304200862,
          0.6778033538740156,
          1.6802180055696656,
          0.869458258574889,
          1.4829097339845723,
          1.6693462630830005,
          0.8149434182968489,
          1.0043020809062466,
          1.48289497358362,
          1.0088686288054385,
          1.0229626881288856,
          1.2093989339467435,
          0.8228274451127907,
          1.5930584398746408,
          0.9075621407375835,
          1.022935813165064,
          1.001248760711213,
          2.132928767313054,
          1.2050884553317747,
          0.9672431277121485,
          1.029553718460334,
          1.6693344353908455,
          1.0093342159178031,
          1.669344425236869,
          1.4829113688233537,
          0.9858113227932008,
          1.0229722611423278,
          1.009306688272019,
          1.391378968178692,
          1.9024854398862951,
          1.2092184619736621,
          1.2094057008589598,
          1.864680434473231,
          0.9986716187414564,
          1.209503416939553,
          1.0092454499883172,
          1.0093207363903582,
          0.6778203585949005,
          1.0093421608066444,
          1.2093414621488976,
          1.0047578879186532,
          0.871019564365029,
          1.2091276103054256,
          1.0093543177824387,
          1.0093041232605056,
          1.2093895201577405,
          1.009302548838437,
          1.593151192619314,
          0.7095944465485037,
          0.8642370525448817,
          1.8647408182160599,
          0.8220047160352166,
          1.0092931477989477,
          0.5268789457854268,
          1.8176102043239348,
          1.8651601979505406,
          1.8651990895780493,
          0.6777385718095846,
          1.5931534511601269,
          1.7661188083546089,
          0.862199416197443,
          1.009226205415063,
          0.8229085659748382
         ],
         "z": [
          -0.5499160622331373,
          -0.5503891732572277,
          -0.6812740591887162,
          -0.5223308819619098,
          -0.14353370185076675,
          -0.39393030825544173,
          -0.10475238188797614,
          -0.6235057008102616,
          -0.5499250015789691,
          -0.5501670117033519,
          -0.5499646637005423,
          -0.5499161320208998,
          -0.549916578578518,
          -0.33120058902385785,
          -0.40622001096634025,
          -0.21955933046441295,
          -0.21750987646954445,
          -0.5499640348872152,
          -0.23380673767288537,
          -0.5223342861290343,
          -0.6509967781357655,
          -0.2691445756376219,
          -0.39482122406038495,
          -0.26074301922765386,
          -0.6364404124375093,
          -0.636420298240901,
          -0.3343766759001554,
          -0.5500485186102888,
          -0.5499556577137207,
          -0.561493729761367,
          -0.23316386178966975,
          -0.5223249840990529,
          0.025825195461062607,
          -0.2238063625564736,
          -0.5223266088684293,
          -0.5505196511396847,
          -0.5499465002833558,
          -0.43369664251298706,
          -0.5223283115574067,
          0.025827998236795345,
          -0.6364273822861154,
          -0.5500804939365566,
          -0.2938769170330801,
          -0.1812116863634859,
          -0.3939501250037383,
          -0.4062392496679755,
          -0.26074565041081,
          -0.6364163830653604,
          -0.2608568805766311,
          -0.5499166419100742,
          -0.6364181751270096,
          -0.233147017696283,
          -0.5499227650045695,
          -0.5223255813389986,
          -0.5008874781985161,
          -0.7106323842791017,
          -0.1733130864399592,
          -0.260785006173732,
          -0.6364287120516947,
          -0.3940504588510477,
          -0.6234666491450979,
          -0.4132483147351987,
          -0.39393124852230677,
          -0.5294817031576413,
          -0.39393060602171176,
          -0.6690851462897157,
          -0.5499240675019349,
          -0.2607743284623838,
          -0.5223697921603585,
          -0.28582862642328183,
          -0.3939334356339501,
          -0.3122395836117374,
          -0.21956710572467464,
          -0.5223860725539698,
          -0.3939515453498516,
          -0.39398969067812384,
          -0.6651508905021989,
          -0.5223493470270918,
          -0.06675391258250297,
          -0.550449149894399,
          -0.5499225484982908,
          -0.549966154011279,
          -0.34725633644259457,
          -0.2334729388113385,
          -0.5223364294852485,
          -0.5499426483694737,
          -0.3939299284106934,
          -0.5223255612068881,
          -0.5499193076129736,
          -0.5499168283371277,
          -0.2608018943644442,
          -0.19992113047433568,
          -0.7285633150311708,
          -0.21959416864763406,
          -0.5499293015142416,
          -0.522588492004259,
          -0.21962005986769137,
          -0.34723441702097746,
          -0.6093518351199537,
          -0.21959602620048724,
          -0.7199346095732491,
          -0.31852795487238333,
          -0.5223354072670496,
          -0.6729143337736994,
          -0.5223269137289431,
          -0.2195821332644317,
          -0.5499268961333633,
          -0.5499214810241018,
          -0.21956710572467464,
          -0.5223337396984079,
          -0.3939344909704777,
          -0.549927554757358,
          -0.1508008290899433,
          -0.5499234059448032,
          -0.5499893332314383,
          -0.5223258351961287,
          -0.5499346328296557,
          -0.27753493313851274,
          -0.5499188116182171,
          -0.5499177231504604,
          -0.1590586395685624,
          -0.366769014775242,
          -0.5499785197058483,
          -0.3939306908867409,
          -0.52232820987817,
          -0.5499228507072718,
          -0.5499185085390602,
          -0.2607418978166013,
          -0.2668915350555758,
          -0.3472404404233207,
          -0.5504169802039558,
          -0.26075280053654654,
          -0.5223407804827654,
          -0.8925101607417686,
          -0.522380333467929,
          -0.21961266766173934,
          -0.5223440815541021,
          -0.21975801591890373,
          -0.522426025949754,
          -0.5499204307571466,
          -0.5499195469101392,
          -0.5500222452616381,
          -0.11273494724548577,
          -0.5223360044868166,
          -0.2610634441017979,
          -0.21956476530171545,
          -0.5499356259664531,
          -0.6490547854784045,
          -0.10477161059287027,
          -0.06678521349856542,
          -0.8973429230967884,
          -0.6651111018008221,
          -0.6651459706663271,
          -0.7624472154634921,
          -0.6364258915277299,
          -0.5587874777414616,
          -0.6364249711775962,
          -0.3293400407933468,
          -0.7624632210631713,
          -0.5223309551710218,
          -0.2607441298890504,
          -0.21956519580269654,
          -0.5499288930450107,
          -0.5499181660676582,
          -0.14208891766348683,
          -0.1543648589406852,
          -0.5223307132969126,
          -0.334489528465299,
          -0.549918180231757,
          -0.07506966770868194,
          -0.5717039179675725,
          -0.3939744199617188,
          -0.6654569618136614,
          -0.5121126735989002,
          -0.5499191368908022,
          -0.448267369916328,
          -0.21687412825622843,
          -0.5499240916554535,
          -0.10925458164450233,
          -0.5223553313152931,
          -0.3186387432581878,
          -0.6795037068228934,
          -0.6365090530084284,
          -0.5499821475895276,
          -0.3759354159430149,
          -0.1590617120682305,
          -0.5571550520099863,
          -0.549935285144431,
          -0.5223481235685797,
          -0.15907639577386753,
          -0.5502448632744583,
          -0.5499174752572042,
          -0.2331478019545821,
          -0.06674584607230286,
          0.07580949874555984,
          -0.25783356284443065,
          -0.5500333992688056,
          -0.347408905639687,
          -0.5450094530969481,
          -0.5223284893129934,
          -0.419703020879343,
          -0.26075815501375293,
          -0.00684825642015172,
          -0.6651191390808524,
          -0.5499167141386215,
          -0.5499170590107385,
          -0.2608934716813144,
          -0.0644687933181461,
          -0.21957505386930745,
          -0.5499231439101921,
          -0.38592110883887554,
          -0.44831042862512244,
          -0.21956994018827905,
          -0.06746253987165558,
          -0.5510134625150412,
          -0.0706910014794652,
          -0.26075295657320086,
          -0.5550254257290929,
          -0.2607425910744959,
          -0.7187354260829141,
          -0.549933495280333,
          -0.33429886935655817,
          -0.43518327464603945,
          -0.15912285934572395,
          -0.10477977750783556,
          -0.21984635070926248,
          -0.356660510037307,
          -0.15905791873897177,
          -0.448236927543131,
          -0.26252436254582573,
          -0.3642496232404654,
          -0.15908958135080917,
          -0.5500241819321684,
          -0.2331572750517402,
          -0.5223424353222937,
          -0.26080503007012235,
          -0.2195830279238852,
          -0.3981229934517722,
          -0.2331562132769485,
          -0.5522424129301357,
          -0.0923837727755881,
          -0.13052332816679882,
          0.01321396506248916,
          -0.2399405923191909,
          -0.44825371296110617,
          -0.5499241240425173,
          -0.4482432747993825,
          -0.1590550770791342,
          -0.5700178557406937,
          -0.23314620624378382,
          -0.5499330794909645,
          -0.4198280560710771,
          -0.7195956306803153,
          -0.5223755874236018,
          -0.5223375529930067,
          -0.3189728921566864,
          -0.5596754825998006,
          -0.5224207839038536,
          -0.5499386562639297,
          -0.5499299389178567,
          -0.1047502800640652,
          -0.5499198658851031,
          -0.5225503065077898,
          -0.551416233896957,
          -0.4010325836404439,
          -0.522626160768197,
          -0.5499413479403542,
          -0.5501181341249212,
          -0.5224265538283882,
          -0.5499739435425576,
          -0.21955955036887256,
          -0.2601929240669238,
          -0.3939680880436743,
          -0.318536319893237,
          -0.2657451273742555,
          -0.5500473830515229,
          -0.33438182384105697,
          -0.6364143808173987,
          -0.31887502027132575,
          -0.318915239303278,
          -0.10524723771354967,
          -0.2195616686710758,
          -0.47075500485855976,
          -0.20438288133977264,
          -0.5499484553619481,
          -0.26073507104061855
         ]
        },
        {
         "customdata": [
          [
           "SHA-256",
           17927175,
           "21000000"
          ],
          [
           "Ethash",
           107684222.6865,
           "0"
          ],
          [
           "Scrypt",
           63039243.30000489,
           "84000000"
          ],
          [
           "CryptoNight-V7",
           17201143.1449131,
           "0"
          ],
          [
           "Ethash",
           113359703,
           "210000000"
          ],
          [
           "Equihash",
           7383056.25,
           "21000000"
          ],
          [
           "Multiple",
           11406219141,
           "21000000000"
          ],
          [
           "Scrypt",
           5768310,
           "21000000"
          ],
          [
           "X11",
           11149733.9976203,
           "20000000"
          ],
          [
           "Scrypt",
           12205795.444954902,
           "64000000"
          ],
          [
           "Multiple",
           1688254250,
           "2000000000"
          ],
          [
           "Scrypt",
           88,
           "384000000000"
          ],
          [
           "SHA-256",
           170204389.754849,
           "169795588"
          ],
          [
           "Scrypt",
           128940951.183046,
           "250000000"
          ],
          [
           "Scrypt",
           7357794.7925,
           "100000000"
          ],
          [
           "Quark",
           259557164.91477,
           "247000000"
          ],
          [
           "Groestl",
           49548585.14129171,
           "84000000"
          ],
          [
           "Scrypt",
           33442988.3440364,
           "48166000"
          ],
          [
           "Scrypt",
           7219956.64626131,
           "21000000 "
          ],
          [
           "Scrypt",
           4703879.51824446,
           "13140000"
          ],
          [
           "X11",
           4996986.20575291,
           "18000000"
          ],
          [
           "Multiple",
           15929530669.1206,
           "16555000000"
          ],
          [
           "SHA-256",
           18773857500,
           "21000000000"
          ],
          [
           "Scrypt",
           12539015186.821999,
           "13500000000"
          ],
          [
           "Scrypt",
           20910478.806249898,
           "21000000 "
          ],
          [
           "Scrypt",
           218871896.499999,
           "299792458"
          ],
          [
           "Scrypt",
           19496786.31025,
           "32000000"
          ],
          [
           "Scrypt",
           1142732.14912776,
           "11235813"
          ],
          [
           "NeoScrypt",
           208669093.00773,
           "336000000"
          ],
          [
           "Scrypt",
           884125802,
           "1420609614"
          ],
          [
           "Scrypt",
           65672720.470874794,
           "70000000"
          ],
          [
           "Scrypt",
           41658647.9999715,
           "72245700"
          ],
          [
           "Scrypt",
           90595753018.6314,
           "90600000000"
          ],
          [
           "SHA-256",
           21089348.999,
           "21000000"
          ],
          [
           "Scrypt",
           151447649.8,
           "265420800"
          ],
          [
           "Scrypt",
           19326319.14375,
           "20000000"
          ],
          [
           "Scrypt",
           1104344.22938102,
           "1350000"
          ],
          [
           "Scrypt",
           38151999.993099704,
           "42000000"
          ],
          [
           "HybridScryptHash256",
           40431856.9,
           "200000000"
          ],
          [
           "Scrypt",
           5804204.88794916,
           "10000000"
          ],
          [
           "Scrypt",
           2366066305.76482,
           "15000000000"
          ],
          [
           "SHA-256",
           14736400,
           "21000000"
          ],
          [
           "Scrypt",
           334709223.48313797,
           "337000000"
          ],
          [
           "Scrypt",
           1104157.42169891,
           "21000000"
          ],
          [
           "Scrypt",
           24215181.725,
           "250000000"
          ],
          [
           "Scrypt",
           25593737.1355044,
           "51200000"
          ],
          [
           "SHA-256",
           563336541.299966,
           "888000000"
          ],
          [
           "SHA-256",
           43536800,
           "47011968"
          ],
          [
           "SHA-256",
           22935396,
           "42000000"
          ],
          [
           "SHA-256",
           2278150,
           "80000000"
          ],
          [
           "SHA-256",
           200911.79151896,
           "250000"
          ],
          [
           "X11",
           1207310,
           "0"
          ],
          [
           "Scrypt",
           23150892.167968698,
           "23000000"
          ],
          [
           "Lyra2REv2",
           51173723.81663471,
           "84000000"
          ],
          [
           "Scrypt",
           119606941,
           "265420800"
          ],
          [
           "SHA-256",
           39195739.362088,
           "45000000"
          ],
          [
           "CryptoNight",
           184066828814,
           "184467440735"
          ],
          [
           "CryptoNight",
           6906587610.38292,
           "10000000000"
          ],
          [
           "Scrypt",
           68194674.8711679,
           "105120000"
          ],
          [
           "Scrypt",
           415032420,
           "1680000000"
          ],
          [
           "Scrypt",
           137517654.41397,
           "166386000"
          ],
          [
           "Scrypt",
           181919.2435974,
           "2628000"
          ],
          [
           "Scrypt",
           152270664.860648,
           "160000000"
          ],
          [
           "Scrypt",
           792537250,
           "1000000000"
          ],
          [
           "Stanford Folding",
           719416990,
           "1000000000"
          ],
          [
           "Multiple",
           65113302,
           "0"
          ],
          [
           "QuBit",
           6365285,
           "0"
          ],
          [
           "Scrypt",
           10140044.443029301,
           "3371337"
          ],
          [
           "Scrypt",
           4610340640.89,
           "10000000000"
          ],
          [
           "M7 POW",
           708506520,
           "1840000000"
          ],
          [
           "Scrypt",
           619478,
           "619478"
          ],
          [
           "SHA-256",
           12462620,
           "21000000"
          ],
          [
           "Scrypt",
           88213,
           "92000000000"
          ],
          [
           "X11",
           32221574.820996,
           "33000000"
          ],
          [
           "Lyra2RE",
           13742738,
           "65789100"
          ],
          [
           "SHA-256",
           14747200.0002,
           "53760000"
          ],
          [
           "X11",
           15863837.5,
           "21000000"
          ],
          [
           "Scrypt",
           32565300,
           "210240000"
          ],
          [
           "Scrypt",
           75614500,
           "250000000"
          ],
          [
           "Ethash",
           10495278,
           "16906397"
          ],
          [
           "Blake2b",
           33098296530,
           "0"
          ],
          [
           "X11",
           15867695,
           "16000000"
          ],
          [
           "SHA-256",
           20997476.865023103,
           "21000000"
          ],
          [
           "Scrypt",
           210000000,
           "210000000"
          ],
          [
           "1GB AES Pattern Search",
           11448949,
           "81962100"
          ],
          [
           "Scrypt",
           69836100,
           "84000000"
          ],
          [
           "SHA-256",
           21739971929,
           "21626280000 "
          ],
          [
           "X11",
           45110324,
           "84000000"
          ],
          [
           "Dagger",
           5702048,
           "30000000"
          ],
          [
           "Scrypt",
           636462.55983338,
           "168351300"
          ],
          [
           "X11GOST",
           17263355,
           "24000000"
          ],
          [
           "Scrypt",
           6570807.65677618,
           "20000000"
          ],
          [
           "X11",
           13654082.4987998,
           "25000000"
          ],
          [
           "Scrypt",
           616448,
           "616448"
          ],
          [
           "X11",
           1377917,
           "25000000"
          ],
          [
           "Equihash",
           115898131,
           "200000000"
          ],
          [
           "CryptoNight",
           7822432.72439746,
           "10000000"
          ],
          [
           "SHA-256",
           6243840,
           "9736000"
          ],
          [
           "Multiple",
           1000000000,
           "1200000000"
          ],
          [
           "Scrypt",
           116845228,
           "200000000"
          ],
          [
           "SHA-256",
           9106714,
           "10638298"
          ],
          [
           "Scrypt",
           11119200,
           "30000000"
          ],
          [
           "Lyra2Z",
           7568281.24956067,
           "21400000"
          ],
          [
           "Ethash",
           26205539,
           "26205539"
          ],
          [
           "Equihash",
           5613550,
           "21000000"
          ],
          [
           "Scrypt",
           196297971,
           "10000000000"
          ],
          [
           "X11",
           824000000,
           "500000000"
          ],
          [
           "X11",
           61364813,
           "228000000"
          ],
          [
           "CryptoNight",
           978145,
           "21000000"
          ],
          [
           "Scrypt",
           894026,
           "2714286"
          ],
          [
           "CryptoNight",
           9357088,
           "25000000"
          ],
          [
           "Lyra2RE",
           1876146.4435959999,
           "9999999"
          ],
          [
           "X11",
           536982074,
           "100000000000"
          ],
          [
           "CryptoNight-V7",
           10969318.522954,
           "185000000"
          ],
          [
           "Scrypt",
           3115258,
           "3360000"
          ],
          [
           "X11",
           30385540,
           "1000000000"
          ],
          [
           "Equihash",
           6921653.89980891,
           "17000000"
          ],
          [
           "Scrypt",
           99843408.3158479,
           "100000000 "
          ],
          [
           "Lyra2RE",
           18545757.5,
           "21000000"
          ],
          [
           "Dagger-Hashimoto",
           2232901,
           "2232901"
          ],
          [
           "Scrypt",
           64096052,
           "4000000000"
          ],
          [
           "NIST5",
           10123200,
           "48252000"
          ],
          [
           "Scrypt",
           20276099.146523997,
           "35520400"
          ],
          [
           "SHA-256",
           1317747500,
           "2500000000"
          ],
          [
           "Scrypt",
           13673406.4325268,
           "72000000"
          ],
          [
           "CryptoNight-V7",
           69036016.8340164,
           "105000000"
          ],
          [
           "Argon2d",
           19784224.6512734,
           "0"
          ],
          [
           "Blake2b",
           133248297,
           "340282367"
          ],
          [
           "Cloverhash",
           18407259.0885883,
           "30000000"
          ],
          [
           "CryptoNight",
           1809467143,
           "2000000000"
          ],
          [
           "X11",
           35138975,
           "100000000"
          ],
          [
           "Scrypt",
           18133195,
           "19276800"
          ],
          [
           "Scrypt",
           5167775,
           " 75000000"
          ],
          [
           "X11",
           26042364.373555303,
           "60000000"
          ],
          [
           "X11",
           2622886,
           "18900000"
          ],
          [
           "CryptoNight",
           14161803,
           "54000000"
          ],
          [
           "Time Travel",
           17801865.1605478,
           "21000000"
          ],
          [
           "Scrypt",
           163055097500,
           "200000000000"
          ],
          [
           "Keccak",
           2241009149.22257,
           "5000000000"
          ],
          [
           "X11",
           122475638.389743,
           "1100000000"
          ],
          [
           "SHA-256",
           17995589.6469082,
           "21000000"
          ],
          [
           "Scrypt",
           485214,
           "10500000000"
          ],
          [
           "Scrypt",
           143006669741.68698,
           "0"
          ],
          [
           "Scrypt",
           9704042,
           "20000000"
          ],
          [
           "Scrypt",
           17453749.4042601,
           "84000000"
          ],
          [
           "Scrypt",
           32646731.063036,
           "100000000"
          ],
          [
           "Scrypt",
           33716526,
           "100000000"
          ],
          [
           "CryptoNight",
           8946653,
           "88888888"
          ],
          [
           "Equihash",
           5211553258.01514,
           "21000000000"
          ],
          [
           "X11",
           2702855668.85288,
           "1800000000"
          ],
          [
           "NeoScrypt",
           4165967.57499639,
           "27000000"
          ],
          [
           "Equihash",
           17202361.088994,
           "21000000"
          ],
          [
           "Dagger",
           33986980,
           "156306732.71"
          ],
          [
           "Scrypt",
           99990001.493466,
           "100000000"
          ],
          [
           "X11",
           175215859,
           "350000000"
          ],
          [
           "NeoScrypt",
           6375259.04,
           "45000000"
          ],
          [
           "Ethash",
           12756367,
           "280000000"
          ],
          [
           "NeoScrypt",
           5832306.875,
           "31800000"
          ],
          [
           "Multiple",
           481730566.566176,
           "660000000"
          ],
          [
           "CryptoNight",
           19281821413.4924,
           "85000000000"
          ],
          [
           "CryptoNight",
           4500000,
           "12500000"
          ],
          [
           "Ethash",
           520891780,
           "10000000000"
          ],
          [
           "X11",
           80316207,
           "550000000"
          ],
          [
           "CryptoNight-V7",
           441250233.377,
           "999481516"
          ],
          [
           "Scrypt",
           3964201248.87125,
           "4999999999"
          ],
          [
           "BLAKE256",
           30089671530.5228,
           " 90000000000"
          ],
          [
           "X11",
           4229040.50393462,
           "19800000"
          ],
          [
           "NeoScrypt",
           7847417.33355824,
           "21000000"
          ],
          [
           "NeoScrypt",
           299797953,
           "500000000"
          ],
          [
           "Scrypt",
           45483049.3398182,
           "64000000"
          ],
          [
           "X11",
           8478104.33969947,
           "23000000"
          ],
          [
           "SHA-256",
           20166000,
           "20166000"
          ],
          [
           "C11",
           11916588.09471,
           "23000000"
          ],
          [
           "CryptoNight",
           53139835213.77,
           "1000000000000"
          ],
          [
           "SkunkHash",
           4818338.98949984,
           "16600000"
          ],
          [
           "CryptoNight",
           133932467.77410801,
           "336000000"
          ],
          [
           "Scrypt",
           10000000000,
           "10000000000"
          ],
          [
           "Dagger",
           107325266.02778299,
           "100000000"
          ],
          [
           "Lyra2REv2",
           643795911.540095,
           "1100000000"
          ],
          [
           "Scrypt",
           12446100.00278,
           "40000000"
          ],
          [
           "Scrypt",
           14491014421,
           "18406979840"
          ],
          [
           "X11",
           211297638.500483,
           "500000000"
          ],
          [
           "Ethash",
           247612453,
           "6500000000"
          ],
          [
           "CryptoNight",
           80049082.9057215,
           "1000000000"
          ],
          [
           "Scrypt",
           4070212.1493015997,
           "21000000"
          ],
          [
           "IMesh",
           25000000,
           "25000000"
          ],
          [
           "Equihash",
           71355477,
           "70000000"
          ],
          [
           "Lyra2Z",
           27340501.6514783,
           "300000000"
          ],
          [
           "X11",
           31801461.1867843,
           "100000000"
          ],
          [
           "CryptoNight",
           16016864,
           "18400000"
          ],
          [
           "NIST5",
           21069346.252259802,
           "21000000"
          ],
          [
           "Lyra2RE",
           5097689.71077377,
           "26280000"
          ],
          [
           "Tribus",
           795447,
           "18000000"
          ],
          [
           "Lyra2Z",
           6986399.70430446,
           "10500000"
          ],
          [
           "CryptoNight",
           84300,
           "600000518"
          ],
          [
           "CryptoNight Heavy",
           19153632,
           "150000000"
          ],
          [
           "CryptoNight",
           41294520017,
           "184000000000"
          ],
          [
           "Jump Consistent Hash",
           135862416.039898,
           "168000000"
          ],
          [
           "CryptoNight",
           560085952.404637,
           "1000000000"
          ],
          [
           "X16R",
           8125865.02097646,
           "22075700"
          ],
          [
           "HMQ1725",
           8645406.16776286,
           "21000000"
          ],
          [
           "X11",
           4993030.69736615,
           "21000000"
          ],
          [
           "Scrypt",
           1416663.06600024,
           "22105263"
          ],
          [
           "CryptoNight-V7",
           15580199.3087496,
           "1750000000"
          ],
          [
           "Cryptonight-GPU",
           4890897,
           "88188888"
          ],
          [
           "XEVAN",
           14746153.0962884,
           "210000000"
          ],
          [
           "CryptoNight Heavy",
           99553110528.8022,
           "184470000000"
          ],
          [
           "SHA-256",
           2100000000,
           "2100000000"
          ],
          [
           "X11",
           5015881.37315389,
           "25000000"
          ],
          [
           "X16R",
           9753753.61515394,
           "100000000"
          ],
          [
           "Equihash",
           4235111504,
           "7600000000"
          ],
          [
           "Lyra2Z",
           13634850,
           "84000000"
          ],
          [
           "SHA-256",
           17992514.6469233,
           "21000000"
          ],
          [
           "CryptoNight",
           1867054873.2839699,
           "8080000000"
          ],
          [
           "Blake",
           1578281.31341127,
           "105120001.44"
          ],
          [
           "Blake",
           15846721.248274697,
           "25228800"
          ],
          [
           "Equihash",
           13475920,
           "105000000"
          ],
          [
           "Exosis",
           406091.925,
           "21000000"
          ],
          [
           "Scrypt",
           35284717.173946,
           "120000000"
          ],
          [
           "Equihash",
           35687520,
           "262800000"
          ],
          [
           "Equihash",
           25150787.5,
           "30886000"
          ],
          [
           "QuBit",
           12925790.4226959,
           "100000000"
          ],
          [
           "SHA-256",
           52293836.62779579,
           "64000000"
          ],
          [
           "X13",
           1170292.5,
           "2100000"
          ],
          [
           "SHA-256",
           84613099.9999955,
           "168000000"
          ],
          [
           "Scrypt",
           55565076.3863525,
           "98100000000"
          ],
          [
           "NeoScrypt",
           3824685012,
           "4000000000"
          ],
          [
           "Blake",
           23356790.1494191,
           "7000000000"
          ],
          [
           "Scrypt",
           780210700,
           "1000000000"
          ],
          [
           "SHA-256",
           22986929.0854247,
           "42000000"
          ],
          [
           "Scrypt",
           29583989322.9213,
           "50000000000"
          ],
          [
           "Groestl",
           73298203.8873662,
           "105000000"
          ],
          [
           "Scrypt",
           5052555.91981545,
           "5000000"
          ],
          [
           "Scrypt",
           69684455.4387001,
           "182000000"
          ],
          [
           "Multiple",
           3332922.5,
           "2800000"
          ],
          [
           "Equihash+Scrypt",
           100000000,
           "2100000000"
          ],
          [
           "Ethash",
           24487944.095820397,
           "24487944"
          ],
          [
           "CryptoNight",
           980222595,
           "1400222610"
          ],
          [
           "Equihash",
           7296537.5,
           "21000000"
          ]
         ],
         "hovertemplate": "<b>%{hovertext}</b><br><br>Class=%{marker.color}<br>PC 1=%{x}<br>PC 2=%{y}<br>PC 3=%{z}<br>Algorithm=%{customdata[0]}<br>TotalCoinsMined=%{customdata[1]}<br>TotalCoinSupply=%{customdata[2]}<extra></extra>",
         "hovertext": [
          "Bitcoin",
          "Ethereum",
          "Litecoin",
          "Monero",
          "Ethereum Classic",
          "ZCash",
          "DigiByte",
          "ProsperCoin",
          "Spreadcoin",
          "Argentum",
          "MyriadCoin",
          "MoonCoin",
          "ZetaCoin",
          "SexCoin",
          "Quatloo",
          "QuarkCoin",
          "Riecoin",
          "Digitalcoin ",
          "Catcoin",
          "CannaCoin",
          "CryptCoin",
          "Verge",
          "DevCoin",
          "EarthCoin",
          "E-Gulden",
          "Einsteinium",
          "Emerald",
          "Franko",
          "FeatherCoin",
          "GrandCoin",
          "GlobalCoin",
          "GoldCoin",
          "Infinite Coin",
          "IXcoin",
          "KrugerCoin",
          "LuckyCoin",
          "Litebar ",
          "MegaCoin",
          "MediterraneanCoin",
          "MinCoin",
          "NobleCoin",
          "Namecoin",
          "NyanCoin",
          "RonPaulCoin",
          "StableCoin",
          "SmartCoin",
          "SysCoin",
          "TigerCoin",
          "TerraCoin",
          "UnbreakableCoin",
          "Unobtanium",
          "UroCoin",
          "ViaCoin",
          "Vertcoin",
          "WorldCoin",
          "JouleCoin",
          "ByteCoin",
          "DigitalNote ",
          "MonaCoin",
          "Gulden",
          "PesetaCoin",
          "Wild Beast Coin",
          "Flo",
          "ArtByte",
          "Folding Coin",
          "Unitus",
          "CypherPunkCoin",
          "OmniCron",
          "GreenCoin",
          "Cryptonite",
          "MasterCoin",
          "SoonCoin",
          "1Credit",
          "MarsCoin ",
          "Crypto",
          "Anarchists Prime",
          "BowsCoin",
          "Song Coin",
          "BitZeny",
          "Expanse",
          "Siacoin",
          "MindCoin",
          "I0coin",
          "Revolution VR",
          "HOdlcoin",
          "Gamecredits",
          "CarpeDiemCoin",
          "Adzcoin",
          "SoilCoin",
          "YoCoin",
          "SibCoin",
          "Francs",
          "BolivarCoin",
          "Omni",
          "PizzaCoin",
          "Komodo",
          "Karbo",
          "ZayedCoin",
          "Circuits of Value",
          "DopeCoin",
          "DollarCoin",
          "Shilling",
          "ZCoin",
          "Elementrem",
          "ZClassic",
          "KiloCoin",
          "ArtexCoin",
          "Kurrent",
          "Cannabis Industry Coin",
          "OsmiumCoin",
          "Bikercoins",
          "HexxCoin",
          "PacCoin",
          "Citadel",
          "BeaverCoin",
          "VaultCoin",
          "Zero",
          "Canada eCoin",
          "Zoin",
          "DubaiCoin",
          "EB3coin",
          "Coinonat",
          "BenjiRolls",
          "ILCoin",
          "EquiTrader",
          "Quantum Resistant Ledger",
          "Dynamic",
          "Nano",
          "ChanCoin",
          "Dinastycoin",
          "DigitalPrice",
          "Unify",
          "SocialCoin",
          "ArcticCoin",
          "DAS",
          "LeviarCoin",
          "Bitcore",
          "gCn Coin",
          "SmartCash",
          "Onix",
          "Bitcoin Cash",
          "Sojourn Coin",
          "NewYorkCoin",
          "FrazCoin",
          "Kronecoin",
          "AdCoin",
          "Linx",
          "Sumokoin",
          "BitcoinZ",
          "Elements",
          "VIVO Coin",
          "Bitcoin Gold",
          "Pirl",
          "eBoost",
          "Pura",
          "Innova",
          "Ellaism",
          "GoByte",
          "SHIELD",
          "UltraNote",
          "BitCoal",
          "DaxxCoin",
          "AC3",
          "Lethean",
          "PopularCoin",
          "Photon",
          "Sucre",
          "SparksPay",
          "GunCoin",
          "IrishCoin",
          "Pioneer Coin",
          "UnitedBitcoin",
          "Interzone",
          "TurtleCoin",
          "MUNcoin",
          "Niobio Cash",
          "ShareChain",
          "Travelflex",
          "KREDS",
          "BitFlip",
          "LottoCoin",
          "Crypto Improvement Fund",
          "Callisto Network",
          "BitTube",
          "Poseidon",
          "Aidos Kuneen",
          "Bitrolium",
          "Alpenschillling",
          "FuturoCoin",
          "Monero Classic",
          "Jumpcoin",
          "Infinex",
          "KEYCO",
          "GINcoin",
          "PlatinCoin",
          "Loki",
          "Newton Coin",
          "MassGrid",
          "PluraCoin",
          "Motion",
          "PlusOneCoin",
          "Axe",
          "HexCoin",
          "Webchain",
          "Ryo",
          "Urals Coin",
          "Qwertycoin",
          "Project Pai",
          "Azart",
          "Xchange",
          "CrypticCoin",
          "Actinium",
          "Bitcoin SV",
          "FREDEnergy",
          "Universal Molecule",
          "Lithium",
          "PirateCash",
          "Exosis",
          "Block-Logic",
          "Beam",
          "Bithereum",
          "SLICE",
          "BLAST",
          "Bitcoin Rhodium",
          "GlobalToken",
          "SolarCoin",
          "UFO Coin",
          "BlakeCoin",
          "Crypto Escudo",
          "Crown Coin",
          "SmileyCoin",
          "Groestlcoin",
          "Bata",
          "Pakcoin",
          "JoinCoin",
          "Vollar",
          "Reality Clash",
          "Beldex",
          "Horizen"
         ],
         "legendgroup": "1",
         "marker": {
          "color": [
           1,
           1,
           1,
           1,
           1,
           1,
           1,
           1,
           1,
           1,
           1,
           1,
           1,
           1,
           1,
           1,
           1,
           1,
           1,
           1,
           1,
           1,
           1,
           1,
           1,
           1,
           1,
           1,
           1,
           1,
           1,
           1,
           1,
           1,
           1,
           1,
           1,
           1,
           1,
           1,
           1,
           1,
           1,
           1,
           1,
           1,
           1,
           1,
           1,
           1,
           1,
           1,
           1,
           1,
           1,
           1,
           1,
           1,
           1,
           1,
           1,
           1,
           1,
           1,
           1,
           1,
           1,
           1,
           1,
           1,
           1,
           1,
           1,
           1,
           1,
           1,
           1,
           1,
           1,
           1,
           1,
           1,
           1,
           1,
           1,
           1,
           1,
           1,
           1,
           1,
           1,
           1,
           1,
           1,
           1,
           1,
           1,
           1,
           1,
           1,
           1,
           1,
           1,
           1,
           1,
           1,
           1,
           1,
           1,
           1,
           1,
           1,
           1,
           1,
           1,
           1,
           1,
           1,
           1,
           1,
           1,
           1,
           1,
           1,
           1,
           1,
           1,
           1,
           1,
           1,
           1,
           1,
           1,
           1,
           1,
           1,
           1,
           1,
           1,
           1,
           1,
           1,
           1,
           1,
           1,
           1,
           1,
           1,
           1,
           1,
           1,
           1,
           1,
           1,
           1,
           1,
           1,
           1,
           1,
           1,
           1,
           1,
           1,
           1,
           1,
           1,
           1,
           1,
           1,
           1,
           1,
           1,
           1,
           1,
           1,
           1,
           1,
           1,
           1,
           1,
           1,
           1,
           1,
           1,
           1,
           1,
           1,
           1,
           1,
           1,
           1,
           1,
           1,
           1,
           1,
           1,
           1,
           1,
           1,
           1,
           1,
           1,
           1,
           1,
           1,
           1,
           1,
           1,
           1,
           1,
           1,
           1,
           1,
           1,
           1,
           1,
           1,
           1,
           1,
           1,
           1,
           1,
           1,
           1,
           1,
           1,
           1,
           1,
           1,
           1,
           1,
           1,
           1,
           1,
           1,
           1,
           1,
           1,
           1
          ],
          "coloraxis": "coloraxis",
          "symbol": "diamond"
         },
         "mode": "markers",
         "name": "1",
         "scene": "scene",
         "showlegend": true,
         "type": "scatter3d",
         "x": [
          -0.14465638323133287,
          -0.1510715689825585,
          -0.16034488958471918,
          -0.14920657083989136,
          -0.14951279566286488,
          -0.18717549543134987,
          0.16703451645449882,
          -0.16149112637748483,
          -0.22902013206414967,
          -0.16110752578666382,
          -0.08640313461622628,
          2.5618805413788928,
          -0.14174140035519484,
          -0.1583627064602625,
          -0.16091139333216792,
          -0.21961463971903297,
          -0.19941769814998778,
          -0.16096048090870974,
          -0.1614733987419652,
          -0.16155987379984474,
          -0.22910945532717722,
          0.19074660654276143,
          0.23319011410037846,
          0.08716827985735211,
          -0.16130620889066732,
          -0.15691129968631454,
          -0.16124545349132874,
          -0.1616168686409262,
          -0.17129360430394422,
          -0.14083755786279323,
          -0.16041202692229464,
          -0.16068936082805732,
          1.5872499904945985,
          -0.14461776648651525,
          -0.15797847781524624,
          -0.16133264747174697,
          -0.16168745439554622,
          -0.1609467075434973,
          -0.1592851828987889,
          -0.16156870756144415,
          -0.02642563203996715,
          -0.1446953492540703,
          -0.1552327827642525,
          -0.1615480854157803,
          -0.15964162669559973,
          -0.16103481744300213,
          -0.1318464385243452,
          -0.14415914155970302,
          -0.14444627601356255,
          -0.1444290220727334,
          -0.1450200311191108,
          -0.22928340351445964,
          -0.16126466339710402,
          -0.17113537202003612,
          -0.15836731932963682,
          -0.14422642522636725,
          3.8705077708827087,
          0.4695688384805635,
          -0.16013213349640512,
          -0.14472639286755964,
          -0.15885101477908659,
          -0.16168965467848265,
          -0.15871614361479444,
          -0.14493929676992404,
          -0.11500186242307525,
          -0.12041044359805984,
          -0.18596501674360105,
          -0.16156277292934726,
          -0.034481783227230355,
          -0.12251867362066328,
          -0.16169855698671282,
          -0.14472311685384787,
          0.49081758527110764,
          -0.22867059599966885,
          -0.15061358743480993,
          -0.14446286100154576,
          -0.2289554703357685,
          -0.15982165947984114,
          -0.15901393373555164,
          -0.1521385371069803,
          0.3799383680420432,
          -0.22899088665285236,
          -0.14461888843703252,
          -0.15765651368431485,
          -0.15916457486462315,
          -0.1602618857775852,
          0.273854569128417,
          -0.22815147053283238,
          -0.14118478674220616,
          -0.16050868058479967,
          -0.13348023886002325,
          -0.16148841889111382,
          -0.22895408531650516,
          -0.16169861548017295,
          -0.22910400292083505,
          -0.43787480420268954,
          0.31446459255128517,
          -0.14487895314219346,
          -0.10048230361025194,
          -0.1588650547393923,
          -0.14483759175955357,
          -0.1613619466764895,
          -0.13669613613554119,
          -0.15188072614335119,
          -0.187197104796088,
          -0.088386457495828,
          -0.21568904486352153,
          -0.22693162264867925,
          0.31445902904780304,
          -0.16168034636921116,
          0.3145897241710616,
          -0.15115419780859043,
          0.4865280288686147,
          -0.14797052769319263,
          -0.16164864064416581,
          -0.2218343913813948,
          -0.18720950085728252,
          -0.15978195094922154,
          -0.15087260752116838,
          -0.14873524894895324,
          -0.13255702911972897,
          -0.19763159596678875,
          -0.16121096736654447,
          -0.11120009777642394,
          -0.1610328617128781,
          -0.14782882690969595,
          -0.1416026217861067,
          -0.020220161963513828,
          -0.16200550490794424,
          0.350580878204433,
          -0.22815975855627935,
          -0.16135234743772878,
          -0.1611154551710352,
          -0.22855455456073426,
          -0.2291320646295238,
          0.3148540876361381,
          -0.14542993785896627,
          3.248069571949643,
          -0.11479898168968199,
          -0.22000051055956246,
          -0.14465554774569467,
          -0.08723139745051989,
          1.5846994142500184,
          -0.16145015555989795,
          -0.16090158361411683,
          -0.16060256263563627,
          -0.1605894982065123,
          0.31503785566330067,
          0.025175724704196586,
          -0.18352380492560522,
          -0.17598265399535895,
          -0.1870555812237914,
          -0.13994351481057501,
          -0.15978016074054427,
          -0.22467595616477182,
          -0.1758280056044402,
          -0.15024488442812756,
          -0.1759282596262149,
          -0.11064150507998625,
          1.1526476517465216,
          0.31444175042553346,
          -0.07509859181363088,
          -0.22441634198782878,
          -0.1369390387476519,
          -0.07783591908448928,
          1.0998332331646408,
          -0.2291060667140255,
          -0.17598025191990468,
          -0.16901753036660713,
          -0.16070114105821706,
          -0.22903148018354125,
          -0.1446349578043907,
          -0.19085278383263887,
          8.055931484373772,
          -0.16148867077860277,
          0.3183168746278191,
          0.031337207185647226,
          -0.13944726718272604,
          -0.15669205014660306,
          -0.16127481560744464,
          0.1458099273561504,
          -0.22317141956857964,
          -0.10326030044961626,
          0.3223683888977299,
          -0.1615118636966191,
          -0.14524327541903326,
          -0.1860467170796432,
          -0.13447865400187026,
          -0.2282005165662087,
          0.3146242422154495,
          -0.19769121052632707,
          -0.15099938712151073,
          -0.13514130945577565,
          -0.13678055239070777,
          0.3185547816480593,
          0.5857303645452483,
          2.1236444671626535,
          -0.13152471925276435,
          0.32823064103764904,
          -0.18720938433223291,
          -0.1434327817136828,
          -0.22908822557706465,
          -0.16153642978723418,
          -0.13681416712376382,
          -0.13374518272687383,
          -0.14384741289633188,
          3.1085714387927723,
          -0.104484236001341,
          -0.22905957578244943,
          -0.18663681189763853,
          -0.08179064676771901,
          -0.13617804858493557,
          -0.14465558529786282,
          0.39440766964802343,
          -0.14445890476951428,
          -0.14485130046536882,
          -0.310929571042323,
          -0.15368581371541096,
          -0.16042849361820818,
          -0.18511482760691056,
          -0.18688839606252794,
          -0.18517563077467608,
          -0.1439317091037751,
          -0.10429199267329897,
          -0.14279938419480828,
          0.5347604523247856,
          -0.10114690436143808,
          -0.09528973148617076,
          -0.14508982967417933,
          -0.14444564668702636,
          0.5542059954452239,
          -0.19897871934750624,
          -0.161613350189445,
          -0.1595686545400733,
          -0.12114505146555532,
          -0.10372704010966305,
          -0.151913883922569,
          0.33620003929899434,
          -0.187176552005875
         ],
         "y": [
          -1.264207537268809,
          -2.059971861458683,
          -1.1191396424560194,
          -2.176656993532248,
          -2.0600687966936904,
          -2.260933201425667,
          -1.8157150361618508,
          -1.1191317832988905,
          -0.9190569605018016,
          -1.1191496172920516,
          -1.8104598728415757,
          -1.3003404216107777,
          -1.264219602171083,
          -1.1191928130478601,
          -1.119168457765765,
          -0.45913356461840965,
          -1.241112731888075,
          -1.1191340345097793,
          -1.1191312289180744,
          -1.1191284805305877,
          -0.9190583663881717,
          -1.8118899193716422,
          -1.266945045371666,
          -1.120706339434147,
          -1.119126000536316,
          -1.1191819665437044,
          -1.119131731515759,
          -1.1191289419060177,
          -1.6016345203023206,
          -1.1194568407748535,
          -1.1191320298906944,
          -1.1191422605999894,
          -1.1272814790439556,
          -1.2642063296411818,
          -1.1191914951331825,
          -1.1191261336060097,
          -1.1191242912774655,
          -1.119129326304369,
          -2.1682733026845256,
          -1.1191265784974713,
          -1.1252992436698546,
          -1.2642087558191075,
          -1.1191552874036754,
          -1.119133564528998,
          -1.1192328076000209,
          -1.1191384639202846,
          -1.2644083991039337,
          -1.264210032511278,
          -1.264215534908602,
          -1.2642413567351571,
          -1.2642045146021166,
          -0.9190513191413774,
          -1.1191260887622771,
          -1.1241608916650077,
          -1.1192036550332287,
          -1.264210740870207,
          -2.2785587561356846,
          -2.263881631304093,
          -1.1191476405065393,
          -1.1197583974354586,
          -1.1191500787074045,
          -1.119125246660288,
          -1.1191414308980108,
          -1.1192933251854884,
          -2.1665825330447084,
          -1.810135911838417,
          -1.5636681290417545,
          -1.1191217944669054,
          -1.1220825721638765,
          -2.2157396097774154,
          -1.1191241317006992,
          -1.2642096241709304,
          -1.1625404584065606,
          -0.919055048138266,
          -2.191804844243132,
          -1.2642242117141032,
          -0.9190556321131081,
          -1.1192108552648667,
          -1.1192131783079522,
          -2.0600169561389783,
          -2.2615951701697288,
          -0.9190532710521021,
          -1.2642063647269575,
          -1.119142980064098,
          -2.3429556537364467,
          -1.1191370467507042,
          -1.2661078450132588,
          -0.9190741937478456,
          -2.0246139157421297,
          -1.1192032808076702,
          -2.068469664753128,
          -1.1191310049091483,
          -0.9190583636841856,
          -1.1191241314279399,
          -0.9190630519260948,
          -2.4810406115140498,
          -2.2618017987922134,
          -1.2642066834305226,
          -1.8103451816455463,
          -1.1191738365008788,
          -1.2642060159152109,
          -1.1191339870633017,
          -2.107621387695785,
          -2.0600153448516516,
          -2.260933877196401,
          -1.1237682858207376,
          -0.9189730551186802,
          -0.9191359423221586,
          -2.2618096037046067,
          -1.1191250154280874,
          -2.2618082914740802,
          -2.1917830482128045,
          -0.9660384645754271,
          -2.176746678202918,
          -1.1191244718680158,
          -0.9195120936033623,
          -2.2609314899639923,
          -1.119133137703536,
          -2.1917818732169407,
          -2.2751651011543004,
          -1.1209872680551978,
          -0.6477947494230651,
          -1.11913309523642,
          -1.2648810222557425,
          -1.1191528321550237,
          -2.1766867492470134,
          -2.1498155044256473,
          -2.274345038319441,
          -2.356811388281397,
          -2.2620528704065053,
          -0.9190855524662295,
          -1.1191262479668378,
          -1.1191574961905661,
          -0.91907014974011,
          -0.9190596977778818,
          -2.261820142172919,
          -2.156193755725828,
          -1.1512371888712172,
          -1.2222332315943818,
          -0.9195241163442304,
          -1.2642075111414033,
          -1.1240790250862667,
          -1.0645101280799005,
          -1.1191298083335104,
          -1.119157051460758,
          -1.1191587999739332,
          -1.1191583914214864,
          -2.2618385985069276,
          -2.2688460983552017,
          -0.9188690169083015,
          -1.6015667970897018,
          -2.260929451453702,
          -2.0246627201517904,
          -1.1191330817199079,
          -0.919150036789154,
          -1.6015744478821206,
          -2.06014025112683,
          -1.6015684259225318,
          -1.810288272171263,
          -2.294549372937818,
          -2.2618042474162343,
          -2.0645332340269094,
          -0.919280662281014,
          -2.1769667229574865,
          -1.1199697436100693,
          -1.208577705219727,
          -0.9190595091166486,
          -1.6015625596463425,
          -1.6016771128624052,
          -1.1191369087784397,
          -0.9190593965442769,
          -1.2642062886869807,
          -1.0781929313100898,
          -2.71342364209314,
          -2.239273943504203,
          -2.2619074827606083,
          -1.120024272535408,
          -2.024608140277553,
          -1.1244140387399193,
          -1.1191381994986371,
          -1.122276564999395,
          -0.9192070448681259,
          -2.06298588734558,
          -2.2622414139769638,
          -1.119132431798906,
          -2.023635802350104,
          -2.260931894452861,
          -2.1077453129603496,
          -0.9190868270557695,
          -2.261802633463623,
          -0.6477777084151873,
          -2.1917895007306356,
          -2.1167571307705573,
          -2.1076164660136505,
          -2.262083185577859,
          -2.2357628372636,
          -2.3328626085426807,
          -2.143930369392095,
          -2.262058088901238,
          -1.258986760380766,
          -2.298754566755789,
          -0.9190597836514732,
          -1.119133966776772,
          -2.1774834683094735,
          -2.2320989392242905,
          -0.7370170768698623,
          -2.284734873393579,
          -1.264393514636498,
          -0.9190616625951153,
          -1.2590229125395818,
          -2.2628953040201947,
          -2.1076486129255683,
          -1.2642075123157395,
          -2.2649001365799015,
          -2.2156762401974497,
          -2.215633089048698,
          -0.3189374508292837,
          -2.235620298438506,
          -1.1191672308838978,
          -2.2610365016778924,
          -2.2609310813433585,
          -1.5637128153551598,
          -1.2642147051680472,
          -0.3108528955103456,
          -1.2642514419359743,
          -1.1653979690669454,
          -1.60198267735663,
          -2.218921738023843,
          -1.1192980326691333,
          -1.2642155152282246,
          -1.1314218906810756,
          -1.2411135722272908,
          -1.1191245059628048,
          -1.1191833525850063,
          -1.810160827005226,
          -1.9733867036654036,
          -2.0600151902342967,
          -2.2620865116771434,
          -2.2609332344669975
         ],
         "z": [
          0.1760638607226717,
          0.3565872674219903,
          0.02005077276027919,
          0.4109423576142544,
          0.3565627690183796,
          0.5223947492465799,
          0.299956594794022,
          0.020080067999657822,
          0.0476691273703609,
          0.020072968247942472,
          0.3058082601578309,
          -0.020613892248148066,
          0.175987951328298,
          0.020007152433226066,
          0.020071067399516217,
          0.12163790421314809,
          0.16375392117031243,
          0.020066259167927335,
          0.020079494697351336,
          0.020081321424436634,
          0.047671769261031845,
          0.29864129839567594,
          0.16643306443244904,
          0.013701702946144102,
          0.02007408786646087,
          0.019966358505684113,
          0.020073480338026237,
          0.020082929653313958,
          0.23550760824931163,
          0.01958483771840971,
          0.020051216512965653,
          0.020060462436620196,
          -0.0252969210027113,
          0.1760626118776832,
          0.019996629426050093,
          0.020074819488035092,
          0.020083992567605187,
          0.020065052933721714,
          0.4127137534613538,
          0.02008121966501994,
          0.017560351774499265,
          0.17606512086313253,
          0.019916667128098756,
          0.020081910024669133,
          0.020048512033592394,
          0.02006903753135215,
          0.17575657138725706,
          0.17605098975819197,
          0.17605965711664498,
          0.17606378788039437,
          0.1760730605993543,
          0.04767517366748393,
          0.020072991083449107,
          0.20573272753613686,
          0.02000920435386534,
          0.17605291742332757,
          0.2776314984598957,
          0.3660888526930376,
          0.02004649829775324,
          0.01974260625621143,
          0.02001262709372728,
          0.020084221413551047,
          0.02000747747571402,
          0.019665587561142738,
          0.6017352289298559,
          0.30666126228847645,
          0.20324939868175532,
          0.020080209844176206,
          0.017203943022648077,
          0.3798098030042519,
          0.020084261481793313,
          0.1760660188525447,
          0.010333863283944226,
          0.047659427604928827,
          0.35872221873224475,
          0.17606164451015244,
          0.04766715963252718,
          0.020049428288064716,
          0.020028212777029854,
          0.3566238586516489,
          0.5625479810464225,
          0.0476676880369923,
          0.1760626481609663,
          0.019979379011177942,
          0.44805861344499615,
          0.02004808846129374,
          0.16519527306591772,
          0.04764893215542249,
          0.36967171122252257,
          0.020066477619040665,
          0.46567978576172214,
          0.020079857052908413,
          0.047667608394058855,
          0.020084262999575043,
          0.047672456649666524,
          0.9932100825978813,
          0.36987219461805193,
          0.17606966867191864,
          0.3061648625331314,
          0.020017228705482525,
          0.17606844239961492,
          0.020077000889531935,
          0.4565563268113637,
          0.3566166685854443,
          0.522395448081945,
          0.01894719152558622,
          0.04729723337703719,
          0.0476272508069315,
          0.3698737318076708,
          0.02008393103444283,
          0.36986999874919774,
          0.3587328180742429,
          0.03686502051543282,
          0.4109252114308431,
          0.020082985361564054,
          0.04755766465549238,
          0.5223953554116545,
          0.020034541833413577,
          0.3587250688630763,
          0.5517850111194844,
          0.01963531584791287,
          -0.09511687252561225,
          0.020072799450483177,
          0.175287781289977,
          0.020071540756133502,
          0.4109107578564916,
          0.38620081265691797,
          0.5755308819169549,
          0.31236903135375627,
          0.3689497554224738,
          0.04765117439496579,
          0.02007536734020087,
          0.020074581948891276,
          0.04765900636464371,
          0.047672611483118944,
          0.36986502762961354,
          0.4397039861649409,
          -0.0655082872561393,
          0.17050330154291288,
          0.047510696732800624,
          0.1760638337035156,
          0.01897153153765702,
          -0.03639339672631344,
          0.020078619637123037,
          0.020068775949178504,
          0.020061079979005893,
          0.02006065748231498,
          0.36986338954221687,
          0.5181159822215319,
          0.04641743112412913,
          0.23562112270644145,
          0.5223908712848695,
          0.36964715389345687,
          0.020034483939016995,
          0.047569357097954214,
          0.23561834244514215,
          0.35659508154533687,
          0.2356199558842485,
          0.30642677614374464,
          0.35325255305059494,
          0.36987324179045156,
          0.35536422253275307,
          0.04758563892941832,
          0.41066895625420546,
          0.017989052325788873,
          0.13533654950670732,
          0.047671881773627675,
          0.23562030469612155,
          0.2354542368734813,
          0.02005982598191273,
          0.047669864526746424,
          0.17606306493010393,
          0.024990530333166273,
          0.24290411735586,
          0.264876186427453,
          0.36978783837800194,
          0.015075391870842152,
          0.3696241579294313,
          0.20539100047552147,
          0.02007541699788461,
          0.012410726066372895,
          0.04753920939637138,
          0.35584309893725735,
          0.36973874424562914,
          0.0200807386335317,
          0.381740908775856,
          0.5223642911707902,
          0.45651899053721995,
          0.04765249248733459,
          0.3698680680926717,
          -0.09511830719439854,
          0.3587298203369984,
          0.522550143302515,
          0.45655771185810246,
          0.3698127191083748,
          0.421020281567881,
          0.334066452222306,
          0.3854050432874532,
          0.36954916212857836,
          0.21335790597356388,
          0.511339076879091,
          0.047671452866440464,
          0.020081669464118646,
          0.41075752300666085,
          0.46260672723895907,
          0.1502760571363961,
          0.3621758335195354,
          0.17502123865941596,
          0.04767101989963478,
          0.2133490042152087,
          0.5199218175319933,
          0.45654729622923873,
          0.1760638349179329,
          0.3682826198147397,
          0.5394221391496499,
          0.5394249713958889,
          0.24156395402420885,
          0.37737405276383,
          0.02005791844113088,
          0.5223579435824872,
          0.5223866844202063,
          0.20323620916721363,
          0.1760457308341439,
          -0.06641436325602998,
          0.176021944408951,
          0.009665441614290815,
          0.23369119519581005,
          0.538682780231989,
          0.019670455715223044,
          0.1760596367645593,
          0.0031016164654416546,
          0.16374231597892935,
          0.02008204644347414,
          0.020037761763477872,
          0.30668536460291873,
          0.2787813769097492,
          0.35661752895964455,
          0.36934081872562285,
          0.5223947834156382
         ]
        },
        {
         "customdata": [
          [
           "VeChainThor Authority",
           55454734800,
           "86712634466"
          ],
          [
           "Proof-of-BibleHash",
           1772091549.88818,
           "5200000000"
          ],
          [
           "SHA-256 + Hive",
           638382332.208514,
           "840000000"
          ],
          [
           "Proof-of-Authority",
           204479039,
           "252460800"
          ],
          [
           "ECC 256K1",
           1000000000,
           "1000000000"
          ],
          [
           "Leased POS",
           100000000,
           "100000000"
          ]
         ],
         "hovertemplate": "<b>%{hovertext}</b><br><br>Class=%{marker.color}<br>PC 1=%{x}<br>PC 2=%{y}<br>PC 3=%{z}<br>Algorithm=%{customdata[0]}<br>TotalCoinsMined=%{customdata[1]}<br>TotalCoinSupply=%{customdata[2]}<extra></extra>",
         "hovertext": [
          "Vechain",
          "BiblePay",
          "LitecoinCash",
          "Poa Network",
          "Acute Angle Cloud",
          "Waves"
         ],
         "legendgroup": "3",
         "marker": {
          "color": [
           3,
           3,
           3,
           3,
           3,
           3
          ],
          "coloraxis": "coloraxis",
          "symbol": "square"
         },
         "mode": "markers",
         "name": "3",
         "scene": "scene",
         "showlegend": true,
         "type": "scatter3d",
         "x": [
          4.392251065173206,
          -0.17586872397485895,
          -0.39503066162978584,
          -0.41232953079556656,
          -0.322728004002281,
          -0.39765330827759354
         ],
         "y": [
          2.360520284599003,
          3.8079485469872525,
          2.6208819529734617,
          2.89014727689007,
          3.8328692062325707,
          3.8788157233499287
         ],
         "z": [
          10.036614772591403,
          14.432520168105878,
          16.805845774047967,
          14.597051181624074,
          8.053603373596976,
          10.997604767117148
         ]
        },
        {
         "customdata": [
          [
           "TRC10",
           989988713439.649,
           "990000000000"
          ]
         ],
         "hovertemplate": "<b>%{hovertext}</b><br><br>Class=%{marker.color}<br>PC 1=%{x}<br>PC 2=%{y}<br>PC 3=%{z}<br>Algorithm=%{customdata[0]}<br>TotalCoinsMined=%{customdata[1]}<br>TotalCoinSupply=%{customdata[2]}<extra></extra>",
         "hovertext": [
          "BitTorrent"
         ],
         "legendgroup": "2",
         "marker": {
          "color": [
           2
          ],
          "coloraxis": "coloraxis",
          "symbol": "x"
         },
         "mode": "markers",
         "name": "2",
         "scene": "scene",
         "showlegend": true,
         "type": "scatter3d",
         "x": [
          34.048974892025996
         ],
         "y": [
          1.7023035818021786
         ],
         "z": [
          -1.302670457129517
         ]
        }
       ],
       "layout": {
        "coloraxis": {
         "colorbar": {
          "title": {
           "text": "Class"
          }
         },
         "colorscale": [
          [
           0,
           "#0d0887"
          ],
          [
           0.1111111111111111,
           "#46039f"
          ],
          [
           0.2222222222222222,
           "#7201a8"
          ],
          [
           0.3333333333333333,
           "#9c179e"
          ],
          [
           0.4444444444444444,
           "#bd3786"
          ],
          [
           0.5555555555555556,
           "#d8576b"
          ],
          [
           0.6666666666666666,
           "#ed7953"
          ],
          [
           0.7777777777777778,
           "#fb9f3a"
          ],
          [
           0.8888888888888888,
           "#fdca26"
          ],
          [
           1,
           "#f0f921"
          ]
         ]
        },
        "legend": {
         "title": {
          "text": "Class"
         },
         "tracegroupgap": 0,
         "x": 0,
         "y": 1
        },
        "margin": {
         "t": 60
        },
        "scene": {
         "domain": {
          "x": [
           0,
           1
          ],
          "y": [
           0,
           1
          ]
         },
         "xaxis": {
          "title": {
           "text": "PC 1"
          }
         },
         "yaxis": {
          "title": {
           "text": "PC 2"
          }
         },
         "zaxis": {
          "title": {
           "text": "PC 3"
          }
         }
        },
        "template": {
         "data": {
          "bar": [
           {
            "error_x": {
             "color": "#2a3f5f"
            },
            "error_y": {
             "color": "#2a3f5f"
            },
            "marker": {
             "line": {
              "color": "#E5ECF6",
              "width": 0.5
             }
            },
            "type": "bar"
           }
          ],
          "barpolar": [
           {
            "marker": {
             "line": {
              "color": "#E5ECF6",
              "width": 0.5
             }
            },
            "type": "barpolar"
           }
          ],
          "carpet": [
           {
            "aaxis": {
             "endlinecolor": "#2a3f5f",
             "gridcolor": "white",
             "linecolor": "white",
             "minorgridcolor": "white",
             "startlinecolor": "#2a3f5f"
            },
            "baxis": {
             "endlinecolor": "#2a3f5f",
             "gridcolor": "white",
             "linecolor": "white",
             "minorgridcolor": "white",
             "startlinecolor": "#2a3f5f"
            },
            "type": "carpet"
           }
          ],
          "choropleth": [
           {
            "colorbar": {
             "outlinewidth": 0,
             "ticks": ""
            },
            "type": "choropleth"
           }
          ],
          "contour": [
           {
            "colorbar": {
             "outlinewidth": 0,
             "ticks": ""
            },
            "colorscale": [
             [
              0,
              "#0d0887"
             ],
             [
              0.1111111111111111,
              "#46039f"
             ],
             [
              0.2222222222222222,
              "#7201a8"
             ],
             [
              0.3333333333333333,
              "#9c179e"
             ],
             [
              0.4444444444444444,
              "#bd3786"
             ],
             [
              0.5555555555555556,
              "#d8576b"
             ],
             [
              0.6666666666666666,
              "#ed7953"
             ],
             [
              0.7777777777777778,
              "#fb9f3a"
             ],
             [
              0.8888888888888888,
              "#fdca26"
             ],
             [
              1,
              "#f0f921"
             ]
            ],
            "type": "contour"
           }
          ],
          "contourcarpet": [
           {
            "colorbar": {
             "outlinewidth": 0,
             "ticks": ""
            },
            "type": "contourcarpet"
           }
          ],
          "heatmap": [
           {
            "colorbar": {
             "outlinewidth": 0,
             "ticks": ""
            },
            "colorscale": [
             [
              0,
              "#0d0887"
             ],
             [
              0.1111111111111111,
              "#46039f"
             ],
             [
              0.2222222222222222,
              "#7201a8"
             ],
             [
              0.3333333333333333,
              "#9c179e"
             ],
             [
              0.4444444444444444,
              "#bd3786"
             ],
             [
              0.5555555555555556,
              "#d8576b"
             ],
             [
              0.6666666666666666,
              "#ed7953"
             ],
             [
              0.7777777777777778,
              "#fb9f3a"
             ],
             [
              0.8888888888888888,
              "#fdca26"
             ],
             [
              1,
              "#f0f921"
             ]
            ],
            "type": "heatmap"
           }
          ],
          "heatmapgl": [
           {
            "colorbar": {
             "outlinewidth": 0,
             "ticks": ""
            },
            "colorscale": [
             [
              0,
              "#0d0887"
             ],
             [
              0.1111111111111111,
              "#46039f"
             ],
             [
              0.2222222222222222,
              "#7201a8"
             ],
             [
              0.3333333333333333,
              "#9c179e"
             ],
             [
              0.4444444444444444,
              "#bd3786"
             ],
             [
              0.5555555555555556,
              "#d8576b"
             ],
             [
              0.6666666666666666,
              "#ed7953"
             ],
             [
              0.7777777777777778,
              "#fb9f3a"
             ],
             [
              0.8888888888888888,
              "#fdca26"
             ],
             [
              1,
              "#f0f921"
             ]
            ],
            "type": "heatmapgl"
           }
          ],
          "histogram": [
           {
            "marker": {
             "colorbar": {
              "outlinewidth": 0,
              "ticks": ""
             }
            },
            "type": "histogram"
           }
          ],
          "histogram2d": [
           {
            "colorbar": {
             "outlinewidth": 0,
             "ticks": ""
            },
            "colorscale": [
             [
              0,
              "#0d0887"
             ],
             [
              0.1111111111111111,
              "#46039f"
             ],
             [
              0.2222222222222222,
              "#7201a8"
             ],
             [
              0.3333333333333333,
              "#9c179e"
             ],
             [
              0.4444444444444444,
              "#bd3786"
             ],
             [
              0.5555555555555556,
              "#d8576b"
             ],
             [
              0.6666666666666666,
              "#ed7953"
             ],
             [
              0.7777777777777778,
              "#fb9f3a"
             ],
             [
              0.8888888888888888,
              "#fdca26"
             ],
             [
              1,
              "#f0f921"
             ]
            ],
            "type": "histogram2d"
           }
          ],
          "histogram2dcontour": [
           {
            "colorbar": {
             "outlinewidth": 0,
             "ticks": ""
            },
            "colorscale": [
             [
              0,
              "#0d0887"
             ],
             [
              0.1111111111111111,
              "#46039f"
             ],
             [
              0.2222222222222222,
              "#7201a8"
             ],
             [
              0.3333333333333333,
              "#9c179e"
             ],
             [
              0.4444444444444444,
              "#bd3786"
             ],
             [
              0.5555555555555556,
              "#d8576b"
             ],
             [
              0.6666666666666666,
              "#ed7953"
             ],
             [
              0.7777777777777778,
              "#fb9f3a"
             ],
             [
              0.8888888888888888,
              "#fdca26"
             ],
             [
              1,
              "#f0f921"
             ]
            ],
            "type": "histogram2dcontour"
           }
          ],
          "mesh3d": [
           {
            "colorbar": {
             "outlinewidth": 0,
             "ticks": ""
            },
            "type": "mesh3d"
           }
          ],
          "parcoords": [
           {
            "line": {
             "colorbar": {
              "outlinewidth": 0,
              "ticks": ""
             }
            },
            "type": "parcoords"
           }
          ],
          "pie": [
           {
            "automargin": true,
            "type": "pie"
           }
          ],
          "scatter": [
           {
            "marker": {
             "colorbar": {
              "outlinewidth": 0,
              "ticks": ""
             }
            },
            "type": "scatter"
           }
          ],
          "scatter3d": [
           {
            "line": {
             "colorbar": {
              "outlinewidth": 0,
              "ticks": ""
             }
            },
            "marker": {
             "colorbar": {
              "outlinewidth": 0,
              "ticks": ""
             }
            },
            "type": "scatter3d"
           }
          ],
          "scattercarpet": [
           {
            "marker": {
             "colorbar": {
              "outlinewidth": 0,
              "ticks": ""
             }
            },
            "type": "scattercarpet"
           }
          ],
          "scattergeo": [
           {
            "marker": {
             "colorbar": {
              "outlinewidth": 0,
              "ticks": ""
             }
            },
            "type": "scattergeo"
           }
          ],
          "scattergl": [
           {
            "marker": {
             "colorbar": {
              "outlinewidth": 0,
              "ticks": ""
             }
            },
            "type": "scattergl"
           }
          ],
          "scattermapbox": [
           {
            "marker": {
             "colorbar": {
              "outlinewidth": 0,
              "ticks": ""
             }
            },
            "type": "scattermapbox"
           }
          ],
          "scatterpolar": [
           {
            "marker": {
             "colorbar": {
              "outlinewidth": 0,
              "ticks": ""
             }
            },
            "type": "scatterpolar"
           }
          ],
          "scatterpolargl": [
           {
            "marker": {
             "colorbar": {
              "outlinewidth": 0,
              "ticks": ""
             }
            },
            "type": "scatterpolargl"
           }
          ],
          "scatterternary": [
           {
            "marker": {
             "colorbar": {
              "outlinewidth": 0,
              "ticks": ""
             }
            },
            "type": "scatterternary"
           }
          ],
          "surface": [
           {
            "colorbar": {
             "outlinewidth": 0,
             "ticks": ""
            },
            "colorscale": [
             [
              0,
              "#0d0887"
             ],
             [
              0.1111111111111111,
              "#46039f"
             ],
             [
              0.2222222222222222,
              "#7201a8"
             ],
             [
              0.3333333333333333,
              "#9c179e"
             ],
             [
              0.4444444444444444,
              "#bd3786"
             ],
             [
              0.5555555555555556,
              "#d8576b"
             ],
             [
              0.6666666666666666,
              "#ed7953"
             ],
             [
              0.7777777777777778,
              "#fb9f3a"
             ],
             [
              0.8888888888888888,
              "#fdca26"
             ],
             [
              1,
              "#f0f921"
             ]
            ],
            "type": "surface"
           }
          ],
          "table": [
           {
            "cells": {
             "fill": {
              "color": "#EBF0F8"
             },
             "line": {
              "color": "white"
             }
            },
            "header": {
             "fill": {
              "color": "#C8D4E3"
             },
             "line": {
              "color": "white"
             }
            },
            "type": "table"
           }
          ]
         },
         "layout": {
          "annotationdefaults": {
           "arrowcolor": "#2a3f5f",
           "arrowhead": 0,
           "arrowwidth": 1
          },
          "autotypenumbers": "strict",
          "coloraxis": {
           "colorbar": {
            "outlinewidth": 0,
            "ticks": ""
           }
          },
          "colorscale": {
           "diverging": [
            [
             0,
             "#8e0152"
            ],
            [
             0.1,
             "#c51b7d"
            ],
            [
             0.2,
             "#de77ae"
            ],
            [
             0.3,
             "#f1b6da"
            ],
            [
             0.4,
             "#fde0ef"
            ],
            [
             0.5,
             "#f7f7f7"
            ],
            [
             0.6,
             "#e6f5d0"
            ],
            [
             0.7,
             "#b8e186"
            ],
            [
             0.8,
             "#7fbc41"
            ],
            [
             0.9,
             "#4d9221"
            ],
            [
             1,
             "#276419"
            ]
           ],
           "sequential": [
            [
             0,
             "#0d0887"
            ],
            [
             0.1111111111111111,
             "#46039f"
            ],
            [
             0.2222222222222222,
             "#7201a8"
            ],
            [
             0.3333333333333333,
             "#9c179e"
            ],
            [
             0.4444444444444444,
             "#bd3786"
            ],
            [
             0.5555555555555556,
             "#d8576b"
            ],
            [
             0.6666666666666666,
             "#ed7953"
            ],
            [
             0.7777777777777778,
             "#fb9f3a"
            ],
            [
             0.8888888888888888,
             "#fdca26"
            ],
            [
             1,
             "#f0f921"
            ]
           ],
           "sequentialminus": [
            [
             0,
             "#0d0887"
            ],
            [
             0.1111111111111111,
             "#46039f"
            ],
            [
             0.2222222222222222,
             "#7201a8"
            ],
            [
             0.3333333333333333,
             "#9c179e"
            ],
            [
             0.4444444444444444,
             "#bd3786"
            ],
            [
             0.5555555555555556,
             "#d8576b"
            ],
            [
             0.6666666666666666,
             "#ed7953"
            ],
            [
             0.7777777777777778,
             "#fb9f3a"
            ],
            [
             0.8888888888888888,
             "#fdca26"
            ],
            [
             1,
             "#f0f921"
            ]
           ]
          },
          "colorway": [
           "#636efa",
           "#EF553B",
           "#00cc96",
           "#ab63fa",
           "#FFA15A",
           "#19d3f3",
           "#FF6692",
           "#B6E880",
           "#FF97FF",
           "#FECB52"
          ],
          "font": {
           "color": "#2a3f5f"
          },
          "geo": {
           "bgcolor": "white",
           "lakecolor": "white",
           "landcolor": "#E5ECF6",
           "showlakes": true,
           "showland": true,
           "subunitcolor": "white"
          },
          "hoverlabel": {
           "align": "left"
          },
          "hovermode": "closest",
          "mapbox": {
           "style": "light"
          },
          "paper_bgcolor": "white",
          "plot_bgcolor": "#E5ECF6",
          "polar": {
           "angularaxis": {
            "gridcolor": "white",
            "linecolor": "white",
            "ticks": ""
           },
           "bgcolor": "#E5ECF6",
           "radialaxis": {
            "gridcolor": "white",
            "linecolor": "white",
            "ticks": ""
           }
          },
          "scene": {
           "xaxis": {
            "backgroundcolor": "#E5ECF6",
            "gridcolor": "white",
            "gridwidth": 2,
            "linecolor": "white",
            "showbackground": true,
            "ticks": "",
            "zerolinecolor": "white"
           },
           "yaxis": {
            "backgroundcolor": "#E5ECF6",
            "gridcolor": "white",
            "gridwidth": 2,
            "linecolor": "white",
            "showbackground": true,
            "ticks": "",
            "zerolinecolor": "white"
           },
           "zaxis": {
            "backgroundcolor": "#E5ECF6",
            "gridcolor": "white",
            "gridwidth": 2,
            "linecolor": "white",
            "showbackground": true,
            "ticks": "",
            "zerolinecolor": "white"
           }
          },
          "shapedefaults": {
           "line": {
            "color": "#2a3f5f"
           }
          },
          "ternary": {
           "aaxis": {
            "gridcolor": "white",
            "linecolor": "white",
            "ticks": ""
           },
           "baxis": {
            "gridcolor": "white",
            "linecolor": "white",
            "ticks": ""
           },
           "bgcolor": "#E5ECF6",
           "caxis": {
            "gridcolor": "white",
            "linecolor": "white",
            "ticks": ""
           }
          },
          "title": {
           "x": 0.05
          },
          "xaxis": {
           "automargin": true,
           "gridcolor": "white",
           "linecolor": "white",
           "ticks": "",
           "title": {
            "standoff": 15
           },
           "zerolinecolor": "white",
           "zerolinewidth": 2
          },
          "yaxis": {
           "automargin": true,
           "gridcolor": "white",
           "linecolor": "white",
           "ticks": "",
           "title": {
            "standoff": 15
           },
           "zerolinecolor": "white",
           "zerolinewidth": 2
          }
         }
        }
       }
      },
      "text/html": [
       "<div>                            <div id=\"bdb87717-f72a-4bd9-82fb-b51d0fd2a199\" class=\"plotly-graph-div\" style=\"height:525px; width:100%;\"></div>            <script type=\"text/javascript\">                require([\"plotly\"], function(Plotly) {                    window.PLOTLYENV=window.PLOTLYENV || {};                                    if (document.getElementById(\"bdb87717-f72a-4bd9-82fb-b51d0fd2a199\")) {                    Plotly.newPlot(                        \"bdb87717-f72a-4bd9-82fb-b51d0fd2a199\",                        [{\"customdata\": [[\"Scrypt\", 41.99995383, \"42\"], [\"Scrypt\", 1055184902.04, \"532000000\"], [\"X13\", 29279424622.5027, \"314159265359\"], [\"X11\", 9031294.37563393, \"22000000\"], [\"SHA-512\", 2741570000.0, \"3600570502\"], [\"SHA-256\", 1288862.0, \"22000000\"], [\"SHA-256\", 11995334.8847328, \"12500000\"], [\"X15\", 25542535.5881841, \"350000000\"], [\"Scrypt\", 18135099.992959, \"16768584\"], [\"Scrypt\", 635423900.0, \"0\"], [\"Scrypt\", 123062801.128773, \"0\"], [\"Scrypt\", 42579.476901, \"500000\"], [\"Scrypt\", 1039116.65144562, \"1000000\"], [\"Scrypt\", 39999997299.8568, \"40000000000\"], [\"Groestl\", 3304487.74735637, \"4380000\"], [\"PoS\", 5679705.0, \"0\"], [\"Scrypt\", 461829905.32892996, \"0\"], [\"Scrypt\", 89266933.684704, \"120000000\"], [\"X11\", 1678520090.7713, \"0\"], [\"X11\", 17650913.974345602, \"22000000\"], [\"SHA3\", 61445805.0, \"100000000\"], [\"Scrypt\", 21293925445.4969, \"0\"], [\"SHA-256\", 1613836099.99999, \"2419200000\"], [\"Scrypt\", 16180000.0, \"16180000\"], [\"X13\", 66087096.20771079, \"0\"], [\"X13\", 15156364.3306548, \"0\"], [\"NeoScrypt\", 3220616.279225, \"3770000\"], [\"Scrypt\", 222677226.014206, \"420000000\"], [\"Scrypt\", 73959274.625, \"98000000\"], [\"Scrypt\", 29315567169.0888, \"0\"], [\"X11\", 50707661.74935179, \"0\"], [\"X11\", 1177.0, \"1000\"], [\"Multiple\", 80260463.7331396, \"100000000\"], [\"PHI1612\", 1622326490.46336, \"2300000000\"], [\"X11\", 1431851.00002479, \"10000000\"], [\"Scrypt\", 1098952592.6, \"1600000000\"], [\"Scrypt\", 50235211.141939, \"100000000\"], [\"Scrypt\", 32021108.413669605, \"0\"], [\"X11\", 6950831.0970606, \"5500000\"], [\"Multiple\", 100000000.0, \"0\"], [\"X13\", 33093725.4123502, \"0\"], [\"Scrypt\", 147990237.978331, \"1000000000\"], [\"Shabal256\", 1813033920.0, \"2158812800\"], [\"Counterparty\", 51173144.0, \"500000000\"], [\"SHA-256\", 39121694.0, \"68000000\"], [\"Groestl\", 53193831.0, \"0\"], [\"Scrypt\", 27184490.3918338, \"0\"], [\"X13\", 2022464.886973, \"12000000\"], [\"Scrypt\", 174646113.934655, \"500000000\"], [\"Scrypt\", 1467841.0, \"0\"], [\"X13\", 7096834.0, \"10000000\"], [\"X11\", 2689812.0, \"20000000\"], [\"Scrypt\", 11604722.0, \"20000000\"], [\"X11\", 1513704.0, \"0\"], [\"SHA3\", 63657220.0, \"78000000\"], [\"QUAIT\", 8568038.35935056, \"5060000\"], [\"X11\", 329200.01639, \"0\"], [\"Scrypt\", 100000000.0, \"100000000\"], [\"X13\", 23042604.0, \"50000000\"], [\"SHA-256\", 43059794.804778, \"1000000000\"], [\"X15\", 13530556.4180753, \"26298000\"], [\"BLAKE256\", 10365046.928166099, \"21000000\"], [\"SHA-256\", 3669691.84494672, \"22000000\"], [\"X11\", 10996318099.0, \"26550000000\"], [\"SHA-256\", 5129014.0, \"10500000\"], [\"NIST5\", 10069449031.9252, \"0\"], [\"Scrypt\", 8998743.2411911, \"42000000\"], [\"Scrypt\", 40477042.0, \"221052632\"], [\"X11\", 10407269.788186802, \"384000000\"], [\"Scrypt\", 36971236046.8073, \" 99000000000\"], [\"SHA-256\", 4377081.60953993, \"40000000\"], [\"Scrypt\", 2147483647.0, \"2147483647\"], [\"PoS\", 20000000.0, \"20000000\"], [\"X11\", 134554941.15118998, \"75000000\"], [\"SHA-256\", 1195525.0, \"222725000\"], [\"SHA-256\", 16662820.0, \"525000000\"], [\"NIST5\", 83450403.0, \"90000000\"], [\"X11\", 24387724.5010828, \"139000000\"], [\"POS 3.0\", 38589808.6658096, \"33500000\"], [\"Scrypt\", 813092338.575672, \"2000000000\"], [\"Scrypt\", 4526324.0, \"44333333\"], [\"Scrypt\", 100000000.0, \"100000000\"], [\"X13\", 5000000.0, \"200000000\"], [\"X11\", 657000000.0, \"657000000\"], [\"X11\", 15563873.0, \"50000000\"], [\"Scrypt\", 43165500.0, \"90000000\"], [\"SHA-256\", 595429.0, \"21000000\"], [\"X11\", 657636.34549789, \"3000000\"], [\"Scrypt\", 2581970.0, \"21000000\"], [\"Scrypt\", 1939889.0, \"0\"], [\"Scrypt\", 169598616.0, \"0\"], [\"Scrypt\", 665200057.0, \"3100000000\"], [\"SHA-256D\", 19577787259.0, \"20000000000\"], [\"PoS\", 74033806.79496829, \"74000000\"], [\"Scrypt\", 33522957.0, \"0\"], [\"X11\", 264678458.28861898, \"1500000000\"], [\"PoS\", 148716816.0, \"39999898\"], [\"X13\", 2500124.0, \"2500124\"], [\"X14\", 100000000.0, \"100000000\"], [\"PoS\", 17818682.1654, \"301000000\"], [\"SHA-256D\", 1082162635.5368302, \"7506000000\"], [\"DPoS\", 108202084.0, \"125000000\"], [\"X11\", 18342813.0, \"30000000\"], [\"X13\", 92192822723.0, \"850000000\"], [\"X11\", 3853326.77707314, \"3853326.77707314\"], [\"PoS\", 50000000.0, \"50000000\"], [\"Scrypt\", 17089600.0, \"38540000 \"], [\"Scrypt\", 2449577.41533168, \"42000000\"], [\"PoS\", 20000000.0, \"20000000\"], [\"X11\", 6069482.07721352, \"60000000\"], [\"SHA-256\", 12416554.0, \"20000000\"], [\"Scrypt\", 20244023.640728, \"33000000\"], [\"X11\", 75590369.0, \"76500000\"], [\"Scrypt\", 11080722.3769581, \"28000000\"], [\"Scrypt\", 10914418.0, \"650659833\"], [\"X11\", 814671.0, \"5000000\"], [\"Scrypt\", 8377873.0, \"144000000\"], [\"Scrypt\", 33813143821.8337, \"32514916898\"], [\"Scrypt\", 3472983.0, \"13000000\"], [\"Scrypt\", 3315789.0, \"3315789\"], [\"Quark\", 10517772.7391666, \"15000000\"], [\"QuBit\", 30227750.0, \"78835200\"], [\"Scrypt\", 23965372.0, \"500000000\"], [\"SHA-256\", 2526078.47525448, \"21000000\"], [\"X11\", 5659096.95728771, \"9354000\"], [\"Scrypt\", 11821728.0, \"20000000\"], [\"Scrypt\", 308179.0, \"21933333\"], [\"Scrypt\", 2922613.96424908, \"55000000\"], [\"Scrypt\", 110000000.0, \"110000000\"], [\"X13\", 14524851.4827, \"14524851.4827\"], [\"Scrypt\", 1000000000.0, \"1000000000\"], [\"Scrypt\", 36050365.0, \"34426423\"], [\"X11\", 13162749.085802699, \"100000000\"], [\"Blake2S\", 12184195.9258495, \"36900000\"], [\"X11\", 110630387.85047099, \"110000000\"], [\"PoS\", 111135836.889, \"110290030\"], [\"X11\", 21521322.0099142, \"100000000\"], [\"PoS\", 401421401.0, \"400000000\"], [\"X11\", 121665451.643876, \"500000000\"], [\"Scrypt\", 5368934.0, \"21212121\"], [\"Scrypt\", 1148324.0, \"28600000\"], [\"Scrypt\", 500000.0, \"1000000000\"], [\"SHA-256\", 100545745.0, \"75000000000\"], [\"X11\", 17171382.0, \"40000000\"], [\"Scrypt\", 295135466.361878, \"2000000000\"], [\"PoS\", 11390225.974277198, \"30000000\"], [\"Scrypt\", 21358764.0, \"105000000\"], [\"X15\", 40659020000.0, \"90000000000\"], [\"SHA-256\", 10343113.0, \"200084200\"], [\"POS 3.0\", 100000000.0, \"100000000\"], [\"536\", 22801882871.0, \"50000000000\"], [\"NIST5\", 4171382.0, \"10000000\"], [\"NIST5\", 62942075.0, \"120000000\"], [\"Skein\", 6804362.0, \"100000000\"], [\"X13\", 21268092.0, \"30000000\"], [\"Scrypt\", 9044930943.24243, \"50000000000\"], [\"X13\", 21917018.0492836, \"18898187.6216583\"], [\"SkunkHash v2 Raptor\", 107972766.0, \"137500000\"], [\"Skein\", 47331802.477423795, \"100000000\"], [\"X11\", 12569262.535930699, \"9507271\"], [\"Scrypt\", 18663297.348979898, \"17405891.19707116\"], [\"PoS\", 4000000.0, \"61599965\"], [\"Scrypt\", 19539588.0, \"48252000\"], [\"Scrypt\", 4200000.0, \"4200000\"], [\"SHA-512\", 25000000.0, \"91388946\"], [\"Ouroboros\", 25927070538.0, \"45000000000\"], [\"X11\", 7262402.04264803, \"27000000\"], [\"NeoScrypt\", 182638400.0, \"400000000\"], [\"Scrypt\", 1140734.91680375, \"15733333\"], [\"Lyra2REv2\", 24000000.0, \"24000000\"], [\"Scrypt\", 48459472454.0, \"25000000000\"], [\"SHA-256\", 92050800.0, \"100000000\"], [\"NIST5\", 560563220.0, \"1200000000\"], [\"PHI1612\", 8305775.31777569, \"60000000\"], [\"Scrypt\", 2149688.0, \"21000000\"], [\"Quark\", 30711550.5294042, \"200000000\"], [\"POS 2.0\", 12330806.30517, \"21000000\"], [\"Scrypt\", 16362544.992, \"14788275.991\"], [\"SHA-256\", 8999999990.0, \"9000000000\"], [\"X11\", 38198594.8342105, \"144000000\"], [\"DPoS\", 288090567.493887, \"500000000\"], [\"NIST5\", 28399150208.0, \"30000000000\"], [\"X13\", 183534024.88980702, \"210000000\"], [\"Scrypt\", 110976977.29338, \"210000000\"], [\"NIST5\", 13247178.880728599, \"27716121\"], [\"Quark\", 16955764.902064003, \"20000000\"], [\"Scrypt\", 4911500269.41, \"50000000000\"], [\"Scrypt\", 8419402.321, \"150000000\"], [\"X11\", 45174214.1078625, \"50000000\"], [\"Quark\", 27299680.0, \"120000000\"], [\"Scrypt\", 591022748.0, \"900000000\"], [\"Scrypt\", 2504486.227718, \"4000000\"], [\"X11\", 4407252.0, \"21000000\"], [\"POS 3.0\", 20445861.534425102, \"25000000\"], [\"Ethash\", 1618033.0, \"1618033\"], [\"Scrypt\", 9399342.52839847, \"30000000\"], [\"Scrypt\", 234846265.78215697, \"232000000\"], [\"X13\", 230298925.0, \"800000000\"], [\"C11\", 11251342.1879021, \"19340594\"], [\"X11\", 2167827.1, \"25000000\"], [\"XEVAN\", 419275.38, \"60000000\"], [\"Scrypt\", 25570013.1348022, \"124000000\"], [\"VBFT\", 650848625.0, \"1000000000\"], [\"NIST5\", 13787854.6277781, \"50000000\"], [\"Scrypt\", 845637.81347436, \"3000000\"], [\"Scrypt\", 1182153.5, \"5000000\"], [\"Scrypt\", 267297676.3125, \"500000000\"], [\"Green Protocol\", 9803691.3618195, \"21000000\"], [\"PoS\", 21876586.8530324, \"88000000\"], [\"Scrypt\", 9880502.37178894, \"30000000\"], [\"Semux BFT consensus\", 1231147.0, \"100000000\"], [\"Quark\", 139739596.506702, \"200000000\"], [\"PoS\", 11075254.0929996, \"80000000\"], [\"X16R\", 4403800.0, \"45000000\"], [\"Scrypt\", 1404157529.46026, \"5121951220\"], [\"XEVAN\", 10904963.0923455, \"21000000\"], [\"Scrypt\", 38706809.466534995, \"26000000\"], [\"Scrypt\", 10200000000.0, \"10200000000\"], [\"Scrypt\", 7630000.0154, \"44000000\"], [\"SHA-256D\", 33238183.7225834, \"100000000\"], [\"Scrypt\", 21599339.6728, \"84000000\"], [\"X15\", 30284196.369129, \"90000000\"], [\"Scrypt\", 77872059787.8998, \"92000000000\"], [\"Quark\", 2716264.95302831, \"650000000 \"], [\"SHA-256\", 57811001.000889, \"100262205\"], [\"DPoS\", 18194936.0, \"18081806 \"], [\"X16R\", 36923120.6205934, \"82546564\"], [\"Quark\", 7082392.24744494, \"21000000\"], [\"Quark\", 5919489.76813523, \"5151000\"], [\"Scrypt\", 1042012.45227735, \"16880000000\"], [\"Lyra2REv2\", 13332617.9413708, \"52500000\"], [\"Quark\", 66053877.6256106, \"100000000\"], [\"Scrypt\", 5403802.49590733, \"1000000000\"], [\"X11\", 19269509.94, \"55000000\"], [\"X11\", 30771125.976086702, \"50000000\"], [\"Scrypt\", 107763867.917675, \"260000000\"], [\"PoS\", 9327131.59708692, \"210000000\"], [\"Keccak\", 4672513.84432375, \"366000000\"], [\"X11\", 4504639.0, \"100000000\"], [\"Scrypt\", 1059954080.4343901, \"18000000000\"], [\"SHA-512\", 1000000000.0, \"1000000000\"], [\"XEVAN\", 6787405.18013774, \"50000000\"], [\"XEVAN\", 208515864.36734298, \"70000000000\"], [\"X11\", 17209923728.3266, \"0\"], [\"Quark\", 35312185.7437239, \"54000000\"], [\"Scrypt\", 14777549.394076401, \"21000000\"], [\"Quark\", 18265011.248600602, \"19035999\"], [\"Quark\", 1934701.67524713, \"13370000\"], [\"Scrypt\", 30825710000.0296, \"74800000000\"], [\"X11\", 715659.44237941, \"19700000\"], [\"Scrypt\", 20546528.2059957, \"84000000\"], [\"XEVAN\", 198938144.363399, \"500000000\"], [\"SHA-256D\", 896361168.0, \"5000000000\"], [\"X11\", 15420234.5389336, \"420000000\"], [\"X11\", 23775960.3207514, \"30000000\"], [\"DPoS\", 1000000000.0, \"1000000000\"], [\"Scrypt\", 15318887081.0146, \"35000000000\"], [\"X11\", 242574105.22384, \"0\"], [\"Scrypt\", 3537150.0, \"200000000\"], [\"Scrypt\", 20576532.0, \"54256119\"], [\"SHA-256\", 4392258.24647793, \"21000000\"], [\"Scrypt\", 9631199.99309942, \"0\"], [\"X11\", 436353624.49031204, \"500000000\"], [\"Scrypt\", 980732528.97974, \"10500000000\"], [\"SHA-256\", 17939725045.334, \"190000000\"], [\"X11\", 494240666.028571, \"1000000000\"], [\"Scrypt\", 60000000.0, \"15000000\"], [\"Scrypt\", 404316475.545465, \"400000000\"], [\"X11\", 201364327.427503, \"208000000\"], [\"Scrypt\", 103621876.167052, \"160000000\"], [\"PoS\", 3821245.74150193, \"9000000\"], [\"X11\", 16901016.6609755, \"16504333\"], [\"SHA-256\", 74676064.9488608, \"105000000\"], [\"DPoS\", 120012140.0, \"159918400\"], [\"Scrypt\", 10000244677.7002, \"10008835635\"], [\"Scrypt\", 252005564.19257003, \"300000000\"], [\"NeoScrypt\", 1120385.00502, \"60168145\"], [\"X13\", 140777.753365, \"120000\"], [\"DPoS\", 1020544523.0722, \"0\"], [\"DPoS\", 1122382283.37, \"0\"], [\"SHA-256\", 1000000000.0, \"1000000000\"], [\"PoS\", 9283137.5558676, \"8634140\"], [\"PoS\", 1000000000.0, \"1000000000\"], [\"SHA-256\", 1999999995.3056, \"2000000000\"], [\"Scrypt\", 14931046.1546605, \"250000000\"], [\"Scrypt\", 128326.99633965, \"1000000\"]], \"hovertemplate\": \"<b>%{hovertext}</b><br><br>Class=%{marker.color}<br>PC 1=%{x}<br>PC 2=%{y}<br>PC 3=%{z}<br>Algorithm=%{customdata[0]}<br>TotalCoinsMined=%{customdata[1]}<br>TotalCoinSupply=%{customdata[2]}<extra></extra>\", \"hovertext\": [\"42 Coin\", \"404Coin\", \"EliteCoin\", \"Dash\", \"Bitshares\", \"BitcoinDark\", \"PayCoin\", \"KoboCoin\", \"Aurora Coin\", \"BlueCoin\", \"EnergyCoin\", \"BitBar\", \"CryptoBullion\", \"CasinoCoin\", \"Diamond\", \"Exclusive Coin\", \"FlutterCoin\", \"HoboNickels\", \"HyperStake\", \"IOCoin\", \"MaxCoin\", \"MintCoin\", \"MazaCoin\", \"Nautilus Coin\", \"NavCoin\", \"OpalCoin\", \"Orbitcoin\", \"PotCoin\", \"PhoenixCoin\", \"Reddcoin\", \"SuperCoin\", \"SyncCoin\", \"TeslaCoin\", \"TittieCoin\", \"TorCoin\", \"UnitaryStatus Dollar\", \"UltraCoin\", \"VeriCoin\", \"X11 Coin\", \"Crypti\", \"StealthCoin\", \"ZCC Coin\", \"BurstCoin\", \"StorjCoin\", \"Neutron\", \"FairCoin\", \"RubyCoin\", \"Kore\", \"Dnotes\", \"8BIT Coin\", \"Sativa Coin\", \"Ucoin\", \"Vtorrent\", \"IslaCoin\", \"Nexus\", \"Droidz\", \"Squall Coin\", \"Diggits\", \"Paycon\", \"Emercoin\", \"EverGreenCoin\", \"Decred\", \"EDRCoin\", \"Hitcoin\", \"DubaiCoin\", \"PWR Coin\", \"BillaryCoin\", \"GPU Coin\", \"EuropeCoin\", \"ZeitCoin\", \"SwingCoin\", \"SafeExchangeCoin\", \"Nebuchadnezzar\", \"Ratecoin\", \"Revenu\", \"Clockcoin\", \"VIP Tokens\", \"BitSend\", \"Let it Ride\", \"PutinCoin\", \"iBankCoin\", \"Frankywillcoin\", \"MudraCoin\", \"Lutetium Coin\", \"GoldBlocks\", \"CarterCoin\", \"BitTokens\", \"MustangCoin\", \"ZoneCoin\", \"RootCoin\", \"BitCurrency\", \"Swiscoin\", \"BuzzCoin\", \"Opair\", \"PesoBit\", \"Halloween Coin\", \"CoffeeCoin\", \"RoyalCoin\", \"GanjaCoin V2\", \"TeamUP\", \"LanaCoin\", \"ARK\", \"InsaneCoin\", \"EmberCoin\", \"XenixCoin\", \"FreeCoin\", \"PLNCoin\", \"AquariusCoin\", \"Creatio\", \"Eternity\", \"Eurocoin\", \"BitcoinFast\", \"Stakenet\", \"BitConnect Coin\", \"MoneyCoin\", \"Enigma\", \"Russiacoin\", \"PandaCoin\", \"GameUnits\", \"GAKHcoin\", \"Allsafe\", \"LiteCreed\", \"Klingon Empire Darsek\", \"Internet of People\", \"KushCoin\", \"Printerium\", \"Impeach\", \"Zilbercoin\", \"FirstCoin\", \"FindCoin\", \"OpenChat\", \"RenosCoin\", \"VirtacoinPlus\", \"TajCoin\", \"Impact\", \"Atmos\", \"HappyCoin\", \"MacronCoin\", \"Condensate\", \"Independent Money System\", \"ArgusCoin\", \"LomoCoin\", \"ProCurrency\", \"GoldReserve\", \"GrowthCoin\", \"Phreak\", \"Degas Coin\", \"HTML5 Coin\", \"Ultimate Secure Cash\", \"QTUM\", \"Espers\", \"Denarius\", \"Virta Unique Coin\", \"Bitcoin Planet\", \"BritCoin\", \"Linda\", \"DeepOnion\", \"Signatum\", \"Cream\", \"Monoeci\", \"Draftcoin\", \"Stakecoin\", \"CoinonatX\", \"Ethereum Dark\", \"Obsidian\", \"Cardano\", \"Regalcoin\", \"TrezarCoin\", \"TerraNovaCoin\", \"Rupee\", \"WomenCoin\", \"Theresa May Coin\", \"NamoCoin\", \"LUXCoin\", \"Xios\", \"Bitcloud 2.0\", \"KekCoin\", \"BlackholeCoin\", \"Infinity Economics\", \"Magnet\", \"Lamden Tau\", \"Electra\", \"Bitcoin Diamond\", \"Cash & Back Coin\", \"Bulwark\", \"Kalkulus\", \"GermanCoin\", \"LiteCoin Ultra\", \"PhantomX\", \"Digiwage\", \"Trollcoin\", \"Litecoin Plus\", \"Monkey Project\", \"TokenPay\", \"1717 Masonic Commemorative Token\", \"My Big Coin\", \"Unified Society USDEX\", \"Tokyo Coin\", \"Stipend\", \"Pushi\", \"Ellerium\", \"Velox\", \"Ontology\", \"Bitspace\", \"Briacoin\", \"Ignition\", \"MedicCoin\", \"Bitcoin Green\", \"Deviant Coin\", \"Abjcoin\", \"Semux\", \"Carebit\", \"Zealium\", \"Proton\", \"iDealCash\", \"Bitcoin Incognito\", \"HollyWoodCoin\", \"Swisscoin\", \"Xt3ch\", \"TheVig\", \"EmaratCoin\", \"Dekado\", \"Lynx\", \"Poseidon Quark\", \"BitcoinWSpectrum\", \"Muse\", \"Trivechain\", \"Dystem\", \"Giant\", \"Peony Coin\", \"Absolute Coin\", \"Vitae\", \"TPCash\", \"ARENON\", \"EUNO\", \"MMOCoin\", \"Ketan\", \"XDNA\", \"PAXEX\", \"ThunderStake\", \"Kcash\", \"Bettex coin\", \"BitMoney\", \"Junson Ming Chan Coin\", \"HerbCoin\", \"Oduwa\", \"Galilel\", \"Crypto Sports\", \"Credit\", \"Dash Platinum\", \"Nasdacoin\", \"Beetle Coin\", \"Titan Coin\", \"Award\", \"Insane Coin\", \"ALAX\", \"LiteDoge\", \"TruckCoin\", \"OrangeCoin\", \"BitstarCoin\", \"NeosCoin\", \"HyperCoin\", \"PinkCoin\", \"AudioCoin\", \"IncaKoin\", \"Piggy Coin\", \"Genstake\", \"XiaoMiCoin\", \"CapriCoin\", \" ClubCoin\", \"Radium\", \"Creditbit \", \"OKCash\", \"Lisk\", \"HiCoin\", \"WhiteCoin\", \"FriendshipCoin\", \"Triangles Coin\", \"EOS\", \"Oxycoin\", \"TigerCash\", \"Particl\", \"Nxt\", \"ZEPHYR\", \"Gapcoin\", \"BitcoinPlus\"], \"legendgroup\": \"0\", \"marker\": {\"color\": [0, 0, 0, 0, 0, 0, 0, 0, 0, 0, 0, 0, 0, 0, 0, 0, 0, 0, 0, 0, 0, 0, 0, 0, 0, 0, 0, 0, 0, 0, 0, 0, 0, 0, 0, 0, 0, 0, 0, 0, 0, 0, 0, 0, 0, 0, 0, 0, 0, 0, 0, 0, 0, 0, 0, 0, 0, 0, 0, 0, 0, 0, 0, 0, 0, 0, 0, 0, 0, 0, 0, 0, 0, 0, 0, 0, 0, 0, 0, 0, 0, 0, 0, 0, 0, 0, 0, 0, 0, 0, 0, 0, 0, 0, 0, 0, 0, 0, 0, 0, 0, 0, 0, 0, 0, 0, 0, 0, 0, 0, 0, 0, 0, 0, 0, 0, 0, 0, 0, 0, 0, 0, 0, 0, 0, 0, 0, 0, 0, 0, 0, 0, 0, 0, 0, 0, 0, 0, 0, 0, 0, 0, 0, 0, 0, 0, 0, 0, 0, 0, 0, 0, 0, 0, 0, 0, 0, 0, 0, 0, 0, 0, 0, 0, 0, 0, 0, 0, 0, 0, 0, 0, 0, 0, 0, 0, 0, 0, 0, 0, 0, 0, 0, 0, 0, 0, 0, 0, 0, 0, 0, 0, 0, 0, 0, 0, 0, 0, 0, 0, 0, 0, 0, 0, 0, 0, 0, 0, 0, 0, 0, 0, 0, 0, 0, 0, 0, 0, 0, 0, 0, 0, 0, 0, 0, 0, 0, 0, 0, 0, 0, 0, 0, 0, 0, 0, 0, 0, 0, 0, 0, 0, 0, 0, 0, 0, 0, 0, 0, 0, 0, 0, 0, 0, 0, 0, 0, 0, 0, 0, 0, 0, 0, 0, 0, 0, 0, 0, 0, 0, 0, 0, 0, 0, 0, 0, 0, 0, 0, 0, 0, 0, 0, 0, 0, 0], \"coloraxis\": \"coloraxis\", \"symbol\": \"circle\"}, \"mode\": \"markers\", \"name\": \"0\", \"scene\": \"scene\", \"showlegend\": true, \"type\": \"scatter3d\", \"x\": [-0.3341973577125254, -0.3175380399782952, 2.308987589082175, -0.4015186599184629, -0.25607757014590826, -0.3173393217314323, -0.26921337894161934, -0.25401906450270484, -0.333856956814766, -0.32643750640734065, -0.3326945048570729, -0.3341932921965145, -0.33417757605505655, 0.6348909945348064, -0.3730339973407, -0.3576496745502309, -0.26717597853538455, -0.33225610073438466, -0.33322418120615227, -0.4014133963717473, -0.3990413192406985, -0.026091507888286795, -0.2806441695618324, -0.2858224323908586, -0.27600096029502674, -0.2766229308370928, -0.3486458044362775, -0.32849907709000026, -0.33259907827354485, 0.023806905918530647, -0.35310316863764213, -0.40178496847809386, -0.243940464371281, -0.32637506032398284, -0.40169657720462404, -0.3094285574968829, -0.33287461323695594, -0.31044478098708, -0.40166109602076416, -0.24440867193606472, -0.2764038782182899, -0.3252974037808996, -0.0885843183693195, -0.33063078881129476, -0.3165510403736936, -0.3724558102878748, -0.2858028042378869, -0.27669821094270086, -0.280455647502137, -0.3341794331209423, -0.2766504276743707, -0.3535477131081344, -0.3339137869447502, -0.4017665044590668, -0.3689117838283918, -0.42237576821748746, -0.3685516647231389, -0.2842043063762191, -0.2761719891379657, -0.30989256548376154, -0.2564616721740382, -0.07817743249182557, -0.3173102468296068, -0.07918620587629473, -0.3173739913380884, -0.24761530999094034, -0.3337895723138326, -0.28407261774118925, -0.39893430440140687, 0.8675369963981909, -0.31717393979331443, -0.095843181872276, -0.3573329401572125, -0.3996098418832012, -0.31591678236594245, -0.3135839530385698, -0.3689268550047132, -0.4005012817037911, -0.3323799192532027, -0.3100824338472887, -0.3338276402918167, -0.3322668812927818, -0.22726584931959026, -0.34103917962318836, -0.4012402883170689, -0.33303187601676876, -0.3173548826807818, -0.4017556807768405, -0.33401688089448717, -0.3341736684295738, -0.2840636305084343, -0.22796805420468888, 0.03221074408827962, -0.3562900696011904, -0.3337879732471152, -0.3879136859518964, -0.35561918619057864, -0.2286971824397748, -0.41535941279340866, -0.35536653410412294, -0.282275444718774, 3.7234349899213255, -0.4013482053601317, 0.8550875567475271, -0.40171060234835576, -0.35675379698805015, -0.33371530675530486, -0.3338695512983998, -0.3573329401572125, -0.4012853077971086, -0.31721761475577354, -0.33371607813367216, -0.40211484035711414, -0.33386344459353595, -0.32944914543325376, -0.401739577685852, -0.33307370056110125, 0.3574123441198666, -0.3340627412463153, -0.33413334797166505, -0.3487257011763591, -0.35760129564974347, -0.33035834878810316, -0.31733130542091514, -0.4016495355826477, -0.3339111368485414, -0.3340380287915894, -0.28570899471267547, -0.2758344513998659, -0.22846504781368668, -0.3148925862179129, -0.2854503576280409, -0.40091497679973315, -0.44056171489525997, -0.3996537666393707, -0.35557958261907757, -0.4008129011777873, -0.34997976840810874, -0.39675285831094453, -0.33398134173947575, -0.33398048429822386, -0.32709856743757465, 0.2637307259896093, -0.4012915841273055, -0.2683451934528232, -0.35736715661851076, -0.3331917915040965, 0.8780597221294927, -0.26790308036997673, -0.33115830908247335, 0.5633622523402108, -0.3704624321306832, -0.3689645239446098, -0.4277445578426934, -0.27633551333420175, 0.13089437955183508, -0.2764063302512568, -0.33689825764773057, -0.42724963320302534, -0.40156406093466834, -0.2857834112867754, -0.35723327810391703, -0.3336165031309258, -0.33411627847964015, -0.3141420795750654, 0.6610821972550796, -0.4015047983607825, -0.34364440421065506, -0.3340718361933427, -0.29631704874738957, 0.4349110738710003, -0.31567769959110564, -0.3552274312523242, -0.41003581155300745, -0.33402215995999357, -0.39522952118358057, -0.35892977273903526, -0.333892649112111, -0.09570557495444318, -0.40029715872489025, 3.7282915606702063, 0.1890091515448689, -0.2730772242943105, -0.3313526341335549, -0.3221633679242078, -0.34861161642905486, 0.08041656346621934, -0.3330306372911567, -0.40087868424756384, -0.3477760271310232, -0.3205963206122507, -0.33413840277879187, -0.35351964689594295, -0.33266178254172973, -0.2767796500865482, -0.27271938628612413, -0.32968389250236163, -0.2202588681618943, -0.36337370554277554, -0.4015811991246357, -0.3175731193884029, -0.284943027429812, -0.3229129047195241, -0.37006128752610284, -0.3341657534654252, -0.3341474585364117, -0.2793241785372981, -0.34687010231368226, -0.3568277205319423, -0.3338639164148898, 3.9180335835326634, -0.39389806117195925, -0.3570163688305046, -0.3115165114136669, -0.2807212774375999, -0.2844923769697479, -0.28547768286077607, -0.13728868100814254, -0.28572952723889994, -0.3476134270788457, -0.3333377999588714, -0.2077426821218624, 2.251498088943383, -0.34431711886848493, -0.26803140435031636, 1.020917315008139, -0.3589156515962021, -0.3487250982324539, -0.39691428658080535, -0.1663975349488393, -0.3443077531408228, -0.3474446111886428, -0.32703868177357276, -0.353096996413618, -0.40105457601669003, -0.28297466373696917, -0.35611566799949657, -0.34746366497106046, -0.3529581354790734, -0.19358477603987942, -0.27904433515695887, -0.26950370316543837, 0.5233130457667814, -0.1435533246628934, -0.39620886984102544, -0.3338679474147002, -0.3966650400704579, -0.3488420794657974, 0.5727817431003206, -0.35357394943695186, -0.3333506569843759, -0.31202800821843635, -0.30231873716952556, -0.3986177489769069, -0.4012818552909366, 3.740531803304592, 0.10112220376063892, -0.39882265380359655, -0.3327356255304362, -0.33356125455528846, -0.26924594055413736, -0.3340797414685568, -0.3929098588834172, -0.24774737435524996, -0.09708200260646101, -0.38865659475967995, -0.33335824301189354, -0.3264227364251278, -0.3978506327173864, -0.331797089522446, -0.357608536051492, -0.39967876473931674, -0.3158544179465163, 3.7238268805691566, -0.09302140415103353, -0.3289920390699326, -0.34827143836442687, -0.27680545136847917, 3.7336900097710166, 3.734933661386471, -0.25014375327560096, -0.3575444298817819, -0.3969118721461998, 2.4698211816646554, -0.33224184802422074, -0.2861261237812404], \"y\": [1.0093384826677416, 1.0094903954314585, 1.6805346820285392, 1.2094038452424258, 1.7234009876431668, 0.864248195283735, 0.6778272734932742, 1.738476417341086, 1.0093374950388927, 1.0095811497289677, 1.0093854800977013, 1.009338262973755, 1.009338407590433, 0.28491322589374585, 0.8873697402716271, 1.5931561496191176, 0.23943121095074094, 1.0093159434186265, 1.023622307919008, 1.2094071370571151, 2.0843876946656703, 0.8310410944431809, 0.8637327429073074, 0.8229075323664954, 1.8176354457150328, 1.8176159953751294, 0.5269063631347235, 1.0092253172599492, 1.0093204796421442, 1.0205340364147313, 1.0230006497594424, 1.2094107783740622, 0.1318557458943447, 1.5566099620660345, 1.2094066060417166, 1.0090031022593673, 1.0093104756368216, 0.2279099640587998, 1.2094108373577153, 0.13191047613862408, 1.8176228456157821, 1.00892308226671, 0.4098352595953992, 1.4507414436654087, 0.8642409353550103, 0.887390859906338, 0.8229193705845768, 1.8176053165556179, 0.8227397270864889, 1.0093390432369314, 1.817608198281695, 1.0229728734917882, 1.0093334761392296, 1.2094113564768751, 2.4209727221292368, 1.9183524175902178, 0.7367577425767708, 0.8228999869185949, 1.817595411235205, 0.8638026121350675, 1.7386245906516393, 0.9508602999550343, 0.8642491045176695, 1.2010808378602265, 0.864255088881766, 1.4845322156310374, 1.0093220987349227, 0.8228201283619525, 1.2092335365653253, 0.790308387420503, 0.8642408801521345, 0.2883206975768158, 1.5931521801584663, 1.2094267708293607, 0.8641534339849041, 0.8640166920299408, 1.4806761110747246, 1.2093544954756221, 1.5623118657059434, 1.0087051657998918, 1.009319289586543, 1.0093294807055264, 1.6310882393805257, 1.0229221416929397, 1.2093931263286606, 1.009312494904603, 0.8642484023806906, 1.2094096137937282, 1.0093295584515585, 1.0093392235110745, 0.8229737582410681, 0.4146907631184964, 1.902541073905213, 1.5931473320075715, 1.009351285018639, 1.2088039821952978, 1.5931918985378843, 1.6311804883440697, 1.9436888365310938, 1.5930187382814376, 1.9013737716550798, 1.864752786586761, 1.2094036259513696, 1.852417323294008, 1.2094104315213192, 1.5931494795686678, 1.0093268214509663, 1.0093195976222014, 1.5931521801584663, 1.20938478126497, 0.8642533887611529, 1.0093306405420732, 0.608036077570818, 1.0093295006843341, 1.009035593059614, 1.209408729929801, 1.0092737260340483, 0.8204777972657799, 1.009333674068094, 1.0093381841853273, 1.4829138774545945, 0.5647663388749357, 1.0091116762134569, 0.8642491396916839, 1.2094085252768478, 1.0093335590133665, 1.0093282496392963, 0.8228841495585676, 0.2341223187540848, 1.63117940588219, 1.009248463011535, 0.8229065100097521, 1.209368613466116, 1.8462501893335495, 1.2094011169776875, 1.593144375292546, 1.2093718055876215, 1.5931185155177352, 1.2092212833943425, 1.0093305226836506, 1.009325424371643, 1.008866756053529, 0.6424731721578776, 1.2093984594086524, 0.8220778653675666, 1.5931441729281168, 1.0092970881942631, 1.7116868474601434, 0.6777381182339319, 1.5623039356112778, 1.768361761142006, 1.4806835879878952, 1.4806541214601776, 1.7854060928426363, 1.8176041719041252, 0.9891968445198318, 1.8176096588679123, 1.6750195359631155, 1.7854215701873293, 1.2094110919233412, 0.8229079022129644, 1.5931264380376862, 1.0093231738328452, 1.0093381045889542, 1.7240195796679514, 1.5037691928085493, 1.2094008101183176, 0.5267878945132449, 1.0093314934795736, 0.8178901106208527, 1.0160471146003147, 0.8642460475076665, 1.480334490961606, 1.7434801600700314, 1.0093293933639673, 1.6692637784531121, 1.4995561155974169, 1.0093377526459857, 0.677018414525839, 1.209357410230261, 1.864644516534487, 1.4773747631368663, 1.817581195762216, 1.0092817618578152, 1.294249199680077, 1.482913976522491, 0.9876182959969328, 1.009270910388607, 1.2094044344559547, 1.4828707350853219, 1.0091394672116973, 1.009337551459306, 1.0229730574609615, 1.5623089478698282, -0.11798006667262805, 0.2452641307904888, 1.0093186850933527, 1.6308911300282543, 1.0502711001788922, 1.2093998083459438, 1.3915107979675934, 0.8228602362407891, 1.5119984973489298, 1.480668383795986, 1.009337389866136, 1.009336574545638, 0.8227751105242376, 1.548036449256504, 1.5931208064285047, 1.0093280984876931, 1.9571714391697344, 1.6693054160356708, 1.5931204567626671, 0.6830340646106058, 1.0074575887352877, 0.9188800456743832, 0.822911501077374, 1.00842028213962, 0.8228911383926842, 1.904468211103207, 1.0093070903385148, 1.5521714329518892, 0.3196515699417021, 1.4826112304200862, 0.6778033538740156, 1.6802180055696656, 0.869458258574889, 1.4829097339845723, 1.6693462630830005, 0.8149434182968489, 1.0043020809062466, 1.48289497358362, 1.0088686288054385, 1.0229626881288856, 1.2093989339467435, 0.8228274451127907, 1.5930584398746408, 0.9075621407375835, 1.022935813165064, 1.001248760711213, 2.132928767313054, 1.2050884553317747, 0.9672431277121485, 1.029553718460334, 1.6693344353908455, 1.0093342159178031, 1.669344425236869, 1.4829113688233537, 0.9858113227932008, 1.0229722611423278, 1.009306688272019, 1.391378968178692, 1.9024854398862951, 1.2092184619736621, 1.2094057008589598, 1.864680434473231, 0.9986716187414564, 1.209503416939553, 1.0092454499883172, 1.0093207363903582, 0.6778203585949005, 1.0093421608066444, 1.2093414621488976, 1.0047578879186532, 0.871019564365029, 1.2091276103054256, 1.0093543177824387, 1.0093041232605056, 1.2093895201577405, 1.009302548838437, 1.593151192619314, 0.7095944465485037, 0.8642370525448817, 1.8647408182160599, 0.8220047160352166, 1.0092931477989477, 0.5268789457854268, 1.8176102043239348, 1.8651601979505406, 1.8651990895780493, 0.6777385718095846, 1.5931534511601269, 1.7661188083546089, 0.862199416197443, 1.009226205415063, 0.8229085659748382], \"z\": [-0.5499160622331373, -0.5503891732572277, -0.6812740591887162, -0.5223308819619098, -0.14353370185076675, -0.39393030825544173, -0.10475238188797614, -0.6235057008102616, -0.5499250015789691, -0.5501670117033519, -0.5499646637005423, -0.5499161320208998, -0.549916578578518, -0.33120058902385785, -0.40622001096634025, -0.21955933046441295, -0.21750987646954445, -0.5499640348872152, -0.23380673767288537, -0.5223342861290343, -0.6509967781357655, -0.2691445756376219, -0.39482122406038495, -0.26074301922765386, -0.6364404124375093, -0.636420298240901, -0.3343766759001554, -0.5500485186102888, -0.5499556577137207, -0.561493729761367, -0.23316386178966975, -0.5223249840990529, 0.025825195461062607, -0.2238063625564736, -0.5223266088684293, -0.5505196511396847, -0.5499465002833558, -0.43369664251298706, -0.5223283115574067, 0.025827998236795345, -0.6364273822861154, -0.5500804939365566, -0.2938769170330801, -0.1812116863634859, -0.3939501250037383, -0.4062392496679755, -0.26074565041081, -0.6364163830653604, -0.2608568805766311, -0.5499166419100742, -0.6364181751270096, -0.233147017696283, -0.5499227650045695, -0.5223255813389986, -0.5008874781985161, -0.7106323842791017, -0.1733130864399592, -0.260785006173732, -0.6364287120516947, -0.3940504588510477, -0.6234666491450979, -0.4132483147351987, -0.39393124852230677, -0.5294817031576413, -0.39393060602171176, -0.6690851462897157, -0.5499240675019349, -0.2607743284623838, -0.5223697921603585, -0.28582862642328183, -0.3939334356339501, -0.3122395836117374, -0.21956710572467464, -0.5223860725539698, -0.3939515453498516, -0.39398969067812384, -0.6651508905021989, -0.5223493470270918, -0.06675391258250297, -0.550449149894399, -0.5499225484982908, -0.549966154011279, -0.34725633644259457, -0.2334729388113385, -0.5223364294852485, -0.5499426483694737, -0.3939299284106934, -0.5223255612068881, -0.5499193076129736, -0.5499168283371277, -0.2608018943644442, -0.19992113047433568, -0.7285633150311708, -0.21959416864763406, -0.5499293015142416, -0.522588492004259, -0.21962005986769137, -0.34723441702097746, -0.6093518351199537, -0.21959602620048724, -0.7199346095732491, -0.31852795487238333, -0.5223354072670496, -0.6729143337736994, -0.5223269137289431, -0.2195821332644317, -0.5499268961333633, -0.5499214810241018, -0.21956710572467464, -0.5223337396984079, -0.3939344909704777, -0.549927554757358, -0.1508008290899433, -0.5499234059448032, -0.5499893332314383, -0.5223258351961287, -0.5499346328296557, -0.27753493313851274, -0.5499188116182171, -0.5499177231504604, -0.1590586395685624, -0.366769014775242, -0.5499785197058483, -0.3939306908867409, -0.52232820987817, -0.5499228507072718, -0.5499185085390602, -0.2607418978166013, -0.2668915350555758, -0.3472404404233207, -0.5504169802039558, -0.26075280053654654, -0.5223407804827654, -0.8925101607417686, -0.522380333467929, -0.21961266766173934, -0.5223440815541021, -0.21975801591890373, -0.522426025949754, -0.5499204307571466, -0.5499195469101392, -0.5500222452616381, -0.11273494724548577, -0.5223360044868166, -0.2610634441017979, -0.21956476530171545, -0.5499356259664531, -0.6490547854784045, -0.10477161059287027, -0.06678521349856542, -0.8973429230967884, -0.6651111018008221, -0.6651459706663271, -0.7624472154634921, -0.6364258915277299, -0.5587874777414616, -0.6364249711775962, -0.3293400407933468, -0.7624632210631713, -0.5223309551710218, -0.2607441298890504, -0.21956519580269654, -0.5499288930450107, -0.5499181660676582, -0.14208891766348683, -0.1543648589406852, -0.5223307132969126, -0.334489528465299, -0.549918180231757, -0.07506966770868194, -0.5717039179675725, -0.3939744199617188, -0.6654569618136614, -0.5121126735989002, -0.5499191368908022, -0.448267369916328, -0.21687412825622843, -0.5499240916554535, -0.10925458164450233, -0.5223553313152931, -0.3186387432581878, -0.6795037068228934, -0.6365090530084284, -0.5499821475895276, -0.3759354159430149, -0.1590617120682305, -0.5571550520099863, -0.549935285144431, -0.5223481235685797, -0.15907639577386753, -0.5502448632744583, -0.5499174752572042, -0.2331478019545821, -0.06674584607230286, 0.07580949874555984, -0.25783356284443065, -0.5500333992688056, -0.347408905639687, -0.5450094530969481, -0.5223284893129934, -0.419703020879343, -0.26075815501375293, -0.00684825642015172, -0.6651191390808524, -0.5499167141386215, -0.5499170590107385, -0.2608934716813144, -0.0644687933181461, -0.21957505386930745, -0.5499231439101921, -0.38592110883887554, -0.44831042862512244, -0.21956994018827905, -0.06746253987165558, -0.5510134625150412, -0.0706910014794652, -0.26075295657320086, -0.5550254257290929, -0.2607425910744959, -0.7187354260829141, -0.549933495280333, -0.33429886935655817, -0.43518327464603945, -0.15912285934572395, -0.10477977750783556, -0.21984635070926248, -0.356660510037307, -0.15905791873897177, -0.448236927543131, -0.26252436254582573, -0.3642496232404654, -0.15908958135080917, -0.5500241819321684, -0.2331572750517402, -0.5223424353222937, -0.26080503007012235, -0.2195830279238852, -0.3981229934517722, -0.2331562132769485, -0.5522424129301357, -0.0923837727755881, -0.13052332816679882, 0.01321396506248916, -0.2399405923191909, -0.44825371296110617, -0.5499241240425173, -0.4482432747993825, -0.1590550770791342, -0.5700178557406937, -0.23314620624378382, -0.5499330794909645, -0.4198280560710771, -0.7195956306803153, -0.5223755874236018, -0.5223375529930067, -0.3189728921566864, -0.5596754825998006, -0.5224207839038536, -0.5499386562639297, -0.5499299389178567, -0.1047502800640652, -0.5499198658851031, -0.5225503065077898, -0.551416233896957, -0.4010325836404439, -0.522626160768197, -0.5499413479403542, -0.5501181341249212, -0.5224265538283882, -0.5499739435425576, -0.21955955036887256, -0.2601929240669238, -0.3939680880436743, -0.318536319893237, -0.2657451273742555, -0.5500473830515229, -0.33438182384105697, -0.6364143808173987, -0.31887502027132575, -0.318915239303278, -0.10524723771354967, -0.2195616686710758, -0.47075500485855976, -0.20438288133977264, -0.5499484553619481, -0.26073507104061855]}, {\"customdata\": [[\"SHA-256\", 17927175.0, \"21000000\"], [\"Ethash\", 107684222.6865, \"0\"], [\"Scrypt\", 63039243.30000489, \"84000000\"], [\"CryptoNight-V7\", 17201143.1449131, \"0\"], [\"Ethash\", 113359703.0, \"210000000\"], [\"Equihash\", 7383056.25, \"21000000\"], [\"Multiple\", 11406219141.0, \"21000000000\"], [\"Scrypt\", 5768310.0, \"21000000\"], [\"X11\", 11149733.9976203, \"20000000\"], [\"Scrypt\", 12205795.444954902, \"64000000\"], [\"Multiple\", 1688254250.0, \"2000000000\"], [\"Scrypt\", 88.0, \"384000000000\"], [\"SHA-256\", 170204389.754849, \"169795588\"], [\"Scrypt\", 128940951.183046, \"250000000\"], [\"Scrypt\", 7357794.7925, \"100000000\"], [\"Quark\", 259557164.91477, \"247000000\"], [\"Groestl\", 49548585.14129171, \"84000000\"], [\"Scrypt\", 33442988.3440364, \"48166000\"], [\"Scrypt\", 7219956.64626131, \"21000000 \"], [\"Scrypt\", 4703879.51824446, \"13140000\"], [\"X11\", 4996986.20575291, \"18000000\"], [\"Multiple\", 15929530669.1206, \"16555000000\"], [\"SHA-256\", 18773857500.0, \"21000000000\"], [\"Scrypt\", 12539015186.821999, \"13500000000\"], [\"Scrypt\", 20910478.806249898, \"21000000 \"], [\"Scrypt\", 218871896.499999, \"299792458\"], [\"Scrypt\", 19496786.31025, \"32000000\"], [\"Scrypt\", 1142732.14912776, \"11235813\"], [\"NeoScrypt\", 208669093.00773, \"336000000\"], [\"Scrypt\", 884125802.0, \"1420609614\"], [\"Scrypt\", 65672720.470874794, \"70000000\"], [\"Scrypt\", 41658647.9999715, \"72245700\"], [\"Scrypt\", 90595753018.6314, \"90600000000\"], [\"SHA-256\", 21089348.999, \"21000000\"], [\"Scrypt\", 151447649.8, \"265420800\"], [\"Scrypt\", 19326319.14375, \"20000000\"], [\"Scrypt\", 1104344.22938102, \"1350000\"], [\"Scrypt\", 38151999.993099704, \"42000000\"], [\"HybridScryptHash256\", 40431856.9, \"200000000\"], [\"Scrypt\", 5804204.88794916, \"10000000\"], [\"Scrypt\", 2366066305.76482, \"15000000000\"], [\"SHA-256\", 14736400.0, \"21000000\"], [\"Scrypt\", 334709223.48313797, \"337000000\"], [\"Scrypt\", 1104157.42169891, \"21000000\"], [\"Scrypt\", 24215181.725, \"250000000\"], [\"Scrypt\", 25593737.1355044, \"51200000\"], [\"SHA-256\", 563336541.299966, \"888000000\"], [\"SHA-256\", 43536800.0, \"47011968\"], [\"SHA-256\", 22935396.0, \"42000000\"], [\"SHA-256\", 2278150.0, \"80000000\"], [\"SHA-256\", 200911.79151896, \"250000\"], [\"X11\", 1207310.0, \"0\"], [\"Scrypt\", 23150892.167968698, \"23000000\"], [\"Lyra2REv2\", 51173723.81663471, \"84000000\"], [\"Scrypt\", 119606941.0, \"265420800\"], [\"SHA-256\", 39195739.362088, \"45000000\"], [\"CryptoNight\", 184066828814.0, \"184467440735\"], [\"CryptoNight\", 6906587610.38292, \"10000000000\"], [\"Scrypt\", 68194674.8711679, \"105120000\"], [\"Scrypt\", 415032420.0, \"1680000000\"], [\"Scrypt\", 137517654.41397, \"166386000\"], [\"Scrypt\", 181919.2435974, \"2628000\"], [\"Scrypt\", 152270664.860648, \"160000000\"], [\"Scrypt\", 792537250.0, \"1000000000\"], [\"Stanford Folding\", 719416990.0, \"1000000000\"], [\"Multiple\", 65113302.0, \"0\"], [\"QuBit\", 6365285.0, \"0\"], [\"Scrypt\", 10140044.443029301, \"3371337\"], [\"Scrypt\", 4610340640.89, \"10000000000\"], [\"M7 POW\", 708506520.0, \"1840000000\"], [\"Scrypt\", 619478.0, \"619478\"], [\"SHA-256\", 12462620.0, \"21000000\"], [\"Scrypt\", 88213.0, \"92000000000\"], [\"X11\", 32221574.820996, \"33000000\"], [\"Lyra2RE\", 13742738.0, \"65789100\"], [\"SHA-256\", 14747200.0002, \"53760000\"], [\"X11\", 15863837.5, \"21000000\"], [\"Scrypt\", 32565300.0, \"210240000\"], [\"Scrypt\", 75614500.0, \"250000000\"], [\"Ethash\", 10495278.0, \"16906397\"], [\"Blake2b\", 33098296530.0, \"0\"], [\"X11\", 15867695.0, \"16000000\"], [\"SHA-256\", 20997476.865023103, \"21000000\"], [\"Scrypt\", 210000000.0, \"210000000\"], [\"1GB AES Pattern Search\", 11448949.0, \"81962100\"], [\"Scrypt\", 69836100.0, \"84000000\"], [\"SHA-256\", 21739971929.0, \"21626280000 \"], [\"X11\", 45110324.0, \"84000000\"], [\"Dagger\", 5702048.0, \"30000000\"], [\"Scrypt\", 636462.55983338, \"168351300\"], [\"X11GOST\", 17263355.0, \"24000000\"], [\"Scrypt\", 6570807.65677618, \"20000000\"], [\"X11\", 13654082.4987998, \"25000000\"], [\"Scrypt\", 616448.0, \"616448\"], [\"X11\", 1377917.0, \"25000000\"], [\"Equihash\", 115898131.0, \"200000000\"], [\"CryptoNight\", 7822432.72439746, \"10000000\"], [\"SHA-256\", 6243840.0, \"9736000\"], [\"Multiple\", 1000000000.0, \"1200000000\"], [\"Scrypt\", 116845228.0, \"200000000\"], [\"SHA-256\", 9106714.0, \"10638298\"], [\"Scrypt\", 11119200.0, \"30000000\"], [\"Lyra2Z\", 7568281.24956067, \"21400000\"], [\"Ethash\", 26205539.0, \"26205539\"], [\"Equihash\", 5613550.0, \"21000000\"], [\"Scrypt\", 196297971.0, \"10000000000\"], [\"X11\", 824000000.0, \"500000000\"], [\"X11\", 61364813.0, \"228000000\"], [\"CryptoNight\", 978145.0, \"21000000\"], [\"Scrypt\", 894026.0, \"2714286\"], [\"CryptoNight\", 9357088.0, \"25000000\"], [\"Lyra2RE\", 1876146.4435959999, \"9999999\"], [\"X11\", 536982074.0, \"100000000000\"], [\"CryptoNight-V7\", 10969318.522954, \"185000000\"], [\"Scrypt\", 3115258.0, \"3360000\"], [\"X11\", 30385540.0, \"1000000000\"], [\"Equihash\", 6921653.89980891, \"17000000\"], [\"Scrypt\", 99843408.3158479, \"100000000 \"], [\"Lyra2RE\", 18545757.5, \"21000000\"], [\"Dagger-Hashimoto\", 2232901.0, \"2232901\"], [\"Scrypt\", 64096052.0, \"4000000000\"], [\"NIST5\", 10123200.0, \"48252000\"], [\"Scrypt\", 20276099.146523997, \"35520400\"], [\"SHA-256\", 1317747500.0, \"2500000000\"], [\"Scrypt\", 13673406.4325268, \"72000000\"], [\"CryptoNight-V7\", 69036016.8340164, \"105000000\"], [\"Argon2d\", 19784224.6512734, \"0\"], [\"Blake2b\", 133248297.0, \"340282367\"], [\"Cloverhash\", 18407259.0885883, \"30000000\"], [\"CryptoNight\", 1809467143.0, \"2000000000\"], [\"X11\", 35138975.0, \"100000000\"], [\"Scrypt\", 18133195.0, \"19276800\"], [\"Scrypt\", 5167775.0, \" 75000000\"], [\"X11\", 26042364.373555303, \"60000000\"], [\"X11\", 2622886.0, \"18900000\"], [\"CryptoNight\", 14161803.0, \"54000000\"], [\"Time Travel\", 17801865.1605478, \"21000000\"], [\"Scrypt\", 163055097500.0, \"200000000000\"], [\"Keccak\", 2241009149.22257, \"5000000000\"], [\"X11\", 122475638.389743, \"1100000000\"], [\"SHA-256\", 17995589.6469082, \"21000000\"], [\"Scrypt\", 485214.0, \"10500000000\"], [\"Scrypt\", 143006669741.68698, \"0\"], [\"Scrypt\", 9704042.0, \"20000000\"], [\"Scrypt\", 17453749.4042601, \"84000000\"], [\"Scrypt\", 32646731.063036, \"100000000\"], [\"Scrypt\", 33716526.0, \"100000000\"], [\"CryptoNight\", 8946653.0, \"88888888\"], [\"Equihash\", 5211553258.01514, \"21000000000\"], [\"X11\", 2702855668.85288, \"1800000000\"], [\"NeoScrypt\", 4165967.57499639, \"27000000\"], [\"Equihash\", 17202361.088994, \"21000000\"], [\"Dagger\", 33986980.0, \"156306732.71\"], [\"Scrypt\", 99990001.493466, \"100000000\"], [\"X11\", 175215859.0, \"350000000\"], [\"NeoScrypt\", 6375259.04, \"45000000\"], [\"Ethash\", 12756367.0, \"280000000\"], [\"NeoScrypt\", 5832306.875, \"31800000\"], [\"Multiple\", 481730566.566176, \"660000000\"], [\"CryptoNight\", 19281821413.4924, \"85000000000\"], [\"CryptoNight\", 4500000.0, \"12500000\"], [\"Ethash\", 520891780.0, \"10000000000\"], [\"X11\", 80316207.0, \"550000000\"], [\"CryptoNight-V7\", 441250233.377, \"999481516\"], [\"Scrypt\", 3964201248.87125, \"4999999999\"], [\"BLAKE256\", 30089671530.5228, \" 90000000000\"], [\"X11\", 4229040.50393462, \"19800000\"], [\"NeoScrypt\", 7847417.33355824, \"21000000\"], [\"NeoScrypt\", 299797953.0, \"500000000\"], [\"Scrypt\", 45483049.3398182, \"64000000\"], [\"X11\", 8478104.33969947, \"23000000\"], [\"SHA-256\", 20166000.0, \"20166000\"], [\"C11\", 11916588.09471, \"23000000\"], [\"CryptoNight\", 53139835213.77, \"1000000000000\"], [\"SkunkHash\", 4818338.98949984, \"16600000\"], [\"CryptoNight\", 133932467.77410801, \"336000000\"], [\"Scrypt\", 10000000000.0, \"10000000000\"], [\"Dagger\", 107325266.02778299, \"100000000\"], [\"Lyra2REv2\", 643795911.540095, \"1100000000\"], [\"Scrypt\", 12446100.00278, \"40000000\"], [\"Scrypt\", 14491014421.0, \"18406979840\"], [\"X11\", 211297638.500483, \"500000000\"], [\"Ethash\", 247612453.0, \"6500000000\"], [\"CryptoNight\", 80049082.9057215, \"1000000000\"], [\"Scrypt\", 4070212.1493015997, \"21000000\"], [\"IMesh\", 25000000.0, \"25000000\"], [\"Equihash\", 71355477.0, \"70000000\"], [\"Lyra2Z\", 27340501.6514783, \"300000000\"], [\"X11\", 31801461.1867843, \"100000000\"], [\"CryptoNight\", 16016864.0, \"18400000\"], [\"NIST5\", 21069346.252259802, \"21000000\"], [\"Lyra2RE\", 5097689.71077377, \"26280000\"], [\"Tribus\", 795447.0, \"18000000\"], [\"Lyra2Z\", 6986399.70430446, \"10500000\"], [\"CryptoNight\", 84300.0, \"600000518\"], [\"CryptoNight Heavy\", 19153632.0, \"150000000\"], [\"CryptoNight\", 41294520017.0, \"184000000000\"], [\"Jump Consistent Hash\", 135862416.039898, \"168000000\"], [\"CryptoNight\", 560085952.404637, \"1000000000\"], [\"X16R\", 8125865.02097646, \"22075700\"], [\"HMQ1725\", 8645406.16776286, \"21000000\"], [\"X11\", 4993030.69736615, \"21000000\"], [\"Scrypt\", 1416663.06600024, \"22105263\"], [\"CryptoNight-V7\", 15580199.3087496, \"1750000000\"], [\"Cryptonight-GPU\", 4890897.0, \"88188888\"], [\"XEVAN\", 14746153.0962884, \"210000000\"], [\"CryptoNight Heavy\", 99553110528.8022, \"184470000000\"], [\"SHA-256\", 2100000000.0, \"2100000000\"], [\"X11\", 5015881.37315389, \"25000000\"], [\"X16R\", 9753753.61515394, \"100000000\"], [\"Equihash\", 4235111504.0, \"7600000000\"], [\"Lyra2Z\", 13634850.0, \"84000000\"], [\"SHA-256\", 17992514.6469233, \"21000000\"], [\"CryptoNight\", 1867054873.2839699, \"8080000000\"], [\"Blake\", 1578281.31341127, \"105120001.44\"], [\"Blake\", 15846721.248274697, \"25228800\"], [\"Equihash\", 13475920.0, \"105000000\"], [\"Exosis\", 406091.925, \"21000000\"], [\"Scrypt\", 35284717.173946, \"120000000\"], [\"Equihash\", 35687520.0, \"262800000\"], [\"Equihash\", 25150787.5, \"30886000\"], [\"QuBit\", 12925790.4226959, \"100000000\"], [\"SHA-256\", 52293836.62779579, \"64000000\"], [\"X13\", 1170292.5, \"2100000\"], [\"SHA-256\", 84613099.9999955, \"168000000\"], [\"Scrypt\", 55565076.3863525, \"98100000000\"], [\"NeoScrypt\", 3824685012.0, \"4000000000\"], [\"Blake\", 23356790.1494191, \"7000000000\"], [\"Scrypt\", 780210700.0, \"1000000000\"], [\"SHA-256\", 22986929.0854247, \"42000000\"], [\"Scrypt\", 29583989322.9213, \"50000000000\"], [\"Groestl\", 73298203.8873662, \"105000000\"], [\"Scrypt\", 5052555.91981545, \"5000000\"], [\"Scrypt\", 69684455.4387001, \"182000000\"], [\"Multiple\", 3332922.5, \"2800000\"], [\"Equihash+Scrypt\", 100000000.0, \"2100000000\"], [\"Ethash\", 24487944.095820397, \"24487944\"], [\"CryptoNight\", 980222595.0, \"1400222610\"], [\"Equihash\", 7296537.5, \"21000000\"]], \"hovertemplate\": \"<b>%{hovertext}</b><br><br>Class=%{marker.color}<br>PC 1=%{x}<br>PC 2=%{y}<br>PC 3=%{z}<br>Algorithm=%{customdata[0]}<br>TotalCoinsMined=%{customdata[1]}<br>TotalCoinSupply=%{customdata[2]}<extra></extra>\", \"hovertext\": [\"Bitcoin\", \"Ethereum\", \"Litecoin\", \"Monero\", \"Ethereum Classic\", \"ZCash\", \"DigiByte\", \"ProsperCoin\", \"Spreadcoin\", \"Argentum\", \"MyriadCoin\", \"MoonCoin\", \"ZetaCoin\", \"SexCoin\", \"Quatloo\", \"QuarkCoin\", \"Riecoin\", \"Digitalcoin \", \"Catcoin\", \"CannaCoin\", \"CryptCoin\", \"Verge\", \"DevCoin\", \"EarthCoin\", \"E-Gulden\", \"Einsteinium\", \"Emerald\", \"Franko\", \"FeatherCoin\", \"GrandCoin\", \"GlobalCoin\", \"GoldCoin\", \"Infinite Coin\", \"IXcoin\", \"KrugerCoin\", \"LuckyCoin\", \"Litebar \", \"MegaCoin\", \"MediterraneanCoin\", \"MinCoin\", \"NobleCoin\", \"Namecoin\", \"NyanCoin\", \"RonPaulCoin\", \"StableCoin\", \"SmartCoin\", \"SysCoin\", \"TigerCoin\", \"TerraCoin\", \"UnbreakableCoin\", \"Unobtanium\", \"UroCoin\", \"ViaCoin\", \"Vertcoin\", \"WorldCoin\", \"JouleCoin\", \"ByteCoin\", \"DigitalNote \", \"MonaCoin\", \"Gulden\", \"PesetaCoin\", \"Wild Beast Coin\", \"Flo\", \"ArtByte\", \"Folding Coin\", \"Unitus\", \"CypherPunkCoin\", \"OmniCron\", \"GreenCoin\", \"Cryptonite\", \"MasterCoin\", \"SoonCoin\", \"1Credit\", \"MarsCoin \", \"Crypto\", \"Anarchists Prime\", \"BowsCoin\", \"Song Coin\", \"BitZeny\", \"Expanse\", \"Siacoin\", \"MindCoin\", \"I0coin\", \"Revolution VR\", \"HOdlcoin\", \"Gamecredits\", \"CarpeDiemCoin\", \"Adzcoin\", \"SoilCoin\", \"YoCoin\", \"SibCoin\", \"Francs\", \"BolivarCoin\", \"Omni\", \"PizzaCoin\", \"Komodo\", \"Karbo\", \"ZayedCoin\", \"Circuits of Value\", \"DopeCoin\", \"DollarCoin\", \"Shilling\", \"ZCoin\", \"Elementrem\", \"ZClassic\", \"KiloCoin\", \"ArtexCoin\", \"Kurrent\", \"Cannabis Industry Coin\", \"OsmiumCoin\", \"Bikercoins\", \"HexxCoin\", \"PacCoin\", \"Citadel\", \"BeaverCoin\", \"VaultCoin\", \"Zero\", \"Canada eCoin\", \"Zoin\", \"DubaiCoin\", \"EB3coin\", \"Coinonat\", \"BenjiRolls\", \"ILCoin\", \"EquiTrader\", \"Quantum Resistant Ledger\", \"Dynamic\", \"Nano\", \"ChanCoin\", \"Dinastycoin\", \"DigitalPrice\", \"Unify\", \"SocialCoin\", \"ArcticCoin\", \"DAS\", \"LeviarCoin\", \"Bitcore\", \"gCn Coin\", \"SmartCash\", \"Onix\", \"Bitcoin Cash\", \"Sojourn Coin\", \"NewYorkCoin\", \"FrazCoin\", \"Kronecoin\", \"AdCoin\", \"Linx\", \"Sumokoin\", \"BitcoinZ\", \"Elements\", \"VIVO Coin\", \"Bitcoin Gold\", \"Pirl\", \"eBoost\", \"Pura\", \"Innova\", \"Ellaism\", \"GoByte\", \"SHIELD\", \"UltraNote\", \"BitCoal\", \"DaxxCoin\", \"AC3\", \"Lethean\", \"PopularCoin\", \"Photon\", \"Sucre\", \"SparksPay\", \"GunCoin\", \"IrishCoin\", \"Pioneer Coin\", \"UnitedBitcoin\", \"Interzone\", \"TurtleCoin\", \"MUNcoin\", \"Niobio Cash\", \"ShareChain\", \"Travelflex\", \"KREDS\", \"BitFlip\", \"LottoCoin\", \"Crypto Improvement Fund\", \"Callisto Network\", \"BitTube\", \"Poseidon\", \"Aidos Kuneen\", \"Bitrolium\", \"Alpenschillling\", \"FuturoCoin\", \"Monero Classic\", \"Jumpcoin\", \"Infinex\", \"KEYCO\", \"GINcoin\", \"PlatinCoin\", \"Loki\", \"Newton Coin\", \"MassGrid\", \"PluraCoin\", \"Motion\", \"PlusOneCoin\", \"Axe\", \"HexCoin\", \"Webchain\", \"Ryo\", \"Urals Coin\", \"Qwertycoin\", \"Project Pai\", \"Azart\", \"Xchange\", \"CrypticCoin\", \"Actinium\", \"Bitcoin SV\", \"FREDEnergy\", \"Universal Molecule\", \"Lithium\", \"PirateCash\", \"Exosis\", \"Block-Logic\", \"Beam\", \"Bithereum\", \"SLICE\", \"BLAST\", \"Bitcoin Rhodium\", \"GlobalToken\", \"SolarCoin\", \"UFO Coin\", \"BlakeCoin\", \"Crypto Escudo\", \"Crown Coin\", \"SmileyCoin\", \"Groestlcoin\", \"Bata\", \"Pakcoin\", \"JoinCoin\", \"Vollar\", \"Reality Clash\", \"Beldex\", \"Horizen\"], \"legendgroup\": \"1\", \"marker\": {\"color\": [1, 1, 1, 1, 1, 1, 1, 1, 1, 1, 1, 1, 1, 1, 1, 1, 1, 1, 1, 1, 1, 1, 1, 1, 1, 1, 1, 1, 1, 1, 1, 1, 1, 1, 1, 1, 1, 1, 1, 1, 1, 1, 1, 1, 1, 1, 1, 1, 1, 1, 1, 1, 1, 1, 1, 1, 1, 1, 1, 1, 1, 1, 1, 1, 1, 1, 1, 1, 1, 1, 1, 1, 1, 1, 1, 1, 1, 1, 1, 1, 1, 1, 1, 1, 1, 1, 1, 1, 1, 1, 1, 1, 1, 1, 1, 1, 1, 1, 1, 1, 1, 1, 1, 1, 1, 1, 1, 1, 1, 1, 1, 1, 1, 1, 1, 1, 1, 1, 1, 1, 1, 1, 1, 1, 1, 1, 1, 1, 1, 1, 1, 1, 1, 1, 1, 1, 1, 1, 1, 1, 1, 1, 1, 1, 1, 1, 1, 1, 1, 1, 1, 1, 1, 1, 1, 1, 1, 1, 1, 1, 1, 1, 1, 1, 1, 1, 1, 1, 1, 1, 1, 1, 1, 1, 1, 1, 1, 1, 1, 1, 1, 1, 1, 1, 1, 1, 1, 1, 1, 1, 1, 1, 1, 1, 1, 1, 1, 1, 1, 1, 1, 1, 1, 1, 1, 1, 1, 1, 1, 1, 1, 1, 1, 1, 1, 1, 1, 1, 1, 1, 1, 1, 1, 1, 1, 1, 1, 1, 1, 1, 1, 1, 1, 1, 1, 1, 1, 1, 1], \"coloraxis\": \"coloraxis\", \"symbol\": \"diamond\"}, \"mode\": \"markers\", \"name\": \"1\", \"scene\": \"scene\", \"showlegend\": true, \"type\": \"scatter3d\", \"x\": [-0.14465638323133287, -0.1510715689825585, -0.16034488958471918, -0.14920657083989136, -0.14951279566286488, -0.18717549543134987, 0.16703451645449882, -0.16149112637748483, -0.22902013206414967, -0.16110752578666382, -0.08640313461622628, 2.5618805413788928, -0.14174140035519484, -0.1583627064602625, -0.16091139333216792, -0.21961463971903297, -0.19941769814998778, -0.16096048090870974, -0.1614733987419652, -0.16155987379984474, -0.22910945532717722, 0.19074660654276143, 0.23319011410037846, 0.08716827985735211, -0.16130620889066732, -0.15691129968631454, -0.16124545349132874, -0.1616168686409262, -0.17129360430394422, -0.14083755786279323, -0.16041202692229464, -0.16068936082805732, 1.5872499904945985, -0.14461776648651525, -0.15797847781524624, -0.16133264747174697, -0.16168745439554622, -0.1609467075434973, -0.1592851828987889, -0.16156870756144415, -0.02642563203996715, -0.1446953492540703, -0.1552327827642525, -0.1615480854157803, -0.15964162669559973, -0.16103481744300213, -0.1318464385243452, -0.14415914155970302, -0.14444627601356255, -0.1444290220727334, -0.1450200311191108, -0.22928340351445964, -0.16126466339710402, -0.17113537202003612, -0.15836731932963682, -0.14422642522636725, 3.8705077708827087, 0.4695688384805635, -0.16013213349640512, -0.14472639286755964, -0.15885101477908659, -0.16168965467848265, -0.15871614361479444, -0.14493929676992404, -0.11500186242307525, -0.12041044359805984, -0.18596501674360105, -0.16156277292934726, -0.034481783227230355, -0.12251867362066328, -0.16169855698671282, -0.14472311685384787, 0.49081758527110764, -0.22867059599966885, -0.15061358743480993, -0.14446286100154576, -0.2289554703357685, -0.15982165947984114, -0.15901393373555164, -0.1521385371069803, 0.3799383680420432, -0.22899088665285236, -0.14461888843703252, -0.15765651368431485, -0.15916457486462315, -0.1602618857775852, 0.273854569128417, -0.22815147053283238, -0.14118478674220616, -0.16050868058479967, -0.13348023886002325, -0.16148841889111382, -0.22895408531650516, -0.16169861548017295, -0.22910400292083505, -0.43787480420268954, 0.31446459255128517, -0.14487895314219346, -0.10048230361025194, -0.1588650547393923, -0.14483759175955357, -0.1613619466764895, -0.13669613613554119, -0.15188072614335119, -0.187197104796088, -0.088386457495828, -0.21568904486352153, -0.22693162264867925, 0.31445902904780304, -0.16168034636921116, 0.3145897241710616, -0.15115419780859043, 0.4865280288686147, -0.14797052769319263, -0.16164864064416581, -0.2218343913813948, -0.18720950085728252, -0.15978195094922154, -0.15087260752116838, -0.14873524894895324, -0.13255702911972897, -0.19763159596678875, -0.16121096736654447, -0.11120009777642394, -0.1610328617128781, -0.14782882690969595, -0.1416026217861067, -0.020220161963513828, -0.16200550490794424, 0.350580878204433, -0.22815975855627935, -0.16135234743772878, -0.1611154551710352, -0.22855455456073426, -0.2291320646295238, 0.3148540876361381, -0.14542993785896627, 3.248069571949643, -0.11479898168968199, -0.22000051055956246, -0.14465554774569467, -0.08723139745051989, 1.5846994142500184, -0.16145015555989795, -0.16090158361411683, -0.16060256263563627, -0.1605894982065123, 0.31503785566330067, 0.025175724704196586, -0.18352380492560522, -0.17598265399535895, -0.1870555812237914, -0.13994351481057501, -0.15978016074054427, -0.22467595616477182, -0.1758280056044402, -0.15024488442812756, -0.1759282596262149, -0.11064150507998625, 1.1526476517465216, 0.31444175042553346, -0.07509859181363088, -0.22441634198782878, -0.1369390387476519, -0.07783591908448928, 1.0998332331646408, -0.2291060667140255, -0.17598025191990468, -0.16901753036660713, -0.16070114105821706, -0.22903148018354125, -0.1446349578043907, -0.19085278383263887, 8.055931484373772, -0.16148867077860277, 0.3183168746278191, 0.031337207185647226, -0.13944726718272604, -0.15669205014660306, -0.16127481560744464, 0.1458099273561504, -0.22317141956857964, -0.10326030044961626, 0.3223683888977299, -0.1615118636966191, -0.14524327541903326, -0.1860467170796432, -0.13447865400187026, -0.2282005165662087, 0.3146242422154495, -0.19769121052632707, -0.15099938712151073, -0.13514130945577565, -0.13678055239070777, 0.3185547816480593, 0.5857303645452483, 2.1236444671626535, -0.13152471925276435, 0.32823064103764904, -0.18720938433223291, -0.1434327817136828, -0.22908822557706465, -0.16153642978723418, -0.13681416712376382, -0.13374518272687383, -0.14384741289633188, 3.1085714387927723, -0.104484236001341, -0.22905957578244943, -0.18663681189763853, -0.08179064676771901, -0.13617804858493557, -0.14465558529786282, 0.39440766964802343, -0.14445890476951428, -0.14485130046536882, -0.310929571042323, -0.15368581371541096, -0.16042849361820818, -0.18511482760691056, -0.18688839606252794, -0.18517563077467608, -0.1439317091037751, -0.10429199267329897, -0.14279938419480828, 0.5347604523247856, -0.10114690436143808, -0.09528973148617076, -0.14508982967417933, -0.14444564668702636, 0.5542059954452239, -0.19897871934750624, -0.161613350189445, -0.1595686545400733, -0.12114505146555532, -0.10372704010966305, -0.151913883922569, 0.33620003929899434, -0.187176552005875], \"y\": [-1.264207537268809, -2.059971861458683, -1.1191396424560194, -2.176656993532248, -2.0600687966936904, -2.260933201425667, -1.8157150361618508, -1.1191317832988905, -0.9190569605018016, -1.1191496172920516, -1.8104598728415757, -1.3003404216107777, -1.264219602171083, -1.1191928130478601, -1.119168457765765, -0.45913356461840965, -1.241112731888075, -1.1191340345097793, -1.1191312289180744, -1.1191284805305877, -0.9190583663881717, -1.8118899193716422, -1.266945045371666, -1.120706339434147, -1.119126000536316, -1.1191819665437044, -1.119131731515759, -1.1191289419060177, -1.6016345203023206, -1.1194568407748535, -1.1191320298906944, -1.1191422605999894, -1.1272814790439556, -1.2642063296411818, -1.1191914951331825, -1.1191261336060097, -1.1191242912774655, -1.119129326304369, -2.1682733026845256, -1.1191265784974713, -1.1252992436698546, -1.2642087558191075, -1.1191552874036754, -1.119133564528998, -1.1192328076000209, -1.1191384639202846, -1.2644083991039337, -1.264210032511278, -1.264215534908602, -1.2642413567351571, -1.2642045146021166, -0.9190513191413774, -1.1191260887622771, -1.1241608916650077, -1.1192036550332287, -1.264210740870207, -2.2785587561356846, -2.263881631304093, -1.1191476405065393, -1.1197583974354586, -1.1191500787074045, -1.119125246660288, -1.1191414308980108, -1.1192933251854884, -2.1665825330447084, -1.810135911838417, -1.5636681290417545, -1.1191217944669054, -1.1220825721638765, -2.2157396097774154, -1.1191241317006992, -1.2642096241709304, -1.1625404584065606, -0.919055048138266, -2.191804844243132, -1.2642242117141032, -0.9190556321131081, -1.1192108552648667, -1.1192131783079522, -2.0600169561389783, -2.2615951701697288, -0.9190532710521021, -1.2642063647269575, -1.119142980064098, -2.3429556537364467, -1.1191370467507042, -1.2661078450132588, -0.9190741937478456, -2.0246139157421297, -1.1192032808076702, -2.068469664753128, -1.1191310049091483, -0.9190583636841856, -1.1191241314279399, -0.9190630519260948, -2.4810406115140498, -2.2618017987922134, -1.2642066834305226, -1.8103451816455463, -1.1191738365008788, -1.2642060159152109, -1.1191339870633017, -2.107621387695785, -2.0600153448516516, -2.260933877196401, -1.1237682858207376, -0.9189730551186802, -0.9191359423221586, -2.2618096037046067, -1.1191250154280874, -2.2618082914740802, -2.1917830482128045, -0.9660384645754271, -2.176746678202918, -1.1191244718680158, -0.9195120936033623, -2.2609314899639923, -1.119133137703536, -2.1917818732169407, -2.2751651011543004, -1.1209872680551978, -0.6477947494230651, -1.11913309523642, -1.2648810222557425, -1.1191528321550237, -2.1766867492470134, -2.1498155044256473, -2.274345038319441, -2.356811388281397, -2.2620528704065053, -0.9190855524662295, -1.1191262479668378, -1.1191574961905661, -0.91907014974011, -0.9190596977778818, -2.261820142172919, -2.156193755725828, -1.1512371888712172, -1.2222332315943818, -0.9195241163442304, -1.2642075111414033, -1.1240790250862667, -1.0645101280799005, -1.1191298083335104, -1.119157051460758, -1.1191587999739332, -1.1191583914214864, -2.2618385985069276, -2.2688460983552017, -0.9188690169083015, -1.6015667970897018, -2.260929451453702, -2.0246627201517904, -1.1191330817199079, -0.919150036789154, -1.6015744478821206, -2.06014025112683, -1.6015684259225318, -1.810288272171263, -2.294549372937818, -2.2618042474162343, -2.0645332340269094, -0.919280662281014, -2.1769667229574865, -1.1199697436100693, -1.208577705219727, -0.9190595091166486, -1.6015625596463425, -1.6016771128624052, -1.1191369087784397, -0.9190593965442769, -1.2642062886869807, -1.0781929313100898, -2.71342364209314, -2.239273943504203, -2.2619074827606083, -1.120024272535408, -2.024608140277553, -1.1244140387399193, -1.1191381994986371, -1.122276564999395, -0.9192070448681259, -2.06298588734558, -2.2622414139769638, -1.119132431798906, -2.023635802350104, -2.260931894452861, -2.1077453129603496, -0.9190868270557695, -2.261802633463623, -0.6477777084151873, -2.1917895007306356, -2.1167571307705573, -2.1076164660136505, -2.262083185577859, -2.2357628372636, -2.3328626085426807, -2.143930369392095, -2.262058088901238, -1.258986760380766, -2.298754566755789, -0.9190597836514732, -1.119133966776772, -2.1774834683094735, -2.2320989392242905, -0.7370170768698623, -2.284734873393579, -1.264393514636498, -0.9190616625951153, -1.2590229125395818, -2.2628953040201947, -2.1076486129255683, -1.2642075123157395, -2.2649001365799015, -2.2156762401974497, -2.215633089048698, -0.3189374508292837, -2.235620298438506, -1.1191672308838978, -2.2610365016778924, -2.2609310813433585, -1.5637128153551598, -1.2642147051680472, -0.3108528955103456, -1.2642514419359743, -1.1653979690669454, -1.60198267735663, -2.218921738023843, -1.1192980326691333, -1.2642155152282246, -1.1314218906810756, -1.2411135722272908, -1.1191245059628048, -1.1191833525850063, -1.810160827005226, -1.9733867036654036, -2.0600151902342967, -2.2620865116771434, -2.2609332344669975], \"z\": [0.1760638607226717, 0.3565872674219903, 0.02005077276027919, 0.4109423576142544, 0.3565627690183796, 0.5223947492465799, 0.299956594794022, 0.020080067999657822, 0.0476691273703609, 0.020072968247942472, 0.3058082601578309, -0.020613892248148066, 0.175987951328298, 0.020007152433226066, 0.020071067399516217, 0.12163790421314809, 0.16375392117031243, 0.020066259167927335, 0.020079494697351336, 0.020081321424436634, 0.047671769261031845, 0.29864129839567594, 0.16643306443244904, 0.013701702946144102, 0.02007408786646087, 0.019966358505684113, 0.020073480338026237, 0.020082929653313958, 0.23550760824931163, 0.01958483771840971, 0.020051216512965653, 0.020060462436620196, -0.0252969210027113, 0.1760626118776832, 0.019996629426050093, 0.020074819488035092, 0.020083992567605187, 0.020065052933721714, 0.4127137534613538, 0.02008121966501994, 0.017560351774499265, 0.17606512086313253, 0.019916667128098756, 0.020081910024669133, 0.020048512033592394, 0.02006903753135215, 0.17575657138725706, 0.17605098975819197, 0.17605965711664498, 0.17606378788039437, 0.1760730605993543, 0.04767517366748393, 0.020072991083449107, 0.20573272753613686, 0.02000920435386534, 0.17605291742332757, 0.2776314984598957, 0.3660888526930376, 0.02004649829775324, 0.01974260625621143, 0.02001262709372728, 0.020084221413551047, 0.02000747747571402, 0.019665587561142738, 0.6017352289298559, 0.30666126228847645, 0.20324939868175532, 0.020080209844176206, 0.017203943022648077, 0.3798098030042519, 0.020084261481793313, 0.1760660188525447, 0.010333863283944226, 0.047659427604928827, 0.35872221873224475, 0.17606164451015244, 0.04766715963252718, 0.020049428288064716, 0.020028212777029854, 0.3566238586516489, 0.5625479810464225, 0.0476676880369923, 0.1760626481609663, 0.019979379011177942, 0.44805861344499615, 0.02004808846129374, 0.16519527306591772, 0.04764893215542249, 0.36967171122252257, 0.020066477619040665, 0.46567978576172214, 0.020079857052908413, 0.047667608394058855, 0.020084262999575043, 0.047672456649666524, 0.9932100825978813, 0.36987219461805193, 0.17606966867191864, 0.3061648625331314, 0.020017228705482525, 0.17606844239961492, 0.020077000889531935, 0.4565563268113637, 0.3566166685854443, 0.522395448081945, 0.01894719152558622, 0.04729723337703719, 0.0476272508069315, 0.3698737318076708, 0.02008393103444283, 0.36986999874919774, 0.3587328180742429, 0.03686502051543282, 0.4109252114308431, 0.020082985361564054, 0.04755766465549238, 0.5223953554116545, 0.020034541833413577, 0.3587250688630763, 0.5517850111194844, 0.01963531584791287, -0.09511687252561225, 0.020072799450483177, 0.175287781289977, 0.020071540756133502, 0.4109107578564916, 0.38620081265691797, 0.5755308819169549, 0.31236903135375627, 0.3689497554224738, 0.04765117439496579, 0.02007536734020087, 0.020074581948891276, 0.04765900636464371, 0.047672611483118944, 0.36986502762961354, 0.4397039861649409, -0.0655082872561393, 0.17050330154291288, 0.047510696732800624, 0.1760638337035156, 0.01897153153765702, -0.03639339672631344, 0.020078619637123037, 0.020068775949178504, 0.020061079979005893, 0.02006065748231498, 0.36986338954221687, 0.5181159822215319, 0.04641743112412913, 0.23562112270644145, 0.5223908712848695, 0.36964715389345687, 0.020034483939016995, 0.047569357097954214, 0.23561834244514215, 0.35659508154533687, 0.2356199558842485, 0.30642677614374464, 0.35325255305059494, 0.36987324179045156, 0.35536422253275307, 0.04758563892941832, 0.41066895625420546, 0.017989052325788873, 0.13533654950670732, 0.047671881773627675, 0.23562030469612155, 0.2354542368734813, 0.02005982598191273, 0.047669864526746424, 0.17606306493010393, 0.024990530333166273, 0.24290411735586, 0.264876186427453, 0.36978783837800194, 0.015075391870842152, 0.3696241579294313, 0.20539100047552147, 0.02007541699788461, 0.012410726066372895, 0.04753920939637138, 0.35584309893725735, 0.36973874424562914, 0.0200807386335317, 0.381740908775856, 0.5223642911707902, 0.45651899053721995, 0.04765249248733459, 0.3698680680926717, -0.09511830719439854, 0.3587298203369984, 0.522550143302515, 0.45655771185810246, 0.3698127191083748, 0.421020281567881, 0.334066452222306, 0.3854050432874532, 0.36954916212857836, 0.21335790597356388, 0.511339076879091, 0.047671452866440464, 0.020081669464118646, 0.41075752300666085, 0.46260672723895907, 0.1502760571363961, 0.3621758335195354, 0.17502123865941596, 0.04767101989963478, 0.2133490042152087, 0.5199218175319933, 0.45654729622923873, 0.1760638349179329, 0.3682826198147397, 0.5394221391496499, 0.5394249713958889, 0.24156395402420885, 0.37737405276383, 0.02005791844113088, 0.5223579435824872, 0.5223866844202063, 0.20323620916721363, 0.1760457308341439, -0.06641436325602998, 0.176021944408951, 0.009665441614290815, 0.23369119519581005, 0.538682780231989, 0.019670455715223044, 0.1760596367645593, 0.0031016164654416546, 0.16374231597892935, 0.02008204644347414, 0.020037761763477872, 0.30668536460291873, 0.2787813769097492, 0.35661752895964455, 0.36934081872562285, 0.5223947834156382]}, {\"customdata\": [[\"VeChainThor Authority\", 55454734800.0, \"86712634466\"], [\"Proof-of-BibleHash\", 1772091549.88818, \"5200000000\"], [\"SHA-256 + Hive\", 638382332.208514, \"840000000\"], [\"Proof-of-Authority\", 204479039.0, \"252460800\"], [\"ECC 256K1\", 1000000000.0, \"1000000000\"], [\"Leased POS\", 100000000.0, \"100000000\"]], \"hovertemplate\": \"<b>%{hovertext}</b><br><br>Class=%{marker.color}<br>PC 1=%{x}<br>PC 2=%{y}<br>PC 3=%{z}<br>Algorithm=%{customdata[0]}<br>TotalCoinsMined=%{customdata[1]}<br>TotalCoinSupply=%{customdata[2]}<extra></extra>\", \"hovertext\": [\"Vechain\", \"BiblePay\", \"LitecoinCash\", \"Poa Network\", \"Acute Angle Cloud\", \"Waves\"], \"legendgroup\": \"3\", \"marker\": {\"color\": [3, 3, 3, 3, 3, 3], \"coloraxis\": \"coloraxis\", \"symbol\": \"square\"}, \"mode\": \"markers\", \"name\": \"3\", \"scene\": \"scene\", \"showlegend\": true, \"type\": \"scatter3d\", \"x\": [4.392251065173206, -0.17586872397485895, -0.39503066162978584, -0.41232953079556656, -0.322728004002281, -0.39765330827759354], \"y\": [2.360520284599003, 3.8079485469872525, 2.6208819529734617, 2.89014727689007, 3.8328692062325707, 3.8788157233499287], \"z\": [10.036614772591403, 14.432520168105878, 16.805845774047967, 14.597051181624074, 8.053603373596976, 10.997604767117148]}, {\"customdata\": [[\"TRC10\", 989988713439.649, \"990000000000\"]], \"hovertemplate\": \"<b>%{hovertext}</b><br><br>Class=%{marker.color}<br>PC 1=%{x}<br>PC 2=%{y}<br>PC 3=%{z}<br>Algorithm=%{customdata[0]}<br>TotalCoinsMined=%{customdata[1]}<br>TotalCoinSupply=%{customdata[2]}<extra></extra>\", \"hovertext\": [\"BitTorrent\"], \"legendgroup\": \"2\", \"marker\": {\"color\": [2], \"coloraxis\": \"coloraxis\", \"symbol\": \"x\"}, \"mode\": \"markers\", \"name\": \"2\", \"scene\": \"scene\", \"showlegend\": true, \"type\": \"scatter3d\", \"x\": [34.048974892025996], \"y\": [1.7023035818021786], \"z\": [-1.302670457129517]}],                        {\"coloraxis\": {\"colorbar\": {\"title\": {\"text\": \"Class\"}}, \"colorscale\": [[0.0, \"#0d0887\"], [0.1111111111111111, \"#46039f\"], [0.2222222222222222, \"#7201a8\"], [0.3333333333333333, \"#9c179e\"], [0.4444444444444444, \"#bd3786\"], [0.5555555555555556, \"#d8576b\"], [0.6666666666666666, \"#ed7953\"], [0.7777777777777778, \"#fb9f3a\"], [0.8888888888888888, \"#fdca26\"], [1.0, \"#f0f921\"]]}, \"legend\": {\"title\": {\"text\": \"Class\"}, \"tracegroupgap\": 0, \"x\": 0, \"y\": 1}, \"margin\": {\"t\": 60}, \"scene\": {\"domain\": {\"x\": [0.0, 1.0], \"y\": [0.0, 1.0]}, \"xaxis\": {\"title\": {\"text\": \"PC 1\"}}, \"yaxis\": {\"title\": {\"text\": \"PC 2\"}}, \"zaxis\": {\"title\": {\"text\": \"PC 3\"}}}, \"template\": {\"data\": {\"bar\": [{\"error_x\": {\"color\": \"#2a3f5f\"}, \"error_y\": {\"color\": \"#2a3f5f\"}, \"marker\": {\"line\": {\"color\": \"#E5ECF6\", \"width\": 0.5}}, \"type\": \"bar\"}], \"barpolar\": [{\"marker\": {\"line\": {\"color\": \"#E5ECF6\", \"width\": 0.5}}, \"type\": \"barpolar\"}], \"carpet\": [{\"aaxis\": {\"endlinecolor\": \"#2a3f5f\", \"gridcolor\": \"white\", \"linecolor\": \"white\", \"minorgridcolor\": \"white\", \"startlinecolor\": \"#2a3f5f\"}, \"baxis\": {\"endlinecolor\": \"#2a3f5f\", \"gridcolor\": \"white\", \"linecolor\": \"white\", \"minorgridcolor\": \"white\", \"startlinecolor\": \"#2a3f5f\"}, \"type\": \"carpet\"}], \"choropleth\": [{\"colorbar\": {\"outlinewidth\": 0, \"ticks\": \"\"}, \"type\": \"choropleth\"}], \"contour\": [{\"colorbar\": {\"outlinewidth\": 0, \"ticks\": \"\"}, \"colorscale\": [[0.0, \"#0d0887\"], [0.1111111111111111, \"#46039f\"], [0.2222222222222222, \"#7201a8\"], [0.3333333333333333, \"#9c179e\"], [0.4444444444444444, \"#bd3786\"], [0.5555555555555556, \"#d8576b\"], [0.6666666666666666, \"#ed7953\"], [0.7777777777777778, \"#fb9f3a\"], [0.8888888888888888, \"#fdca26\"], [1.0, \"#f0f921\"]], \"type\": \"contour\"}], \"contourcarpet\": [{\"colorbar\": {\"outlinewidth\": 0, \"ticks\": \"\"}, \"type\": \"contourcarpet\"}], \"heatmap\": [{\"colorbar\": {\"outlinewidth\": 0, \"ticks\": \"\"}, \"colorscale\": [[0.0, \"#0d0887\"], [0.1111111111111111, \"#46039f\"], [0.2222222222222222, \"#7201a8\"], [0.3333333333333333, \"#9c179e\"], [0.4444444444444444, \"#bd3786\"], [0.5555555555555556, \"#d8576b\"], [0.6666666666666666, \"#ed7953\"], [0.7777777777777778, \"#fb9f3a\"], [0.8888888888888888, \"#fdca26\"], [1.0, \"#f0f921\"]], \"type\": \"heatmap\"}], \"heatmapgl\": [{\"colorbar\": {\"outlinewidth\": 0, \"ticks\": \"\"}, \"colorscale\": [[0.0, \"#0d0887\"], [0.1111111111111111, \"#46039f\"], [0.2222222222222222, \"#7201a8\"], [0.3333333333333333, \"#9c179e\"], [0.4444444444444444, \"#bd3786\"], [0.5555555555555556, \"#d8576b\"], [0.6666666666666666, \"#ed7953\"], [0.7777777777777778, \"#fb9f3a\"], [0.8888888888888888, \"#fdca26\"], [1.0, \"#f0f921\"]], \"type\": \"heatmapgl\"}], \"histogram\": [{\"marker\": {\"colorbar\": {\"outlinewidth\": 0, \"ticks\": \"\"}}, \"type\": \"histogram\"}], \"histogram2d\": [{\"colorbar\": {\"outlinewidth\": 0, \"ticks\": \"\"}, \"colorscale\": [[0.0, \"#0d0887\"], [0.1111111111111111, \"#46039f\"], [0.2222222222222222, \"#7201a8\"], [0.3333333333333333, \"#9c179e\"], [0.4444444444444444, \"#bd3786\"], [0.5555555555555556, \"#d8576b\"], [0.6666666666666666, \"#ed7953\"], [0.7777777777777778, \"#fb9f3a\"], [0.8888888888888888, \"#fdca26\"], [1.0, \"#f0f921\"]], \"type\": \"histogram2d\"}], \"histogram2dcontour\": [{\"colorbar\": {\"outlinewidth\": 0, \"ticks\": \"\"}, \"colorscale\": [[0.0, \"#0d0887\"], [0.1111111111111111, \"#46039f\"], [0.2222222222222222, \"#7201a8\"], [0.3333333333333333, \"#9c179e\"], [0.4444444444444444, \"#bd3786\"], [0.5555555555555556, \"#d8576b\"], [0.6666666666666666, \"#ed7953\"], [0.7777777777777778, \"#fb9f3a\"], [0.8888888888888888, \"#fdca26\"], [1.0, \"#f0f921\"]], \"type\": \"histogram2dcontour\"}], \"mesh3d\": [{\"colorbar\": {\"outlinewidth\": 0, \"ticks\": \"\"}, \"type\": \"mesh3d\"}], \"parcoords\": [{\"line\": {\"colorbar\": {\"outlinewidth\": 0, \"ticks\": \"\"}}, \"type\": \"parcoords\"}], \"pie\": [{\"automargin\": true, \"type\": \"pie\"}], \"scatter\": [{\"marker\": {\"colorbar\": {\"outlinewidth\": 0, \"ticks\": \"\"}}, \"type\": \"scatter\"}], \"scatter3d\": [{\"line\": {\"colorbar\": {\"outlinewidth\": 0, \"ticks\": \"\"}}, \"marker\": {\"colorbar\": {\"outlinewidth\": 0, \"ticks\": \"\"}}, \"type\": \"scatter3d\"}], \"scattercarpet\": [{\"marker\": {\"colorbar\": {\"outlinewidth\": 0, \"ticks\": \"\"}}, \"type\": \"scattercarpet\"}], \"scattergeo\": [{\"marker\": {\"colorbar\": {\"outlinewidth\": 0, \"ticks\": \"\"}}, \"type\": \"scattergeo\"}], \"scattergl\": [{\"marker\": {\"colorbar\": {\"outlinewidth\": 0, \"ticks\": \"\"}}, \"type\": \"scattergl\"}], \"scattermapbox\": [{\"marker\": {\"colorbar\": {\"outlinewidth\": 0, \"ticks\": \"\"}}, \"type\": \"scattermapbox\"}], \"scatterpolar\": [{\"marker\": {\"colorbar\": {\"outlinewidth\": 0, \"ticks\": \"\"}}, \"type\": \"scatterpolar\"}], \"scatterpolargl\": [{\"marker\": {\"colorbar\": {\"outlinewidth\": 0, \"ticks\": \"\"}}, \"type\": \"scatterpolargl\"}], \"scatterternary\": [{\"marker\": {\"colorbar\": {\"outlinewidth\": 0, \"ticks\": \"\"}}, \"type\": \"scatterternary\"}], \"surface\": [{\"colorbar\": {\"outlinewidth\": 0, \"ticks\": \"\"}, \"colorscale\": [[0.0, \"#0d0887\"], [0.1111111111111111, \"#46039f\"], [0.2222222222222222, \"#7201a8\"], [0.3333333333333333, \"#9c179e\"], [0.4444444444444444, \"#bd3786\"], [0.5555555555555556, \"#d8576b\"], [0.6666666666666666, \"#ed7953\"], [0.7777777777777778, \"#fb9f3a\"], [0.8888888888888888, \"#fdca26\"], [1.0, \"#f0f921\"]], \"type\": \"surface\"}], \"table\": [{\"cells\": {\"fill\": {\"color\": \"#EBF0F8\"}, \"line\": {\"color\": \"white\"}}, \"header\": {\"fill\": {\"color\": \"#C8D4E3\"}, \"line\": {\"color\": \"white\"}}, \"type\": \"table\"}]}, \"layout\": {\"annotationdefaults\": {\"arrowcolor\": \"#2a3f5f\", \"arrowhead\": 0, \"arrowwidth\": 1}, \"autotypenumbers\": \"strict\", \"coloraxis\": {\"colorbar\": {\"outlinewidth\": 0, \"ticks\": \"\"}}, \"colorscale\": {\"diverging\": [[0, \"#8e0152\"], [0.1, \"#c51b7d\"], [0.2, \"#de77ae\"], [0.3, \"#f1b6da\"], [0.4, \"#fde0ef\"], [0.5, \"#f7f7f7\"], [0.6, \"#e6f5d0\"], [0.7, \"#b8e186\"], [0.8, \"#7fbc41\"], [0.9, \"#4d9221\"], [1, \"#276419\"]], \"sequential\": [[0.0, \"#0d0887\"], [0.1111111111111111, \"#46039f\"], [0.2222222222222222, \"#7201a8\"], [0.3333333333333333, \"#9c179e\"], [0.4444444444444444, \"#bd3786\"], [0.5555555555555556, \"#d8576b\"], [0.6666666666666666, \"#ed7953\"], [0.7777777777777778, \"#fb9f3a\"], [0.8888888888888888, \"#fdca26\"], [1.0, \"#f0f921\"]], \"sequentialminus\": [[0.0, \"#0d0887\"], [0.1111111111111111, \"#46039f\"], [0.2222222222222222, \"#7201a8\"], [0.3333333333333333, \"#9c179e\"], [0.4444444444444444, \"#bd3786\"], [0.5555555555555556, \"#d8576b\"], [0.6666666666666666, \"#ed7953\"], [0.7777777777777778, \"#fb9f3a\"], [0.8888888888888888, \"#fdca26\"], [1.0, \"#f0f921\"]]}, \"colorway\": [\"#636efa\", \"#EF553B\", \"#00cc96\", \"#ab63fa\", \"#FFA15A\", \"#19d3f3\", \"#FF6692\", \"#B6E880\", \"#FF97FF\", \"#FECB52\"], \"font\": {\"color\": \"#2a3f5f\"}, \"geo\": {\"bgcolor\": \"white\", \"lakecolor\": \"white\", \"landcolor\": \"#E5ECF6\", \"showlakes\": true, \"showland\": true, \"subunitcolor\": \"white\"}, \"hoverlabel\": {\"align\": \"left\"}, \"hovermode\": \"closest\", \"mapbox\": {\"style\": \"light\"}, \"paper_bgcolor\": \"white\", \"plot_bgcolor\": \"#E5ECF6\", \"polar\": {\"angularaxis\": {\"gridcolor\": \"white\", \"linecolor\": \"white\", \"ticks\": \"\"}, \"bgcolor\": \"#E5ECF6\", \"radialaxis\": {\"gridcolor\": \"white\", \"linecolor\": \"white\", \"ticks\": \"\"}}, \"scene\": {\"xaxis\": {\"backgroundcolor\": \"#E5ECF6\", \"gridcolor\": \"white\", \"gridwidth\": 2, \"linecolor\": \"white\", \"showbackground\": true, \"ticks\": \"\", \"zerolinecolor\": \"white\"}, \"yaxis\": {\"backgroundcolor\": \"#E5ECF6\", \"gridcolor\": \"white\", \"gridwidth\": 2, \"linecolor\": \"white\", \"showbackground\": true, \"ticks\": \"\", \"zerolinecolor\": \"white\"}, \"zaxis\": {\"backgroundcolor\": \"#E5ECF6\", \"gridcolor\": \"white\", \"gridwidth\": 2, \"linecolor\": \"white\", \"showbackground\": true, \"ticks\": \"\", \"zerolinecolor\": \"white\"}}, \"shapedefaults\": {\"line\": {\"color\": \"#2a3f5f\"}}, \"ternary\": {\"aaxis\": {\"gridcolor\": \"white\", \"linecolor\": \"white\", \"ticks\": \"\"}, \"baxis\": {\"gridcolor\": \"white\", \"linecolor\": \"white\", \"ticks\": \"\"}, \"bgcolor\": \"#E5ECF6\", \"caxis\": {\"gridcolor\": \"white\", \"linecolor\": \"white\", \"ticks\": \"\"}}, \"title\": {\"x\": 0.05}, \"xaxis\": {\"automargin\": true, \"gridcolor\": \"white\", \"linecolor\": \"white\", \"ticks\": \"\", \"title\": {\"standoff\": 15}, \"zerolinecolor\": \"white\", \"zerolinewidth\": 2}, \"yaxis\": {\"automargin\": true, \"gridcolor\": \"white\", \"linecolor\": \"white\", \"ticks\": \"\", \"title\": {\"standoff\": 15}, \"zerolinecolor\": \"white\", \"zerolinewidth\": 2}}}},                        {\"responsive\": true}                    ).then(function(){\n",
       "                            \n",
       "var gd = document.getElementById('bdb87717-f72a-4bd9-82fb-b51d0fd2a199');\n",
       "var x = new MutationObserver(function (mutations, observer) {{\n",
       "        var display = window.getComputedStyle(gd).display;\n",
       "        if (!display || display === 'none') {{\n",
       "            console.log([gd, 'removed!']);\n",
       "            Plotly.purge(gd);\n",
       "            observer.disconnect();\n",
       "        }}\n",
       "}});\n",
       "\n",
       "// Listen for the removal of the full notebook cells\n",
       "var notebookContainer = gd.closest('#notebook-container');\n",
       "if (notebookContainer) {{\n",
       "    x.observe(notebookContainer, {childList: true});\n",
       "}}\n",
       "\n",
       "// Listen for the clearing of the current output cell\n",
       "var outputEl = gd.closest('.output');\n",
       "if (outputEl) {{\n",
       "    x.observe(outputEl, {childList: true});\n",
       "}}\n",
       "\n",
       "                        })                };                });            </script>        </div>"
      ]
     },
     "metadata": {},
     "output_type": "display_data"
    }
   ],
   "source": [
    "# Creating a 3D-Scatter with the PCA data and the clusters\n",
    "# Plot the 3D-scatter with x=\"PC 1\", y=\"PC 2\" and z=\"PC 3\"\n",
    "\n",
    "fig = px.scatter_3d(\n",
    "    clustered_df,\n",
    "    x=\"PC 1\",\n",
    "    y=\"PC 2\",\n",
    "    z=\"PC 3\",\n",
    "    color=\"Class\",\n",
    "    symbol=\"Class\",\n",
    "    hover_name=\"CoinName\", hover_data=[\"Algorithm\", \"TotalCoinsMined\", \"TotalCoinSupply\"]\n",
    ")\n",
    "\n",
    "fig.update_layout(legend=dict(x=0, y=1))\n",
    "fig.show()\n"
   ]
  },
  {
   "cell_type": "code",
   "execution_count": 94,
   "metadata": {},
   "outputs": [
    {
     "data": {},
     "metadata": {},
     "output_type": "display_data"
    },
    {
     "data": {
      "application/vnd.holoviews_exec.v0+json": "",
      "text/html": [
       "<div id='2490'>\n",
       "\n",
       "\n",
       "\n",
       "\n",
       "\n",
       "  <div class=\"bk-root\" id=\"90fb8e87-110c-418e-a0e7-3ea7596506df\" data-root-id=\"2490\"></div>\n",
       "</div>\n",
       "<script type=\"application/javascript\">(function(root) {\n",
       "  function embed_document(root) {\n",
       "  var docs_json = {\"aea9236a-121f-4ee8-9d9d-24a841b08f25\":{\"roots\":{\"references\":[{\"attributes\":{},\"id\":\"2514\",\"type\":\"StringFormatter\"},{\"attributes\":{},\"id\":\"2495\",\"type\":\"StringEditor\"},{\"attributes\":{\"data\":{\"Algorithm\":[\"Scrypt\",\"Scrypt\",\"X13\",\"SHA-256\",\"Ethash\",\"Scrypt\",\"X11\",\"CryptoNight-V7\",\"Ethash\",\"Equihash\",\"SHA-512\",\"Multiple\",\"SHA-256\",\"SHA-256\",\"Scrypt\",\"X15\",\"X11\",\"Scrypt\",\"Scrypt\",\"Scrypt\",\"Multiple\",\"Scrypt\",\"SHA-256\",\"Scrypt\",\"Scrypt\",\"Scrypt\",\"Quark\",\"Groestl\",\"Scrypt\",\"Scrypt\",\"Scrypt\",\"Scrypt\",\"Scrypt\",\"X11\",\"Scrypt\",\"Groestl\",\"Multiple\",\"SHA-256\",\"Scrypt\",\"Scrypt\",\"Scrypt\",\"Scrypt\",\"PoS\",\"Scrypt\",\"Scrypt\",\"NeoScrypt\",\"Scrypt\",\"Scrypt\",\"Scrypt\",\"Scrypt\",\"X11\",\"Scrypt\",\"X11\",\"SHA-256\",\"Scrypt\",\"Scrypt\",\"Scrypt\",\"SHA3\",\"Scrypt\",\"HybridScryptHash256\",\"Scrypt\",\"Scrypt\",\"SHA-256\",\"Scrypt\",\"X13\",\"Scrypt\",\"SHA-256\",\"Scrypt\",\"X13\",\"NeoScrypt\",\"Scrypt\",\"Scrypt\",\"Scrypt\",\"Scrypt\",\"Scrypt\",\"Scrypt\",\"X11\",\"X11\",\"SHA-256\",\"Multiple\",\"SHA-256\",\"PHI1612\",\"X11\",\"SHA-256\",\"SHA-256\",\"SHA-256\",\"X11\",\"Scrypt\",\"Scrypt\",\"Scrypt\",\"Scrypt\",\"Lyra2REv2\",\"Scrypt\",\"X11\",\"Multiple\",\"SHA-256\",\"X13\",\"Scrypt\",\"CryptoNight\",\"CryptoNight\",\"Shabal256\",\"Counterparty\",\"Scrypt\",\"SHA-256\",\"Groestl\",\"Scrypt\",\"Scrypt\",\"Scrypt\",\"X13\",\"Scrypt\",\"Scrypt\",\"Scrypt\",\"Scrypt\",\"X13\",\"Scrypt\",\"Stanford Folding\",\"X11\",\"Multiple\",\"QuBit\",\"Scrypt\",\"Scrypt\",\"Scrypt\",\"M7 POW\",\"Scrypt\",\"SHA-256\",\"Scrypt\",\"X11\",\"SHA3\",\"X11\",\"Lyra2RE\",\"SHA-256\",\"QUAIT\",\"X11\",\"X11\",\"Scrypt\",\"Scrypt\",\"Scrypt\",\"Ethash\",\"X13\",\"Blake2b\",\"SHA-256\",\"X15\",\"X11\",\"SHA-256\",\"BLAKE256\",\"Scrypt\",\"1GB AES Pattern Search\",\"SHA-256\",\"X11\",\"Scrypt\",\"SHA-256\",\"SHA-256\",\"NIST5\",\"Scrypt\",\"Scrypt\",\"X11\",\"Dagger\",\"Scrypt\",\"X11GOST\",\"X11\",\"Scrypt\",\"SHA-256\",\"Scrypt\",\"PoS\",\"Scrypt\",\"X11\",\"X11\",\"SHA-256\",\"SHA-256\",\"NIST5\",\"X11\",\"Scrypt\",\"POS 3.0\",\"Scrypt\",\"Scrypt\",\"Scrypt\",\"X13\",\"X11\",\"X11\",\"Equihash\",\"X11\",\"Scrypt\",\"CryptoNight\",\"SHA-256\",\"SHA-256\",\"X11\",\"Scrypt\",\"Multiple\",\"Scrypt\",\"Scrypt\",\"Scrypt\",\"SHA-256\",\"Scrypt\",\"Scrypt\",\"SHA-256D\",\"PoS\",\"Scrypt\",\"X11\",\"Lyra2Z\",\"PoS\",\"X13\",\"X14\",\"PoS\",\"SHA-256D\",\"Ethash\",\"Equihash\",\"DPoS\",\"X11\",\"Scrypt\",\"X11\",\"X13\",\"X11\",\"PoS\",\"Scrypt\",\"Scrypt\",\"X11\",\"PoS\",\"X11\",\"SHA-256\",\"Scrypt\",\"X11\",\"Scrypt\",\"Scrypt\",\"X11\",\"CryptoNight\",\"Scrypt\",\"Scrypt\",\"Scrypt\",\"Scrypt\",\"Quark\",\"QuBit\",\"Scrypt\",\"CryptoNight\",\"Lyra2RE\",\"Scrypt\",\"SHA-256\",\"X11\",\"Scrypt\",\"X11\",\"Scrypt\",\"CryptoNight-V7\",\"Scrypt\",\"Scrypt\",\"Scrypt\",\"X13\",\"X11\",\"Equihash\",\"Scrypt\",\"Scrypt\",\"Lyra2RE\",\"Scrypt\",\"Dagger-Hashimoto\",\"X11\",\"Blake2S\",\"X11\",\"Scrypt\",\"PoS\",\"X11\",\"NIST5\",\"PoS\",\"X11\",\"Scrypt\",\"Scrypt\",\"Scrypt\",\"SHA-256\",\"X11\",\"Scrypt\",\"Scrypt\",\"SHA-256\",\"PoS\",\"Scrypt\",\"X15\",\"SHA-256\",\"Scrypt\",\"POS 3.0\",\"CryptoNight-V7\",\"536\",\"Argon2d\",\"Blake2b\",\"Cloverhash\",\"CryptoNight\",\"NIST5\",\"X11\",\"NIST5\",\"Skein\",\"Scrypt\",\"X13\",\"Scrypt\",\"X11\",\"X11\",\"Scrypt\",\"CryptoNight\",\"X13\",\"Time Travel\",\"Scrypt\",\"Keccak\",\"SkunkHash v2 Raptor\",\"X11\",\"Skein\",\"SHA-256\",\"X11\",\"Scrypt\",\"VeChainThor Authority\",\"Scrypt\",\"PoS\",\"Scrypt\",\"Scrypt\",\"Scrypt\",\"Scrypt\",\"Scrypt\",\"Scrypt\",\"Scrypt\",\"CryptoNight\",\"SHA-512\",\"Ouroboros\",\"X11\",\"Equihash\",\"NeoScrypt\",\"X11\",\"Scrypt\",\"NeoScrypt\",\"Lyra2REv2\",\"Equihash\",\"Scrypt\",\"SHA-256\",\"NIST5\",\"PHI1612\",\"Dagger\",\"Scrypt\",\"Quark\",\"Scrypt\",\"POS 2.0\",\"Scrypt\",\"SHA-256\",\"X11\",\"NeoScrypt\",\"Ethash\",\"NeoScrypt\",\"X11\",\"DPoS\",\"NIST5\",\"X13\",\"Multiple\",\"Scrypt\",\"CryptoNight\",\"CryptoNight\",\"Ethash\",\"NIST5\",\"Quark\",\"X11\",\"CryptoNight-V7\",\"Scrypt\",\"Scrypt\",\"Scrypt\",\"X11\",\"BLAKE256\",\"X11\",\"NeoScrypt\",\"Quark\",\"NeoScrypt\",\"Scrypt\",\"Scrypt\",\"Scrypt\",\"X11\",\"X11\",\"SHA-256\",\"C11\",\"POS 3.0\",\"Ethash\",\"Scrypt\",\"CryptoNight\",\"SkunkHash\",\"Scrypt\",\"CryptoNight\",\"Scrypt\",\"Dagger\",\"Lyra2REv2\",\"X13\",\"Proof-of-BibleHash\",\"SHA-256 + Hive\",\"Scrypt\",\"Scrypt\",\"X11\",\"C11\",\"Proof-of-Authority\",\"X11\",\"XEVAN\",\"Scrypt\",\"VBFT\",\"Ethash\",\"CryptoNight\",\"Scrypt\",\"IMesh\",\"NIST5\",\"Scrypt\",\"Scrypt\",\"Equihash\",\"Scrypt\",\"Lyra2Z\",\"Green Protocol\",\"PoS\",\"Scrypt\",\"Semux BFT consensus\",\"X11\",\"Quark\",\"PoS\",\"CryptoNight\",\"X16R\",\"Scrypt\",\"NIST5\",\"Lyra2RE\",\"XEVAN\",\"Tribus\",\"Scrypt\",\"Lyra2Z\",\"CryptoNight\",\"CryptoNight Heavy\",\"CryptoNight\",\"Scrypt\",\"Scrypt\",\"Jump Consistent Hash\",\"SHA-256D\",\"CryptoNight\",\"Scrypt\",\"X15\",\"Scrypt\",\"Quark\",\"SHA-256\",\"DPoS\",\"X16R\",\"HMQ1725\",\"X11\",\"X16R\",\"Quark\",\"Quark\",\"Scrypt\",\"Lyra2REv2\",\"Quark\",\"Scrypt\",\"Scrypt\",\"CryptoNight-V7\",\"Cryptonight-GPU\",\"XEVAN\",\"CryptoNight Heavy\",\"X11\",\"X11\",\"Scrypt\",\"PoS\",\"SHA-256\",\"Keccak\",\"X11\",\"X11\",\"Scrypt\",\"SHA-512\",\"X16R\",\"ECC 256K1\",\"Equihash\",\"XEVAN\",\"Lyra2Z\",\"SHA-256\",\"XEVAN\",\"X11\",\"CryptoNight\",\"Quark\",\"Blake\",\"Blake\",\"Equihash\",\"Exosis\",\"Scrypt\",\"Scrypt\",\"Equihash\",\"Quark\",\"Equihash\",\"Quark\",\"Scrypt\",\"QuBit\",\"X11\",\"Scrypt\",\"XEVAN\",\"SHA-256D\",\"X11\",\"SHA-256\",\"X13\",\"SHA-256\",\"X11\",\"DPoS\",\"Scrypt\",\"Scrypt\",\"X11\",\"NeoScrypt\",\"Scrypt\",\"Blake\",\"Scrypt\",\"SHA-256\",\"Scrypt\",\"X11\",\"Scrypt\",\"Scrypt\",\"SHA-256\",\"X11\",\"SHA-256\",\"Scrypt\",\"Scrypt\",\"Scrypt\",\"Groestl\",\"X11\",\"Scrypt\",\"PoS\",\"Scrypt\",\"Scrypt\",\"X11\",\"SHA-256\",\"DPoS\",\"Scrypt\",\"Scrypt\",\"NeoScrypt\",\"Multiple\",\"X13\",\"Equihash+Scrypt\",\"DPoS\",\"Ethash\",\"DPoS\",\"SHA-256\",\"Leased POS\",\"PoS\",\"TRC10\",\"PoS\",\"SHA-256\",\"Scrypt\",\"CryptoNight\",\"Equihash\",\"Scrypt\"],\"Class\":{\"__ndarray__\":\"AQAAAAEAAAABAAAAAAAAAAAAAAAAAAAAAQAAAAAAAAAAAAAAAAAAAAEAAAAAAAAAAQAAAAEAAAAAAAAAAQAAAAAAAAAAAAAAAQAAAAEAAAAAAAAAAAAAAAAAAAAAAAAAAAAAAAEAAAAAAAAAAAAAAAAAAAABAAAAAAAAAAEAAAAAAAAAAAAAAAEAAAABAAAAAAAAAAAAAAAAAAAAAAAAAAAAAAAAAAAAAQAAAAEAAAAAAAAAAAAAAAAAAAAAAAAAAAAAAAEAAAABAAAAAAAAAAEAAAAAAAAAAAAAAAAAAAAAAAAAAQAAAAAAAAAAAAAAAQAAAAAAAAABAAAAAQAAAAEAAAAAAAAAAAAAAAAAAAABAAAAAQAAAAEAAAABAAAAAQAAAAAAAAAAAAAAAAAAAAEAAAABAAAAAAAAAAEAAAAAAAAAAQAAAAEAAAAAAAAAAAAAAAAAAAAAAAAAAQAAAAEAAAAAAAAAAQAAAAAAAAAAAAAAAQAAAAEAAAAAAAAAAQAAAAEAAAAAAAAAAAAAAAEAAAABAAAAAAAAAAEAAAABAAAAAAAAAAEAAAAAAAAAAQAAAAAAAAABAAAAAAAAAAEAAAABAAAAAAAAAAAAAAABAAAAAAAAAAAAAAAAAAAAAQAAAAAAAAAAAAAAAAAAAAAAAAAAAAAAAQAAAAEAAAAAAAAAAAAAAAAAAAABAAAAAAAAAAEAAAAAAAAAAAAAAAEAAAAAAAAAAQAAAAAAAAABAAAAAQAAAAAAAAAAAAAAAQAAAAAAAAAAAAAAAQAAAAEAAAAAAAAAAQAAAAAAAAABAAAAAQAAAAEAAAAAAAAAAAAAAAAAAAAAAAAAAQAAAAEAAAABAAAAAQAAAAEAAAAAAAAAAAAAAAEAAAABAAAAAQAAAAEAAAABAAAAAAAAAAEAAAABAAAAAQAAAAEAAAABAAAAAAAAAAEAAAAAAAAAAQAAAAEAAAAAAAAAAQAAAAAAAAABAAAAAQAAAAAAAAABAAAAAAAAAAEAAAAAAAAAAQAAAAAAAAABAAAAAQAAAAEAAAABAAAAAAAAAAEAAAABAAAAAQAAAAEAAAABAAAAAAAAAAAAAAABAAAAAQAAAAAAAAAAAAAAAQAAAAEAAAABAAAAAQAAAAEAAAAAAAAAAQAAAAEAAAABAAAAAQAAAAEAAAABAAAAAQAAAAEAAAAAAAAAAQAAAAEAAAABAAAAAQAAAAEAAAABAAAAAAAAAAAAAAAAAAAAAQAAAAEAAAABAAAAAQAAAAAAAAABAAAAAAAAAAEAAAABAAAAAAAAAAEAAAAAAAAAAAAAAAEAAAAAAAAAAAAAAAEAAAAAAAAAAQAAAAEAAAABAAAAAAAAAAEAAAABAAAAAAAAAAEAAAABAAAAAQAAAAEAAAABAAAAAQAAAAEAAAAAAAAAAQAAAAAAAAABAAAAAQAAAAEAAAABAAAAAAAAAAEAAAAAAAAAAQAAAAAAAAAAAAAAAAAAAAAAAAABAAAAAAAAAAEAAAABAAAAAAAAAAEAAAAAAAAAAAAAAAAAAAABAAAAAAAAAAEAAAAAAAAAAAAAAAAAAAABAAAAAAAAAAEAAAAAAAAAAQAAAAEAAAADAAAAAAAAAAEAAAAAAAAAAAAAAAAAAAAAAAAAAAAAAAEAAAABAAAAAAAAAAEAAAABAAAAAQAAAAAAAAABAAAAAAAAAAEAAAAAAAAAAQAAAAAAAAABAAAAAQAAAAEAAAABAAAAAAAAAAEAAAABAAAAAAAAAAEAAAABAAAAAQAAAAAAAAAAAAAAAAAAAAAAAAABAAAAAQAAAAEAAAABAAAAAAAAAAEAAAAAAAAAAAAAAAAAAAABAAAAAQAAAAAAAAAAAAAAAQAAAAEAAAAAAAAAAQAAAAAAAAAAAAAAAAAAAAEAAAAAAAAAAAAAAAEAAAABAAAAAQAAAAAAAAAAAAAAAAAAAAEAAAABAAAAAQAAAAAAAAAAAAAAAQAAAAAAAAAAAAAAAAAAAAAAAAABAAAAAwAAAAMAAAAAAAAAAAAAAAAAAAABAAAAAwAAAAEAAAABAAAAAQAAAAEAAAAAAAAAAAAAAAAAAAAAAAAAAQAAAAEAAAABAAAAAAAAAAEAAAAAAAAAAQAAAAEAAAABAAAAAQAAAAAAAAABAAAAAQAAAAAAAAABAAAAAQAAAAAAAAAAAAAAAQAAAAAAAAABAAAAAAAAAAAAAAAAAAAAAAAAAAEAAAABAAAAAAAAAAEAAAAAAAAAAQAAAAEAAAABAAAAAQAAAAEAAAABAAAAAAAAAAAAAAAAAAAAAQAAAAEAAAABAAAAAQAAAAEAAAABAAAAAAAAAAEAAAAAAAAAAAAAAAAAAAAAAAAAAQAAAAEAAAABAAAAAQAAAAAAAAABAAAAAQAAAAAAAAABAAAAAQAAAAAAAAADAAAAAAAAAAEAAAAAAAAAAAAAAAEAAAABAAAAAAAAAAEAAAAAAAAAAAAAAAAAAAAAAAAAAAAAAAEAAAAAAAAAAQAAAAAAAAABAAAAAQAAAAAAAAABAAAAAQAAAAEAAAABAAAAAQAAAAAAAAAAAAAAAAAAAAEAAAABAAAAAQAAAAAAAAABAAAAAAAAAAEAAAAAAAAAAQAAAAEAAAABAAAAAQAAAAAAAAABAAAAAQAAAAEAAAAAAAAAAQAAAAAAAAABAAAAAAAAAAEAAAABAAAAAQAAAAAAAAAAAAAAAQAAAAEAAAABAAAAAQAAAAEAAAABAAAAAAAAAAEAAAAAAAAAAQAAAAAAAAABAAAAAQAAAAMAAAABAAAAAgAAAAEAAAABAAAAAQAAAAAAAAAAAAAAAQAAAA==\",\"dtype\":\"int32\",\"order\":\"little\",\"shape\":[532]},\"CoinName\":[\"42 Coin\",\"404Coin\",\"EliteCoin\",\"Bitcoin\",\"Ethereum\",\"Litecoin\",\"Dash\",\"Monero\",\"Ethereum Classic\",\"ZCash\",\"Bitshares\",\"DigiByte\",\"BitcoinDark\",\"PayCoin\",\"ProsperCoin\",\"KoboCoin\",\"Spreadcoin\",\"Argentum\",\"Aurora Coin\",\"BlueCoin\",\"MyriadCoin\",\"MoonCoin\",\"ZetaCoin\",\"SexCoin\",\"Quatloo\",\"EnergyCoin\",\"QuarkCoin\",\"Riecoin\",\"Digitalcoin \",\"BitBar\",\"Catcoin\",\"CryptoBullion\",\"CannaCoin\",\"CryptCoin\",\"CasinoCoin\",\"Diamond\",\"Verge\",\"DevCoin\",\"EarthCoin\",\"E-Gulden\",\"Einsteinium\",\"Emerald\",\"Exclusive Coin\",\"FlutterCoin\",\"Franko\",\"FeatherCoin\",\"GrandCoin\",\"GlobalCoin\",\"GoldCoin\",\"HoboNickels\",\"HyperStake\",\"Infinite Coin\",\"IOCoin\",\"IXcoin\",\"KrugerCoin\",\"LuckyCoin\",\"Litebar \",\"MaxCoin\",\"MegaCoin\",\"MediterraneanCoin\",\"MintCoin\",\"MinCoin\",\"MazaCoin\",\"Nautilus Coin\",\"NavCoin\",\"NobleCoin\",\"Namecoin\",\"NyanCoin\",\"OpalCoin\",\"Orbitcoin\",\"PotCoin\",\"PhoenixCoin\",\"Reddcoin\",\"RonPaulCoin\",\"StableCoin\",\"SmartCoin\",\"SuperCoin\",\"SyncCoin\",\"SysCoin\",\"TeslaCoin\",\"TigerCoin\",\"TittieCoin\",\"TorCoin\",\"TerraCoin\",\"UnbreakableCoin\",\"Unobtanium\",\"UroCoin\",\"UnitaryStatus Dollar\",\"UltraCoin\",\"ViaCoin\",\"VeriCoin\",\"Vertcoin\",\"WorldCoin\",\"X11 Coin\",\"Crypti\",\"JouleCoin\",\"StealthCoin\",\"ZCC Coin\",\"ByteCoin\",\"DigitalNote \",\"BurstCoin\",\"StorjCoin\",\"MonaCoin\",\"Neutron\",\"FairCoin\",\"Gulden\",\"RubyCoin\",\"PesetaCoin\",\"Kore\",\"Wild Beast Coin\",\"Dnotes\",\"Flo\",\"8BIT Coin\",\"Sativa Coin\",\"ArtByte\",\"Folding Coin\",\"Ucoin\",\"Unitus\",\"CypherPunkCoin\",\"OmniCron\",\"Vtorrent\",\"GreenCoin\",\"Cryptonite\",\"MasterCoin\",\"SoonCoin\",\"1Credit\",\"IslaCoin\",\"Nexus\",\"MarsCoin \",\"Crypto\",\"Anarchists Prime\",\"Droidz\",\"BowsCoin\",\"Squall Coin\",\"Song Coin\",\"BitZeny\",\"Diggits\",\"Expanse\",\"Paycon\",\"Siacoin\",\"Emercoin\",\"EverGreenCoin\",\"MindCoin\",\"I0coin\",\"Decred\",\"Revolution VR\",\"HOdlcoin\",\"EDRCoin\",\"Hitcoin\",\"Gamecredits\",\"DubaiCoin\",\"CarpeDiemCoin\",\"PWR Coin\",\"BillaryCoin\",\"GPU Coin\",\"Adzcoin\",\"SoilCoin\",\"YoCoin\",\"SibCoin\",\"EuropeCoin\",\"ZeitCoin\",\"SwingCoin\",\"SafeExchangeCoin\",\"Nebuchadnezzar\",\"Francs\",\"BolivarCoin\",\"Ratecoin\",\"Revenu\",\"Clockcoin\",\"VIP Tokens\",\"BitSend\",\"Omni\",\"Let it Ride\",\"PutinCoin\",\"iBankCoin\",\"Frankywillcoin\",\"MudraCoin\",\"PizzaCoin\",\"Lutetium Coin\",\"Komodo\",\"GoldBlocks\",\"CarterCoin\",\"Karbo\",\"BitTokens\",\"ZayedCoin\",\"MustangCoin\",\"ZoneCoin\",\"Circuits of Value\",\"RootCoin\",\"DopeCoin\",\"BitCurrency\",\"DollarCoin\",\"Swiscoin\",\"Shilling\",\"BuzzCoin\",\"Opair\",\"PesoBit\",\"Halloween Coin\",\"ZCoin\",\"CoffeeCoin\",\"RoyalCoin\",\"GanjaCoin V2\",\"TeamUP\",\"LanaCoin\",\"Elementrem\",\"ZClassic\",\"ARK\",\"InsaneCoin\",\"KiloCoin\",\"ArtexCoin\",\"EmberCoin\",\"XenixCoin\",\"FreeCoin\",\"PLNCoin\",\"AquariusCoin\",\"Kurrent\",\"Creatio\",\"Eternity\",\"Eurocoin\",\"BitcoinFast\",\"Stakenet\",\"BitConnect Coin\",\"MoneyCoin\",\"Enigma\",\"Cannabis Industry Coin\",\"Russiacoin\",\"PandaCoin\",\"GameUnits\",\"GAKHcoin\",\"Allsafe\",\"LiteCreed\",\"OsmiumCoin\",\"Bikercoins\",\"HexxCoin\",\"Klingon Empire Darsek\",\"Internet of People\",\"KushCoin\",\"Printerium\",\"PacCoin\",\"Impeach\",\"Citadel\",\"Zilbercoin\",\"FirstCoin\",\"BeaverCoin\",\"FindCoin\",\"VaultCoin\",\"Zero\",\"OpenChat\",\"Canada eCoin\",\"Zoin\",\"RenosCoin\",\"DubaiCoin\",\"VirtacoinPlus\",\"TajCoin\",\"Impact\",\"EB3coin\",\"Atmos\",\"HappyCoin\",\"Coinonat\",\"MacronCoin\",\"Condensate\",\"Independent Money System\",\"ArgusCoin\",\"LomoCoin\",\"ProCurrency\",\"GoldReserve\",\"BenjiRolls\",\"GrowthCoin\",\"ILCoin\",\"Phreak\",\"Degas Coin\",\"HTML5 Coin\",\"Ultimate Secure Cash\",\"EquiTrader\",\"QTUM\",\"Quantum Resistant Ledger\",\"Espers\",\"Dynamic\",\"Nano\",\"ChanCoin\",\"Dinastycoin\",\"Denarius\",\"DigitalPrice\",\"Virta Unique Coin\",\"Bitcoin Planet\",\"Unify\",\"BritCoin\",\"SocialCoin\",\"ArcticCoin\",\"DAS\",\"Linda\",\"LeviarCoin\",\"DeepOnion\",\"Bitcore\",\"gCn Coin\",\"SmartCash\",\"Signatum\",\"Onix\",\"Cream\",\"Bitcoin Cash\",\"Monoeci\",\"Draftcoin\",\"Vechain\",\"Sojourn Coin\",\"Stakecoin\",\"NewYorkCoin\",\"FrazCoin\",\"Kronecoin\",\"AdCoin\",\"Linx\",\"CoinonatX\",\"Ethereum Dark\",\"Sumokoin\",\"Obsidian\",\"Cardano\",\"Regalcoin\",\"BitcoinZ\",\"TrezarCoin\",\"Elements\",\"TerraNovaCoin\",\"VIVO Coin\",\"Rupee\",\"Bitcoin Gold\",\"WomenCoin\",\"Theresa May Coin\",\"NamoCoin\",\"LUXCoin\",\"Pirl\",\"Xios\",\"Bitcloud 2.0\",\"eBoost\",\"KekCoin\",\"BlackholeCoin\",\"Infinity Economics\",\"Pura\",\"Innova\",\"Ellaism\",\"GoByte\",\"Magnet\",\"Lamden Tau\",\"Electra\",\"Bitcoin Diamond\",\"SHIELD\",\"Cash & Back Coin\",\"UltraNote\",\"BitCoal\",\"DaxxCoin\",\"Bulwark\",\"Kalkulus\",\"AC3\",\"Lethean\",\"GermanCoin\",\"LiteCoin Ultra\",\"PopularCoin\",\"PhantomX\",\"Photon\",\"Sucre\",\"SparksPay\",\"Digiwage\",\"GunCoin\",\"IrishCoin\",\"Trollcoin\",\"Litecoin Plus\",\"Monkey Project\",\"Pioneer Coin\",\"UnitedBitcoin\",\"Interzone\",\"TokenPay\",\"1717 Masonic Commemorative Token\",\"My Big Coin\",\"TurtleCoin\",\"MUNcoin\",\"Unified Society USDEX\",\"Niobio Cash\",\"ShareChain\",\"Travelflex\",\"KREDS\",\"Tokyo Coin\",\"BiblePay\",\"LitecoinCash\",\"BitFlip\",\"LottoCoin\",\"Crypto Improvement Fund\",\"Stipend\",\"Poa Network\",\"Pushi\",\"Ellerium\",\"Velox\",\"Ontology\",\"Callisto Network\",\"BitTube\",\"Poseidon\",\"Aidos Kuneen\",\"Bitspace\",\"Briacoin\",\"Ignition\",\"Bitrolium\",\"MedicCoin\",\"Alpenschillling\",\"Bitcoin Green\",\"Deviant Coin\",\"Abjcoin\",\"Semux\",\"FuturoCoin\",\"Carebit\",\"Zealium\",\"Monero Classic\",\"Proton\",\"iDealCash\",\"Jumpcoin\",\"Infinex\",\"Bitcoin Incognito\",\"KEYCO\",\"HollyWoodCoin\",\"GINcoin\",\"PlatinCoin\",\"Loki\",\"Newton Coin\",\"Swisscoin\",\"Xt3ch\",\"MassGrid\",\"TheVig\",\"PluraCoin\",\"EmaratCoin\",\"Dekado\",\"Lynx\",\"Poseidon Quark\",\"BitcoinWSpectrum\",\"Muse\",\"Motion\",\"PlusOneCoin\",\"Axe\",\"Trivechain\",\"Dystem\",\"Giant\",\"Peony Coin\",\"Absolute Coin\",\"Vitae\",\"HexCoin\",\"TPCash\",\"Webchain\",\"Ryo\",\"Urals Coin\",\"Qwertycoin\",\"ARENON\",\"EUNO\",\"MMOCoin\",\"Ketan\",\"Project Pai\",\"XDNA\",\"PAXEX\",\"Azart\",\"ThunderStake\",\"Kcash\",\"Xchange\",\"Acute Angle Cloud\",\"CrypticCoin\",\"Bettex coin\",\"Actinium\",\"Bitcoin SV\",\"BitMoney\",\"Junson Ming Chan Coin\",\"FREDEnergy\",\"HerbCoin\",\"Universal Molecule\",\"Lithium\",\"PirateCash\",\"Exosis\",\"Block-Logic\",\"Oduwa\",\"Beam\",\"Galilel\",\"Bithereum\",\"Crypto Sports\",\"Credit\",\"SLICE\",\"Dash Platinum\",\"Nasdacoin\",\"Beetle Coin\",\"Titan Coin\",\"Award\",\"BLAST\",\"Bitcoin Rhodium\",\"GlobalToken\",\"Insane Coin\",\"ALAX\",\"LiteDoge\",\"SolarCoin\",\"TruckCoin\",\"UFO Coin\",\"OrangeCoin\",\"BlakeCoin\",\"BitstarCoin\",\"NeosCoin\",\"HyperCoin\",\"PinkCoin\",\"Crypto Escudo\",\"AudioCoin\",\"IncaKoin\",\"Piggy Coin\",\"Crown Coin\",\"Genstake\",\"SmileyCoin\",\"XiaoMiCoin\",\"Groestlcoin\",\"CapriCoin\",\" ClubCoin\",\"Radium\",\"Bata\",\"Pakcoin\",\"Creditbit \",\"OKCash\",\"Lisk\",\"HiCoin\",\"WhiteCoin\",\"FriendshipCoin\",\"JoinCoin\",\"Triangles Coin\",\"Vollar\",\"EOS\",\"Reality Clash\",\"Oxycoin\",\"TigerCash\",\"Waves\",\"Particl\",\"BitTorrent\",\"Nxt\",\"ZEPHYR\",\"Gapcoin\",\"Beldex\",\"Horizen\",\"BitcoinPlus\"],\"ProofType\":[\"PoW/PoS\",\"PoW/PoS\",\"PoW/PoS\",\"PoW\",\"PoW\",\"PoW\",\"PoW/PoS\",\"PoW\",\"PoW\",\"PoW\",\"PoS\",\"PoW\",\"PoW/PoS\",\"PoS\",\"PoW\",\"PoW/PoS\",\"PoW\",\"PoW\",\"PoW/PoS\",\"PoW/PoS\",\"PoW\",\"PoW\",\"PoW\",\"PoW\",\"PoW\",\"PoW/PoS\",\"PoW\",\"PoW\",\"PoW\",\"PoW/PoS\",\"PoW\",\"PoW/PoS\",\"PoW\",\"PoW\",\"PoC\",\"PoW/PoS\",\"PoW\",\"PoW\",\"PoW\",\"PoW\",\"PoW\",\"PoW\",\"PoS\",\"PoS/PoW/PoT\",\"PoW\",\"PoW\",\"PoW\",\"PoW\",\"PoW\",\"PoW/PoS\",\"PoS\",\"PoW\",\"PoW/PoS\",\"PoW\",\"PoW\",\"PoW\",\"PoW\",\"PoW/PoS\",\"PoW\",\"PoW\",\"PoS\",\"PoW\",\"PoW/PoS\",\"PoS\",\"PoW/PoS\",\"PoW\",\"PoW\",\"PoW\",\"PoW/PoS\",\"PoW/PoS\",\"PoW/PoS\",\"PoW/PoS\",\"PoW/PoS\",\"PoW\",\"PoW\",\"PoW\",\"PoS\",\"PoW/PoS\",\"PoW\",\"PoS\",\"PoW\",\"PoS\",\"PoW/PoS\",\"PoW\",\"PoW\",\"PoW\",\"PoW\",\"PoW/PoS\",\"PoW/PoS\",\"PoW\",\"PoST\",\"PoW\",\"PoW\",\"PoW/PoS\",\"PoS\",\"PoW\",\"PoW/PoS\",\"PoW/PoS\",\"PoW\",\"PoW\",\"PoC\",\"PoS\",\"PoW\",\"PoW/PoS\",\"PoW/PoS\",\"PoW\",\"PoS\",\"PoW\",\"PoW/PoS\",\"PoW\",\"PoS\",\"PoW\",\"PoW/PoS\",\"PoW/PoS\",\"PoW\",\"PoW\",\"PoS\",\"PoW\",\"PoW\",\"PoW\",\"PoW/PoS\",\"PoW\",\"PoW\",\"PoW\",\"PoW\",\"PoW\",\"PoW/PoS\",\"PoW/nPoS\",\"PoW\",\"PoW\",\"PoW\",\"PoW/PoS\",\"PoW\",\"PoS/PoW\",\"PoW\",\"PoW\",\"PoS\",\"PoW\",\"PoW/PoS\",\"PoW\",\"PoW/PoS\",\"PoW/PoS\",\"PoW\",\"PoW\",\"PoW/PoS\",\"PoW\",\"PoW\",\"PoW/PoS\",\"PoW/PoS\",\"PoW\",\"PoW/PoS\",\"PoW\",\"PoW/PoS\",\"PoW/PoS\",\"PoS\",\"PoW\",\"PoW\",\"PoW\",\"PoW\",\"PoW/PoS\",\"PoS\",\"PoW/PoS\",\"PoC\",\"PoS\",\"PoW\",\"PoW\",\"PoW/PoS\",\"PoW/PoS\",\"PoW/PoS\",\"PoW/PoS\",\"PoW/PoS\",\"PoW\",\"PoS\",\"PoW/PoS\",\"PoW/PoS\",\"PoW/PoS\",\"PoS\",\"PoW\",\"PoS\",\"dPoW/PoW\",\"PoW/PoS\",\"PoW/PoS\",\"PoW\",\"PoW/PoS\",\"PoW\",\"PoW/PoS\",\"PoW/PoS\",\"PoW\",\"PoW/PoS\",\"PoW\",\"PoS\",\"PoW\",\"PoW/PoW\",\"PoW\",\"PoW/PoS\",\"PoS\",\"PoW/PoS\",\"PoW/PoS\",\"PoW\",\"PoS\",\"PoS\",\"PoW/PoS\",\"PoS\",\"PoW/PoS\",\"PoW\",\"PoW\",\"DPoS\",\"PoW/PoS\",\"PoW\",\"PoW\",\"PoW/PoS\",\"PoW/PoS\",\"PoS\",\"PoW/PoS\",\"PoW/PoS\",\"PoW\",\"PoS\",\"PoW/PoS\",\"PoW/PoS\",\"PoW/PoS\",\"TPoS\",\"PoW/PoS\",\"PoW/PoS\",\"PoW/PoS\",\"PoW\",\"PoW/PoS\",\"PoS\",\"PoW/PoS\",\"PoW/PoS\",\"PoS\",\"PoW/PoS\",\"PoW\",\"PoW\",\"PoW\",\"PoW/PoS\",\"PoW/PoS\",\"PoW/PoS\",\"PoW/PoS\",\"PoW\",\"PoW/PoS\",\"PoW\",\"PoS\",\"PoW/PoS \",\"PoW\",\"PoS\",\"PoW\",\"PoW\",\"PoW/PoS\",\"PoW\",\"PoW\",\"PoS\",\"PoW\",\"PoW/PoS\",\"PoW/PoS\",\"PoW/PoS\",\"PoW\",\"PoS\",\"PoW/PoS\",\"PoW\",\"PoS\",\"PoW/PoS\",\"PoW/PoS\",\"PoW/PoS\",\"PoW/PoS\",\"PoS\",\"PoW/PoS\",\"PoW\",\"PoS\",\"PoW\",\"PoS\",\"PoW/PoS\",\"PoW/PoS\",\"PoS\",\"PoW\",\"PoS\",\"PoW\",\"PoW/PoS\",\"PoW\",\"PoW\",\"PoW\",\"PoW\",\"PoW/PoS\",\"PoW\",\"PoW/PoS\",\"PoW/PoS\",\"PoW\",\"PoW/PoS\",\"PoW\",\"PoW\",\"PoW\",\"PoW/PoS\",\"PoW\",\"PoW/PoS\",\"PoW\",\"PoW\",\"PoW\",\"PoS\",\"PoW\",\"PoW/PoS\",\"PoW\",\"PoW/PoS\",\"PoS\",\"Proof of Authority\",\"PoW\",\"PoS\",\"PoW\",\"PoW\",\"PoW\",\"PoW\",\"PoW\",\"PoW/PoS\",\"PoW/PoS\",\"PoW\",\"PoS\",\"PoS\",\"PoW/PoS\",\"PoW\",\"PoW/PoS\",\"PoW\",\"PoW/PoS\",\"PoW\",\"PoS\",\"PoW\",\"PoW/PoS\",\"PoW/PoS\",\"PoW/PoS\",\"PoW/PoS\",\"PoW\",\"PoW/PoS\",\"PoW/PoS\",\"PoW\",\"PoS\",\"PoW/PoS\",\"PoS\",\"PoW\",\"PoW\",\"PoW\",\"PoW\",\"PoW/PoS\",\"DPoS\",\"PoW/PoS\",\"PoW/PoS\",\"PoW\",\"PoW/PoS\",\"PoW\",\"PoW\",\"PoW\",\"PoS\",\"PoS\",\"PoW\",\"PoW\",\"PoW/PoS\",\"PoW/PoS\",\"PoW\",\"PoW/PoS\",\"PoW\",\"PoW\",\"PoW\",\"PoS\",\"PoW\",\"PoW\",\"PoW/PoS\",\"PoW/PoS\",\"PoS\",\"PoW\",\"PoW\",\"PoW\",\"PoS\",\"PoS\",\"PoW and PoS\",\"PoW\",\"PoW\",\"PoW/PoS\",\"PoW\",\"PoW\",\"PoW\",\"PoW\",\"PoS\",\"POBh\",\"PoW + Hive\",\"PoW\",\"PoW\",\"PoW\",\"PoW/PoS\",\"PoA\",\"PoW/PoS\",\"PoW/PoS\",\"PoS\",\"PoS\",\"PoW\",\"PoW\",\"PoW\",\"PoW\",\"PoW/PoS\",\"PoW/PoS\",\"PoW/PoS\",\"PoW\",\"PoS\",\"PoW\",\"PoS\",\"PoS\",\"PoW/PoS\",\"DPoS\",\"PoW\",\"PoW/PoS\",\"PoS\",\"PoW\",\"PoS\",\"PoW/PoS\",\"PoW\",\"PoW\",\"PoS/PoW\",\"PoW\",\"PoS\",\"PoW\",\"PoW\",\"PoW\",\"PoW\",\"PoW/PoS\",\"PoS\",\"PoW\",\"PoW/PoS\",\"PoW\",\"PoW/PoS\",\"PoS\",\"HPoW\",\"PoS\",\"PoS\",\"PoS\",\"PoW\",\"PoW\",\"PoW\",\"PoW/PoS\",\"PoS\",\"PoW/PoS\",\"PoS\",\"PoW/PoS\",\"PoS\",\"PoW\",\"PoW/PoS\",\"PoW\",\"PoW\",\"PoW\",\"PoW\",\"PoS\",\"PoW/PoS\",\"PoS\",\"PoS\",\"PoW\",\"PoW/PoS\",\"PoS\",\"PoW\",\"PoW/PoS\",\"Zero-Knowledge Proof\",\"PoW\",\"DPOS\",\"PoW\",\"PoS\",\"PoW\",\"PoW\",\"Pos\",\"PoS\",\"PoW\",\"PoW/PoS\",\"PoW\",\"PoW\",\"PoS\",\"PoW\",\"PoW\",\"PoW/PoS\",\"PoW\",\"PoW/PoS\",\"PoW\",\"PoS\",\"PoW/PoS\",\"PoW\",\"PoS\",\"PoW/PoS\",\"PoW/PoS\",\"PoW/PoS\",\"PoW/PoS\",\"PoW\",\"PoW\",\"PoW\",\"PoW/PoS\",\"DPoS\",\"PoW/PoS\",\"PoW\",\"PoW/PoS\",\"PoW\",\"PoW/PoS\",\"PoW\",\"PoW/PoS\",\"PoS\",\"PoW/PoS\",\"PoW/PoS\",\"PoW\",\"PoW/PoS\",\"PoW/PoS\",\"PoW/PoS\",\"PoW\",\"PoW/PoS\",\"PoW\",\"PoW/PoS\",\"PoW\",\"PoW/PoS\",\"PoW/PoS\",\"PoS\",\"PoW\",\"PoW\",\"Proof of Trust\",\"PoW/PoS\",\"DPoS\",\"PoS\",\"PoW/PoS\",\"PoW/PoS\",\"PoW\",\"PoW/PoS\",\"PoW\",\"DPoS\",\"PoW\",\"DPoS\",\"PoS\",\"LPoS\",\"PoS\",\"DPoS\",\"PoS/LPoS\",\"DPoS\",\"PoW/PoS\",\"PoW\",\"PoW\",\"PoS\"],\"TotalCoinSupply\":[\"42\",\"532000000\",\"314159265359\",\"21000000\",\"0\",\"84000000\",\"22000000\",\"0\",\"210000000\",\"21000000\",\"3600570502\",\"21000000000\",\"22000000\",\"12500000\",\"21000000\",\"350000000\",\"20000000\",\"64000000\",\"16768584\",\"0\",\"2000000000\",\"384000000000\",\"169795588\",\"250000000\",\"100000000\",\"0\",\"247000000\",\"84000000\",\"48166000\",\"500000\",\"21000000 \",\"1000000\",\"13140000\",\"18000000\",\"40000000000\",\"4380000\",\"16555000000\",\"21000000000\",\"13500000000\",\"21000000 \",\"299792458\",\"32000000\",\"0\",\"0\",\"11235813\",\"336000000\",\"1420609614\",\"70000000\",\"72245700\",\"120000000\",\"0\",\"90600000000\",\"22000000\",\"21000000\",\"265420800\",\"20000000\",\"1350000\",\"100000000\",\"42000000\",\"200000000\",\"0\",\"10000000\",\"2419200000\",\"16180000\",\"0\",\"15000000000\",\"21000000\",\"337000000\",\"0\",\"3770000\",\"420000000\",\"98000000\",\"0\",\"21000000\",\"250000000\",\"51200000\",\"0\",\"1000\",\"888000000\",\"100000000\",\"47011968\",\"2300000000\",\"10000000\",\"42000000\",\"80000000\",\"250000\",\"0\",\"1600000000\",\"100000000\",\"23000000\",\"0\",\"84000000\",\"265420800\",\"5500000\",\"0\",\"45000000\",\"0\",\"1000000000\",\"184467440735\",\"10000000000\",\"2158812800\",\"500000000\",\"105120000\",\"68000000\",\"0\",\"1680000000\",\"0\",\"166386000\",\"12000000\",\"2628000\",\"500000000\",\"160000000\",\"0\",\"10000000\",\"1000000000\",\"1000000000\",\"20000000\",\"0\",\"0\",\"3371337\",\"20000000\",\"10000000000\",\"1840000000\",\"619478\",\"21000000\",\"92000000000\",\"0\",\"78000000\",\"33000000\",\"65789100\",\"53760000\",\"5060000\",\"21000000\",\"0\",\"210240000\",\"250000000\",\"100000000\",\"16906397\",\"50000000\",\"0\",\"1000000000\",\"26298000\",\"16000000\",\"21000000\",\"21000000\",\"210000000\",\"81962100\",\"22000000\",\"26550000000\",\"84000000\",\"10500000\",\"21626280000 \",\"0\",\"42000000\",\"221052632\",\"84000000\",\"30000000\",\"168351300\",\"24000000\",\"384000000\",\" 99000000000\",\"40000000\",\"2147483647\",\"20000000\",\"20000000\",\"25000000\",\"75000000\",\"222725000\",\"525000000\",\"90000000\",\"139000000\",\"616448\",\"33500000\",\"2000000000\",\"44333333\",\"100000000\",\"200000000\",\"25000000\",\"657000000\",\"200000000\",\"50000000\",\"90000000\",\"10000000\",\"21000000\",\"9736000\",\"3000000\",\"21000000\",\"1200000000\",\"0\",\"200000000\",\"0\",\"10638298\",\"3100000000\",\"30000000\",\"20000000000\",\"74000000\",\"0\",\"1500000000\",\"21400000\",\"39999898\",\"2500124\",\"100000000\",\"301000000\",\"7506000000\",\"26205539\",\"21000000\",\"125000000\",\"30000000\",\"10000000000\",\"500000000\",\"850000000\",\"3853326.77707314\",\"50000000\",\"38540000 \",\"42000000\",\"228000000\",\"20000000\",\"60000000\",\"20000000\",\"33000000\",\"76500000\",\"28000000\",\"650659833\",\"5000000\",\"21000000\",\"144000000\",\"32514916898\",\"13000000\",\"3315789\",\"15000000\",\"78835200\",\"2714286\",\"25000000\",\"9999999\",\"500000000\",\"21000000\",\"9354000\",\"20000000\",\"100000000000\",\"21933333\",\"185000000\",\"55000000\",\"110000000\",\"3360000\",\"14524851.4827\",\"1000000000\",\"17000000\",\"1000000000\",\"100000000 \",\"21000000\",\"34426423\",\"2232901\",\"100000000\",\"36900000\",\"110000000\",\"4000000000\",\"110290030\",\"100000000\",\"48252000\",\"400000000\",\"500000000\",\"21212121\",\"28600000\",\"1000000000\",\"75000000000\",\"40000000\",\"35520400\",\"2000000000\",\"2500000000\",\"30000000\",\"105000000\",\"90000000000\",\"200084200\",\"72000000\",\"100000000\",\"105000000\",\"50000000000\",\"0\",\"340282367\",\"30000000\",\"2000000000\",\"10000000\",\"100000000\",\"120000000\",\"100000000\",\"19276800\",\"30000000\",\" 75000000\",\"60000000\",\"18900000\",\"50000000000\",\"54000000\",\"18898187.6216583\",\"21000000\",\"200000000000\",\"5000000000\",\"137500000\",\"1100000000\",\"100000000\",\"21000000\",\"9507271\",\"17405891.19707116\",\"86712634466\",\"10500000000\",\"61599965\",\"0\",\"20000000\",\"84000000\",\"100000000\",\"100000000\",\"48252000\",\"4200000\",\"88888888\",\"91388946\",\"45000000000\",\"27000000\",\"21000000000\",\"400000000\",\"1800000000\",\"15733333\",\"27000000\",\"24000000\",\"21000000\",\"25000000000\",\"100000000\",\"1200000000\",\"60000000\",\"156306732.71\",\"21000000\",\"200000000\",\"100000000\",\"21000000\",\"14788275.991\",\"9000000000\",\"350000000\",\"45000000\",\"280000000\",\"31800000\",\"144000000\",\"500000000\",\"30000000000\",\"210000000\",\"660000000\",\"210000000\",\"85000000000\",\"12500000\",\"10000000000\",\"27716121\",\"20000000\",\"550000000\",\"999481516\",\"50000000000\",\"150000000\",\"4999999999\",\"50000000\",\" 90000000000\",\"19800000\",\"21000000\",\"120000000\",\"500000000\",\"64000000\",\"900000000\",\"4000000\",\"21000000\",\"23000000\",\"20166000\",\"23000000\",\"25000000\",\"1618033\",\"30000000\",\"1000000000000\",\"16600000\",\"232000000\",\"336000000\",\"10000000000\",\"100000000\",\"1100000000\",\"800000000\",\"5200000000\",\"840000000\",\"40000000\",\"18406979840\",\"500000000\",\"19340594\",\"252460800\",\"25000000\",\"60000000\",\"124000000\",\"1000000000\",\"6500000000\",\"1000000000\",\"21000000\",\"25000000\",\"50000000\",\"3000000\",\"5000000\",\"70000000\",\"500000000\",\"300000000\",\"21000000\",\"88000000\",\"30000000\",\"100000000\",\"100000000\",\"200000000\",\"80000000\",\"18400000\",\"45000000\",\"5121951220\",\"21000000\",\"26280000\",\"21000000\",\"18000000\",\"26000000\",\"10500000\",\"600000518\",\"150000000\",\"184000000000\",\"10200000000\",\"44000000\",\"168000000\",\"100000000\",\"1000000000\",\"84000000\",\"90000000\",\"92000000000\",\"650000000 \",\"100262205\",\"18081806 \",\"22075700\",\"21000000\",\"21000000\",\"82546564\",\"21000000\",\"5151000\",\"16880000000\",\"52500000\",\"100000000\",\"22105263\",\"1000000000\",\"1750000000\",\"88188888\",\"210000000\",\"184470000000\",\"55000000\",\"50000000\",\"260000000\",\"210000000\",\"2100000000\",\"366000000\",\"100000000\",\"25000000\",\"18000000000\",\"1000000000\",\"100000000\",\"1000000000\",\"7600000000\",\"50000000\",\"84000000\",\"21000000\",\"70000000000\",\"0\",\"8080000000\",\"54000000\",\"105120001.44\",\"25228800\",\"105000000\",\"21000000\",\"120000000\",\"21000000\",\"262800000\",\"19035999\",\"30886000\",\"13370000\",\"74800000000\",\"100000000\",\"19700000\",\"84000000\",\"500000000\",\"5000000000\",\"420000000\",\"64000000\",\"2100000\",\"168000000\",\"30000000\",\"1000000000\",\"35000000000\",\"98100000000\",\"0\",\"4000000000\",\"200000000\",\"7000000000\",\"54256119\",\"21000000\",\"0\",\"500000000\",\"1000000000\",\"10500000000\",\"190000000\",\"1000000000\",\"42000000\",\"15000000\",\"50000000000\",\"400000000\",\"105000000\",\"208000000\",\"160000000\",\"9000000\",\"5000000\",\"182000000\",\"16504333\",\"105000000\",\"159918400\",\"10008835635\",\"300000000\",\"60168145\",\"2800000\",\"120000\",\"2100000000\",\"0\",\"24487944\",\"0\",\"1000000000\",\"100000000\",\"8634140\",\"990000000000\",\"1000000000\",\"2000000000\",\"250000000\",\"1400222610\",\"21000000\",\"1000000\"],\"TotalCoinsMined\":{\"__ndarray__\":\"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\",\"dtype\":\"float64\",\"order\":\"little\",\"shape\":[532]}},\"selected\":{\"id\":\"2493\"},\"selection_policy\":{\"id\":\"2526\"}},\"id\":\"2492\",\"type\":\"ColumnDataSource\"},{\"attributes\":{},\"id\":\"2520\",\"type\":\"IntEditor\"},{\"attributes\":{\"editor\":{\"id\":\"2505\"},\"field\":\"ProofType\",\"formatter\":{\"id\":\"2504\"},\"title\":\"ProofType\"},\"id\":\"2506\",\"type\":\"TableColumn\"},{\"attributes\":{\"editor\":{\"id\":\"2495\"},\"field\":\"CoinName\",\"formatter\":{\"id\":\"2494\"},\"title\":\"CoinName\"},\"id\":\"2496\",\"type\":\"TableColumn\"},{\"attributes\":{},\"id\":\"2519\",\"type\":\"NumberFormatter\"},{\"attributes\":{},\"id\":\"2504\",\"type\":\"StringFormatter\"},{\"attributes\":{\"editor\":{\"id\":\"2510\"},\"field\":\"TotalCoinsMined\",\"formatter\":{\"id\":\"2509\"},\"title\":\"TotalCoinsMined\"},\"id\":\"2511\",\"type\":\"TableColumn\"},{\"attributes\":{},\"id\":\"2500\",\"type\":\"StringEditor\"},{\"attributes\":{},\"id\":\"2505\",\"type\":\"StringEditor\"},{\"attributes\":{},\"id\":\"2494\",\"type\":\"StringFormatter\"},{\"attributes\":{\"margin\":[5,5,5,5],\"name\":\"HSpacer04994\",\"sizing_mode\":\"stretch_width\"},\"id\":\"2530\",\"type\":\"Spacer\"},{\"attributes\":{\"editor\":{\"id\":\"2515\"},\"field\":\"TotalCoinSupply\",\"formatter\":{\"id\":\"2514\"},\"title\":\"TotalCoinSupply\"},\"id\":\"2516\",\"type\":\"TableColumn\"},{\"attributes\":{\"children\":[{\"id\":\"2491\"},{\"id\":\"2524\"},{\"id\":\"2530\"}],\"margin\":[0,0,0,0],\"name\":\"Row04989\",\"tags\":[\"embedded\"]},\"id\":\"2490\",\"type\":\"Row\"},{\"attributes\":{},\"id\":\"2526\",\"type\":\"UnionRenderers\"},{\"attributes\":{\"format\":\"0,0.0[00000]\"},\"id\":\"2509\",\"type\":\"NumberFormatter\"},{\"attributes\":{},\"id\":\"2515\",\"type\":\"StringEditor\"},{\"attributes\":{\"margin\":[5,5,5,5],\"name\":\"HSpacer04993\",\"sizing_mode\":\"stretch_width\"},\"id\":\"2491\",\"type\":\"Spacer\"},{\"attributes\":{\"editor\":{\"id\":\"2520\"},\"field\":\"Class\",\"formatter\":{\"id\":\"2519\"},\"title\":\"Class\"},\"id\":\"2521\",\"type\":\"TableColumn\"},{\"attributes\":{},\"id\":\"2499\",\"type\":\"StringFormatter\"},{\"attributes\":{},\"id\":\"2493\",\"type\":\"Selection\"},{\"attributes\":{\"source\":{\"id\":\"2492\"}},\"id\":\"2525\",\"type\":\"CDSView\"},{\"attributes\":{},\"id\":\"2510\",\"type\":\"NumberEditor\"},{\"attributes\":{\"editor\":{\"id\":\"2500\"},\"field\":\"Algorithm\",\"formatter\":{\"id\":\"2499\"},\"title\":\"Algorithm\"},\"id\":\"2501\",\"type\":\"TableColumn\"},{\"attributes\":{\"columns\":[{\"id\":\"2496\"},{\"id\":\"2501\"},{\"id\":\"2506\"},{\"id\":\"2511\"},{\"id\":\"2516\"},{\"id\":\"2521\"}],\"height\":300,\"reorderable\":false,\"source\":{\"id\":\"2492\"},\"view\":{\"id\":\"2525\"},\"width\":700},\"id\":\"2524\",\"type\":\"DataTable\"}],\"root_ids\":[\"2490\"]},\"title\":\"Bokeh Application\",\"version\":\"2.1.1\"}};\n",
       "  var render_items = [{\"docid\":\"aea9236a-121f-4ee8-9d9d-24a841b08f25\",\"root_ids\":[\"2490\"],\"roots\":{\"2490\":\"90fb8e87-110c-418e-a0e7-3ea7596506df\"}}];\n",
       "  root.Bokeh.embed.embed_items_notebook(docs_json, render_items);\n",
       "  }\n",
       "if (root.Bokeh !== undefined) {\n",
       "    embed_document(root);\n",
       "  } else {\n",
       "    var attempts = 0;\n",
       "    var timer = setInterval(function(root) {\n",
       "      if (root.Bokeh !== undefined) {\n",
       "        clearInterval(timer);\n",
       "        embed_document(root);\n",
       "      } else if (document.readyState == \"complete\") {\n",
       "        attempts++;\n",
       "        if (attempts > 100) {\n",
       "          clearInterval(timer);\n",
       "          console.log(\"Bokeh: ERROR: Unable to run BokehJS code because BokehJS library is missing\");\n",
       "        }\n",
       "      }\n",
       "    }, 10, root)\n",
       "  }\n",
       "})(window);</script>"
      ],
      "text/plain": [
       ":Table   [CoinName,Algorithm,ProofType,TotalCoinsMined,TotalCoinSupply,Class]"
      ]
     },
     "execution_count": 94,
     "metadata": {
      "application/vnd.holoviews_exec.v0+json": {
       "id": "2490"
      }
     },
     "output_type": "execute_result"
    }
   ],
   "source": [
    "# Create a table with tradable cryptocurrencies.\n",
    "clustered_df.hvplot.table(columns=['CoinName', 'Algorithm', 'ProofType', 'TotalCoinsMined', \n",
    "                                  'TotalCoinSupply', 'Class'], sortable=True, selectable=True)\n"
   ]
  },
  {
   "cell_type": "code",
   "execution_count": 39,
   "metadata": {},
   "outputs": [
    {
     "name": "stdout",
     "output_type": "stream",
     "text": [
      "The Total Number of tradable cryptocurrencies is 532.\n"
     ]
    }
   ],
   "source": [
    "# Print the total number of tradable cryptocurrencies.\n",
    "print(f\"The Total Number of tradable cryptocurrencies is {clustered_df['CoinName'].count()}.\")\n",
    "  "
   ]
  },
  {
   "cell_type": "code",
   "execution_count": 44,
   "metadata": {},
   "outputs": [
    {
     "data": {
      "text/plain": [
       "array([[4.20000000e-11, 0.00000000e+00],\n",
       "       [5.32000000e-04, 1.06585544e-03],\n",
       "       [3.14159265e-01, 2.95755135e-02],\n",
       "       ...,\n",
       "       [1.40022261e-03, 9.90135079e-04],\n",
       "       [2.10000000e-05, 7.37028150e-06],\n",
       "       [1.00000000e-06, 1.29582282e-07]])"
      ]
     },
     "execution_count": 44,
     "metadata": {},
     "output_type": "execute_result"
    }
   ],
   "source": [
    "# Scaling data to create the scatter plot with tradable cryptocurrencies.\n",
    "# transform only TotalCoinSupply, TotalCoinsMined\n",
    "\n",
    "cluster_df = clustered_df[['TotalCoinSupply', 'TotalCoinsMined']]\n",
    "X_minmax = MinMaxScaler().fit_transform(cluster_df)\n",
    "X_minmax"
   ]
  },
  {
   "cell_type": "code",
   "execution_count": 93,
   "metadata": {},
   "outputs": [
    {
     "data": {
      "text/html": [
       "<div>\n",
       "<style scoped>\n",
       "    .dataframe tbody tr th:only-of-type {\n",
       "        vertical-align: middle;\n",
       "    }\n",
       "\n",
       "    .dataframe tbody tr th {\n",
       "        vertical-align: top;\n",
       "    }\n",
       "\n",
       "    .dataframe thead th {\n",
       "        text-align: right;\n",
       "    }\n",
       "</style>\n",
       "<table border=\"1\" class=\"dataframe\">\n",
       "  <thead>\n",
       "    <tr style=\"text-align: right;\">\n",
       "      <th></th>\n",
       "      <th>TotalCoinSupply_scaled</th>\n",
       "      <th>TotalCoinsMined_scaled</th>\n",
       "      <th>CoinName</th>\n",
       "      <th>Class</th>\n",
       "    </tr>\n",
       "  </thead>\n",
       "  <tbody>\n",
       "    <tr>\n",
       "      <th>42</th>\n",
       "      <td>4.200000e-11</td>\n",
       "      <td>0.000000e+00</td>\n",
       "      <td>42 Coin</td>\n",
       "      <td>1</td>\n",
       "    </tr>\n",
       "    <tr>\n",
       "      <th>404</th>\n",
       "      <td>5.320000e-04</td>\n",
       "      <td>1.065855e-03</td>\n",
       "      <td>404Coin</td>\n",
       "      <td>1</td>\n",
       "    </tr>\n",
       "    <tr>\n",
       "      <th>1337</th>\n",
       "      <td>3.141593e-01</td>\n",
       "      <td>2.957551e-02</td>\n",
       "      <td>EliteCoin</td>\n",
       "      <td>1</td>\n",
       "    </tr>\n",
       "    <tr>\n",
       "      <th>BTC</th>\n",
       "      <td>2.100000e-05</td>\n",
       "      <td>1.810842e-05</td>\n",
       "      <td>Bitcoin</td>\n",
       "      <td>0</td>\n",
       "    </tr>\n",
       "    <tr>\n",
       "      <th>ETH</th>\n",
       "      <td>0.000000e+00</td>\n",
       "      <td>1.087731e-04</td>\n",
       "      <td>Ethereum</td>\n",
       "      <td>0</td>\n",
       "    </tr>\n",
       "    <tr>\n",
       "      <th>...</th>\n",
       "      <td>...</td>\n",
       "      <td>...</td>\n",
       "      <td>...</td>\n",
       "      <td>...</td>\n",
       "    </tr>\n",
       "    <tr>\n",
       "      <th>ZEPH</th>\n",
       "      <td>2.000000e-03</td>\n",
       "      <td>2.020225e-03</td>\n",
       "      <td>ZEPHYR</td>\n",
       "      <td>1</td>\n",
       "    </tr>\n",
       "    <tr>\n",
       "      <th>GAP</th>\n",
       "      <td>2.500000e-04</td>\n",
       "      <td>1.508199e-05</td>\n",
       "      <td>Gapcoin</td>\n",
       "      <td>1</td>\n",
       "    </tr>\n",
       "    <tr>\n",
       "      <th>BDX</th>\n",
       "      <td>1.400223e-03</td>\n",
       "      <td>9.901351e-04</td>\n",
       "      <td>Beldex</td>\n",
       "      <td>0</td>\n",
       "    </tr>\n",
       "    <tr>\n",
       "      <th>ZEN</th>\n",
       "      <td>2.100000e-05</td>\n",
       "      <td>7.370282e-06</td>\n",
       "      <td>Horizen</td>\n",
       "      <td>0</td>\n",
       "    </tr>\n",
       "    <tr>\n",
       "      <th>XBC</th>\n",
       "      <td>1.000000e-06</td>\n",
       "      <td>1.295823e-07</td>\n",
       "      <td>BitcoinPlus</td>\n",
       "      <td>1</td>\n",
       "    </tr>\n",
       "  </tbody>\n",
       "</table>\n",
       "<p>532 rows × 4 columns</p>\n",
       "</div>"
      ],
      "text/plain": [
       "      TotalCoinSupply_scaled  TotalCoinsMined_scaled     CoinName  Class\n",
       "42              4.200000e-11            0.000000e+00      42 Coin      1\n",
       "404             5.320000e-04            1.065855e-03      404Coin      1\n",
       "1337            3.141593e-01            2.957551e-02    EliteCoin      1\n",
       "BTC             2.100000e-05            1.810842e-05      Bitcoin      0\n",
       "ETH             0.000000e+00            1.087731e-04     Ethereum      0\n",
       "...                      ...                     ...          ...    ...\n",
       "ZEPH            2.000000e-03            2.020225e-03       ZEPHYR      1\n",
       "GAP             2.500000e-04            1.508199e-05      Gapcoin      1\n",
       "BDX             1.400223e-03            9.901351e-04       Beldex      0\n",
       "ZEN             2.100000e-05            7.370282e-06      Horizen      0\n",
       "XBC             1.000000e-06            1.295823e-07  BitcoinPlus      1\n",
       "\n",
       "[532 rows x 4 columns]"
      ]
     },
     "execution_count": 93,
     "metadata": {},
     "output_type": "execute_result"
    }
   ],
   "source": [
    "# Create a new DataFrame that has the scaled data with the clustered_df DataFrame index.\n",
    "index_values = (clustered_df.index.tolist())\n",
    "\n",
    "plot_df = pd.DataFrame(\n",
    "    data = X_minmax, columns=[\"TotalCoinSupply_scaled\", \"TotalCoinsMined_scaled\"], index = index_values)\n",
    "\n",
    "# Add the \"CoinName\" column from the clustered_df DataFrame to the new DataFrame.\n",
    "plot_df = plot_df.join(cc_names_df, how='inner')\n",
    "\n",
    "# Add the \"Class\" column from the clustered_df DataFrame to the new DataFrame. \n",
    "class_df = clustered_df['Class']\n",
    "plot_df = plot_df.join(class_df, how='inner')\n",
    "\n",
    "plot_df"
   ]
  },
  {
   "cell_type": "code",
   "execution_count": 64,
   "metadata": {},
   "outputs": [
    {
     "data": {},
     "metadata": {},
     "output_type": "display_data"
    },
    {
     "data": {
      "application/vnd.holoviews_exec.v0+json": "",
      "text/html": [
       "<div id='2169'>\n",
       "\n",
       "\n",
       "\n",
       "\n",
       "\n",
       "  <div class=\"bk-root\" id=\"0a64716b-e2fc-49c9-8314-cc3226bae444\" data-root-id=\"2169\"></div>\n",
       "</div>\n",
       "<script type=\"application/javascript\">(function(root) {\n",
       "  function embed_document(root) {\n",
       "  var docs_json = {\"b1b684bc-a5c0-4994-ac16-c060927584c4\":{\"roots\":{\"references\":[{\"attributes\":{\"data\":{\"Class\":[2],\"TotalCoinSupply_scaled\":{\"__ndarray__\":\"rkfhehSu7z8=\",\"dtype\":\"float64\",\"order\":\"little\",\"shape\":[1]},\"TotalCoinsMined_scaled\":{\"__ndarray__\":\"AAAAAAAA8D8=\",\"dtype\":\"float64\",\"order\":\"little\",\"shape\":[1]}},\"selected\":{\"id\":\"2249\"},\"selection_policy\":{\"id\":\"2266\"}},\"id\":\"2248\",\"type\":\"ColumnDataSource\"},{\"attributes\":{},\"id\":\"2184\",\"type\":\"LinearScale\"},{\"attributes\":{},\"id\":\"2196\",\"type\":\"WheelZoomTool\"},{\"attributes\":{\"label\":{\"value\":\"3\"},\"renderers\":[{\"id\":\"2275\"}]},\"id\":\"2291\",\"type\":\"LegendItem\"},{\"attributes\":{\"bottom_units\":\"screen\",\"fill_alpha\":0.5,\"fill_color\":\"lightgrey\",\"left_units\":\"screen\",\"level\":\"overlay\",\"line_alpha\":1.0,\"line_color\":\"black\",\"line_dash\":[4,4],\"line_width\":2,\"right_units\":\"screen\",\"top_units\":\"screen\"},\"id\":\"2199\",\"type\":\"BoxAnnotation\"},{\"attributes\":{\"data_source\":{\"id\":\"2248\"},\"glyph\":{\"id\":\"2251\"},\"hover_glyph\":null,\"muted_glyph\":{\"id\":\"2253\"},\"nonselection_glyph\":{\"id\":\"2252\"},\"selection_glyph\":null,\"view\":{\"id\":\"2255\"}},\"id\":\"2254\",\"type\":\"GlyphRenderer\"},{\"attributes\":{\"label\":{\"value\":\"2\"},\"renderers\":[{\"id\":\"2254\"}]},\"id\":\"2268\",\"type\":\"LegendItem\"},{\"attributes\":{\"axis_label\":\"Total Cryptocurrency Coin Supply\",\"bounds\":\"auto\",\"formatter\":{\"id\":\"2210\"},\"major_label_orientation\":\"horizontal\",\"ticker\":{\"id\":\"2191\"}},\"id\":\"2190\",\"type\":\"LinearAxis\"},{\"attributes\":{\"fill_alpha\":{\"value\":0.2},\"fill_color\":{\"value\":\"#2ba02b\"},\"line_alpha\":{\"value\":0.2},\"line_color\":{\"value\":\"#2ba02b\"},\"size\":{\"units\":\"screen\",\"value\":5.477225575051661},\"x\":{\"field\":\"TotalCoinsMined_scaled\"},\"y\":{\"field\":\"TotalCoinSupply_scaled\"}},\"id\":\"2253\",\"type\":\"Scatter\"},{\"attributes\":{\"below\":[{\"id\":\"2186\"}],\"center\":[{\"id\":\"2189\"},{\"id\":\"2193\"}],\"left\":[{\"id\":\"2190\"}],\"margin\":null,\"min_border_bottom\":10,\"min_border_left\":10,\"min_border_right\":10,\"min_border_top\":10,\"plot_height\":300,\"plot_width\":700,\"renderers\":[{\"id\":\"2217\"},{\"id\":\"2235\"},{\"id\":\"2254\"},{\"id\":\"2275\"}],\"right\":[{\"id\":\"2227\"}],\"sizing_mode\":\"fixed\",\"title\":{\"id\":\"2178\"},\"toolbar\":{\"id\":\"2200\"},\"x_range\":{\"id\":\"2171\"},\"x_scale\":{\"id\":\"2182\"},\"y_range\":{\"id\":\"2172\"},\"y_scale\":{\"id\":\"2184\"}},\"id\":\"2177\",\"subtype\":\"Figure\",\"type\":\"Plot\"},{\"attributes\":{\"axis\":{\"id\":\"2186\"},\"grid_line_color\":null,\"ticker\":null},\"id\":\"2189\",\"type\":\"Grid\"},{\"attributes\":{\"data_source\":{\"id\":\"2269\"},\"glyph\":{\"id\":\"2272\"},\"hover_glyph\":null,\"muted_glyph\":{\"id\":\"2274\"},\"nonselection_glyph\":{\"id\":\"2273\"},\"selection_glyph\":null,\"view\":{\"id\":\"2276\"}},\"id\":\"2275\",\"type\":\"GlyphRenderer\"},{\"attributes\":{\"axis\":{\"id\":\"2190\"},\"dimension\":1,\"grid_line_color\":null,\"ticker\":null},\"id\":\"2193\",\"type\":\"Grid\"},{\"attributes\":{},\"id\":\"2210\",\"type\":\"BasicTickFormatter\"},{\"attributes\":{\"fill_color\":{\"value\":\"#2ba02b\"},\"line_color\":{\"value\":\"#2ba02b\"},\"size\":{\"units\":\"screen\",\"value\":5.477225575051661},\"x\":{\"field\":\"TotalCoinsMined_scaled\"},\"y\":{\"field\":\"TotalCoinSupply_scaled\"}},\"id\":\"2251\",\"type\":\"Scatter\"},{\"attributes\":{\"fill_alpha\":{\"value\":0.1},\"fill_color\":{\"value\":\"#d62628\"},\"line_alpha\":{\"value\":0.1},\"line_color\":{\"value\":\"#d62628\"},\"size\":{\"units\":\"screen\",\"value\":5.477225575051661},\"x\":{\"field\":\"TotalCoinsMined_scaled\"},\"y\":{\"field\":\"TotalCoinSupply_scaled\"}},\"id\":\"2273\",\"type\":\"Scatter\"},{\"attributes\":{\"active_drag\":\"auto\",\"active_inspect\":\"auto\",\"active_multi\":null,\"active_scroll\":\"auto\",\"active_tap\":\"auto\",\"tools\":[{\"id\":\"2173\"},{\"id\":\"2194\"},{\"id\":\"2195\"},{\"id\":\"2196\"},{\"id\":\"2197\"},{\"id\":\"2198\"}]},\"id\":\"2200\",\"type\":\"Toolbar\"},{\"attributes\":{\"data\":{\"Class\":[0,0,0,0,0,0,0,0,0,0,0,0,0,0,0,0,0,0,0,0,0,0,0,0,0,0,0,0,0,0,0,0,0,0,0,0,0,0,0,0,0,0,0,0,0,0,0,0,0,0,0,0,0,0,0,0,0,0,0,0,0,0,0,0,0,0,0,0,0,0,0,0,0,0,0,0,0,0,0,0,0,0,0,0,0,0,0,0,0,0,0,0,0,0,0,0,0,0,0,0,0,0,0,0,0,0,0,0,0,0,0,0,0,0,0,0,0,0,0,0,0,0,0,0,0,0,0,0,0,0,0,0,0,0,0,0,0,0,0,0,0,0,0,0,0,0,0,0,0,0,0,0,0,0,0,0,0,0,0,0,0,0,0,0,0,0,0,0,0,0,0,0,0,0,0,0,0,0,0,0,0,0,0,0,0,0,0,0,0,0,0,0,0,0,0,0,0,0,0,0,0,0,0,0,0,0,0,0,0,0,0,0,0,0,0,0,0,0,0,0,0,0,0,0,0,0,0,0,0,0,0,0,0,0,0,0,0,0,0,0,0,0,0,0,0,0,0,0,0,0,0,0,0,0,0,0,0,0,0,0,0,0,0,0,0,0,0,0,0,0,0,0,0,0,0,0,0,0,0,0,0,0,0,0,0,0],\"TotalCoinSupply_scaled\":{\"__ndarray__\":\"NkOMefkWxz3VCP1MvW5BP1XynHYvG9Q/oib6fJQR9z7McLKR8X5tP6Im+nyUEfc+LEMc6+I26j7HuriNBvA2P03ubVFIlfE+AAAAAAAAAAAAAAAAAAAAAI3ttaD3xqA+je21oPfGsD57FK5H4XqkP/WHfzv9XtI+AAAAAAAAAAAAAAAAAAAAAGkdVU0QdR8/AAAAAAAAAACiJvp8lBH3PixDHOviNho/AAAAAAAAAABoTT0cbtFjP8naMiJJ9/A+AAAAAAAAAAAAAAAAAAAAAIF+GWsDoM8+vHmqQ26GOz/AkxYuq7AZPwAAAAAAAAAAAAAAAAAAAACV1iboCy4RPixDHOviNho/SFD8GHPXYj/waOOItfjkPixDHOviNlo/LEMc6+I2Gj8AAAAAAAAAAKIm+nyUEdc+AAAAAAAAAAAAAAAAAAAAAPyp8dJNYlA/UFX5y1uvYT/8qfHSTWJAP2ZMwRpn0xE/AAAAAAAAAAAAAAAAAAAAAFTkEHFzKuk+/Knx0k1iQD8AAAAAAAAAAPBo44i1+OQ+8GjjiLX49D7waOOItfj0PgAAAAAAAAAAhLndy31yFD+V+ok1IjnVPgAAAAAAAAAALEMc6+I2Gj8sQxzr4jYKP/yp8dJNYlA/3JaYzFCT+z7Jx+4CJQX2PqIm+nyUEfc+q8/VVuwvmz/Jx+4CJQXmPgAAAAAAAAAAycfuAiUFBj/1DnimS/ksP1TkEHFzKjk/8tJNYhBYuT/waOOItfgEP966CoGZl2E/8GjjiLX49D5hMlUwKqkTPwDDly5pMS0/FYxK6gQ0QT8O1v85zJcXP/ePhegQOCI/sHQ+PEuQAT/8qfHSTWJgPzFyDblRPgc/LEMc6+I2Gj8sQxzr4jYqP1RzucFQh0U/LEMc6+I2Cj8O1v85zJcXP8nH7gIlBfY+VOQQcXMqyT7Jx+4CJQX2PgAAAAAAAAAAAAAAAAAAAAATYcPTK2VpP3sUrkfhepQ/q1rSUQ5mEz8AAAAAAAAAAPp+arx0k1g/NNSvB7L4BD+CPVa0+fjEPixDHOviNho/T+j1J/G5Mz/xYmGInL5+P/yp8dJNYiA/aR1VTRB1/z5fB84ZUdpLPxF0NWZ6KdA+LEMc6+I2Cj/xbRNRwDQEP8nH7gIlBQY/8GjjiLX49D5pHVVNEHUPP/Bo44i1+PQ++py7XS9NAT/zdRn+0w0UP7dfPlkxXP0+/h0OWiFSRT/waOOItfjUPj+rzJTW3yI/7gprkculoD8FoidlUkPrPqm2xkea0Ms+aR1VTRB17z5t609siqoUP/yp8dJNYkA/ycfuAiUF9j7l2IT4453jPvBo44i1+PQ+Asu1Kq//9j5LsDic+dUMP0uwOJz51Rw/8zIaY/h17j78qfHSTWJQP+I/IeOiDAI/LEMc6+I2Gj9U/IRYolgDP0uwOJz51Rw/kqumSXDpHD8sQxzr4jYaPyxDHOviNjo//Knx0k1iQD9/VgfbFT72PtPL3ghB/f0+/Knx0k1iUD8zMzMzMzOzP/Bo44i1+AQ//Knx0k1iYD9pHVVNEHX/Prx5qkNuhhs/CtejcD0Ktz8pV94wtjkqPyxDHOviNho/mZmZmZmZqT/waOOItfjkPmkdVU0QdR8/LEMc6+I2Gj9pHVVNEHX/PpmZmZmZmak/x+CKkPHQ8z4vbqMBvAUiPyxDHOviNho/FtJpYC3w4z5bLjW8W0DyPkcCJ1fnJRA/yvCBGEZMCT8H04s1t53RPnnYGyMC9Rc/CtejcD0Kpz/eADPfwU/8PixDHOviNjo/jxg8aWJ/8D5U5BBxcyr5PpmZmZmZmZk/LEMc6+I2Gj9hMlUwKqlTP2kdVU0QdQ8/ycfuAiUF9j4sQxzr4jYqP8nH7gIlBfY+EAoFLWUD7z4730+Nl26CPz+rzJTW3yI//Knx0k1iQD+4HoXrUbieP7x5qkNuhis/vHmqQ26GKz9twQ9V/Q/9PvBo44i1+PQ+mZmZmZmZqT9hMlUwKqkjPyxDHOviNgo/aR1VTRB1Hz+Sy39Iv31NP43ttaD3xtA+ycfuAiUF9j4sQxzr4jb6Pn34/RhmJbs+aR1VTRB1/z6QvknToGguPyxDHOviNko/KIbbf7NH9D4sQxzr4jb6PmkdVU0QdQ8/IT6w479AID/8qfHSTWJQPyxDHOviNgo/VOQQcXMqyT7waOOItfjUPvyp8dJNYkA/ycfuAiUF9j6iJvp8lBEXP2kdVU0Qdf8+LEMc6+I2Gj8sQxzr4jYqP/Bo44i1+BQ/Dtb/OcyXBz/bqbRPwfp0P8nH7gIlBfY+BaInZVJD+z6HhVrTvOOEP6Im+nyUEQc/LEMc6+I2Gj/Jx+4CJQUWPw7W/znMlxc/WmQ730+Ntz+U9gZfmExFPwlW5ZB7SBo/HckrP8z18j5Zx80rm6MVP8nH7gIlBfY+eldCGdia1T5+b9Of/UiRP7x5qkNuhgs/LEMc6+I2Gj/8qfHSTWJQP0uwOJz51Qw/LEMc6+I2Cj9DxTh/EwoxP7x5qkNuhis/oBnEB3b8Nz8sQxzr4jYaPzvfT42XbpI//Knx0k1iUD8sQxzr4jYKP+tRuB6F67E/AAAAAAAAAADeADPfwU8MP8nH7gIlBfY+bwbz4+/18z4W49PO9gnsPhKlvcEXJrM/4zITsS2o9D7Jx+4CJQUWP/yp8dJNYkA/exSuR+F6dD+8eapDboY7P2kdVU0Qdf8+/Knx0k1iUD/rUbgeheuhPwAAAAAAAAAALEMc6+I2Kj8RfL8NInIMP8nH7gIlBfY+AAAAAAAAAAD8qfHSTWJAPxsv3SQGgYU/nQyOklfnKD/8qfHSTWJQP2kdVU0Qde8+LEMc6+I2Oj8FoidlUkMrP/Bo44i1+CQ/P6vMlNbf4j5wzKwgWU7xPrx5qkNuhhs/8zWXmPj1JD9Fc8ktg3+EP2EyVTAqqTM/eMlkuKGLDz8raaQpKxuAPgAAAAAAAAAAAAAAAAAAAAD8qfHSTWJQP1NUbSprG+I+/Knx0k1iUD/8qfHSTWJgP/yp8dJNYjA/je21oPfGsD4=\",\"dtype\":\"float64\",\"order\":\"little\",\"shape\":[286]},\"TotalCoinsMined_scaled\":{\"__ndarray__\":\"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\",\"dtype\":\"float64\",\"order\":\"little\",\"shape\":[286]}},\"selected\":{\"id\":\"2212\"},\"selection_policy\":{\"id\":\"2225\"}},\"id\":\"2211\",\"type\":\"ColumnDataSource\"},{\"attributes\":{\"fill_alpha\":{\"value\":0.2},\"fill_color\":{\"value\":\"#ff7e0e\"},\"line_alpha\":{\"value\":0.2},\"line_color\":{\"value\":\"#ff7e0e\"},\"size\":{\"units\":\"screen\",\"value\":5.477225575051661},\"x\":{\"field\":\"TotalCoinsMined_scaled\"},\"y\":{\"field\":\"TotalCoinSupply_scaled\"}},\"id\":\"2234\",\"type\":\"Scatter\"},{\"attributes\":{},\"id\":\"2266\",\"type\":\"UnionRenderers\"},{\"attributes\":{\"source\":{\"id\":\"2229\"}},\"id\":\"2236\",\"type\":\"CDSView\"},{\"attributes\":{},\"id\":\"2191\",\"type\":\"BasicTicker\"},{\"attributes\":{},\"id\":\"2245\",\"type\":\"UnionRenderers\"},{\"attributes\":{\"end\":1.1,\"reset_end\":1.1,\"reset_start\":-0.1,\"start\":-0.1,\"tags\":[[[\"TotalCoinSupply_scaled\",\"TotalCoinSupply_scaled\",null]]]},\"id\":\"2172\",\"type\":\"Range1d\"},{\"attributes\":{\"children\":[{\"id\":\"2170\"},{\"id\":\"2177\"},{\"id\":\"2418\"}],\"margin\":[0,0,0,0],\"name\":\"Row04309\",\"tags\":[\"embedded\"]},\"id\":\"2169\",\"type\":\"Row\"},{\"attributes\":{\"fill_alpha\":{\"value\":0.2},\"fill_color\":{\"value\":\"#d62628\"},\"line_alpha\":{\"value\":0.2},\"line_color\":{\"value\":\"#d62628\"},\"size\":{\"units\":\"screen\",\"value\":5.477225575051661},\"x\":{\"field\":\"TotalCoinsMined_scaled\"},\"y\":{\"field\":\"TotalCoinSupply_scaled\"}},\"id\":\"2274\",\"type\":\"Scatter\"},{\"attributes\":{},\"id\":\"2208\",\"type\":\"BasicTickFormatter\"},{\"attributes\":{\"fill_color\":{\"value\":\"#1f77b3\"},\"line_color\":{\"value\":\"#1f77b3\"},\"size\":{\"units\":\"screen\",\"value\":5.477225575051661},\"x\":{\"field\":\"TotalCoinsMined_scaled\"},\"y\":{\"field\":\"TotalCoinSupply_scaled\"}},\"id\":\"2214\",\"type\":\"Scatter\"},{\"attributes\":{\"fill_color\":{\"value\":\"#d62628\"},\"line_color\":{\"value\":\"#d62628\"},\"size\":{\"units\":\"screen\",\"value\":5.477225575051661},\"x\":{\"field\":\"TotalCoinsMined_scaled\"},\"y\":{\"field\":\"TotalCoinSupply_scaled\"}},\"id\":\"2272\",\"type\":\"Scatter\"},{\"attributes\":{\"fill_alpha\":{\"value\":0.1},\"fill_color\":{\"value\":\"#2ba02b\"},\"line_alpha\":{\"value\":0.1},\"line_color\":{\"value\":\"#2ba02b\"},\"size\":{\"units\":\"screen\",\"value\":5.477225575051661},\"x\":{\"field\":\"TotalCoinsMined_scaled\"},\"y\":{\"field\":\"TotalCoinSupply_scaled\"}},\"id\":\"2252\",\"type\":\"Scatter\"},{\"attributes\":{},\"id\":\"2212\",\"type\":\"Selection\"},{\"attributes\":{\"axis_label\":\"Total Cryptocurrency Coins Mined\",\"bounds\":\"auto\",\"formatter\":{\"id\":\"2208\"},\"major_label_orientation\":\"horizontal\",\"ticker\":{\"id\":\"2187\"}},\"id\":\"2186\",\"type\":\"LinearAxis\"},{\"attributes\":{\"end\":1.042857142857143,\"reset_end\":1.042857142857143,\"reset_start\":-0.04285714285714286,\"start\":-0.04285714285714286,\"tags\":[[[\"TotalCoinsMined_scaled\",\"TotalCoinsMined_scaled\",null]]]},\"id\":\"2171\",\"type\":\"Range1d\"},{\"attributes\":{},\"id\":\"2194\",\"type\":\"SaveTool\"},{\"attributes\":{\"fill_color\":{\"value\":\"#ff7e0e\"},\"line_color\":{\"value\":\"#ff7e0e\"},\"size\":{\"units\":\"screen\",\"value\":5.477225575051661},\"x\":{\"field\":\"TotalCoinsMined_scaled\"},\"y\":{\"field\":\"TotalCoinSupply_scaled\"}},\"id\":\"2232\",\"type\":\"Scatter\"},{\"attributes\":{\"margin\":[5,5,5,5],\"name\":\"HSpacer04314\",\"sizing_mode\":\"stretch_width\"},\"id\":\"2418\",\"type\":\"Spacer\"},{\"attributes\":{},\"id\":\"2195\",\"type\":\"PanTool\"},{\"attributes\":{\"fill_alpha\":{\"value\":0.2},\"fill_color\":{\"value\":\"#1f77b3\"},\"line_alpha\":{\"value\":0.2},\"line_color\":{\"value\":\"#1f77b3\"},\"size\":{\"units\":\"screen\",\"value\":5.477225575051661},\"x\":{\"field\":\"TotalCoinsMined_scaled\"},\"y\":{\"field\":\"TotalCoinSupply_scaled\"}},\"id\":\"2216\",\"type\":\"Scatter\"},{\"attributes\":{\"data_source\":{\"id\":\"2229\"},\"glyph\":{\"id\":\"2232\"},\"hover_glyph\":null,\"muted_glyph\":{\"id\":\"2234\"},\"nonselection_glyph\":{\"id\":\"2233\"},\"selection_glyph\":null,\"view\":{\"id\":\"2236\"}},\"id\":\"2235\",\"type\":\"GlyphRenderer\"},{\"attributes\":{\"overlay\":{\"id\":\"2199\"}},\"id\":\"2197\",\"type\":\"BoxZoomTool\"},{\"attributes\":{\"source\":{\"id\":\"2269\"}},\"id\":\"2276\",\"type\":\"CDSView\"},{\"attributes\":{\"click_policy\":\"mute\",\"items\":[{\"id\":\"2228\"},{\"id\":\"2247\"},{\"id\":\"2268\"},{\"id\":\"2291\"}],\"location\":[0,0],\"title\":\"Class\"},\"id\":\"2227\",\"type\":\"Legend\"},{\"attributes\":{\"fill_alpha\":{\"value\":0.1},\"fill_color\":{\"value\":\"#1f77b3\"},\"line_alpha\":{\"value\":0.1},\"line_color\":{\"value\":\"#1f77b3\"},\"size\":{\"units\":\"screen\",\"value\":5.477225575051661},\"x\":{\"field\":\"TotalCoinsMined_scaled\"},\"y\":{\"field\":\"TotalCoinSupply_scaled\"}},\"id\":\"2215\",\"type\":\"Scatter\"},{\"attributes\":{},\"id\":\"2289\",\"type\":\"UnionRenderers\"},{\"attributes\":{\"callback\":null,\"renderers\":[{\"id\":\"2217\"},{\"id\":\"2235\"},{\"id\":\"2254\"},{\"id\":\"2275\"}],\"tags\":[\"hv_created\"],\"tooltips\":[[\"Class\",\"@{Class}\"],[\"TotalCoinsMined_scaled\",\"@{TotalCoinsMined_scaled}\"],[\"TotalCoinSupply_scaled\",\"@{TotalCoinSupply_scaled}\"]]},\"id\":\"2173\",\"type\":\"HoverTool\"},{\"attributes\":{},\"id\":\"2198\",\"type\":\"ResetTool\"},{\"attributes\":{},\"id\":\"2187\",\"type\":\"BasicTicker\"},{\"attributes\":{\"source\":{\"id\":\"2211\"}},\"id\":\"2218\",\"type\":\"CDSView\"},{\"attributes\":{\"label\":{\"value\":\"1\"},\"renderers\":[{\"id\":\"2235\"}]},\"id\":\"2247\",\"type\":\"LegendItem\"},{\"attributes\":{},\"id\":\"2230\",\"type\":\"Selection\"},{\"attributes\":{\"text\":\"\",\"text_color\":{\"value\":\"black\"},\"text_font_size\":{\"value\":\"12pt\"}},\"id\":\"2178\",\"type\":\"Title\"},{\"attributes\":{},\"id\":\"2182\",\"type\":\"LinearScale\"},{\"attributes\":{\"data\":{\"Class\":[3,3,3,3,3,3],\"TotalCoinSupply_scaled\":{\"__ndarray__\":\"+nQumcwytj+U9gZfmEx1P7x5qkNuhks/hFoo4ZaLMD/8qfHSTWJQPyxDHOviNho/\",\"dtype\":\"float64\",\"order\":\"little\",\"shape\":[6]},\"TotalCoinsMined_scaled\":{\"__ndarray__\":\"zaDgBxGurD+PWA2R2lNdP5CkxfJKIUU/nBkleI8SKz96Q0MFuIxQP/tFfmC/eho/\",\"dtype\":\"float64\",\"order\":\"little\",\"shape\":[6]}},\"selected\":{\"id\":\"2270\"},\"selection_policy\":{\"id\":\"2289\"}},\"id\":\"2269\",\"type\":\"ColumnDataSource\"},{\"attributes\":{},\"id\":\"2249\",\"type\":\"Selection\"},{\"attributes\":{\"margin\":[5,5,5,5],\"name\":\"HSpacer04313\",\"sizing_mode\":\"stretch_width\"},\"id\":\"2170\",\"type\":\"Spacer\"},{\"attributes\":{\"data\":{\"Class\":[1,1,1,1,1,1,1,1,1,1,1,1,1,1,1,1,1,1,1,1,1,1,1,1,1,1,1,1,1,1,1,1,1,1,1,1,1,1,1,1,1,1,1,1,1,1,1,1,1,1,1,1,1,1,1,1,1,1,1,1,1,1,1,1,1,1,1,1,1,1,1,1,1,1,1,1,1,1,1,1,1,1,1,1,1,1,1,1,1,1,1,1,1,1,1,1,1,1,1,1,1,1,1,1,1,1,1,1,1,1,1,1,1,1,1,1,1,1,1,1,1,1,1,1,1,1,1,1,1,1,1,1,1,1,1,1,1,1,1,1,1,1,1,1,1,1,1,1,1,1,1,1,1,1,1,1,1,1,1,1,1,1,1,1,1,1,1,1,1,1,1,1,1,1,1,1,1,1,1,1,1,1,1,1,1,1,1,1,1,1,1,1,1,1,1,1,1,1,1,1,1,1,1,1,1,1,1,1,1,1,1,1,1,1,1,1,1,1,1,1,1,1,1,1,1,1,1,1,1,1,1,1,1,1,1,1,1,1,1],\"TotalCoinSupply_scaled\":{\"__ndarray__\":\"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\",\"dtype\":\"float64\",\"order\":\"little\",\"shape\":[239]},\"TotalCoinsMined_scaled\":{\"__ndarray__\":\"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\",\"dtype\":\"float64\",\"order\":\"little\",\"shape\":[239]}},\"selected\":{\"id\":\"2230\"},\"selection_policy\":{\"id\":\"2245\"}},\"id\":\"2229\",\"type\":\"ColumnDataSource\"},{\"attributes\":{},\"id\":\"2225\",\"type\":\"UnionRenderers\"},{\"attributes\":{},\"id\":\"2270\",\"type\":\"Selection\"},{\"attributes\":{\"source\":{\"id\":\"2248\"}},\"id\":\"2255\",\"type\":\"CDSView\"},{\"attributes\":{\"label\":{\"value\":\"0\"},\"renderers\":[{\"id\":\"2217\"}]},\"id\":\"2228\",\"type\":\"LegendItem\"},{\"attributes\":{\"fill_alpha\":{\"value\":0.1},\"fill_color\":{\"value\":\"#ff7e0e\"},\"line_alpha\":{\"value\":0.1},\"line_color\":{\"value\":\"#ff7e0e\"},\"size\":{\"units\":\"screen\",\"value\":5.477225575051661},\"x\":{\"field\":\"TotalCoinsMined_scaled\"},\"y\":{\"field\":\"TotalCoinSupply_scaled\"}},\"id\":\"2233\",\"type\":\"Scatter\"},{\"attributes\":{\"data_source\":{\"id\":\"2211\"},\"glyph\":{\"id\":\"2214\"},\"hover_glyph\":null,\"muted_glyph\":{\"id\":\"2216\"},\"nonselection_glyph\":{\"id\":\"2215\"},\"selection_glyph\":null,\"view\":{\"id\":\"2218\"}},\"id\":\"2217\",\"type\":\"GlyphRenderer\"}],\"root_ids\":[\"2169\"]},\"title\":\"Bokeh Application\",\"version\":\"2.1.1\"}};\n",
       "  var render_items = [{\"docid\":\"b1b684bc-a5c0-4994-ac16-c060927584c4\",\"root_ids\":[\"2169\"],\"roots\":{\"2169\":\"0a64716b-e2fc-49c9-8314-cc3226bae444\"}}];\n",
       "  root.Bokeh.embed.embed_items_notebook(docs_json, render_items);\n",
       "  }\n",
       "if (root.Bokeh !== undefined) {\n",
       "    embed_document(root);\n",
       "  } else {\n",
       "    var attempts = 0;\n",
       "    var timer = setInterval(function(root) {\n",
       "      if (root.Bokeh !== undefined) {\n",
       "        clearInterval(timer);\n",
       "        embed_document(root);\n",
       "      } else if (document.readyState == \"complete\") {\n",
       "        attempts++;\n",
       "        if (attempts > 100) {\n",
       "          clearInterval(timer);\n",
       "          console.log(\"Bokeh: ERROR: Unable to run BokehJS code because BokehJS library is missing\");\n",
       "        }\n",
       "      }\n",
       "    }, 10, root)\n",
       "  }\n",
       "})(window);</script>"
      ],
      "text/plain": [
       ":NdOverlay   [Class]\n",
       "   :Scatter   [TotalCoinsMined_scaled]   (TotalCoinSupply_scaled)"
      ]
     },
     "execution_count": 64,
     "metadata": {
      "application/vnd.holoviews_exec.v0+json": {
       "id": "2169"
      }
     },
     "output_type": "execute_result"
    }
   ],
   "source": [
    "# Create a hvplot.scatter plot using x=\"TotalCoinsMined\" and y=\"TotalCoinSupply\".\n",
    "plot_df.hvplot.scatter(x=\"TotalCoinsMined_scaled\", y=\"TotalCoinSupply_scaled\", by=\"Class\",\n",
    "                      xlabel=\"Total Cryptocurrency Coins Mined\",\n",
    "                      ylabel=\"Total Cryptocurrency Coin Supply\",\n",
    "                      )\n",
    "\n"
   ]
  },
  {
   "cell_type": "markdown",
   "metadata": {},
   "source": [
    "## Re-do Deliverable 2 for 5 Classes/Clusters instead of 4"
   ]
  },
  {
   "cell_type": "code",
   "execution_count": 99,
   "metadata": {},
   "outputs": [],
   "source": [
    "# Use a K-means function again to reuse the K-means cluster.\n",
    "def get_clusters(k, data):\n",
    "   # Create a copy of the DataFrame\n",
    "   data = data.copy()\n",
    "    \n",
    "   # Initialize the K-Means model\n",
    "   model = KMeans(n_clusters=k, random_state=0)\n",
    "\n",
    "   # Fit the model\n",
    "   model.fit(data)\n",
    "\n",
    "   # Predict clusters\n",
    "   predictions = model.predict(data)\n",
    "\n",
    "   # Create return DataFrame with predicted clusters\n",
    "   data[\"Class\"] = model.labels_\n",
    "\n",
    "   return data\n",
    "\n",
    "\n"
   ]
  },
  {
   "cell_type": "code",
   "execution_count": 100,
   "metadata": {},
   "outputs": [
    {
     "data": {
      "text/html": [
       "<div>\n",
       "<style scoped>\n",
       "    .dataframe tbody tr th:only-of-type {\n",
       "        vertical-align: middle;\n",
       "    }\n",
       "\n",
       "    .dataframe tbody tr th {\n",
       "        vertical-align: top;\n",
       "    }\n",
       "\n",
       "    .dataframe thead th {\n",
       "        text-align: right;\n",
       "    }\n",
       "</style>\n",
       "<table border=\"1\" class=\"dataframe\">\n",
       "  <thead>\n",
       "    <tr style=\"text-align: right;\">\n",
       "      <th></th>\n",
       "      <th>PC 1</th>\n",
       "      <th>PC 2</th>\n",
       "      <th>PC 3</th>\n",
       "      <th>Class</th>\n",
       "    </tr>\n",
       "  </thead>\n",
       "  <tbody>\n",
       "    <tr>\n",
       "      <th>42</th>\n",
       "      <td>-0.334197</td>\n",
       "      <td>1.009338</td>\n",
       "      <td>-0.549916</td>\n",
       "      <td>0</td>\n",
       "    </tr>\n",
       "    <tr>\n",
       "      <th>404</th>\n",
       "      <td>-0.317538</td>\n",
       "      <td>1.009490</td>\n",
       "      <td>-0.550389</td>\n",
       "      <td>0</td>\n",
       "    </tr>\n",
       "    <tr>\n",
       "      <th>1337</th>\n",
       "      <td>2.308988</td>\n",
       "      <td>1.680535</td>\n",
       "      <td>-0.681274</td>\n",
       "      <td>4</td>\n",
       "    </tr>\n",
       "    <tr>\n",
       "      <th>BTC</th>\n",
       "      <td>-0.144656</td>\n",
       "      <td>-1.264208</td>\n",
       "      <td>0.176064</td>\n",
       "      <td>1</td>\n",
       "    </tr>\n",
       "    <tr>\n",
       "      <th>ETH</th>\n",
       "      <td>-0.151072</td>\n",
       "      <td>-2.059972</td>\n",
       "      <td>0.356587</td>\n",
       "      <td>1</td>\n",
       "    </tr>\n",
       "    <tr>\n",
       "      <th>...</th>\n",
       "      <td>...</td>\n",
       "      <td>...</td>\n",
       "      <td>...</td>\n",
       "      <td>...</td>\n",
       "    </tr>\n",
       "    <tr>\n",
       "      <th>ZEPH</th>\n",
       "      <td>2.469821</td>\n",
       "      <td>0.862199</td>\n",
       "      <td>-0.204383</td>\n",
       "      <td>4</td>\n",
       "    </tr>\n",
       "    <tr>\n",
       "      <th>GAP</th>\n",
       "      <td>-0.332242</td>\n",
       "      <td>1.009226</td>\n",
       "      <td>-0.549948</td>\n",
       "      <td>0</td>\n",
       "    </tr>\n",
       "    <tr>\n",
       "      <th>BDX</th>\n",
       "      <td>0.336200</td>\n",
       "      <td>-2.262087</td>\n",
       "      <td>0.369341</td>\n",
       "      <td>1</td>\n",
       "    </tr>\n",
       "    <tr>\n",
       "      <th>ZEN</th>\n",
       "      <td>-0.187177</td>\n",
       "      <td>-2.260933</td>\n",
       "      <td>0.522395</td>\n",
       "      <td>1</td>\n",
       "    </tr>\n",
       "    <tr>\n",
       "      <th>XBC</th>\n",
       "      <td>-0.286126</td>\n",
       "      <td>0.822909</td>\n",
       "      <td>-0.260735</td>\n",
       "      <td>0</td>\n",
       "    </tr>\n",
       "  </tbody>\n",
       "</table>\n",
       "<p>532 rows × 4 columns</p>\n",
       "</div>"
      ],
      "text/plain": [
       "          PC 1      PC 2      PC 3  Class\n",
       "42   -0.334197  1.009338 -0.549916      0\n",
       "404  -0.317538  1.009490 -0.550389      0\n",
       "1337  2.308988  1.680535 -0.681274      4\n",
       "BTC  -0.144656 -1.264208  0.176064      1\n",
       "ETH  -0.151072 -2.059972  0.356587      1\n",
       "...        ...       ...       ...    ...\n",
       "ZEPH  2.469821  0.862199 -0.204383      4\n",
       "GAP  -0.332242  1.009226 -0.549948      0\n",
       "BDX   0.336200 -2.262087  0.369341      1\n",
       "ZEN  -0.187177 -2.260933  0.522395      1\n",
       "XBC  -0.286126  0.822909 -0.260735      0\n",
       "\n",
       "[532 rows x 4 columns]"
      ]
     },
     "execution_count": 100,
     "metadata": {},
     "output_type": "execute_result"
    }
   ],
   "source": [
    "# get 5 clusters\n",
    "new_clusters = get_clusters(5, pcs_df)\n",
    "new_clusters\n"
   ]
  },
  {
   "cell_type": "code",
   "execution_count": 101,
   "metadata": {},
   "outputs": [
    {
     "name": "stdout",
     "output_type": "stream",
     "text": [
      "(532, 9)\n"
     ]
    },
    {
     "data": {
      "text/html": [
       "<div>\n",
       "<style scoped>\n",
       "    .dataframe tbody tr th:only-of-type {\n",
       "        vertical-align: middle;\n",
       "    }\n",
       "\n",
       "    .dataframe tbody tr th {\n",
       "        vertical-align: top;\n",
       "    }\n",
       "\n",
       "    .dataframe thead th {\n",
       "        text-align: right;\n",
       "    }\n",
       "</style>\n",
       "<table border=\"1\" class=\"dataframe\">\n",
       "  <thead>\n",
       "    <tr style=\"text-align: right;\">\n",
       "      <th></th>\n",
       "      <th>Algorithm</th>\n",
       "      <th>ProofType</th>\n",
       "      <th>TotalCoinsMined</th>\n",
       "      <th>TotalCoinSupply</th>\n",
       "      <th>PC 1</th>\n",
       "      <th>PC 2</th>\n",
       "      <th>PC 3</th>\n",
       "      <th>Class</th>\n",
       "      <th>CoinName</th>\n",
       "    </tr>\n",
       "  </thead>\n",
       "  <tbody>\n",
       "    <tr>\n",
       "      <th>42</th>\n",
       "      <td>Scrypt</td>\n",
       "      <td>PoW/PoS</td>\n",
       "      <td>4.199995e+01</td>\n",
       "      <td>42</td>\n",
       "      <td>-0.334197</td>\n",
       "      <td>1.009338</td>\n",
       "      <td>-0.549916</td>\n",
       "      <td>0</td>\n",
       "      <td>42 Coin</td>\n",
       "    </tr>\n",
       "    <tr>\n",
       "      <th>404</th>\n",
       "      <td>Scrypt</td>\n",
       "      <td>PoW/PoS</td>\n",
       "      <td>1.055185e+09</td>\n",
       "      <td>532000000</td>\n",
       "      <td>-0.317538</td>\n",
       "      <td>1.009490</td>\n",
       "      <td>-0.550389</td>\n",
       "      <td>0</td>\n",
       "      <td>404Coin</td>\n",
       "    </tr>\n",
       "    <tr>\n",
       "      <th>1337</th>\n",
       "      <td>X13</td>\n",
       "      <td>PoW/PoS</td>\n",
       "      <td>2.927942e+10</td>\n",
       "      <td>314159265359</td>\n",
       "      <td>2.308988</td>\n",
       "      <td>1.680535</td>\n",
       "      <td>-0.681274</td>\n",
       "      <td>4</td>\n",
       "      <td>EliteCoin</td>\n",
       "    </tr>\n",
       "    <tr>\n",
       "      <th>BTC</th>\n",
       "      <td>SHA-256</td>\n",
       "      <td>PoW</td>\n",
       "      <td>1.792718e+07</td>\n",
       "      <td>21000000</td>\n",
       "      <td>-0.144656</td>\n",
       "      <td>-1.264208</td>\n",
       "      <td>0.176064</td>\n",
       "      <td>1</td>\n",
       "      <td>Bitcoin</td>\n",
       "    </tr>\n",
       "    <tr>\n",
       "      <th>ETH</th>\n",
       "      <td>Ethash</td>\n",
       "      <td>PoW</td>\n",
       "      <td>1.076842e+08</td>\n",
       "      <td>0</td>\n",
       "      <td>-0.151072</td>\n",
       "      <td>-2.059972</td>\n",
       "      <td>0.356587</td>\n",
       "      <td>1</td>\n",
       "      <td>Ethereum</td>\n",
       "    </tr>\n",
       "    <tr>\n",
       "      <th>LTC</th>\n",
       "      <td>Scrypt</td>\n",
       "      <td>PoW</td>\n",
       "      <td>6.303924e+07</td>\n",
       "      <td>84000000</td>\n",
       "      <td>-0.160345</td>\n",
       "      <td>-1.119140</td>\n",
       "      <td>0.020051</td>\n",
       "      <td>1</td>\n",
       "      <td>Litecoin</td>\n",
       "    </tr>\n",
       "    <tr>\n",
       "      <th>DASH</th>\n",
       "      <td>X11</td>\n",
       "      <td>PoW/PoS</td>\n",
       "      <td>9.031294e+06</td>\n",
       "      <td>22000000</td>\n",
       "      <td>-0.401519</td>\n",
       "      <td>1.209404</td>\n",
       "      <td>-0.522331</td>\n",
       "      <td>0</td>\n",
       "      <td>Dash</td>\n",
       "    </tr>\n",
       "    <tr>\n",
       "      <th>XMR</th>\n",
       "      <td>CryptoNight-V7</td>\n",
       "      <td>PoW</td>\n",
       "      <td>1.720114e+07</td>\n",
       "      <td>0</td>\n",
       "      <td>-0.149207</td>\n",
       "      <td>-2.176657</td>\n",
       "      <td>0.410942</td>\n",
       "      <td>1</td>\n",
       "      <td>Monero</td>\n",
       "    </tr>\n",
       "    <tr>\n",
       "      <th>ETC</th>\n",
       "      <td>Ethash</td>\n",
       "      <td>PoW</td>\n",
       "      <td>1.133597e+08</td>\n",
       "      <td>210000000</td>\n",
       "      <td>-0.149513</td>\n",
       "      <td>-2.060069</td>\n",
       "      <td>0.356563</td>\n",
       "      <td>1</td>\n",
       "      <td>Ethereum Classic</td>\n",
       "    </tr>\n",
       "    <tr>\n",
       "      <th>ZEC</th>\n",
       "      <td>Equihash</td>\n",
       "      <td>PoW</td>\n",
       "      <td>7.383056e+06</td>\n",
       "      <td>21000000</td>\n",
       "      <td>-0.187175</td>\n",
       "      <td>-2.260933</td>\n",
       "      <td>0.522395</td>\n",
       "      <td>1</td>\n",
       "      <td>ZCash</td>\n",
       "    </tr>\n",
       "  </tbody>\n",
       "</table>\n",
       "</div>"
      ],
      "text/plain": [
       "           Algorithm ProofType  TotalCoinsMined TotalCoinSupply      PC 1  \\\n",
       "42            Scrypt   PoW/PoS     4.199995e+01              42 -0.334197   \n",
       "404           Scrypt   PoW/PoS     1.055185e+09       532000000 -0.317538   \n",
       "1337             X13   PoW/PoS     2.927942e+10    314159265359  2.308988   \n",
       "BTC          SHA-256       PoW     1.792718e+07        21000000 -0.144656   \n",
       "ETH           Ethash       PoW     1.076842e+08               0 -0.151072   \n",
       "LTC           Scrypt       PoW     6.303924e+07        84000000 -0.160345   \n",
       "DASH             X11   PoW/PoS     9.031294e+06        22000000 -0.401519   \n",
       "XMR   CryptoNight-V7       PoW     1.720114e+07               0 -0.149207   \n",
       "ETC           Ethash       PoW     1.133597e+08       210000000 -0.149513   \n",
       "ZEC         Equihash       PoW     7.383056e+06        21000000 -0.187175   \n",
       "\n",
       "          PC 2      PC 3  Class          CoinName  \n",
       "42    1.009338 -0.549916      0           42 Coin  \n",
       "404   1.009490 -0.550389      0           404Coin  \n",
       "1337  1.680535 -0.681274      4         EliteCoin  \n",
       "BTC  -1.264208  0.176064      1           Bitcoin  \n",
       "ETH  -2.059972  0.356587      1          Ethereum  \n",
       "LTC  -1.119140  0.020051      1          Litecoin  \n",
       "DASH  1.209404 -0.522331      0              Dash  \n",
       "XMR  -2.176657  0.410942      1            Monero  \n",
       "ETC  -2.060069  0.356563      1  Ethereum Classic  \n",
       "ZEC  -2.260933  0.522395      1             ZCash  "
      ]
     },
     "execution_count": 101,
     "metadata": {},
     "output_type": "execute_result"
    }
   ],
   "source": [
    "# Create a new DataFrame including predicted clusters and cryptocurrencies features.\n",
    "# Concatentate the crypto_df and pcs_df DataFrames on the same columns.\n",
    "# Add a new column, \"Class\" to the clustered_df DataFrame that holds the predictions.\n",
    "\n",
    "clustered_df2 = crypto_df.join(new_clusters, how='inner')\n",
    "\n",
    "\n",
    "#  Add a new column, \"CoinName\" to the clustered_df DataFrame that holds the names of the cryptocurrencies. \n",
    "clustered_df2 = clustered_df2.join(cc_names_df, how='inner')\n",
    "\n",
    "\n",
    "# Print the shape of the clustered_df\n",
    "print(clustered_df2.shape)\n",
    "clustered_df2.head(10)"
   ]
  },
  {
   "cell_type": "code",
   "execution_count": 102,
   "metadata": {},
   "outputs": [
    {
     "data": {
      "text/html": [
       "<div>\n",
       "<style scoped>\n",
       "    .dataframe tbody tr th:only-of-type {\n",
       "        vertical-align: middle;\n",
       "    }\n",
       "\n",
       "    .dataframe tbody tr th {\n",
       "        vertical-align: top;\n",
       "    }\n",
       "\n",
       "    .dataframe thead th {\n",
       "        text-align: right;\n",
       "    }\n",
       "</style>\n",
       "<table border=\"1\" class=\"dataframe\">\n",
       "  <thead>\n",
       "    <tr style=\"text-align: right;\">\n",
       "      <th></th>\n",
       "      <th>Algorithm</th>\n",
       "      <th>ProofType</th>\n",
       "      <th>TotalCoinsMined</th>\n",
       "      <th>TotalCoinSupply</th>\n",
       "      <th>PC 1</th>\n",
       "      <th>PC 2</th>\n",
       "      <th>PC 3</th>\n",
       "      <th>Class</th>\n",
       "      <th>CoinName</th>\n",
       "    </tr>\n",
       "  </thead>\n",
       "  <tbody>\n",
       "    <tr>\n",
       "      <th>42</th>\n",
       "      <td>Scrypt</td>\n",
       "      <td>PoW/PoS</td>\n",
       "      <td>4.199995e+01</td>\n",
       "      <td>42</td>\n",
       "      <td>-0.334197</td>\n",
       "      <td>1.009338</td>\n",
       "      <td>-0.549916</td>\n",
       "      <td>0</td>\n",
       "      <td>42 Coin</td>\n",
       "    </tr>\n",
       "    <tr>\n",
       "      <th>404</th>\n",
       "      <td>Scrypt</td>\n",
       "      <td>PoW/PoS</td>\n",
       "      <td>1.055185e+09</td>\n",
       "      <td>532000000</td>\n",
       "      <td>-0.317538</td>\n",
       "      <td>1.009490</td>\n",
       "      <td>-0.550389</td>\n",
       "      <td>0</td>\n",
       "      <td>404Coin</td>\n",
       "    </tr>\n",
       "    <tr>\n",
       "      <th>1337</th>\n",
       "      <td>X13</td>\n",
       "      <td>PoW/PoS</td>\n",
       "      <td>2.927942e+10</td>\n",
       "      <td>314159265359</td>\n",
       "      <td>2.308988</td>\n",
       "      <td>1.680535</td>\n",
       "      <td>-0.681274</td>\n",
       "      <td>4</td>\n",
       "      <td>EliteCoin</td>\n",
       "    </tr>\n",
       "    <tr>\n",
       "      <th>BTC</th>\n",
       "      <td>SHA-256</td>\n",
       "      <td>PoW</td>\n",
       "      <td>1.792718e+07</td>\n",
       "      <td>21000000</td>\n",
       "      <td>-0.144656</td>\n",
       "      <td>-1.264208</td>\n",
       "      <td>0.176064</td>\n",
       "      <td>1</td>\n",
       "      <td>Bitcoin</td>\n",
       "    </tr>\n",
       "    <tr>\n",
       "      <th>ETH</th>\n",
       "      <td>Ethash</td>\n",
       "      <td>PoW</td>\n",
       "      <td>1.076842e+08</td>\n",
       "      <td>0</td>\n",
       "      <td>-0.151072</td>\n",
       "      <td>-2.059972</td>\n",
       "      <td>0.356587</td>\n",
       "      <td>1</td>\n",
       "      <td>Ethereum</td>\n",
       "    </tr>\n",
       "  </tbody>\n",
       "</table>\n",
       "</div>"
      ],
      "text/plain": [
       "     Algorithm ProofType  TotalCoinsMined TotalCoinSupply      PC 1      PC 2  \\\n",
       "42      Scrypt   PoW/PoS     4.199995e+01              42 -0.334197  1.009338   \n",
       "404     Scrypt   PoW/PoS     1.055185e+09       532000000 -0.317538  1.009490   \n",
       "1337       X13   PoW/PoS     2.927942e+10    314159265359  2.308988  1.680535   \n",
       "BTC    SHA-256       PoW     1.792718e+07        21000000 -0.144656 -1.264208   \n",
       "ETH     Ethash       PoW     1.076842e+08               0 -0.151072 -2.059972   \n",
       "\n",
       "          PC 3  Class   CoinName  \n",
       "42   -0.549916      0    42 Coin  \n",
       "404  -0.550389      0    404Coin  \n",
       "1337 -0.681274      4  EliteCoin  \n",
       "BTC   0.176064      1    Bitcoin  \n",
       "ETH   0.356587      1   Ethereum  "
      ]
     },
     "execution_count": 102,
     "metadata": {},
     "output_type": "execute_result"
    }
   ],
   "source": [
    "clustered_df2.sort_values(by='Class')\n",
    "clustered_df2.head()"
   ]
  },
  {
   "cell_type": "code",
   "execution_count": 103,
   "metadata": {},
   "outputs": [
    {
     "data": {
      "application/vnd.plotly.v1+json": {
       "config": {
        "plotlyServerURL": "https://plot.ly"
       },
       "data": [
        {
         "customdata": [
          [
           "Scrypt",
           41.99995383,
           "42"
          ],
          [
           "Scrypt",
           1055184902.04,
           "532000000"
          ],
          [
           "X11",
           9031294.37563393,
           "22000000"
          ],
          [
           "SHA-512",
           2741570000,
           "3600570502"
          ],
          [
           "SHA-256",
           1288862,
           "22000000"
          ],
          [
           "SHA-256",
           11995334.8847328,
           "12500000"
          ],
          [
           "X15",
           25542535.5881841,
           "350000000"
          ],
          [
           "Scrypt",
           18135099.992959,
           "16768584"
          ],
          [
           "Scrypt",
           635423900,
           "0"
          ],
          [
           "Scrypt",
           123062801.128773,
           "0"
          ],
          [
           "Scrypt",
           42579.476901,
           "500000"
          ],
          [
           "Scrypt",
           1039116.65144562,
           "1000000"
          ],
          [
           "Scrypt",
           39999997299.8568,
           "40000000000"
          ],
          [
           "Groestl",
           3304487.74735637,
           "4380000"
          ],
          [
           "PoS",
           5679705,
           "0"
          ],
          [
           "Scrypt",
           461829905.32892996,
           "0"
          ],
          [
           "Scrypt",
           89266933.684704,
           "120000000"
          ],
          [
           "X11",
           1678520090.7713,
           "0"
          ],
          [
           "X11",
           17650913.974345602,
           "22000000"
          ],
          [
           "SHA3",
           61445805,
           "100000000"
          ],
          [
           "Scrypt",
           21293925445.4969,
           "0"
          ],
          [
           "SHA-256",
           1613836099.99999,
           "2419200000"
          ],
          [
           "Scrypt",
           16180000,
           "16180000"
          ],
          [
           "X13",
           66087096.20771079,
           "0"
          ],
          [
           "X13",
           15156364.3306548,
           "0"
          ],
          [
           "NeoScrypt",
           3220616.279225,
           "3770000"
          ],
          [
           "Scrypt",
           222677226.014206,
           "420000000"
          ],
          [
           "Scrypt",
           73959274.625,
           "98000000"
          ],
          [
           "Scrypt",
           29315567169.0888,
           "0"
          ],
          [
           "X11",
           50707661.74935179,
           "0"
          ],
          [
           "X11",
           1177,
           "1000"
          ],
          [
           "Multiple",
           80260463.7331396,
           "100000000"
          ],
          [
           "PHI1612",
           1622326490.46336,
           "2300000000"
          ],
          [
           "X11",
           1431851.00002479,
           "10000000"
          ],
          [
           "Scrypt",
           1098952592.6,
           "1600000000"
          ],
          [
           "Scrypt",
           50235211.141939,
           "100000000"
          ],
          [
           "Scrypt",
           32021108.413669605,
           "0"
          ],
          [
           "X11",
           6950831.0970606,
           "5500000"
          ],
          [
           "Multiple",
           100000000,
           "0"
          ],
          [
           "X13",
           33093725.4123502,
           "0"
          ],
          [
           "Scrypt",
           147990237.978331,
           "1000000000"
          ],
          [
           "Shabal256",
           1813033920,
           "2158812800"
          ],
          [
           "Counterparty",
           51173144,
           "500000000"
          ],
          [
           "SHA-256",
           39121694,
           "68000000"
          ],
          [
           "Groestl",
           53193831,
           "0"
          ],
          [
           "Scrypt",
           27184490.3918338,
           "0"
          ],
          [
           "X13",
           2022464.886973,
           "12000000"
          ],
          [
           "Scrypt",
           174646113.934655,
           "500000000"
          ],
          [
           "Scrypt",
           1467841,
           "0"
          ],
          [
           "X13",
           7096834,
           "10000000"
          ],
          [
           "X11",
           2689812,
           "20000000"
          ],
          [
           "Scrypt",
           11604722,
           "20000000"
          ],
          [
           "X11",
           1513704,
           "0"
          ],
          [
           "SHA3",
           63657220,
           "78000000"
          ],
          [
           "QUAIT",
           8568038.35935056,
           "5060000"
          ],
          [
           "X11",
           329200.01639,
           "0"
          ],
          [
           "Scrypt",
           100000000,
           "100000000"
          ],
          [
           "X13",
           23042604,
           "50000000"
          ],
          [
           "SHA-256",
           43059794.804778,
           "1000000000"
          ],
          [
           "X15",
           13530556.4180753,
           "26298000"
          ],
          [
           "BLAKE256",
           10365046.928166099,
           "21000000"
          ],
          [
           "SHA-256",
           3669691.84494672,
           "22000000"
          ],
          [
           "X11",
           10996318099,
           "26550000000"
          ],
          [
           "SHA-256",
           5129014,
           "10500000"
          ],
          [
           "NIST5",
           10069449031.9252,
           "0"
          ],
          [
           "Scrypt",
           8998743.2411911,
           "42000000"
          ],
          [
           "Scrypt",
           40477042,
           "221052632"
          ],
          [
           "X11",
           10407269.788186802,
           "384000000"
          ],
          [
           "Scrypt",
           36971236046.8073,
           " 99000000000"
          ],
          [
           "SHA-256",
           4377081.60953993,
           "40000000"
          ],
          [
           "Scrypt",
           2147483647,
           "2147483647"
          ],
          [
           "PoS",
           20000000,
           "20000000"
          ],
          [
           "X11",
           134554941.15118998,
           "75000000"
          ],
          [
           "SHA-256",
           1195525,
           "222725000"
          ],
          [
           "SHA-256",
           16662820,
           "525000000"
          ],
          [
           "NIST5",
           83450403,
           "90000000"
          ],
          [
           "X11",
           24387724.5010828,
           "139000000"
          ],
          [
           "POS 3.0",
           38589808.6658096,
           "33500000"
          ],
          [
           "Scrypt",
           813092338.575672,
           "2000000000"
          ],
          [
           "Scrypt",
           4526324,
           "44333333"
          ],
          [
           "Scrypt",
           100000000,
           "100000000"
          ],
          [
           "X13",
           5000000,
           "200000000"
          ],
          [
           "X11",
           657000000,
           "657000000"
          ],
          [
           "X11",
           15563873,
           "50000000"
          ],
          [
           "Scrypt",
           43165500,
           "90000000"
          ],
          [
           "SHA-256",
           595429,
           "21000000"
          ],
          [
           "X11",
           657636.34549789,
           "3000000"
          ],
          [
           "Scrypt",
           2581970,
           "21000000"
          ],
          [
           "Scrypt",
           1939889,
           "0"
          ],
          [
           "Scrypt",
           169598616,
           "0"
          ],
          [
           "Scrypt",
           665200057,
           "3100000000"
          ],
          [
           "SHA-256D",
           19577787259,
           "20000000000"
          ],
          [
           "PoS",
           74033806.79496829,
           "74000000"
          ],
          [
           "Scrypt",
           33522957,
           "0"
          ],
          [
           "X11",
           264678458.28861898,
           "1500000000"
          ],
          [
           "PoS",
           148716816,
           "39999898"
          ],
          [
           "X13",
           2500124,
           "2500124"
          ],
          [
           "X14",
           100000000,
           "100000000"
          ],
          [
           "PoS",
           17818682.1654,
           "301000000"
          ],
          [
           "SHA-256D",
           1082162635.5368302,
           "7506000000"
          ],
          [
           "X11",
           18342813,
           "30000000"
          ],
          [
           "X13",
           92192822723,
           "850000000"
          ],
          [
           "X11",
           3853326.77707314,
           "3853326.77707314"
          ],
          [
           "PoS",
           50000000,
           "50000000"
          ],
          [
           "Scrypt",
           17089600,
           "38540000 "
          ],
          [
           "Scrypt",
           2449577.41533168,
           "42000000"
          ],
          [
           "PoS",
           20000000,
           "20000000"
          ],
          [
           "X11",
           6069482.07721352,
           "60000000"
          ],
          [
           "SHA-256",
           12416554,
           "20000000"
          ],
          [
           "Scrypt",
           20244023.640728,
           "33000000"
          ],
          [
           "X11",
           75590369,
           "76500000"
          ],
          [
           "Scrypt",
           11080722.3769581,
           "28000000"
          ],
          [
           "Scrypt",
           10914418,
           "650659833"
          ],
          [
           "X11",
           814671,
           "5000000"
          ],
          [
           "Scrypt",
           8377873,
           "144000000"
          ],
          [
           "Scrypt",
           33813143821.8337,
           "32514916898"
          ],
          [
           "Scrypt",
           3472983,
           "13000000"
          ],
          [
           "Scrypt",
           3315789,
           "3315789"
          ],
          [
           "Quark",
           10517772.7391666,
           "15000000"
          ],
          [
           "QuBit",
           30227750,
           "78835200"
          ],
          [
           "Scrypt",
           23965372,
           "500000000"
          ],
          [
           "SHA-256",
           2526078.47525448,
           "21000000"
          ],
          [
           "X11",
           5659096.95728771,
           "9354000"
          ],
          [
           "Scrypt",
           11821728,
           "20000000"
          ],
          [
           "Scrypt",
           308179,
           "21933333"
          ],
          [
           "Scrypt",
           2922613.96424908,
           "55000000"
          ],
          [
           "Scrypt",
           110000000,
           "110000000"
          ],
          [
           "X13",
           14524851.4827,
           "14524851.4827"
          ],
          [
           "Scrypt",
           1000000000,
           "1000000000"
          ],
          [
           "Scrypt",
           36050365,
           "34426423"
          ],
          [
           "X11",
           13162749.085802699,
           "100000000"
          ],
          [
           "Blake2S",
           12184195.9258495,
           "36900000"
          ],
          [
           "X11",
           110630387.85047099,
           "110000000"
          ],
          [
           "PoS",
           111135836.889,
           "110290030"
          ],
          [
           "X11",
           21521322.0099142,
           "100000000"
          ],
          [
           "PoS",
           401421401,
           "400000000"
          ],
          [
           "X11",
           121665451.643876,
           "500000000"
          ],
          [
           "Scrypt",
           5368934,
           "21212121"
          ],
          [
           "Scrypt",
           1148324,
           "28600000"
          ],
          [
           "Scrypt",
           500000,
           "1000000000"
          ],
          [
           "SHA-256",
           100545745,
           "75000000000"
          ],
          [
           "X11",
           17171382,
           "40000000"
          ],
          [
           "Scrypt",
           295135466.361878,
           "2000000000"
          ],
          [
           "PoS",
           11390225.974277198,
           "30000000"
          ],
          [
           "Scrypt",
           21358764,
           "105000000"
          ],
          [
           "X15",
           40659020000,
           "90000000000"
          ],
          [
           "SHA-256",
           10343113,
           "200084200"
          ],
          [
           "POS 3.0",
           100000000,
           "100000000"
          ],
          [
           "536",
           22801882871,
           "50000000000"
          ],
          [
           "NIST5",
           4171382,
           "10000000"
          ],
          [
           "NIST5",
           62942075,
           "120000000"
          ],
          [
           "Skein",
           6804362,
           "100000000"
          ],
          [
           "X13",
           21268092,
           "30000000"
          ],
          [
           "Scrypt",
           9044930943.24243,
           "50000000000"
          ],
          [
           "X13",
           21917018.0492836,
           "18898187.6216583"
          ],
          [
           "SkunkHash v2 Raptor",
           107972766,
           "137500000"
          ],
          [
           "Skein",
           47331802.477423795,
           "100000000"
          ],
          [
           "X11",
           12569262.535930699,
           "9507271"
          ],
          [
           "Scrypt",
           18663297.348979898,
           "17405891.19707116"
          ],
          [
           "PoS",
           4000000,
           "61599965"
          ],
          [
           "Scrypt",
           19539588,
           "48252000"
          ],
          [
           "Scrypt",
           4200000,
           "4200000"
          ],
          [
           "SHA-512",
           25000000,
           "91388946"
          ],
          [
           "Ouroboros",
           25927070538,
           "45000000000"
          ],
          [
           "X11",
           7262402.04264803,
           "27000000"
          ],
          [
           "NeoScrypt",
           182638400,
           "400000000"
          ],
          [
           "Scrypt",
           1140734.91680375,
           "15733333"
          ],
          [
           "Lyra2REv2",
           24000000,
           "24000000"
          ],
          [
           "Scrypt",
           48459472454,
           "25000000000"
          ],
          [
           "SHA-256",
           92050800,
           "100000000"
          ],
          [
           "NIST5",
           560563220,
           "1200000000"
          ],
          [
           "PHI1612",
           8305775.31777569,
           "60000000"
          ],
          [
           "Scrypt",
           2149688,
           "21000000"
          ],
          [
           "Quark",
           30711550.5294042,
           "200000000"
          ],
          [
           "POS 2.0",
           12330806.30517,
           "21000000"
          ],
          [
           "Scrypt",
           16362544.992,
           "14788275.991"
          ],
          [
           "SHA-256",
           8999999990,
           "9000000000"
          ],
          [
           "X11",
           38198594.8342105,
           "144000000"
          ],
          [
           "NIST5",
           28399150208,
           "30000000000"
          ],
          [
           "X13",
           183534024.88980702,
           "210000000"
          ],
          [
           "Scrypt",
           110976977.29338,
           "210000000"
          ],
          [
           "NIST5",
           13247178.880728599,
           "27716121"
          ],
          [
           "Quark",
           16955764.902064003,
           "20000000"
          ],
          [
           "Scrypt",
           4911500269.41,
           "50000000000"
          ],
          [
           "Scrypt",
           8419402.321,
           "150000000"
          ],
          [
           "X11",
           45174214.1078625,
           "50000000"
          ],
          [
           "Quark",
           27299680,
           "120000000"
          ],
          [
           "Scrypt",
           591022748,
           "900000000"
          ],
          [
           "Scrypt",
           2504486.227718,
           "4000000"
          ],
          [
           "X11",
           4407252,
           "21000000"
          ],
          [
           "POS 3.0",
           20445861.534425102,
           "25000000"
          ],
          [
           "Ethash",
           1618033,
           "1618033"
          ],
          [
           "Scrypt",
           9399342.52839847,
           "30000000"
          ],
          [
           "Scrypt",
           234846265.78215697,
           "232000000"
          ],
          [
           "X13",
           230298925,
           "800000000"
          ],
          [
           "C11",
           11251342.1879021,
           "19340594"
          ],
          [
           "X11",
           2167827.1,
           "25000000"
          ],
          [
           "XEVAN",
           419275.38,
           "60000000"
          ],
          [
           "Scrypt",
           25570013.1348022,
           "124000000"
          ],
          [
           "VBFT",
           650848625,
           "1000000000"
          ],
          [
           "NIST5",
           13787854.6277781,
           "50000000"
          ],
          [
           "Scrypt",
           845637.81347436,
           "3000000"
          ],
          [
           "Scrypt",
           1182153.5,
           "5000000"
          ],
          [
           "Scrypt",
           267297676.3125,
           "500000000"
          ],
          [
           "Green Protocol",
           9803691.3618195,
           "21000000"
          ],
          [
           "PoS",
           21876586.8530324,
           "88000000"
          ],
          [
           "Scrypt",
           9880502.37178894,
           "30000000"
          ],
          [
           "Quark",
           139739596.506702,
           "200000000"
          ],
          [
           "PoS",
           11075254.0929996,
           "80000000"
          ],
          [
           "X16R",
           4403800,
           "45000000"
          ],
          [
           "Scrypt",
           1404157529.46026,
           "5121951220"
          ],
          [
           "XEVAN",
           10904963.0923455,
           "21000000"
          ],
          [
           "Scrypt",
           38706809.466534995,
           "26000000"
          ],
          [
           "Scrypt",
           10200000000,
           "10200000000"
          ],
          [
           "Scrypt",
           7630000.0154,
           "44000000"
          ],
          [
           "SHA-256D",
           33238183.7225834,
           "100000000"
          ],
          [
           "Scrypt",
           21599339.6728,
           "84000000"
          ],
          [
           "X15",
           30284196.369129,
           "90000000"
          ],
          [
           "Quark",
           2716264.95302831,
           "650000000 "
          ],
          [
           "SHA-256",
           57811001.000889,
           "100262205"
          ],
          [
           "DPoS",
           18194936,
           "18081806 "
          ],
          [
           "X16R",
           36923120.6205934,
           "82546564"
          ],
          [
           "Quark",
           7082392.24744494,
           "21000000"
          ],
          [
           "Quark",
           5919489.76813523,
           "5151000"
          ],
          [
           "Scrypt",
           1042012.45227735,
           "16880000000"
          ],
          [
           "Lyra2REv2",
           13332617.9413708,
           "52500000"
          ],
          [
           "Quark",
           66053877.6256106,
           "100000000"
          ],
          [
           "Scrypt",
           5403802.49590733,
           "1000000000"
          ],
          [
           "X11",
           19269509.94,
           "55000000"
          ],
          [
           "X11",
           30771125.976086702,
           "50000000"
          ],
          [
           "Scrypt",
           107763867.917675,
           "260000000"
          ],
          [
           "PoS",
           9327131.59708692,
           "210000000"
          ],
          [
           "Keccak",
           4672513.84432375,
           "366000000"
          ],
          [
           "X11",
           4504639,
           "100000000"
          ],
          [
           "Scrypt",
           1059954080.4343901,
           "18000000000"
          ],
          [
           "SHA-512",
           1000000000,
           "1000000000"
          ],
          [
           "XEVAN",
           6787405.18013774,
           "50000000"
          ],
          [
           "XEVAN",
           208515864.36734298,
           "70000000000"
          ],
          [
           "X11",
           17209923728.3266,
           "0"
          ],
          [
           "Quark",
           35312185.7437239,
           "54000000"
          ],
          [
           "Scrypt",
           14777549.394076401,
           "21000000"
          ],
          [
           "Quark",
           18265011.248600602,
           "19035999"
          ],
          [
           "Quark",
           1934701.67524713,
           "13370000"
          ],
          [
           "Scrypt",
           30825710000.0296,
           "74800000000"
          ],
          [
           "X11",
           715659.44237941,
           "19700000"
          ],
          [
           "Scrypt",
           20546528.2059957,
           "84000000"
          ],
          [
           "XEVAN",
           198938144.363399,
           "500000000"
          ],
          [
           "SHA-256D",
           896361168,
           "5000000000"
          ],
          [
           "X11",
           15420234.5389336,
           "420000000"
          ],
          [
           "X11",
           23775960.3207514,
           "30000000"
          ],
          [
           "Scrypt",
           15318887081.0146,
           "35000000000"
          ],
          [
           "X11",
           242574105.22384,
           "0"
          ],
          [
           "Scrypt",
           3537150,
           "200000000"
          ],
          [
           "Scrypt",
           20576532,
           "54256119"
          ],
          [
           "SHA-256",
           4392258.24647793,
           "21000000"
          ],
          [
           "Scrypt",
           9631199.99309942,
           "0"
          ],
          [
           "X11",
           436353624.49031204,
           "500000000"
          ],
          [
           "Scrypt",
           980732528.97974,
           "10500000000"
          ],
          [
           "SHA-256",
           17939725045.334,
           "190000000"
          ],
          [
           "X11",
           494240666.028571,
           "1000000000"
          ],
          [
           "Scrypt",
           60000000,
           "15000000"
          ],
          [
           "Scrypt",
           404316475.545465,
           "400000000"
          ],
          [
           "X11",
           201364327.427503,
           "208000000"
          ],
          [
           "Scrypt",
           103621876.167052,
           "160000000"
          ],
          [
           "PoS",
           3821245.74150193,
           "9000000"
          ],
          [
           "X11",
           16901016.6609755,
           "16504333"
          ],
          [
           "SHA-256",
           74676064.9488608,
           "105000000"
          ],
          [
           "Scrypt",
           10000244677.7002,
           "10008835635"
          ],
          [
           "Scrypt",
           252005564.19257003,
           "300000000"
          ],
          [
           "NeoScrypt",
           1120385.00502,
           "60168145"
          ],
          [
           "X13",
           140777.753365,
           "120000"
          ],
          [
           "SHA-256",
           1000000000,
           "1000000000"
          ],
          [
           "PoS",
           9283137.5558676,
           "8634140"
          ],
          [
           "PoS",
           1000000000,
           "1000000000"
          ],
          [
           "Scrypt",
           14931046.1546605,
           "250000000"
          ],
          [
           "Scrypt",
           128326.99633965,
           "1000000"
          ]
         ],
         "hovertemplate": "<b>%{hovertext}</b><br><br>Class=%{marker.color}<br>PC 1=%{x}<br>PC 2=%{y}<br>PC 3=%{z}<br>Algorithm=%{customdata[0]}<br>TotalCoinsMined=%{customdata[1]}<br>TotalCoinSupply=%{customdata[2]}<extra></extra>",
         "hovertext": [
          "42 Coin",
          "404Coin",
          "Dash",
          "Bitshares",
          "BitcoinDark",
          "PayCoin",
          "KoboCoin",
          "Aurora Coin",
          "BlueCoin",
          "EnergyCoin",
          "BitBar",
          "CryptoBullion",
          "CasinoCoin",
          "Diamond",
          "Exclusive Coin",
          "FlutterCoin",
          "HoboNickels",
          "HyperStake",
          "IOCoin",
          "MaxCoin",
          "MintCoin",
          "MazaCoin",
          "Nautilus Coin",
          "NavCoin",
          "OpalCoin",
          "Orbitcoin",
          "PotCoin",
          "PhoenixCoin",
          "Reddcoin",
          "SuperCoin",
          "SyncCoin",
          "TeslaCoin",
          "TittieCoin",
          "TorCoin",
          "UnitaryStatus Dollar",
          "UltraCoin",
          "VeriCoin",
          "X11 Coin",
          "Crypti",
          "StealthCoin",
          "ZCC Coin",
          "BurstCoin",
          "StorjCoin",
          "Neutron",
          "FairCoin",
          "RubyCoin",
          "Kore",
          "Dnotes",
          "8BIT Coin",
          "Sativa Coin",
          "Ucoin",
          "Vtorrent",
          "IslaCoin",
          "Nexus",
          "Droidz",
          "Squall Coin",
          "Diggits",
          "Paycon",
          "Emercoin",
          "EverGreenCoin",
          "Decred",
          "EDRCoin",
          "Hitcoin",
          "DubaiCoin",
          "PWR Coin",
          "BillaryCoin",
          "GPU Coin",
          "EuropeCoin",
          "ZeitCoin",
          "SwingCoin",
          "SafeExchangeCoin",
          "Nebuchadnezzar",
          "Ratecoin",
          "Revenu",
          "Clockcoin",
          "VIP Tokens",
          "BitSend",
          "Let it Ride",
          "PutinCoin",
          "iBankCoin",
          "Frankywillcoin",
          "MudraCoin",
          "Lutetium Coin",
          "GoldBlocks",
          "CarterCoin",
          "BitTokens",
          "MustangCoin",
          "ZoneCoin",
          "RootCoin",
          "BitCurrency",
          "Swiscoin",
          "BuzzCoin",
          "Opair",
          "PesoBit",
          "Halloween Coin",
          "CoffeeCoin",
          "RoyalCoin",
          "GanjaCoin V2",
          "TeamUP",
          "LanaCoin",
          "InsaneCoin",
          "EmberCoin",
          "XenixCoin",
          "FreeCoin",
          "PLNCoin",
          "AquariusCoin",
          "Creatio",
          "Eternity",
          "Eurocoin",
          "BitcoinFast",
          "Stakenet",
          "BitConnect Coin",
          "MoneyCoin",
          "Enigma",
          "Russiacoin",
          "PandaCoin",
          "GameUnits",
          "GAKHcoin",
          "Allsafe",
          "LiteCreed",
          "Klingon Empire Darsek",
          "Internet of People",
          "KushCoin",
          "Printerium",
          "Impeach",
          "Zilbercoin",
          "FirstCoin",
          "FindCoin",
          "OpenChat",
          "RenosCoin",
          "VirtacoinPlus",
          "TajCoin",
          "Impact",
          "Atmos",
          "HappyCoin",
          "MacronCoin",
          "Condensate",
          "Independent Money System",
          "ArgusCoin",
          "LomoCoin",
          "ProCurrency",
          "GoldReserve",
          "GrowthCoin",
          "Phreak",
          "Degas Coin",
          "HTML5 Coin",
          "Ultimate Secure Cash",
          "QTUM",
          "Espers",
          "Denarius",
          "Virta Unique Coin",
          "Bitcoin Planet",
          "BritCoin",
          "Linda",
          "DeepOnion",
          "Signatum",
          "Cream",
          "Monoeci",
          "Draftcoin",
          "Stakecoin",
          "CoinonatX",
          "Ethereum Dark",
          "Obsidian",
          "Cardano",
          "Regalcoin",
          "TrezarCoin",
          "TerraNovaCoin",
          "Rupee",
          "WomenCoin",
          "Theresa May Coin",
          "NamoCoin",
          "LUXCoin",
          "Xios",
          "Bitcloud 2.0",
          "KekCoin",
          "BlackholeCoin",
          "Infinity Economics",
          "Magnet",
          "Electra",
          "Bitcoin Diamond",
          "Cash & Back Coin",
          "Bulwark",
          "Kalkulus",
          "GermanCoin",
          "LiteCoin Ultra",
          "PhantomX",
          "Digiwage",
          "Trollcoin",
          "Litecoin Plus",
          "Monkey Project",
          "TokenPay",
          "1717 Masonic Commemorative Token",
          "My Big Coin",
          "Unified Society USDEX",
          "Tokyo Coin",
          "Stipend",
          "Pushi",
          "Ellerium",
          "Velox",
          "Ontology",
          "Bitspace",
          "Briacoin",
          "Ignition",
          "MedicCoin",
          "Bitcoin Green",
          "Deviant Coin",
          "Abjcoin",
          "Carebit",
          "Zealium",
          "Proton",
          "iDealCash",
          "Bitcoin Incognito",
          "HollyWoodCoin",
          "Swisscoin",
          "Xt3ch",
          "TheVig",
          "EmaratCoin",
          "Dekado",
          "Poseidon Quark",
          "BitcoinWSpectrum",
          "Muse",
          "Trivechain",
          "Dystem",
          "Giant",
          "Peony Coin",
          "Absolute Coin",
          "Vitae",
          "TPCash",
          "ARENON",
          "EUNO",
          "MMOCoin",
          "Ketan",
          "XDNA",
          "PAXEX",
          "ThunderStake",
          "Kcash",
          "Bettex coin",
          "BitMoney",
          "Junson Ming Chan Coin",
          "HerbCoin",
          "Oduwa",
          "Galilel",
          "Crypto Sports",
          "Credit",
          "Dash Platinum",
          "Nasdacoin",
          "Beetle Coin",
          "Titan Coin",
          "Award",
          "Insane Coin",
          "LiteDoge",
          "TruckCoin",
          "OrangeCoin",
          "BitstarCoin",
          "NeosCoin",
          "HyperCoin",
          "PinkCoin",
          "AudioCoin",
          "IncaKoin",
          "Piggy Coin",
          "Genstake",
          "XiaoMiCoin",
          "CapriCoin",
          " ClubCoin",
          "Radium",
          "Creditbit ",
          "OKCash",
          "HiCoin",
          "WhiteCoin",
          "FriendshipCoin",
          "Triangles Coin",
          "TigerCash",
          "Particl",
          "Nxt",
          "Gapcoin",
          "BitcoinPlus"
         ],
         "legendgroup": "0",
         "marker": {
          "color": [
           0,
           0,
           0,
           0,
           0,
           0,
           0,
           0,
           0,
           0,
           0,
           0,
           0,
           0,
           0,
           0,
           0,
           0,
           0,
           0,
           0,
           0,
           0,
           0,
           0,
           0,
           0,
           0,
           0,
           0,
           0,
           0,
           0,
           0,
           0,
           0,
           0,
           0,
           0,
           0,
           0,
           0,
           0,
           0,
           0,
           0,
           0,
           0,
           0,
           0,
           0,
           0,
           0,
           0,
           0,
           0,
           0,
           0,
           0,
           0,
           0,
           0,
           0,
           0,
           0,
           0,
           0,
           0,
           0,
           0,
           0,
           0,
           0,
           0,
           0,
           0,
           0,
           0,
           0,
           0,
           0,
           0,
           0,
           0,
           0,
           0,
           0,
           0,
           0,
           0,
           0,
           0,
           0,
           0,
           0,
           0,
           0,
           0,
           0,
           0,
           0,
           0,
           0,
           0,
           0,
           0,
           0,
           0,
           0,
           0,
           0,
           0,
           0,
           0,
           0,
           0,
           0,
           0,
           0,
           0,
           0,
           0,
           0,
           0,
           0,
           0,
           0,
           0,
           0,
           0,
           0,
           0,
           0,
           0,
           0,
           0,
           0,
           0,
           0,
           0,
           0,
           0,
           0,
           0,
           0,
           0,
           0,
           0,
           0,
           0,
           0,
           0,
           0,
           0,
           0,
           0,
           0,
           0,
           0,
           0,
           0,
           0,
           0,
           0,
           0,
           0,
           0,
           0,
           0,
           0,
           0,
           0,
           0,
           0,
           0,
           0,
           0,
           0,
           0,
           0,
           0,
           0,
           0,
           0,
           0,
           0,
           0,
           0,
           0,
           0,
           0,
           0,
           0,
           0,
           0,
           0,
           0,
           0,
           0,
           0,
           0,
           0,
           0,
           0,
           0,
           0,
           0,
           0,
           0,
           0,
           0,
           0,
           0,
           0,
           0,
           0,
           0,
           0,
           0,
           0,
           0,
           0,
           0,
           0,
           0,
           0,
           0,
           0,
           0,
           0,
           0,
           0,
           0,
           0,
           0,
           0,
           0,
           0,
           0,
           0,
           0,
           0,
           0,
           0,
           0,
           0,
           0,
           0,
           0,
           0,
           0,
           0,
           0,
           0,
           0,
           0,
           0,
           0,
           0,
           0,
           0,
           0,
           0,
           0,
           0,
           0,
           0,
           0,
           0,
           0,
           0,
           0,
           0,
           0,
           0,
           0
          ],
          "coloraxis": "coloraxis",
          "symbol": "circle"
         },
         "mode": "markers",
         "name": "0",
         "scene": "scene",
         "showlegend": true,
         "type": "scatter3d",
         "x": [
          -0.3341973577125254,
          -0.3175380399782952,
          -0.4015186599184629,
          -0.25607757014590826,
          -0.3173393217314323,
          -0.26921337894161934,
          -0.25401906450270484,
          -0.333856956814766,
          -0.32643750640734065,
          -0.3326945048570729,
          -0.3341932921965145,
          -0.33417757605505655,
          0.6348909945348064,
          -0.3730339973407,
          -0.3576496745502309,
          -0.26717597853538455,
          -0.33225610073438466,
          -0.33322418120615227,
          -0.4014133963717473,
          -0.3990413192406985,
          -0.026091507888286795,
          -0.2806441695618324,
          -0.2858224323908586,
          -0.27600096029502674,
          -0.2766229308370928,
          -0.3486458044362775,
          -0.32849907709000026,
          -0.33259907827354485,
          0.023806905918530647,
          -0.35310316863764213,
          -0.40178496847809386,
          -0.243940464371281,
          -0.32637506032398284,
          -0.40169657720462404,
          -0.3094285574968829,
          -0.33287461323695594,
          -0.31044478098708,
          -0.40166109602076416,
          -0.24440867193606472,
          -0.2764038782182899,
          -0.3252974037808996,
          -0.0885843183693195,
          -0.33063078881129476,
          -0.3165510403736936,
          -0.3724558102878748,
          -0.2858028042378869,
          -0.27669821094270086,
          -0.280455647502137,
          -0.3341794331209423,
          -0.2766504276743707,
          -0.3535477131081344,
          -0.3339137869447502,
          -0.4017665044590668,
          -0.3689117838283918,
          -0.42237576821748746,
          -0.3685516647231389,
          -0.2842043063762191,
          -0.2761719891379657,
          -0.30989256548376154,
          -0.2564616721740382,
          -0.07817743249182557,
          -0.3173102468296068,
          -0.07918620587629473,
          -0.3173739913380884,
          -0.24761530999094034,
          -0.3337895723138326,
          -0.28407261774118925,
          -0.39893430440140687,
          0.8675369963981909,
          -0.31717393979331443,
          -0.095843181872276,
          -0.3573329401572125,
          -0.3996098418832012,
          -0.31591678236594245,
          -0.3135839530385698,
          -0.3689268550047132,
          -0.4005012817037911,
          -0.3323799192532027,
          -0.3100824338472887,
          -0.3338276402918167,
          -0.3322668812927818,
          -0.22726584931959026,
          -0.34103917962318836,
          -0.4012402883170689,
          -0.33303187601676876,
          -0.3173548826807818,
          -0.4017556807768405,
          -0.33401688089448717,
          -0.3341736684295738,
          -0.2840636305084343,
          -0.22796805420468888,
          0.03221074408827962,
          -0.3562900696011904,
          -0.3337879732471152,
          -0.3879136859518964,
          -0.35561918619057864,
          -0.2286971824397748,
          -0.41535941279340866,
          -0.35536653410412294,
          -0.282275444718774,
          -0.4013482053601317,
          0.8550875567475271,
          -0.40171060234835576,
          -0.35675379698805015,
          -0.33371530675530486,
          -0.3338695512983998,
          -0.3573329401572125,
          -0.4012853077971086,
          -0.31721761475577354,
          -0.33371607813367216,
          -0.40211484035711414,
          -0.33386344459353595,
          -0.32944914543325376,
          -0.401739577685852,
          -0.33307370056110125,
          0.3574123441198666,
          -0.3340627412463153,
          -0.33413334797166505,
          -0.3487257011763591,
          -0.35760129564974347,
          -0.33035834878810316,
          -0.31733130542091514,
          -0.4016495355826477,
          -0.3339111368485414,
          -0.3340380287915894,
          -0.28570899471267547,
          -0.2758344513998659,
          -0.22846504781368668,
          -0.3148925862179129,
          -0.2854503576280409,
          -0.40091497679973315,
          -0.44056171489525997,
          -0.3996537666393707,
          -0.35557958261907757,
          -0.4008129011777873,
          -0.34997976840810874,
          -0.39675285831094453,
          -0.33398134173947575,
          -0.33398048429822386,
          -0.32709856743757465,
          0.2637307259896093,
          -0.4012915841273055,
          -0.2683451934528232,
          -0.35736715661851076,
          -0.3331917915040965,
          0.8780597221294927,
          -0.26790308036997673,
          -0.33115830908247335,
          0.5633622523402108,
          -0.3704624321306832,
          -0.3689645239446098,
          -0.4277445578426934,
          -0.27633551333420175,
          0.13089437955183508,
          -0.2764063302512568,
          -0.33689825764773057,
          -0.42724963320302534,
          -0.40156406093466834,
          -0.2857834112867754,
          -0.35723327810391703,
          -0.3336165031309258,
          -0.33411627847964015,
          -0.3141420795750654,
          0.6610821972550796,
          -0.4015047983607825,
          -0.34364440421065506,
          -0.3340718361933427,
          -0.29631704874738957,
          0.4349110738710003,
          -0.31567769959110564,
          -0.3552274312523242,
          -0.41003581155300745,
          -0.33402215995999357,
          -0.39522952118358057,
          -0.35892977273903526,
          -0.333892649112111,
          -0.09570557495444318,
          -0.40029715872489025,
          0.1890091515448689,
          -0.2730772242943105,
          -0.3313526341335549,
          -0.3221633679242078,
          -0.34861161642905486,
          0.08041656346621934,
          -0.3330306372911567,
          -0.40087868424756384,
          -0.3477760271310232,
          -0.3205963206122507,
          -0.33413840277879187,
          -0.35351964689594295,
          -0.33266178254172973,
          -0.2767796500865482,
          -0.27271938628612413,
          -0.32968389250236163,
          -0.2202588681618943,
          -0.36337370554277554,
          -0.4015811991246357,
          -0.3175731193884029,
          -0.284943027429812,
          -0.3229129047195241,
          -0.37006128752610284,
          -0.3341657534654252,
          -0.3341474585364117,
          -0.2793241785372981,
          -0.34687010231368226,
          -0.3568277205319423,
          -0.3338639164148898,
          -0.39389806117195925,
          -0.3570163688305046,
          -0.3115165114136669,
          -0.2807212774375999,
          -0.2844923769697479,
          -0.28547768286077607,
          -0.13728868100814254,
          -0.28572952723889994,
          -0.3476134270788457,
          -0.3333377999588714,
          -0.2077426821218624,
          -0.34431711886848493,
          -0.26803140435031636,
          1.020917315008139,
          -0.3589156515962021,
          -0.3487250982324539,
          -0.39691428658080535,
          -0.1663975349488393,
          -0.3443077531408228,
          -0.3474446111886428,
          -0.32703868177357276,
          -0.353096996413618,
          -0.40105457601669003,
          -0.28297466373696917,
          -0.35611566799949657,
          -0.34746366497106046,
          -0.3529581354790734,
          -0.19358477603987942,
          -0.27904433515695887,
          -0.26950370316543837,
          0.5233130457667814,
          -0.1435533246628934,
          -0.39620886984102544,
          -0.3338679474147002,
          -0.3966650400704579,
          -0.3488420794657974,
          0.5727817431003206,
          -0.35357394943695186,
          -0.3333506569843759,
          -0.31202800821843635,
          -0.30231873716952556,
          -0.3986177489769069,
          -0.4012818552909366,
          0.10112220376063892,
          -0.39882265380359655,
          -0.3327356255304362,
          -0.33356125455528846,
          -0.26924594055413736,
          -0.3340797414685568,
          -0.3929098588834172,
          -0.24774737435524996,
          -0.09708200260646101,
          -0.38865659475967995,
          -0.33335824301189354,
          -0.3264227364251278,
          -0.3978506327173864,
          -0.331797089522446,
          -0.357608536051492,
          -0.39967876473931674,
          -0.3158544179465163,
          -0.09302140415103353,
          -0.3289920390699326,
          -0.34827143836442687,
          -0.27680545136847917,
          -0.25014375327560096,
          -0.3575444298817819,
          -0.3969118721461998,
          -0.33224184802422074,
          -0.2861261237812404
         ],
         "y": [
          1.0093384826677416,
          1.0094903954314585,
          1.2094038452424258,
          1.7234009876431668,
          0.864248195283735,
          0.6778272734932742,
          1.738476417341086,
          1.0093374950388927,
          1.0095811497289677,
          1.0093854800977013,
          1.009338262973755,
          1.009338407590433,
          0.28491322589374585,
          0.8873697402716271,
          1.5931561496191176,
          0.23943121095074094,
          1.0093159434186265,
          1.023622307919008,
          1.2094071370571151,
          2.0843876946656703,
          0.8310410944431809,
          0.8637327429073074,
          0.8229075323664954,
          1.8176354457150328,
          1.8176159953751294,
          0.5269063631347235,
          1.0092253172599492,
          1.0093204796421442,
          1.0205340364147313,
          1.0230006497594424,
          1.2094107783740622,
          0.1318557458943447,
          1.5566099620660345,
          1.2094066060417166,
          1.0090031022593673,
          1.0093104756368216,
          0.2279099640587998,
          1.2094108373577153,
          0.13191047613862408,
          1.8176228456157821,
          1.00892308226671,
          0.4098352595953992,
          1.4507414436654087,
          0.8642409353550103,
          0.887390859906338,
          0.8229193705845768,
          1.8176053165556179,
          0.8227397270864889,
          1.0093390432369314,
          1.817608198281695,
          1.0229728734917882,
          1.0093334761392296,
          1.2094113564768751,
          2.4209727221292368,
          1.9183524175902178,
          0.7367577425767708,
          0.8228999869185949,
          1.817595411235205,
          0.8638026121350675,
          1.7386245906516393,
          0.9508602999550343,
          0.8642491045176695,
          1.2010808378602265,
          0.864255088881766,
          1.4845322156310374,
          1.0093220987349227,
          0.8228201283619525,
          1.2092335365653253,
          0.790308387420503,
          0.8642408801521345,
          0.2883206975768158,
          1.5931521801584663,
          1.2094267708293607,
          0.8641534339849041,
          0.8640166920299408,
          1.4806761110747246,
          1.2093544954756221,
          1.5623118657059434,
          1.0087051657998918,
          1.009319289586543,
          1.0093294807055264,
          1.6310882393805257,
          1.0229221416929397,
          1.2093931263286606,
          1.009312494904603,
          0.8642484023806906,
          1.2094096137937282,
          1.0093295584515585,
          1.0093392235110745,
          0.8229737582410681,
          0.4146907631184964,
          1.902541073905213,
          1.5931473320075715,
          1.009351285018639,
          1.2088039821952978,
          1.5931918985378843,
          1.6311804883440697,
          1.9436888365310938,
          1.5930187382814376,
          1.9013737716550798,
          1.2094036259513696,
          1.852417323294008,
          1.2094104315213192,
          1.5931494795686678,
          1.0093268214509663,
          1.0093195976222014,
          1.5931521801584663,
          1.20938478126497,
          0.8642533887611529,
          1.0093306405420732,
          0.608036077570818,
          1.0093295006843341,
          1.009035593059614,
          1.209408729929801,
          1.0092737260340483,
          0.8204777972657799,
          1.009333674068094,
          1.0093381841853273,
          1.4829138774545945,
          0.5647663388749357,
          1.0091116762134569,
          0.8642491396916839,
          1.2094085252768478,
          1.0093335590133665,
          1.0093282496392963,
          0.8228841495585676,
          0.2341223187540848,
          1.63117940588219,
          1.009248463011535,
          0.8229065100097521,
          1.209368613466116,
          1.8462501893335495,
          1.2094011169776875,
          1.593144375292546,
          1.2093718055876215,
          1.5931185155177352,
          1.2092212833943425,
          1.0093305226836506,
          1.009325424371643,
          1.008866756053529,
          0.6424731721578776,
          1.2093984594086524,
          0.8220778653675666,
          1.5931441729281168,
          1.0092970881942631,
          1.7116868474601434,
          0.6777381182339319,
          1.5623039356112778,
          1.768361761142006,
          1.4806835879878952,
          1.4806541214601776,
          1.7854060928426363,
          1.8176041719041252,
          0.9891968445198318,
          1.8176096588679123,
          1.6750195359631155,
          1.7854215701873293,
          1.2094110919233412,
          0.8229079022129644,
          1.5931264380376862,
          1.0093231738328452,
          1.0093381045889542,
          1.7240195796679514,
          1.5037691928085493,
          1.2094008101183176,
          0.5267878945132449,
          1.0093314934795736,
          0.8178901106208527,
          1.0160471146003147,
          0.8642460475076665,
          1.480334490961606,
          1.7434801600700314,
          1.0093293933639673,
          1.6692637784531121,
          1.4995561155974169,
          1.0093377526459857,
          0.677018414525839,
          1.209357410230261,
          1.4773747631368663,
          1.817581195762216,
          1.0092817618578152,
          1.294249199680077,
          1.482913976522491,
          0.9876182959969328,
          1.009270910388607,
          1.2094044344559547,
          1.4828707350853219,
          1.0091394672116973,
          1.009337551459306,
          1.0229730574609615,
          1.5623089478698282,
          -0.11798006667262805,
          0.2452641307904888,
          1.0093186850933527,
          1.6308911300282543,
          1.0502711001788922,
          1.2093998083459438,
          1.3915107979675934,
          0.8228602362407891,
          1.5119984973489298,
          1.480668383795986,
          1.009337389866136,
          1.009336574545638,
          0.8227751105242376,
          1.548036449256504,
          1.5931208064285047,
          1.0093280984876931,
          1.6693054160356708,
          1.5931204567626671,
          0.6830340646106058,
          1.0074575887352877,
          0.9188800456743832,
          0.822911501077374,
          1.00842028213962,
          0.8228911383926842,
          1.904468211103207,
          1.0093070903385148,
          1.5521714329518892,
          1.4826112304200862,
          0.6778033538740156,
          1.6802180055696656,
          0.869458258574889,
          1.4829097339845723,
          1.6693462630830005,
          0.8149434182968489,
          1.0043020809062466,
          1.48289497358362,
          1.0088686288054385,
          1.0229626881288856,
          1.2093989339467435,
          0.8228274451127907,
          1.5930584398746408,
          0.9075621407375835,
          1.022935813165064,
          1.001248760711213,
          2.132928767313054,
          1.2050884553317747,
          0.9672431277121485,
          1.029553718460334,
          1.6693344353908455,
          1.0093342159178031,
          1.669344425236869,
          1.4829113688233537,
          0.9858113227932008,
          1.0229722611423278,
          1.009306688272019,
          1.391378968178692,
          1.9024854398862951,
          1.2092184619736621,
          1.2094057008589598,
          0.9986716187414564,
          1.209503416939553,
          1.0092454499883172,
          1.0093207363903582,
          0.6778203585949005,
          1.0093421608066444,
          1.2093414621488976,
          1.0047578879186532,
          0.871019564365029,
          1.2091276103054256,
          1.0093543177824387,
          1.0093041232605056,
          1.2093895201577405,
          1.009302548838437,
          1.593151192619314,
          0.7095944465485037,
          0.8642370525448817,
          0.8220047160352166,
          1.0092931477989477,
          0.5268789457854268,
          1.8176102043239348,
          0.6777385718095846,
          1.5931534511601269,
          1.7661188083546089,
          1.009226205415063,
          0.8229085659748382
         ],
         "z": [
          -0.5499160622331373,
          -0.5503891732572277,
          -0.5223308819619098,
          -0.14353370185076675,
          -0.39393030825544173,
          -0.10475238188797614,
          -0.6235057008102616,
          -0.5499250015789691,
          -0.5501670117033519,
          -0.5499646637005423,
          -0.5499161320208998,
          -0.549916578578518,
          -0.33120058902385785,
          -0.40622001096634025,
          -0.21955933046441295,
          -0.21750987646954445,
          -0.5499640348872152,
          -0.23380673767288537,
          -0.5223342861290343,
          -0.6509967781357655,
          -0.2691445756376219,
          -0.39482122406038495,
          -0.26074301922765386,
          -0.6364404124375093,
          -0.636420298240901,
          -0.3343766759001554,
          -0.5500485186102888,
          -0.5499556577137207,
          -0.561493729761367,
          -0.23316386178966975,
          -0.5223249840990529,
          0.025825195461062607,
          -0.2238063625564736,
          -0.5223266088684293,
          -0.5505196511396847,
          -0.5499465002833558,
          -0.43369664251298706,
          -0.5223283115574067,
          0.025827998236795345,
          -0.6364273822861154,
          -0.5500804939365566,
          -0.2938769170330801,
          -0.1812116863634859,
          -0.3939501250037383,
          -0.4062392496679755,
          -0.26074565041081,
          -0.6364163830653604,
          -0.2608568805766311,
          -0.5499166419100742,
          -0.6364181751270096,
          -0.233147017696283,
          -0.5499227650045695,
          -0.5223255813389986,
          -0.5008874781985161,
          -0.7106323842791017,
          -0.1733130864399592,
          -0.260785006173732,
          -0.6364287120516947,
          -0.3940504588510477,
          -0.6234666491450979,
          -0.4132483147351987,
          -0.39393124852230677,
          -0.5294817031576413,
          -0.39393060602171176,
          -0.6690851462897157,
          -0.5499240675019349,
          -0.2607743284623838,
          -0.5223697921603585,
          -0.28582862642328183,
          -0.3939334356339501,
          -0.3122395836117374,
          -0.21956710572467464,
          -0.5223860725539698,
          -0.3939515453498516,
          -0.39398969067812384,
          -0.6651508905021989,
          -0.5223493470270918,
          -0.06675391258250297,
          -0.550449149894399,
          -0.5499225484982908,
          -0.549966154011279,
          -0.34725633644259457,
          -0.2334729388113385,
          -0.5223364294852485,
          -0.5499426483694737,
          -0.3939299284106934,
          -0.5223255612068881,
          -0.5499193076129736,
          -0.5499168283371277,
          -0.2608018943644442,
          -0.19992113047433568,
          -0.7285633150311708,
          -0.21959416864763406,
          -0.5499293015142416,
          -0.522588492004259,
          -0.21962005986769137,
          -0.34723441702097746,
          -0.6093518351199537,
          -0.21959602620048724,
          -0.7199346095732491,
          -0.5223354072670496,
          -0.6729143337736994,
          -0.5223269137289431,
          -0.2195821332644317,
          -0.5499268961333633,
          -0.5499214810241018,
          -0.21956710572467464,
          -0.5223337396984079,
          -0.3939344909704777,
          -0.549927554757358,
          -0.1508008290899433,
          -0.5499234059448032,
          -0.5499893332314383,
          -0.5223258351961287,
          -0.5499346328296557,
          -0.27753493313851274,
          -0.5499188116182171,
          -0.5499177231504604,
          -0.1590586395685624,
          -0.366769014775242,
          -0.5499785197058483,
          -0.3939306908867409,
          -0.52232820987817,
          -0.5499228507072718,
          -0.5499185085390602,
          -0.2607418978166013,
          -0.2668915350555758,
          -0.3472404404233207,
          -0.5504169802039558,
          -0.26075280053654654,
          -0.5223407804827654,
          -0.8925101607417686,
          -0.522380333467929,
          -0.21961266766173934,
          -0.5223440815541021,
          -0.21975801591890373,
          -0.522426025949754,
          -0.5499204307571466,
          -0.5499195469101392,
          -0.5500222452616381,
          -0.11273494724548577,
          -0.5223360044868166,
          -0.2610634441017979,
          -0.21956476530171545,
          -0.5499356259664531,
          -0.6490547854784045,
          -0.10477161059287027,
          -0.06678521349856542,
          -0.8973429230967884,
          -0.6651111018008221,
          -0.6651459706663271,
          -0.7624472154634921,
          -0.6364258915277299,
          -0.5587874777414616,
          -0.6364249711775962,
          -0.3293400407933468,
          -0.7624632210631713,
          -0.5223309551710218,
          -0.2607441298890504,
          -0.21956519580269654,
          -0.5499288930450107,
          -0.5499181660676582,
          -0.14208891766348683,
          -0.1543648589406852,
          -0.5223307132969126,
          -0.334489528465299,
          -0.549918180231757,
          -0.07506966770868194,
          -0.5717039179675725,
          -0.3939744199617188,
          -0.6654569618136614,
          -0.5121126735989002,
          -0.5499191368908022,
          -0.448267369916328,
          -0.21687412825622843,
          -0.5499240916554535,
          -0.10925458164450233,
          -0.5223553313152931,
          -0.6795037068228934,
          -0.6365090530084284,
          -0.5499821475895276,
          -0.3759354159430149,
          -0.1590617120682305,
          -0.5571550520099863,
          -0.549935285144431,
          -0.5223481235685797,
          -0.15907639577386753,
          -0.5502448632744583,
          -0.5499174752572042,
          -0.2331478019545821,
          -0.06674584607230286,
          0.07580949874555984,
          -0.25783356284443065,
          -0.5500333992688056,
          -0.347408905639687,
          -0.5450094530969481,
          -0.5223284893129934,
          -0.419703020879343,
          -0.26075815501375293,
          -0.00684825642015172,
          -0.6651191390808524,
          -0.5499167141386215,
          -0.5499170590107385,
          -0.2608934716813144,
          -0.0644687933181461,
          -0.21957505386930745,
          -0.5499231439101921,
          -0.44831042862512244,
          -0.21956994018827905,
          -0.06746253987165558,
          -0.5510134625150412,
          -0.0706910014794652,
          -0.26075295657320086,
          -0.5550254257290929,
          -0.2607425910744959,
          -0.7187354260829141,
          -0.549933495280333,
          -0.33429886935655817,
          -0.15912285934572395,
          -0.10477977750783556,
          -0.21984635070926248,
          -0.356660510037307,
          -0.15905791873897177,
          -0.448236927543131,
          -0.26252436254582573,
          -0.3642496232404654,
          -0.15908958135080917,
          -0.5500241819321684,
          -0.2331572750517402,
          -0.5223424353222937,
          -0.26080503007012235,
          -0.2195830279238852,
          -0.3981229934517722,
          -0.2331562132769485,
          -0.5522424129301357,
          -0.0923837727755881,
          -0.13052332816679882,
          0.01321396506248916,
          -0.2399405923191909,
          -0.44825371296110617,
          -0.5499241240425173,
          -0.4482432747993825,
          -0.1590550770791342,
          -0.5700178557406937,
          -0.23314620624378382,
          -0.5499330794909645,
          -0.4198280560710771,
          -0.7195956306803153,
          -0.5223755874236018,
          -0.5223375529930067,
          -0.5596754825998006,
          -0.5224207839038536,
          -0.5499386562639297,
          -0.5499299389178567,
          -0.1047502800640652,
          -0.5499198658851031,
          -0.5225503065077898,
          -0.551416233896957,
          -0.4010325836404439,
          -0.522626160768197,
          -0.5499413479403542,
          -0.5501181341249212,
          -0.5224265538283882,
          -0.5499739435425576,
          -0.21955955036887256,
          -0.2601929240669238,
          -0.3939680880436743,
          -0.2657451273742555,
          -0.5500473830515229,
          -0.33438182384105697,
          -0.6364143808173987,
          -0.10524723771354967,
          -0.2195616686710758,
          -0.47075500485855976,
          -0.5499484553619481,
          -0.26073507104061855
         ]
        },
        {
         "customdata": [
          [
           "X13",
           29279424622.5027,
           "314159265359"
          ],
          [
           "Scrypt",
           88,
           "384000000000"
          ],
          [
           "CryptoNight",
           184066828814,
           "184467440735"
          ],
          [
           "DPoS",
           108202084,
           "125000000"
          ],
          [
           "Scrypt",
           163055097500,
           "200000000000"
          ],
          [
           "DPoS",
           288090567.493887,
           "500000000"
          ],
          [
           "CryptoNight",
           53139835213.77,
           "1000000000000"
          ],
          [
           "Semux BFT consensus",
           1231147,
           "100000000"
          ],
          [
           "Scrypt",
           77872059787.8998,
           "92000000000"
          ],
          [
           "CryptoNight Heavy",
           99553110528.8022,
           "184470000000"
          ],
          [
           "DPoS",
           1000000000,
           "1000000000"
          ],
          [
           "DPoS",
           120012140,
           "159918400"
          ],
          [
           "DPoS",
           1020544523.0722,
           "0"
          ],
          [
           "DPoS",
           1122382283.37,
           "0"
          ],
          [
           "SHA-256",
           1999999995.3056,
           "2000000000"
          ]
         ],
         "hovertemplate": "<b>%{hovertext}</b><br><br>Class=%{marker.color}<br>PC 1=%{x}<br>PC 2=%{y}<br>PC 3=%{z}<br>Algorithm=%{customdata[0]}<br>TotalCoinsMined=%{customdata[1]}<br>TotalCoinSupply=%{customdata[2]}<extra></extra>",
         "hovertext": [
          "EliteCoin",
          "MoonCoin",
          "ByteCoin",
          "ARK",
          "gCn Coin",
          "Lamden Tau",
          "TurtleCoin",
          "Semux",
          "Lynx",
          "Qwertycoin",
          "ALAX",
          "Lisk",
          "EOS",
          "Oxycoin",
          "ZEPHYR"
         ],
         "legendgroup": "4",
         "marker": {
          "color": [
           4,
           4,
           4,
           4,
           4,
           4,
           4,
           4,
           4,
           4,
           4,
           4,
           4,
           4,
           4
          ],
          "coloraxis": "coloraxis",
          "symbol": "diamond"
         },
         "mode": "markers",
         "name": "4",
         "scene": "scene",
         "showlegend": true,
         "type": "scatter3d",
         "x": [
          2.308987589082175,
          2.5618805413788928,
          3.8705077708827087,
          3.7234349899213255,
          3.248069571949643,
          3.7282915606702063,
          8.055931484373772,
          3.9180335835326634,
          2.251498088943383,
          3.1085714387927723,
          3.740531803304592,
          3.7238268805691566,
          3.7336900097710166,
          3.734933661386471,
          2.4698211816646554
         ],
         "y": [
          1.6805346820285392,
          -1.3003404216107777,
          -2.2785587561356846,
          1.864752786586761,
          -1.1512371888712172,
          1.864644516534487,
          -2.71342364209314,
          1.9571714391697344,
          0.3196515699417021,
          -2.284734873393579,
          1.864680434473231,
          1.8647408182160599,
          1.8651601979505406,
          1.8651990895780493,
          0.862199416197443
         ],
         "z": [
          -0.6812740591887162,
          -0.020613892248148066,
          0.2776314984598957,
          -0.31852795487238333,
          -0.0655082872561393,
          -0.3186387432581878,
          0.24290411735586,
          -0.38592110883887554,
          -0.43518327464603945,
          0.3621758335195354,
          -0.3189728921566864,
          -0.318536319893237,
          -0.31887502027132575,
          -0.318915239303278,
          -0.20438288133977264
         ]
        },
        {
         "customdata": [
          [
           "SHA-256",
           17927175,
           "21000000"
          ],
          [
           "Ethash",
           107684222.6865,
           "0"
          ],
          [
           "Scrypt",
           63039243.30000489,
           "84000000"
          ],
          [
           "CryptoNight-V7",
           17201143.1449131,
           "0"
          ],
          [
           "Ethash",
           113359703,
           "210000000"
          ],
          [
           "Equihash",
           7383056.25,
           "21000000"
          ],
          [
           "Multiple",
           11406219141,
           "21000000000"
          ],
          [
           "Scrypt",
           5768310,
           "21000000"
          ],
          [
           "X11",
           11149733.9976203,
           "20000000"
          ],
          [
           "Scrypt",
           12205795.444954902,
           "64000000"
          ],
          [
           "Multiple",
           1688254250,
           "2000000000"
          ],
          [
           "SHA-256",
           170204389.754849,
           "169795588"
          ],
          [
           "Scrypt",
           128940951.183046,
           "250000000"
          ],
          [
           "Scrypt",
           7357794.7925,
           "100000000"
          ],
          [
           "Quark",
           259557164.91477,
           "247000000"
          ],
          [
           "Groestl",
           49548585.14129171,
           "84000000"
          ],
          [
           "Scrypt",
           33442988.3440364,
           "48166000"
          ],
          [
           "Scrypt",
           7219956.64626131,
           "21000000 "
          ],
          [
           "Scrypt",
           4703879.51824446,
           "13140000"
          ],
          [
           "X11",
           4996986.20575291,
           "18000000"
          ],
          [
           "Multiple",
           15929530669.1206,
           "16555000000"
          ],
          [
           "SHA-256",
           18773857500,
           "21000000000"
          ],
          [
           "Scrypt",
           12539015186.821999,
           "13500000000"
          ],
          [
           "Scrypt",
           20910478.806249898,
           "21000000 "
          ],
          [
           "Scrypt",
           218871896.499999,
           "299792458"
          ],
          [
           "Scrypt",
           19496786.31025,
           "32000000"
          ],
          [
           "Scrypt",
           1142732.14912776,
           "11235813"
          ],
          [
           "NeoScrypt",
           208669093.00773,
           "336000000"
          ],
          [
           "Scrypt",
           884125802,
           "1420609614"
          ],
          [
           "Scrypt",
           65672720.470874794,
           "70000000"
          ],
          [
           "Scrypt",
           41658647.9999715,
           "72245700"
          ],
          [
           "Scrypt",
           90595753018.6314,
           "90600000000"
          ],
          [
           "SHA-256",
           21089348.999,
           "21000000"
          ],
          [
           "Scrypt",
           151447649.8,
           "265420800"
          ],
          [
           "Scrypt",
           19326319.14375,
           "20000000"
          ],
          [
           "Scrypt",
           1104344.22938102,
           "1350000"
          ],
          [
           "Scrypt",
           38151999.993099704,
           "42000000"
          ],
          [
           "HybridScryptHash256",
           40431856.9,
           "200000000"
          ],
          [
           "Scrypt",
           5804204.88794916,
           "10000000"
          ],
          [
           "Scrypt",
           2366066305.76482,
           "15000000000"
          ],
          [
           "SHA-256",
           14736400,
           "21000000"
          ],
          [
           "Scrypt",
           334709223.48313797,
           "337000000"
          ],
          [
           "Scrypt",
           1104157.42169891,
           "21000000"
          ],
          [
           "Scrypt",
           24215181.725,
           "250000000"
          ],
          [
           "Scrypt",
           25593737.1355044,
           "51200000"
          ],
          [
           "SHA-256",
           563336541.299966,
           "888000000"
          ],
          [
           "SHA-256",
           43536800,
           "47011968"
          ],
          [
           "SHA-256",
           22935396,
           "42000000"
          ],
          [
           "SHA-256",
           2278150,
           "80000000"
          ],
          [
           "SHA-256",
           200911.79151896,
           "250000"
          ],
          [
           "X11",
           1207310,
           "0"
          ],
          [
           "Scrypt",
           23150892.167968698,
           "23000000"
          ],
          [
           "Lyra2REv2",
           51173723.81663471,
           "84000000"
          ],
          [
           "Scrypt",
           119606941,
           "265420800"
          ],
          [
           "SHA-256",
           39195739.362088,
           "45000000"
          ],
          [
           "CryptoNight",
           6906587610.38292,
           "10000000000"
          ],
          [
           "Scrypt",
           68194674.8711679,
           "105120000"
          ],
          [
           "Scrypt",
           415032420,
           "1680000000"
          ],
          [
           "Scrypt",
           137517654.41397,
           "166386000"
          ],
          [
           "Scrypt",
           181919.2435974,
           "2628000"
          ],
          [
           "Scrypt",
           152270664.860648,
           "160000000"
          ],
          [
           "Scrypt",
           792537250,
           "1000000000"
          ],
          [
           "Stanford Folding",
           719416990,
           "1000000000"
          ],
          [
           "Multiple",
           65113302,
           "0"
          ],
          [
           "QuBit",
           6365285,
           "0"
          ],
          [
           "Scrypt",
           10140044.443029301,
           "3371337"
          ],
          [
           "Scrypt",
           4610340640.89,
           "10000000000"
          ],
          [
           "M7 POW",
           708506520,
           "1840000000"
          ],
          [
           "Scrypt",
           619478,
           "619478"
          ],
          [
           "SHA-256",
           12462620,
           "21000000"
          ],
          [
           "Scrypt",
           88213,
           "92000000000"
          ],
          [
           "X11",
           32221574.820996,
           "33000000"
          ],
          [
           "Lyra2RE",
           13742738,
           "65789100"
          ],
          [
           "SHA-256",
           14747200.0002,
           "53760000"
          ],
          [
           "X11",
           15863837.5,
           "21000000"
          ],
          [
           "Scrypt",
           32565300,
           "210240000"
          ],
          [
           "Scrypt",
           75614500,
           "250000000"
          ],
          [
           "Ethash",
           10495278,
           "16906397"
          ],
          [
           "Blake2b",
           33098296530,
           "0"
          ],
          [
           "X11",
           15867695,
           "16000000"
          ],
          [
           "SHA-256",
           20997476.865023103,
           "21000000"
          ],
          [
           "Scrypt",
           210000000,
           "210000000"
          ],
          [
           "1GB AES Pattern Search",
           11448949,
           "81962100"
          ],
          [
           "Scrypt",
           69836100,
           "84000000"
          ],
          [
           "SHA-256",
           21739971929,
           "21626280000 "
          ],
          [
           "X11",
           45110324,
           "84000000"
          ],
          [
           "Dagger",
           5702048,
           "30000000"
          ],
          [
           "Scrypt",
           636462.55983338,
           "168351300"
          ],
          [
           "X11GOST",
           17263355,
           "24000000"
          ],
          [
           "Scrypt",
           6570807.65677618,
           "20000000"
          ],
          [
           "X11",
           13654082.4987998,
           "25000000"
          ],
          [
           "Scrypt",
           616448,
           "616448"
          ],
          [
           "X11",
           1377917,
           "25000000"
          ],
          [
           "Equihash",
           115898131,
           "200000000"
          ],
          [
           "CryptoNight",
           7822432.72439746,
           "10000000"
          ],
          [
           "SHA-256",
           6243840,
           "9736000"
          ],
          [
           "Multiple",
           1000000000,
           "1200000000"
          ],
          [
           "Scrypt",
           116845228,
           "200000000"
          ],
          [
           "SHA-256",
           9106714,
           "10638298"
          ],
          [
           "Scrypt",
           11119200,
           "30000000"
          ],
          [
           "Lyra2Z",
           7568281.24956067,
           "21400000"
          ],
          [
           "Ethash",
           26205539,
           "26205539"
          ],
          [
           "Equihash",
           5613550,
           "21000000"
          ],
          [
           "Scrypt",
           196297971,
           "10000000000"
          ],
          [
           "X11",
           824000000,
           "500000000"
          ],
          [
           "X11",
           61364813,
           "228000000"
          ],
          [
           "CryptoNight",
           978145,
           "21000000"
          ],
          [
           "Scrypt",
           894026,
           "2714286"
          ],
          [
           "CryptoNight",
           9357088,
           "25000000"
          ],
          [
           "Lyra2RE",
           1876146.4435959999,
           "9999999"
          ],
          [
           "X11",
           536982074,
           "100000000000"
          ],
          [
           "CryptoNight-V7",
           10969318.522954,
           "185000000"
          ],
          [
           "Scrypt",
           3115258,
           "3360000"
          ],
          [
           "X11",
           30385540,
           "1000000000"
          ],
          [
           "Equihash",
           6921653.89980891,
           "17000000"
          ],
          [
           "Scrypt",
           99843408.3158479,
           "100000000 "
          ],
          [
           "Lyra2RE",
           18545757.5,
           "21000000"
          ],
          [
           "Dagger-Hashimoto",
           2232901,
           "2232901"
          ],
          [
           "Scrypt",
           64096052,
           "4000000000"
          ],
          [
           "NIST5",
           10123200,
           "48252000"
          ],
          [
           "Scrypt",
           20276099.146523997,
           "35520400"
          ],
          [
           "SHA-256",
           1317747500,
           "2500000000"
          ],
          [
           "Scrypt",
           13673406.4325268,
           "72000000"
          ],
          [
           "CryptoNight-V7",
           69036016.8340164,
           "105000000"
          ],
          [
           "Argon2d",
           19784224.6512734,
           "0"
          ],
          [
           "Blake2b",
           133248297,
           "340282367"
          ],
          [
           "Cloverhash",
           18407259.0885883,
           "30000000"
          ],
          [
           "CryptoNight",
           1809467143,
           "2000000000"
          ],
          [
           "X11",
           35138975,
           "100000000"
          ],
          [
           "Scrypt",
           18133195,
           "19276800"
          ],
          [
           "Scrypt",
           5167775,
           " 75000000"
          ],
          [
           "X11",
           26042364.373555303,
           "60000000"
          ],
          [
           "X11",
           2622886,
           "18900000"
          ],
          [
           "CryptoNight",
           14161803,
           "54000000"
          ],
          [
           "Time Travel",
           17801865.1605478,
           "21000000"
          ],
          [
           "Keccak",
           2241009149.22257,
           "5000000000"
          ],
          [
           "X11",
           122475638.389743,
           "1100000000"
          ],
          [
           "SHA-256",
           17995589.6469082,
           "21000000"
          ],
          [
           "Scrypt",
           485214,
           "10500000000"
          ],
          [
           "Scrypt",
           143006669741.68698,
           "0"
          ],
          [
           "Scrypt",
           9704042,
           "20000000"
          ],
          [
           "Scrypt",
           17453749.4042601,
           "84000000"
          ],
          [
           "Scrypt",
           32646731.063036,
           "100000000"
          ],
          [
           "Scrypt",
           33716526,
           "100000000"
          ],
          [
           "CryptoNight",
           8946653,
           "88888888"
          ],
          [
           "Equihash",
           5211553258.01514,
           "21000000000"
          ],
          [
           "X11",
           2702855668.85288,
           "1800000000"
          ],
          [
           "NeoScrypt",
           4165967.57499639,
           "27000000"
          ],
          [
           "Equihash",
           17202361.088994,
           "21000000"
          ],
          [
           "Dagger",
           33986980,
           "156306732.71"
          ],
          [
           "Scrypt",
           99990001.493466,
           "100000000"
          ],
          [
           "X11",
           175215859,
           "350000000"
          ],
          [
           "NeoScrypt",
           6375259.04,
           "45000000"
          ],
          [
           "Ethash",
           12756367,
           "280000000"
          ],
          [
           "NeoScrypt",
           5832306.875,
           "31800000"
          ],
          [
           "Multiple",
           481730566.566176,
           "660000000"
          ],
          [
           "CryptoNight",
           19281821413.4924,
           "85000000000"
          ],
          [
           "CryptoNight",
           4500000,
           "12500000"
          ],
          [
           "Ethash",
           520891780,
           "10000000000"
          ],
          [
           "X11",
           80316207,
           "550000000"
          ],
          [
           "CryptoNight-V7",
           441250233.377,
           "999481516"
          ],
          [
           "Scrypt",
           3964201248.87125,
           "4999999999"
          ],
          [
           "BLAKE256",
           30089671530.5228,
           " 90000000000"
          ],
          [
           "X11",
           4229040.50393462,
           "19800000"
          ],
          [
           "NeoScrypt",
           7847417.33355824,
           "21000000"
          ],
          [
           "NeoScrypt",
           299797953,
           "500000000"
          ],
          [
           "Scrypt",
           45483049.3398182,
           "64000000"
          ],
          [
           "X11",
           8478104.33969947,
           "23000000"
          ],
          [
           "SHA-256",
           20166000,
           "20166000"
          ],
          [
           "C11",
           11916588.09471,
           "23000000"
          ],
          [
           "SkunkHash",
           4818338.98949984,
           "16600000"
          ],
          [
           "CryptoNight",
           133932467.77410801,
           "336000000"
          ],
          [
           "Scrypt",
           10000000000,
           "10000000000"
          ],
          [
           "Dagger",
           107325266.02778299,
           "100000000"
          ],
          [
           "Lyra2REv2",
           643795911.540095,
           "1100000000"
          ],
          [
           "Scrypt",
           12446100.00278,
           "40000000"
          ],
          [
           "Scrypt",
           14491014421,
           "18406979840"
          ],
          [
           "X11",
           211297638.500483,
           "500000000"
          ],
          [
           "Ethash",
           247612453,
           "6500000000"
          ],
          [
           "CryptoNight",
           80049082.9057215,
           "1000000000"
          ],
          [
           "Scrypt",
           4070212.1493015997,
           "21000000"
          ],
          [
           "IMesh",
           25000000,
           "25000000"
          ],
          [
           "Equihash",
           71355477,
           "70000000"
          ],
          [
           "Lyra2Z",
           27340501.6514783,
           "300000000"
          ],
          [
           "X11",
           31801461.1867843,
           "100000000"
          ],
          [
           "CryptoNight",
           16016864,
           "18400000"
          ],
          [
           "NIST5",
           21069346.252259802,
           "21000000"
          ],
          [
           "Lyra2RE",
           5097689.71077377,
           "26280000"
          ],
          [
           "Tribus",
           795447,
           "18000000"
          ],
          [
           "Lyra2Z",
           6986399.70430446,
           "10500000"
          ],
          [
           "CryptoNight",
           84300,
           "600000518"
          ],
          [
           "CryptoNight Heavy",
           19153632,
           "150000000"
          ],
          [
           "CryptoNight",
           41294520017,
           "184000000000"
          ],
          [
           "Jump Consistent Hash",
           135862416.039898,
           "168000000"
          ],
          [
           "CryptoNight",
           560085952.404637,
           "1000000000"
          ],
          [
           "X16R",
           8125865.02097646,
           "22075700"
          ],
          [
           "HMQ1725",
           8645406.16776286,
           "21000000"
          ],
          [
           "X11",
           4993030.69736615,
           "21000000"
          ],
          [
           "Scrypt",
           1416663.06600024,
           "22105263"
          ],
          [
           "CryptoNight-V7",
           15580199.3087496,
           "1750000000"
          ],
          [
           "Cryptonight-GPU",
           4890897,
           "88188888"
          ],
          [
           "XEVAN",
           14746153.0962884,
           "210000000"
          ],
          [
           "SHA-256",
           2100000000,
           "2100000000"
          ],
          [
           "X11",
           5015881.37315389,
           "25000000"
          ],
          [
           "X16R",
           9753753.61515394,
           "100000000"
          ],
          [
           "Equihash",
           4235111504,
           "7600000000"
          ],
          [
           "Lyra2Z",
           13634850,
           "84000000"
          ],
          [
           "SHA-256",
           17992514.6469233,
           "21000000"
          ],
          [
           "CryptoNight",
           1867054873.2839699,
           "8080000000"
          ],
          [
           "Blake",
           1578281.31341127,
           "105120001.44"
          ],
          [
           "Blake",
           15846721.248274697,
           "25228800"
          ],
          [
           "Equihash",
           13475920,
           "105000000"
          ],
          [
           "Exosis",
           406091.925,
           "21000000"
          ],
          [
           "Scrypt",
           35284717.173946,
           "120000000"
          ],
          [
           "Equihash",
           35687520,
           "262800000"
          ],
          [
           "Equihash",
           25150787.5,
           "30886000"
          ],
          [
           "QuBit",
           12925790.4226959,
           "100000000"
          ],
          [
           "SHA-256",
           52293836.62779579,
           "64000000"
          ],
          [
           "X13",
           1170292.5,
           "2100000"
          ],
          [
           "SHA-256",
           84613099.9999955,
           "168000000"
          ],
          [
           "Scrypt",
           55565076.3863525,
           "98100000000"
          ],
          [
           "NeoScrypt",
           3824685012,
           "4000000000"
          ],
          [
           "Blake",
           23356790.1494191,
           "7000000000"
          ],
          [
           "Scrypt",
           780210700,
           "1000000000"
          ],
          [
           "SHA-256",
           22986929.0854247,
           "42000000"
          ],
          [
           "Scrypt",
           29583989322.9213,
           "50000000000"
          ],
          [
           "Groestl",
           73298203.8873662,
           "105000000"
          ],
          [
           "Scrypt",
           5052555.91981545,
           "5000000"
          ],
          [
           "Scrypt",
           69684455.4387001,
           "182000000"
          ],
          [
           "Multiple",
           3332922.5,
           "2800000"
          ],
          [
           "Equihash+Scrypt",
           100000000,
           "2100000000"
          ],
          [
           "Ethash",
           24487944.095820397,
           "24487944"
          ],
          [
           "CryptoNight",
           980222595,
           "1400222610"
          ],
          [
           "Equihash",
           7296537.5,
           "21000000"
          ]
         ],
         "hovertemplate": "<b>%{hovertext}</b><br><br>Class=%{marker.color}<br>PC 1=%{x}<br>PC 2=%{y}<br>PC 3=%{z}<br>Algorithm=%{customdata[0]}<br>TotalCoinsMined=%{customdata[1]}<br>TotalCoinSupply=%{customdata[2]}<extra></extra>",
         "hovertext": [
          "Bitcoin",
          "Ethereum",
          "Litecoin",
          "Monero",
          "Ethereum Classic",
          "ZCash",
          "DigiByte",
          "ProsperCoin",
          "Spreadcoin",
          "Argentum",
          "MyriadCoin",
          "ZetaCoin",
          "SexCoin",
          "Quatloo",
          "QuarkCoin",
          "Riecoin",
          "Digitalcoin ",
          "Catcoin",
          "CannaCoin",
          "CryptCoin",
          "Verge",
          "DevCoin",
          "EarthCoin",
          "E-Gulden",
          "Einsteinium",
          "Emerald",
          "Franko",
          "FeatherCoin",
          "GrandCoin",
          "GlobalCoin",
          "GoldCoin",
          "Infinite Coin",
          "IXcoin",
          "KrugerCoin",
          "LuckyCoin",
          "Litebar ",
          "MegaCoin",
          "MediterraneanCoin",
          "MinCoin",
          "NobleCoin",
          "Namecoin",
          "NyanCoin",
          "RonPaulCoin",
          "StableCoin",
          "SmartCoin",
          "SysCoin",
          "TigerCoin",
          "TerraCoin",
          "UnbreakableCoin",
          "Unobtanium",
          "UroCoin",
          "ViaCoin",
          "Vertcoin",
          "WorldCoin",
          "JouleCoin",
          "DigitalNote ",
          "MonaCoin",
          "Gulden",
          "PesetaCoin",
          "Wild Beast Coin",
          "Flo",
          "ArtByte",
          "Folding Coin",
          "Unitus",
          "CypherPunkCoin",
          "OmniCron",
          "GreenCoin",
          "Cryptonite",
          "MasterCoin",
          "SoonCoin",
          "1Credit",
          "MarsCoin ",
          "Crypto",
          "Anarchists Prime",
          "BowsCoin",
          "Song Coin",
          "BitZeny",
          "Expanse",
          "Siacoin",
          "MindCoin",
          "I0coin",
          "Revolution VR",
          "HOdlcoin",
          "Gamecredits",
          "CarpeDiemCoin",
          "Adzcoin",
          "SoilCoin",
          "YoCoin",
          "SibCoin",
          "Francs",
          "BolivarCoin",
          "Omni",
          "PizzaCoin",
          "Komodo",
          "Karbo",
          "ZayedCoin",
          "Circuits of Value",
          "DopeCoin",
          "DollarCoin",
          "Shilling",
          "ZCoin",
          "Elementrem",
          "ZClassic",
          "KiloCoin",
          "ArtexCoin",
          "Kurrent",
          "Cannabis Industry Coin",
          "OsmiumCoin",
          "Bikercoins",
          "HexxCoin",
          "PacCoin",
          "Citadel",
          "BeaverCoin",
          "VaultCoin",
          "Zero",
          "Canada eCoin",
          "Zoin",
          "DubaiCoin",
          "EB3coin",
          "Coinonat",
          "BenjiRolls",
          "ILCoin",
          "EquiTrader",
          "Quantum Resistant Ledger",
          "Dynamic",
          "Nano",
          "ChanCoin",
          "Dinastycoin",
          "DigitalPrice",
          "Unify",
          "SocialCoin",
          "ArcticCoin",
          "DAS",
          "LeviarCoin",
          "Bitcore",
          "SmartCash",
          "Onix",
          "Bitcoin Cash",
          "Sojourn Coin",
          "NewYorkCoin",
          "FrazCoin",
          "Kronecoin",
          "AdCoin",
          "Linx",
          "Sumokoin",
          "BitcoinZ",
          "Elements",
          "VIVO Coin",
          "Bitcoin Gold",
          "Pirl",
          "eBoost",
          "Pura",
          "Innova",
          "Ellaism",
          "GoByte",
          "SHIELD",
          "UltraNote",
          "BitCoal",
          "DaxxCoin",
          "AC3",
          "Lethean",
          "PopularCoin",
          "Photon",
          "Sucre",
          "SparksPay",
          "GunCoin",
          "IrishCoin",
          "Pioneer Coin",
          "UnitedBitcoin",
          "Interzone",
          "MUNcoin",
          "Niobio Cash",
          "ShareChain",
          "Travelflex",
          "KREDS",
          "BitFlip",
          "LottoCoin",
          "Crypto Improvement Fund",
          "Callisto Network",
          "BitTube",
          "Poseidon",
          "Aidos Kuneen",
          "Bitrolium",
          "Alpenschillling",
          "FuturoCoin",
          "Monero Classic",
          "Jumpcoin",
          "Infinex",
          "KEYCO",
          "GINcoin",
          "PlatinCoin",
          "Loki",
          "Newton Coin",
          "MassGrid",
          "PluraCoin",
          "Motion",
          "PlusOneCoin",
          "Axe",
          "HexCoin",
          "Webchain",
          "Ryo",
          "Urals Coin",
          "Project Pai",
          "Azart",
          "Xchange",
          "CrypticCoin",
          "Actinium",
          "Bitcoin SV",
          "FREDEnergy",
          "Universal Molecule",
          "Lithium",
          "PirateCash",
          "Exosis",
          "Block-Logic",
          "Beam",
          "Bithereum",
          "SLICE",
          "BLAST",
          "Bitcoin Rhodium",
          "GlobalToken",
          "SolarCoin",
          "UFO Coin",
          "BlakeCoin",
          "Crypto Escudo",
          "Crown Coin",
          "SmileyCoin",
          "Groestlcoin",
          "Bata",
          "Pakcoin",
          "JoinCoin",
          "Vollar",
          "Reality Clash",
          "Beldex",
          "Horizen"
         ],
         "legendgroup": "1",
         "marker": {
          "color": [
           1,
           1,
           1,
           1,
           1,
           1,
           1,
           1,
           1,
           1,
           1,
           1,
           1,
           1,
           1,
           1,
           1,
           1,
           1,
           1,
           1,
           1,
           1,
           1,
           1,
           1,
           1,
           1,
           1,
           1,
           1,
           1,
           1,
           1,
           1,
           1,
           1,
           1,
           1,
           1,
           1,
           1,
           1,
           1,
           1,
           1,
           1,
           1,
           1,
           1,
           1,
           1,
           1,
           1,
           1,
           1,
           1,
           1,
           1,
           1,
           1,
           1,
           1,
           1,
           1,
           1,
           1,
           1,
           1,
           1,
           1,
           1,
           1,
           1,
           1,
           1,
           1,
           1,
           1,
           1,
           1,
           1,
           1,
           1,
           1,
           1,
           1,
           1,
           1,
           1,
           1,
           1,
           1,
           1,
           1,
           1,
           1,
           1,
           1,
           1,
           1,
           1,
           1,
           1,
           1,
           1,
           1,
           1,
           1,
           1,
           1,
           1,
           1,
           1,
           1,
           1,
           1,
           1,
           1,
           1,
           1,
           1,
           1,
           1,
           1,
           1,
           1,
           1,
           1,
           1,
           1,
           1,
           1,
           1,
           1,
           1,
           1,
           1,
           1,
           1,
           1,
           1,
           1,
           1,
           1,
           1,
           1,
           1,
           1,
           1,
           1,
           1,
           1,
           1,
           1,
           1,
           1,
           1,
           1,
           1,
           1,
           1,
           1,
           1,
           1,
           1,
           1,
           1,
           1,
           1,
           1,
           1,
           1,
           1,
           1,
           1,
           1,
           1,
           1,
           1,
           1,
           1,
           1,
           1,
           1,
           1,
           1,
           1,
           1,
           1,
           1,
           1,
           1,
           1,
           1,
           1,
           1,
           1,
           1,
           1,
           1,
           1,
           1,
           1,
           1,
           1,
           1,
           1,
           1,
           1,
           1,
           1,
           1,
           1,
           1,
           1,
           1,
           1,
           1,
           1,
           1,
           1,
           1,
           1,
           1,
           1,
           1,
           1,
           1,
           1,
           1,
           1,
           1,
           1
          ],
          "coloraxis": "coloraxis",
          "symbol": "square"
         },
         "mode": "markers",
         "name": "1",
         "scene": "scene",
         "showlegend": true,
         "type": "scatter3d",
         "x": [
          -0.14465638323133287,
          -0.1510715689825585,
          -0.16034488958471918,
          -0.14920657083989136,
          -0.14951279566286488,
          -0.18717549543134987,
          0.16703451645449882,
          -0.16149112637748483,
          -0.22902013206414967,
          -0.16110752578666382,
          -0.08640313461622628,
          -0.14174140035519484,
          -0.1583627064602625,
          -0.16091139333216792,
          -0.21961463971903297,
          -0.19941769814998778,
          -0.16096048090870974,
          -0.1614733987419652,
          -0.16155987379984474,
          -0.22910945532717722,
          0.19074660654276143,
          0.23319011410037846,
          0.08716827985735211,
          -0.16130620889066732,
          -0.15691129968631454,
          -0.16124545349132874,
          -0.1616168686409262,
          -0.17129360430394422,
          -0.14083755786279323,
          -0.16041202692229464,
          -0.16068936082805732,
          1.5872499904945985,
          -0.14461776648651525,
          -0.15797847781524624,
          -0.16133264747174697,
          -0.16168745439554622,
          -0.1609467075434973,
          -0.1592851828987889,
          -0.16156870756144415,
          -0.02642563203996715,
          -0.1446953492540703,
          -0.1552327827642525,
          -0.1615480854157803,
          -0.15964162669559973,
          -0.16103481744300213,
          -0.1318464385243452,
          -0.14415914155970302,
          -0.14444627601356255,
          -0.1444290220727334,
          -0.1450200311191108,
          -0.22928340351445964,
          -0.16126466339710402,
          -0.17113537202003612,
          -0.15836731932963682,
          -0.14422642522636725,
          0.4695688384805635,
          -0.16013213349640512,
          -0.14472639286755964,
          -0.15885101477908659,
          -0.16168965467848265,
          -0.15871614361479444,
          -0.14493929676992404,
          -0.11500186242307525,
          -0.12041044359805984,
          -0.18596501674360105,
          -0.16156277292934726,
          -0.034481783227230355,
          -0.12251867362066328,
          -0.16169855698671282,
          -0.14472311685384787,
          0.49081758527110764,
          -0.22867059599966885,
          -0.15061358743480993,
          -0.14446286100154576,
          -0.2289554703357685,
          -0.15982165947984114,
          -0.15901393373555164,
          -0.1521385371069803,
          0.3799383680420432,
          -0.22899088665285236,
          -0.14461888843703252,
          -0.15765651368431485,
          -0.15916457486462315,
          -0.1602618857775852,
          0.273854569128417,
          -0.22815147053283238,
          -0.14118478674220616,
          -0.16050868058479967,
          -0.13348023886002325,
          -0.16148841889111382,
          -0.22895408531650516,
          -0.16169861548017295,
          -0.22910400292083505,
          -0.43787480420268954,
          0.31446459255128517,
          -0.14487895314219346,
          -0.10048230361025194,
          -0.1588650547393923,
          -0.14483759175955357,
          -0.1613619466764895,
          -0.13669613613554119,
          -0.15188072614335119,
          -0.187197104796088,
          -0.088386457495828,
          -0.21568904486352153,
          -0.22693162264867925,
          0.31445902904780304,
          -0.16168034636921116,
          0.3145897241710616,
          -0.15115419780859043,
          0.4865280288686147,
          -0.14797052769319263,
          -0.16164864064416581,
          -0.2218343913813948,
          -0.18720950085728252,
          -0.15978195094922154,
          -0.15087260752116838,
          -0.14873524894895324,
          -0.13255702911972897,
          -0.19763159596678875,
          -0.16121096736654447,
          -0.11120009777642394,
          -0.1610328617128781,
          -0.14782882690969595,
          -0.1416026217861067,
          -0.020220161963513828,
          -0.16200550490794424,
          0.350580878204433,
          -0.22815975855627935,
          -0.16135234743772878,
          -0.1611154551710352,
          -0.22855455456073426,
          -0.2291320646295238,
          0.3148540876361381,
          -0.14542993785896627,
          -0.11479898168968199,
          -0.22000051055956246,
          -0.14465554774569467,
          -0.08723139745051989,
          1.5846994142500184,
          -0.16145015555989795,
          -0.16090158361411683,
          -0.16060256263563627,
          -0.1605894982065123,
          0.31503785566330067,
          0.025175724704196586,
          -0.18352380492560522,
          -0.17598265399535895,
          -0.1870555812237914,
          -0.13994351481057501,
          -0.15978016074054427,
          -0.22467595616477182,
          -0.1758280056044402,
          -0.15024488442812756,
          -0.1759282596262149,
          -0.11064150507998625,
          1.1526476517465216,
          0.31444175042553346,
          -0.07509859181363088,
          -0.22441634198782878,
          -0.1369390387476519,
          -0.07783591908448928,
          1.0998332331646408,
          -0.2291060667140255,
          -0.17598025191990468,
          -0.16901753036660713,
          -0.16070114105821706,
          -0.22903148018354125,
          -0.1446349578043907,
          -0.19085278383263887,
          -0.16148867077860277,
          0.3183168746278191,
          0.031337207185647226,
          -0.13944726718272604,
          -0.15669205014660306,
          -0.16127481560744464,
          0.1458099273561504,
          -0.22317141956857964,
          -0.10326030044961626,
          0.3223683888977299,
          -0.1615118636966191,
          -0.14524327541903326,
          -0.1860467170796432,
          -0.13447865400187026,
          -0.2282005165662087,
          0.3146242422154495,
          -0.19769121052632707,
          -0.15099938712151073,
          -0.13514130945577565,
          -0.13678055239070777,
          0.3185547816480593,
          0.5857303645452483,
          2.1236444671626535,
          -0.13152471925276435,
          0.32823064103764904,
          -0.18720938433223291,
          -0.1434327817136828,
          -0.22908822557706465,
          -0.16153642978723418,
          -0.13681416712376382,
          -0.13374518272687383,
          -0.14384741289633188,
          -0.104484236001341,
          -0.22905957578244943,
          -0.18663681189763853,
          -0.08179064676771901,
          -0.13617804858493557,
          -0.14465558529786282,
          0.39440766964802343,
          -0.14445890476951428,
          -0.14485130046536882,
          -0.310929571042323,
          -0.15368581371541096,
          -0.16042849361820818,
          -0.18511482760691056,
          -0.18688839606252794,
          -0.18517563077467608,
          -0.1439317091037751,
          -0.10429199267329897,
          -0.14279938419480828,
          0.5347604523247856,
          -0.10114690436143808,
          -0.09528973148617076,
          -0.14508982967417933,
          -0.14444564668702636,
          0.5542059954452239,
          -0.19897871934750624,
          -0.161613350189445,
          -0.1595686545400733,
          -0.12114505146555532,
          -0.10372704010966305,
          -0.151913883922569,
          0.33620003929899434,
          -0.187176552005875
         ],
         "y": [
          -1.264207537268809,
          -2.059971861458683,
          -1.1191396424560194,
          -2.176656993532248,
          -2.0600687966936904,
          -2.260933201425667,
          -1.8157150361618508,
          -1.1191317832988905,
          -0.9190569605018016,
          -1.1191496172920516,
          -1.8104598728415757,
          -1.264219602171083,
          -1.1191928130478601,
          -1.119168457765765,
          -0.45913356461840965,
          -1.241112731888075,
          -1.1191340345097793,
          -1.1191312289180744,
          -1.1191284805305877,
          -0.9190583663881717,
          -1.8118899193716422,
          -1.266945045371666,
          -1.120706339434147,
          -1.119126000536316,
          -1.1191819665437044,
          -1.119131731515759,
          -1.1191289419060177,
          -1.6016345203023206,
          -1.1194568407748535,
          -1.1191320298906944,
          -1.1191422605999894,
          -1.1272814790439556,
          -1.2642063296411818,
          -1.1191914951331825,
          -1.1191261336060097,
          -1.1191242912774655,
          -1.119129326304369,
          -2.1682733026845256,
          -1.1191265784974713,
          -1.1252992436698546,
          -1.2642087558191075,
          -1.1191552874036754,
          -1.119133564528998,
          -1.1192328076000209,
          -1.1191384639202846,
          -1.2644083991039337,
          -1.264210032511278,
          -1.264215534908602,
          -1.2642413567351571,
          -1.2642045146021166,
          -0.9190513191413774,
          -1.1191260887622771,
          -1.1241608916650077,
          -1.1192036550332287,
          -1.264210740870207,
          -2.263881631304093,
          -1.1191476405065393,
          -1.1197583974354586,
          -1.1191500787074045,
          -1.119125246660288,
          -1.1191414308980108,
          -1.1192933251854884,
          -2.1665825330447084,
          -1.810135911838417,
          -1.5636681290417545,
          -1.1191217944669054,
          -1.1220825721638765,
          -2.2157396097774154,
          -1.1191241317006992,
          -1.2642096241709304,
          -1.1625404584065606,
          -0.919055048138266,
          -2.191804844243132,
          -1.2642242117141032,
          -0.9190556321131081,
          -1.1192108552648667,
          -1.1192131783079522,
          -2.0600169561389783,
          -2.2615951701697288,
          -0.9190532710521021,
          -1.2642063647269575,
          -1.119142980064098,
          -2.3429556537364467,
          -1.1191370467507042,
          -1.2661078450132588,
          -0.9190741937478456,
          -2.0246139157421297,
          -1.1192032808076702,
          -2.068469664753128,
          -1.1191310049091483,
          -0.9190583636841856,
          -1.1191241314279399,
          -0.9190630519260948,
          -2.4810406115140498,
          -2.2618017987922134,
          -1.2642066834305226,
          -1.8103451816455463,
          -1.1191738365008788,
          -1.2642060159152109,
          -1.1191339870633017,
          -2.107621387695785,
          -2.0600153448516516,
          -2.260933877196401,
          -1.1237682858207376,
          -0.9189730551186802,
          -0.9191359423221586,
          -2.2618096037046067,
          -1.1191250154280874,
          -2.2618082914740802,
          -2.1917830482128045,
          -0.9660384645754271,
          -2.176746678202918,
          -1.1191244718680158,
          -0.9195120936033623,
          -2.2609314899639923,
          -1.119133137703536,
          -2.1917818732169407,
          -2.2751651011543004,
          -1.1209872680551978,
          -0.6477947494230651,
          -1.11913309523642,
          -1.2648810222557425,
          -1.1191528321550237,
          -2.1766867492470134,
          -2.1498155044256473,
          -2.274345038319441,
          -2.356811388281397,
          -2.2620528704065053,
          -0.9190855524662295,
          -1.1191262479668378,
          -1.1191574961905661,
          -0.91907014974011,
          -0.9190596977778818,
          -2.261820142172919,
          -2.156193755725828,
          -1.2222332315943818,
          -0.9195241163442304,
          -1.2642075111414033,
          -1.1240790250862667,
          -1.0645101280799005,
          -1.1191298083335104,
          -1.119157051460758,
          -1.1191587999739332,
          -1.1191583914214864,
          -2.2618385985069276,
          -2.2688460983552017,
          -0.9188690169083015,
          -1.6015667970897018,
          -2.260929451453702,
          -2.0246627201517904,
          -1.1191330817199079,
          -0.919150036789154,
          -1.6015744478821206,
          -2.06014025112683,
          -1.6015684259225318,
          -1.810288272171263,
          -2.294549372937818,
          -2.2618042474162343,
          -2.0645332340269094,
          -0.919280662281014,
          -2.1769667229574865,
          -1.1199697436100693,
          -1.208577705219727,
          -0.9190595091166486,
          -1.6015625596463425,
          -1.6016771128624052,
          -1.1191369087784397,
          -0.9190593965442769,
          -1.2642062886869807,
          -1.0781929313100898,
          -2.239273943504203,
          -2.2619074827606083,
          -1.120024272535408,
          -2.024608140277553,
          -1.1244140387399193,
          -1.1191381994986371,
          -1.122276564999395,
          -0.9192070448681259,
          -2.06298588734558,
          -2.2622414139769638,
          -1.119132431798906,
          -2.023635802350104,
          -2.260931894452861,
          -2.1077453129603496,
          -0.9190868270557695,
          -2.261802633463623,
          -0.6477777084151873,
          -2.1917895007306356,
          -2.1167571307705573,
          -2.1076164660136505,
          -2.262083185577859,
          -2.2357628372636,
          -2.3328626085426807,
          -2.143930369392095,
          -2.262058088901238,
          -1.258986760380766,
          -2.298754566755789,
          -0.9190597836514732,
          -1.119133966776772,
          -2.1774834683094735,
          -2.2320989392242905,
          -0.7370170768698623,
          -1.264393514636498,
          -0.9190616625951153,
          -1.2590229125395818,
          -2.2628953040201947,
          -2.1076486129255683,
          -1.2642075123157395,
          -2.2649001365799015,
          -2.2156762401974497,
          -2.215633089048698,
          -0.3189374508292837,
          -2.235620298438506,
          -1.1191672308838978,
          -2.2610365016778924,
          -2.2609310813433585,
          -1.5637128153551598,
          -1.2642147051680472,
          -0.3108528955103456,
          -1.2642514419359743,
          -1.1653979690669454,
          -1.60198267735663,
          -2.218921738023843,
          -1.1192980326691333,
          -1.2642155152282246,
          -1.1314218906810756,
          -1.2411135722272908,
          -1.1191245059628048,
          -1.1191833525850063,
          -1.810160827005226,
          -1.9733867036654036,
          -2.0600151902342967,
          -2.2620865116771434,
          -2.2609332344669975
         ],
         "z": [
          0.1760638607226717,
          0.3565872674219903,
          0.02005077276027919,
          0.4109423576142544,
          0.3565627690183796,
          0.5223947492465799,
          0.299956594794022,
          0.020080067999657822,
          0.0476691273703609,
          0.020072968247942472,
          0.3058082601578309,
          0.175987951328298,
          0.020007152433226066,
          0.020071067399516217,
          0.12163790421314809,
          0.16375392117031243,
          0.020066259167927335,
          0.020079494697351336,
          0.020081321424436634,
          0.047671769261031845,
          0.29864129839567594,
          0.16643306443244904,
          0.013701702946144102,
          0.02007408786646087,
          0.019966358505684113,
          0.020073480338026237,
          0.020082929653313958,
          0.23550760824931163,
          0.01958483771840971,
          0.020051216512965653,
          0.020060462436620196,
          -0.0252969210027113,
          0.1760626118776832,
          0.019996629426050093,
          0.020074819488035092,
          0.020083992567605187,
          0.020065052933721714,
          0.4127137534613538,
          0.02008121966501994,
          0.017560351774499265,
          0.17606512086313253,
          0.019916667128098756,
          0.020081910024669133,
          0.020048512033592394,
          0.02006903753135215,
          0.17575657138725706,
          0.17605098975819197,
          0.17605965711664498,
          0.17606378788039437,
          0.1760730605993543,
          0.04767517366748393,
          0.020072991083449107,
          0.20573272753613686,
          0.02000920435386534,
          0.17605291742332757,
          0.3660888526930376,
          0.02004649829775324,
          0.01974260625621143,
          0.02001262709372728,
          0.020084221413551047,
          0.02000747747571402,
          0.019665587561142738,
          0.6017352289298559,
          0.30666126228847645,
          0.20324939868175532,
          0.020080209844176206,
          0.017203943022648077,
          0.3798098030042519,
          0.020084261481793313,
          0.1760660188525447,
          0.010333863283944226,
          0.047659427604928827,
          0.35872221873224475,
          0.17606164451015244,
          0.04766715963252718,
          0.020049428288064716,
          0.020028212777029854,
          0.3566238586516489,
          0.5625479810464225,
          0.0476676880369923,
          0.1760626481609663,
          0.019979379011177942,
          0.44805861344499615,
          0.02004808846129374,
          0.16519527306591772,
          0.04764893215542249,
          0.36967171122252257,
          0.020066477619040665,
          0.46567978576172214,
          0.020079857052908413,
          0.047667608394058855,
          0.020084262999575043,
          0.047672456649666524,
          0.9932100825978813,
          0.36987219461805193,
          0.17606966867191864,
          0.3061648625331314,
          0.020017228705482525,
          0.17606844239961492,
          0.020077000889531935,
          0.4565563268113637,
          0.3566166685854443,
          0.522395448081945,
          0.01894719152558622,
          0.04729723337703719,
          0.0476272508069315,
          0.3698737318076708,
          0.02008393103444283,
          0.36986999874919774,
          0.3587328180742429,
          0.03686502051543282,
          0.4109252114308431,
          0.020082985361564054,
          0.04755766465549238,
          0.5223953554116545,
          0.020034541833413577,
          0.3587250688630763,
          0.5517850111194844,
          0.01963531584791287,
          -0.09511687252561225,
          0.020072799450483177,
          0.175287781289977,
          0.020071540756133502,
          0.4109107578564916,
          0.38620081265691797,
          0.5755308819169549,
          0.31236903135375627,
          0.3689497554224738,
          0.04765117439496579,
          0.02007536734020087,
          0.020074581948891276,
          0.04765900636464371,
          0.047672611483118944,
          0.36986502762961354,
          0.4397039861649409,
          0.17050330154291288,
          0.047510696732800624,
          0.1760638337035156,
          0.01897153153765702,
          -0.03639339672631344,
          0.020078619637123037,
          0.020068775949178504,
          0.020061079979005893,
          0.02006065748231498,
          0.36986338954221687,
          0.5181159822215319,
          0.04641743112412913,
          0.23562112270644145,
          0.5223908712848695,
          0.36964715389345687,
          0.020034483939016995,
          0.047569357097954214,
          0.23561834244514215,
          0.35659508154533687,
          0.2356199558842485,
          0.30642677614374464,
          0.35325255305059494,
          0.36987324179045156,
          0.35536422253275307,
          0.04758563892941832,
          0.41066895625420546,
          0.017989052325788873,
          0.13533654950670732,
          0.047671881773627675,
          0.23562030469612155,
          0.2354542368734813,
          0.02005982598191273,
          0.047669864526746424,
          0.17606306493010393,
          0.024990530333166273,
          0.264876186427453,
          0.36978783837800194,
          0.015075391870842152,
          0.3696241579294313,
          0.20539100047552147,
          0.02007541699788461,
          0.012410726066372895,
          0.04753920939637138,
          0.35584309893725735,
          0.36973874424562914,
          0.0200807386335317,
          0.381740908775856,
          0.5223642911707902,
          0.45651899053721995,
          0.04765249248733459,
          0.3698680680926717,
          -0.09511830719439854,
          0.3587298203369984,
          0.522550143302515,
          0.45655771185810246,
          0.3698127191083748,
          0.421020281567881,
          0.334066452222306,
          0.3854050432874532,
          0.36954916212857836,
          0.21335790597356388,
          0.511339076879091,
          0.047671452866440464,
          0.020081669464118646,
          0.41075752300666085,
          0.46260672723895907,
          0.1502760571363961,
          0.17502123865941596,
          0.04767101989963478,
          0.2133490042152087,
          0.5199218175319933,
          0.45654729622923873,
          0.1760638349179329,
          0.3682826198147397,
          0.5394221391496499,
          0.5394249713958889,
          0.24156395402420885,
          0.37737405276383,
          0.02005791844113088,
          0.5223579435824872,
          0.5223866844202063,
          0.20323620916721363,
          0.1760457308341439,
          -0.06641436325602998,
          0.176021944408951,
          0.009665441614290815,
          0.23369119519581005,
          0.538682780231989,
          0.019670455715223044,
          0.1760596367645593,
          0.0031016164654416546,
          0.16374231597892935,
          0.02008204644347414,
          0.020037761763477872,
          0.30668536460291873,
          0.2787813769097492,
          0.35661752895964455,
          0.36934081872562285,
          0.5223947834156382
         ]
        },
        {
         "customdata": [
          [
           "VeChainThor Authority",
           55454734800,
           "86712634466"
          ],
          [
           "Proof-of-BibleHash",
           1772091549.88818,
           "5200000000"
          ],
          [
           "SHA-256 + Hive",
           638382332.208514,
           "840000000"
          ],
          [
           "Proof-of-Authority",
           204479039,
           "252460800"
          ],
          [
           "ECC 256K1",
           1000000000,
           "1000000000"
          ],
          [
           "Leased POS",
           100000000,
           "100000000"
          ]
         ],
         "hovertemplate": "<b>%{hovertext}</b><br><br>Class=%{marker.color}<br>PC 1=%{x}<br>PC 2=%{y}<br>PC 3=%{z}<br>Algorithm=%{customdata[0]}<br>TotalCoinsMined=%{customdata[1]}<br>TotalCoinSupply=%{customdata[2]}<extra></extra>",
         "hovertext": [
          "Vechain",
          "BiblePay",
          "LitecoinCash",
          "Poa Network",
          "Acute Angle Cloud",
          "Waves"
         ],
         "legendgroup": "3",
         "marker": {
          "color": [
           3,
           3,
           3,
           3,
           3,
           3
          ],
          "coloraxis": "coloraxis",
          "symbol": "x"
         },
         "mode": "markers",
         "name": "3",
         "scene": "scene",
         "showlegend": true,
         "type": "scatter3d",
         "x": [
          4.392251065173206,
          -0.17586872397485895,
          -0.39503066162978584,
          -0.41232953079556656,
          -0.322728004002281,
          -0.39765330827759354
         ],
         "y": [
          2.360520284599003,
          3.8079485469872525,
          2.6208819529734617,
          2.89014727689007,
          3.8328692062325707,
          3.8788157233499287
         ],
         "z": [
          10.036614772591403,
          14.432520168105878,
          16.805845774047967,
          14.597051181624074,
          8.053603373596976,
          10.997604767117148
         ]
        },
        {
         "customdata": [
          [
           "TRC10",
           989988713439.649,
           "990000000000"
          ]
         ],
         "hovertemplate": "<b>%{hovertext}</b><br><br>Class=%{marker.color}<br>PC 1=%{x}<br>PC 2=%{y}<br>PC 3=%{z}<br>Algorithm=%{customdata[0]}<br>TotalCoinsMined=%{customdata[1]}<br>TotalCoinSupply=%{customdata[2]}<extra></extra>",
         "hovertext": [
          "BitTorrent"
         ],
         "legendgroup": "2",
         "marker": {
          "color": [
           2
          ],
          "coloraxis": "coloraxis",
          "symbol": "cross"
         },
         "mode": "markers",
         "name": "2",
         "scene": "scene",
         "showlegend": true,
         "type": "scatter3d",
         "x": [
          34.048974892025996
         ],
         "y": [
          1.7023035818021786
         ],
         "z": [
          -1.302670457129517
         ]
        }
       ],
       "layout": {
        "coloraxis": {
         "colorbar": {
          "title": {
           "text": "Class"
          }
         },
         "colorscale": [
          [
           0,
           "#0d0887"
          ],
          [
           0.1111111111111111,
           "#46039f"
          ],
          [
           0.2222222222222222,
           "#7201a8"
          ],
          [
           0.3333333333333333,
           "#9c179e"
          ],
          [
           0.4444444444444444,
           "#bd3786"
          ],
          [
           0.5555555555555556,
           "#d8576b"
          ],
          [
           0.6666666666666666,
           "#ed7953"
          ],
          [
           0.7777777777777778,
           "#fb9f3a"
          ],
          [
           0.8888888888888888,
           "#fdca26"
          ],
          [
           1,
           "#f0f921"
          ]
         ]
        },
        "legend": {
         "title": {
          "text": "Class"
         },
         "tracegroupgap": 0,
         "x": 0,
         "y": 1
        },
        "margin": {
         "t": 60
        },
        "scene": {
         "domain": {
          "x": [
           0,
           1
          ],
          "y": [
           0,
           1
          ]
         },
         "xaxis": {
          "title": {
           "text": "PC 1"
          }
         },
         "yaxis": {
          "title": {
           "text": "PC 2"
          }
         },
         "zaxis": {
          "title": {
           "text": "PC 3"
          }
         }
        },
        "template": {
         "data": {
          "bar": [
           {
            "error_x": {
             "color": "#2a3f5f"
            },
            "error_y": {
             "color": "#2a3f5f"
            },
            "marker": {
             "line": {
              "color": "#E5ECF6",
              "width": 0.5
             }
            },
            "type": "bar"
           }
          ],
          "barpolar": [
           {
            "marker": {
             "line": {
              "color": "#E5ECF6",
              "width": 0.5
             }
            },
            "type": "barpolar"
           }
          ],
          "carpet": [
           {
            "aaxis": {
             "endlinecolor": "#2a3f5f",
             "gridcolor": "white",
             "linecolor": "white",
             "minorgridcolor": "white",
             "startlinecolor": "#2a3f5f"
            },
            "baxis": {
             "endlinecolor": "#2a3f5f",
             "gridcolor": "white",
             "linecolor": "white",
             "minorgridcolor": "white",
             "startlinecolor": "#2a3f5f"
            },
            "type": "carpet"
           }
          ],
          "choropleth": [
           {
            "colorbar": {
             "outlinewidth": 0,
             "ticks": ""
            },
            "type": "choropleth"
           }
          ],
          "contour": [
           {
            "colorbar": {
             "outlinewidth": 0,
             "ticks": ""
            },
            "colorscale": [
             [
              0,
              "#0d0887"
             ],
             [
              0.1111111111111111,
              "#46039f"
             ],
             [
              0.2222222222222222,
              "#7201a8"
             ],
             [
              0.3333333333333333,
              "#9c179e"
             ],
             [
              0.4444444444444444,
              "#bd3786"
             ],
             [
              0.5555555555555556,
              "#d8576b"
             ],
             [
              0.6666666666666666,
              "#ed7953"
             ],
             [
              0.7777777777777778,
              "#fb9f3a"
             ],
             [
              0.8888888888888888,
              "#fdca26"
             ],
             [
              1,
              "#f0f921"
             ]
            ],
            "type": "contour"
           }
          ],
          "contourcarpet": [
           {
            "colorbar": {
             "outlinewidth": 0,
             "ticks": ""
            },
            "type": "contourcarpet"
           }
          ],
          "heatmap": [
           {
            "colorbar": {
             "outlinewidth": 0,
             "ticks": ""
            },
            "colorscale": [
             [
              0,
              "#0d0887"
             ],
             [
              0.1111111111111111,
              "#46039f"
             ],
             [
              0.2222222222222222,
              "#7201a8"
             ],
             [
              0.3333333333333333,
              "#9c179e"
             ],
             [
              0.4444444444444444,
              "#bd3786"
             ],
             [
              0.5555555555555556,
              "#d8576b"
             ],
             [
              0.6666666666666666,
              "#ed7953"
             ],
             [
              0.7777777777777778,
              "#fb9f3a"
             ],
             [
              0.8888888888888888,
              "#fdca26"
             ],
             [
              1,
              "#f0f921"
             ]
            ],
            "type": "heatmap"
           }
          ],
          "heatmapgl": [
           {
            "colorbar": {
             "outlinewidth": 0,
             "ticks": ""
            },
            "colorscale": [
             [
              0,
              "#0d0887"
             ],
             [
              0.1111111111111111,
              "#46039f"
             ],
             [
              0.2222222222222222,
              "#7201a8"
             ],
             [
              0.3333333333333333,
              "#9c179e"
             ],
             [
              0.4444444444444444,
              "#bd3786"
             ],
             [
              0.5555555555555556,
              "#d8576b"
             ],
             [
              0.6666666666666666,
              "#ed7953"
             ],
             [
              0.7777777777777778,
              "#fb9f3a"
             ],
             [
              0.8888888888888888,
              "#fdca26"
             ],
             [
              1,
              "#f0f921"
             ]
            ],
            "type": "heatmapgl"
           }
          ],
          "histogram": [
           {
            "marker": {
             "colorbar": {
              "outlinewidth": 0,
              "ticks": ""
             }
            },
            "type": "histogram"
           }
          ],
          "histogram2d": [
           {
            "colorbar": {
             "outlinewidth": 0,
             "ticks": ""
            },
            "colorscale": [
             [
              0,
              "#0d0887"
             ],
             [
              0.1111111111111111,
              "#46039f"
             ],
             [
              0.2222222222222222,
              "#7201a8"
             ],
             [
              0.3333333333333333,
              "#9c179e"
             ],
             [
              0.4444444444444444,
              "#bd3786"
             ],
             [
              0.5555555555555556,
              "#d8576b"
             ],
             [
              0.6666666666666666,
              "#ed7953"
             ],
             [
              0.7777777777777778,
              "#fb9f3a"
             ],
             [
              0.8888888888888888,
              "#fdca26"
             ],
             [
              1,
              "#f0f921"
             ]
            ],
            "type": "histogram2d"
           }
          ],
          "histogram2dcontour": [
           {
            "colorbar": {
             "outlinewidth": 0,
             "ticks": ""
            },
            "colorscale": [
             [
              0,
              "#0d0887"
             ],
             [
              0.1111111111111111,
              "#46039f"
             ],
             [
              0.2222222222222222,
              "#7201a8"
             ],
             [
              0.3333333333333333,
              "#9c179e"
             ],
             [
              0.4444444444444444,
              "#bd3786"
             ],
             [
              0.5555555555555556,
              "#d8576b"
             ],
             [
              0.6666666666666666,
              "#ed7953"
             ],
             [
              0.7777777777777778,
              "#fb9f3a"
             ],
             [
              0.8888888888888888,
              "#fdca26"
             ],
             [
              1,
              "#f0f921"
             ]
            ],
            "type": "histogram2dcontour"
           }
          ],
          "mesh3d": [
           {
            "colorbar": {
             "outlinewidth": 0,
             "ticks": ""
            },
            "type": "mesh3d"
           }
          ],
          "parcoords": [
           {
            "line": {
             "colorbar": {
              "outlinewidth": 0,
              "ticks": ""
             }
            },
            "type": "parcoords"
           }
          ],
          "pie": [
           {
            "automargin": true,
            "type": "pie"
           }
          ],
          "scatter": [
           {
            "marker": {
             "colorbar": {
              "outlinewidth": 0,
              "ticks": ""
             }
            },
            "type": "scatter"
           }
          ],
          "scatter3d": [
           {
            "line": {
             "colorbar": {
              "outlinewidth": 0,
              "ticks": ""
             }
            },
            "marker": {
             "colorbar": {
              "outlinewidth": 0,
              "ticks": ""
             }
            },
            "type": "scatter3d"
           }
          ],
          "scattercarpet": [
           {
            "marker": {
             "colorbar": {
              "outlinewidth": 0,
              "ticks": ""
             }
            },
            "type": "scattercarpet"
           }
          ],
          "scattergeo": [
           {
            "marker": {
             "colorbar": {
              "outlinewidth": 0,
              "ticks": ""
             }
            },
            "type": "scattergeo"
           }
          ],
          "scattergl": [
           {
            "marker": {
             "colorbar": {
              "outlinewidth": 0,
              "ticks": ""
             }
            },
            "type": "scattergl"
           }
          ],
          "scattermapbox": [
           {
            "marker": {
             "colorbar": {
              "outlinewidth": 0,
              "ticks": ""
             }
            },
            "type": "scattermapbox"
           }
          ],
          "scatterpolar": [
           {
            "marker": {
             "colorbar": {
              "outlinewidth": 0,
              "ticks": ""
             }
            },
            "type": "scatterpolar"
           }
          ],
          "scatterpolargl": [
           {
            "marker": {
             "colorbar": {
              "outlinewidth": 0,
              "ticks": ""
             }
            },
            "type": "scatterpolargl"
           }
          ],
          "scatterternary": [
           {
            "marker": {
             "colorbar": {
              "outlinewidth": 0,
              "ticks": ""
             }
            },
            "type": "scatterternary"
           }
          ],
          "surface": [
           {
            "colorbar": {
             "outlinewidth": 0,
             "ticks": ""
            },
            "colorscale": [
             [
              0,
              "#0d0887"
             ],
             [
              0.1111111111111111,
              "#46039f"
             ],
             [
              0.2222222222222222,
              "#7201a8"
             ],
             [
              0.3333333333333333,
              "#9c179e"
             ],
             [
              0.4444444444444444,
              "#bd3786"
             ],
             [
              0.5555555555555556,
              "#d8576b"
             ],
             [
              0.6666666666666666,
              "#ed7953"
             ],
             [
              0.7777777777777778,
              "#fb9f3a"
             ],
             [
              0.8888888888888888,
              "#fdca26"
             ],
             [
              1,
              "#f0f921"
             ]
            ],
            "type": "surface"
           }
          ],
          "table": [
           {
            "cells": {
             "fill": {
              "color": "#EBF0F8"
             },
             "line": {
              "color": "white"
             }
            },
            "header": {
             "fill": {
              "color": "#C8D4E3"
             },
             "line": {
              "color": "white"
             }
            },
            "type": "table"
           }
          ]
         },
         "layout": {
          "annotationdefaults": {
           "arrowcolor": "#2a3f5f",
           "arrowhead": 0,
           "arrowwidth": 1
          },
          "autotypenumbers": "strict",
          "coloraxis": {
           "colorbar": {
            "outlinewidth": 0,
            "ticks": ""
           }
          },
          "colorscale": {
           "diverging": [
            [
             0,
             "#8e0152"
            ],
            [
             0.1,
             "#c51b7d"
            ],
            [
             0.2,
             "#de77ae"
            ],
            [
             0.3,
             "#f1b6da"
            ],
            [
             0.4,
             "#fde0ef"
            ],
            [
             0.5,
             "#f7f7f7"
            ],
            [
             0.6,
             "#e6f5d0"
            ],
            [
             0.7,
             "#b8e186"
            ],
            [
             0.8,
             "#7fbc41"
            ],
            [
             0.9,
             "#4d9221"
            ],
            [
             1,
             "#276419"
            ]
           ],
           "sequential": [
            [
             0,
             "#0d0887"
            ],
            [
             0.1111111111111111,
             "#46039f"
            ],
            [
             0.2222222222222222,
             "#7201a8"
            ],
            [
             0.3333333333333333,
             "#9c179e"
            ],
            [
             0.4444444444444444,
             "#bd3786"
            ],
            [
             0.5555555555555556,
             "#d8576b"
            ],
            [
             0.6666666666666666,
             "#ed7953"
            ],
            [
             0.7777777777777778,
             "#fb9f3a"
            ],
            [
             0.8888888888888888,
             "#fdca26"
            ],
            [
             1,
             "#f0f921"
            ]
           ],
           "sequentialminus": [
            [
             0,
             "#0d0887"
            ],
            [
             0.1111111111111111,
             "#46039f"
            ],
            [
             0.2222222222222222,
             "#7201a8"
            ],
            [
             0.3333333333333333,
             "#9c179e"
            ],
            [
             0.4444444444444444,
             "#bd3786"
            ],
            [
             0.5555555555555556,
             "#d8576b"
            ],
            [
             0.6666666666666666,
             "#ed7953"
            ],
            [
             0.7777777777777778,
             "#fb9f3a"
            ],
            [
             0.8888888888888888,
             "#fdca26"
            ],
            [
             1,
             "#f0f921"
            ]
           ]
          },
          "colorway": [
           "#636efa",
           "#EF553B",
           "#00cc96",
           "#ab63fa",
           "#FFA15A",
           "#19d3f3",
           "#FF6692",
           "#B6E880",
           "#FF97FF",
           "#FECB52"
          ],
          "font": {
           "color": "#2a3f5f"
          },
          "geo": {
           "bgcolor": "white",
           "lakecolor": "white",
           "landcolor": "#E5ECF6",
           "showlakes": true,
           "showland": true,
           "subunitcolor": "white"
          },
          "hoverlabel": {
           "align": "left"
          },
          "hovermode": "closest",
          "mapbox": {
           "style": "light"
          },
          "paper_bgcolor": "white",
          "plot_bgcolor": "#E5ECF6",
          "polar": {
           "angularaxis": {
            "gridcolor": "white",
            "linecolor": "white",
            "ticks": ""
           },
           "bgcolor": "#E5ECF6",
           "radialaxis": {
            "gridcolor": "white",
            "linecolor": "white",
            "ticks": ""
           }
          },
          "scene": {
           "xaxis": {
            "backgroundcolor": "#E5ECF6",
            "gridcolor": "white",
            "gridwidth": 2,
            "linecolor": "white",
            "showbackground": true,
            "ticks": "",
            "zerolinecolor": "white"
           },
           "yaxis": {
            "backgroundcolor": "#E5ECF6",
            "gridcolor": "white",
            "gridwidth": 2,
            "linecolor": "white",
            "showbackground": true,
            "ticks": "",
            "zerolinecolor": "white"
           },
           "zaxis": {
            "backgroundcolor": "#E5ECF6",
            "gridcolor": "white",
            "gridwidth": 2,
            "linecolor": "white",
            "showbackground": true,
            "ticks": "",
            "zerolinecolor": "white"
           }
          },
          "shapedefaults": {
           "line": {
            "color": "#2a3f5f"
           }
          },
          "ternary": {
           "aaxis": {
            "gridcolor": "white",
            "linecolor": "white",
            "ticks": ""
           },
           "baxis": {
            "gridcolor": "white",
            "linecolor": "white",
            "ticks": ""
           },
           "bgcolor": "#E5ECF6",
           "caxis": {
            "gridcolor": "white",
            "linecolor": "white",
            "ticks": ""
           }
          },
          "title": {
           "x": 0.05
          },
          "xaxis": {
           "automargin": true,
           "gridcolor": "white",
           "linecolor": "white",
           "ticks": "",
           "title": {
            "standoff": 15
           },
           "zerolinecolor": "white",
           "zerolinewidth": 2
          },
          "yaxis": {
           "automargin": true,
           "gridcolor": "white",
           "linecolor": "white",
           "ticks": "",
           "title": {
            "standoff": 15
           },
           "zerolinecolor": "white",
           "zerolinewidth": 2
          }
         }
        }
       }
      },
      "text/html": [
       "<div>                            <div id=\"c3c64fa0-29a0-43b0-9bb7-56782fecaf92\" class=\"plotly-graph-div\" style=\"height:525px; width:100%;\"></div>            <script type=\"text/javascript\">                require([\"plotly\"], function(Plotly) {                    window.PLOTLYENV=window.PLOTLYENV || {};                                    if (document.getElementById(\"c3c64fa0-29a0-43b0-9bb7-56782fecaf92\")) {                    Plotly.newPlot(                        \"c3c64fa0-29a0-43b0-9bb7-56782fecaf92\",                        [{\"customdata\": [[\"Scrypt\", 41.99995383, \"42\"], [\"Scrypt\", 1055184902.04, \"532000000\"], [\"X11\", 9031294.37563393, \"22000000\"], [\"SHA-512\", 2741570000.0, \"3600570502\"], [\"SHA-256\", 1288862.0, \"22000000\"], [\"SHA-256\", 11995334.8847328, \"12500000\"], [\"X15\", 25542535.5881841, \"350000000\"], [\"Scrypt\", 18135099.992959, \"16768584\"], [\"Scrypt\", 635423900.0, \"0\"], [\"Scrypt\", 123062801.128773, \"0\"], [\"Scrypt\", 42579.476901, \"500000\"], [\"Scrypt\", 1039116.65144562, \"1000000\"], [\"Scrypt\", 39999997299.8568, \"40000000000\"], [\"Groestl\", 3304487.74735637, \"4380000\"], [\"PoS\", 5679705.0, \"0\"], [\"Scrypt\", 461829905.32892996, \"0\"], [\"Scrypt\", 89266933.684704, \"120000000\"], [\"X11\", 1678520090.7713, \"0\"], [\"X11\", 17650913.974345602, \"22000000\"], [\"SHA3\", 61445805.0, \"100000000\"], [\"Scrypt\", 21293925445.4969, \"0\"], [\"SHA-256\", 1613836099.99999, \"2419200000\"], [\"Scrypt\", 16180000.0, \"16180000\"], [\"X13\", 66087096.20771079, \"0\"], [\"X13\", 15156364.3306548, \"0\"], [\"NeoScrypt\", 3220616.279225, \"3770000\"], [\"Scrypt\", 222677226.014206, \"420000000\"], [\"Scrypt\", 73959274.625, \"98000000\"], [\"Scrypt\", 29315567169.0888, \"0\"], [\"X11\", 50707661.74935179, \"0\"], [\"X11\", 1177.0, \"1000\"], [\"Multiple\", 80260463.7331396, \"100000000\"], [\"PHI1612\", 1622326490.46336, \"2300000000\"], [\"X11\", 1431851.00002479, \"10000000\"], [\"Scrypt\", 1098952592.6, \"1600000000\"], [\"Scrypt\", 50235211.141939, \"100000000\"], [\"Scrypt\", 32021108.413669605, \"0\"], [\"X11\", 6950831.0970606, \"5500000\"], [\"Multiple\", 100000000.0, \"0\"], [\"X13\", 33093725.4123502, \"0\"], [\"Scrypt\", 147990237.978331, \"1000000000\"], [\"Shabal256\", 1813033920.0, \"2158812800\"], [\"Counterparty\", 51173144.0, \"500000000\"], [\"SHA-256\", 39121694.0, \"68000000\"], [\"Groestl\", 53193831.0, \"0\"], [\"Scrypt\", 27184490.3918338, \"0\"], [\"X13\", 2022464.886973, \"12000000\"], [\"Scrypt\", 174646113.934655, \"500000000\"], [\"Scrypt\", 1467841.0, \"0\"], [\"X13\", 7096834.0, \"10000000\"], [\"X11\", 2689812.0, \"20000000\"], [\"Scrypt\", 11604722.0, \"20000000\"], [\"X11\", 1513704.0, \"0\"], [\"SHA3\", 63657220.0, \"78000000\"], [\"QUAIT\", 8568038.35935056, \"5060000\"], [\"X11\", 329200.01639, \"0\"], [\"Scrypt\", 100000000.0, \"100000000\"], [\"X13\", 23042604.0, \"50000000\"], [\"SHA-256\", 43059794.804778, \"1000000000\"], [\"X15\", 13530556.4180753, \"26298000\"], [\"BLAKE256\", 10365046.928166099, \"21000000\"], [\"SHA-256\", 3669691.84494672, \"22000000\"], [\"X11\", 10996318099.0, \"26550000000\"], [\"SHA-256\", 5129014.0, \"10500000\"], [\"NIST5\", 10069449031.9252, \"0\"], [\"Scrypt\", 8998743.2411911, \"42000000\"], [\"Scrypt\", 40477042.0, \"221052632\"], [\"X11\", 10407269.788186802, \"384000000\"], [\"Scrypt\", 36971236046.8073, \" 99000000000\"], [\"SHA-256\", 4377081.60953993, \"40000000\"], [\"Scrypt\", 2147483647.0, \"2147483647\"], [\"PoS\", 20000000.0, \"20000000\"], [\"X11\", 134554941.15118998, \"75000000\"], [\"SHA-256\", 1195525.0, \"222725000\"], [\"SHA-256\", 16662820.0, \"525000000\"], [\"NIST5\", 83450403.0, \"90000000\"], [\"X11\", 24387724.5010828, \"139000000\"], [\"POS 3.0\", 38589808.6658096, \"33500000\"], [\"Scrypt\", 813092338.575672, \"2000000000\"], [\"Scrypt\", 4526324.0, \"44333333\"], [\"Scrypt\", 100000000.0, \"100000000\"], [\"X13\", 5000000.0, \"200000000\"], [\"X11\", 657000000.0, \"657000000\"], [\"X11\", 15563873.0, \"50000000\"], [\"Scrypt\", 43165500.0, \"90000000\"], [\"SHA-256\", 595429.0, \"21000000\"], [\"X11\", 657636.34549789, \"3000000\"], [\"Scrypt\", 2581970.0, \"21000000\"], [\"Scrypt\", 1939889.0, \"0\"], [\"Scrypt\", 169598616.0, \"0\"], [\"Scrypt\", 665200057.0, \"3100000000\"], [\"SHA-256D\", 19577787259.0, \"20000000000\"], [\"PoS\", 74033806.79496829, \"74000000\"], [\"Scrypt\", 33522957.0, \"0\"], [\"X11\", 264678458.28861898, \"1500000000\"], [\"PoS\", 148716816.0, \"39999898\"], [\"X13\", 2500124.0, \"2500124\"], [\"X14\", 100000000.0, \"100000000\"], [\"PoS\", 17818682.1654, \"301000000\"], [\"SHA-256D\", 1082162635.5368302, \"7506000000\"], [\"X11\", 18342813.0, \"30000000\"], [\"X13\", 92192822723.0, \"850000000\"], [\"X11\", 3853326.77707314, \"3853326.77707314\"], [\"PoS\", 50000000.0, \"50000000\"], [\"Scrypt\", 17089600.0, \"38540000 \"], [\"Scrypt\", 2449577.41533168, \"42000000\"], [\"PoS\", 20000000.0, \"20000000\"], [\"X11\", 6069482.07721352, \"60000000\"], [\"SHA-256\", 12416554.0, \"20000000\"], [\"Scrypt\", 20244023.640728, \"33000000\"], [\"X11\", 75590369.0, \"76500000\"], [\"Scrypt\", 11080722.3769581, \"28000000\"], [\"Scrypt\", 10914418.0, \"650659833\"], [\"X11\", 814671.0, \"5000000\"], [\"Scrypt\", 8377873.0, \"144000000\"], [\"Scrypt\", 33813143821.8337, \"32514916898\"], [\"Scrypt\", 3472983.0, \"13000000\"], [\"Scrypt\", 3315789.0, \"3315789\"], [\"Quark\", 10517772.7391666, \"15000000\"], [\"QuBit\", 30227750.0, \"78835200\"], [\"Scrypt\", 23965372.0, \"500000000\"], [\"SHA-256\", 2526078.47525448, \"21000000\"], [\"X11\", 5659096.95728771, \"9354000\"], [\"Scrypt\", 11821728.0, \"20000000\"], [\"Scrypt\", 308179.0, \"21933333\"], [\"Scrypt\", 2922613.96424908, \"55000000\"], [\"Scrypt\", 110000000.0, \"110000000\"], [\"X13\", 14524851.4827, \"14524851.4827\"], [\"Scrypt\", 1000000000.0, \"1000000000\"], [\"Scrypt\", 36050365.0, \"34426423\"], [\"X11\", 13162749.085802699, \"100000000\"], [\"Blake2S\", 12184195.9258495, \"36900000\"], [\"X11\", 110630387.85047099, \"110000000\"], [\"PoS\", 111135836.889, \"110290030\"], [\"X11\", 21521322.0099142, \"100000000\"], [\"PoS\", 401421401.0, \"400000000\"], [\"X11\", 121665451.643876, \"500000000\"], [\"Scrypt\", 5368934.0, \"21212121\"], [\"Scrypt\", 1148324.0, \"28600000\"], [\"Scrypt\", 500000.0, \"1000000000\"], [\"SHA-256\", 100545745.0, \"75000000000\"], [\"X11\", 17171382.0, \"40000000\"], [\"Scrypt\", 295135466.361878, \"2000000000\"], [\"PoS\", 11390225.974277198, \"30000000\"], [\"Scrypt\", 21358764.0, \"105000000\"], [\"X15\", 40659020000.0, \"90000000000\"], [\"SHA-256\", 10343113.0, \"200084200\"], [\"POS 3.0\", 100000000.0, \"100000000\"], [\"536\", 22801882871.0, \"50000000000\"], [\"NIST5\", 4171382.0, \"10000000\"], [\"NIST5\", 62942075.0, \"120000000\"], [\"Skein\", 6804362.0, \"100000000\"], [\"X13\", 21268092.0, \"30000000\"], [\"Scrypt\", 9044930943.24243, \"50000000000\"], [\"X13\", 21917018.0492836, \"18898187.6216583\"], [\"SkunkHash v2 Raptor\", 107972766.0, \"137500000\"], [\"Skein\", 47331802.477423795, \"100000000\"], [\"X11\", 12569262.535930699, \"9507271\"], [\"Scrypt\", 18663297.348979898, \"17405891.19707116\"], [\"PoS\", 4000000.0, \"61599965\"], [\"Scrypt\", 19539588.0, \"48252000\"], [\"Scrypt\", 4200000.0, \"4200000\"], [\"SHA-512\", 25000000.0, \"91388946\"], [\"Ouroboros\", 25927070538.0, \"45000000000\"], [\"X11\", 7262402.04264803, \"27000000\"], [\"NeoScrypt\", 182638400.0, \"400000000\"], [\"Scrypt\", 1140734.91680375, \"15733333\"], [\"Lyra2REv2\", 24000000.0, \"24000000\"], [\"Scrypt\", 48459472454.0, \"25000000000\"], [\"SHA-256\", 92050800.0, \"100000000\"], [\"NIST5\", 560563220.0, \"1200000000\"], [\"PHI1612\", 8305775.31777569, \"60000000\"], [\"Scrypt\", 2149688.0, \"21000000\"], [\"Quark\", 30711550.5294042, \"200000000\"], [\"POS 2.0\", 12330806.30517, \"21000000\"], [\"Scrypt\", 16362544.992, \"14788275.991\"], [\"SHA-256\", 8999999990.0, \"9000000000\"], [\"X11\", 38198594.8342105, \"144000000\"], [\"NIST5\", 28399150208.0, \"30000000000\"], [\"X13\", 183534024.88980702, \"210000000\"], [\"Scrypt\", 110976977.29338, \"210000000\"], [\"NIST5\", 13247178.880728599, \"27716121\"], [\"Quark\", 16955764.902064003, \"20000000\"], [\"Scrypt\", 4911500269.41, \"50000000000\"], [\"Scrypt\", 8419402.321, \"150000000\"], [\"X11\", 45174214.1078625, \"50000000\"], [\"Quark\", 27299680.0, \"120000000\"], [\"Scrypt\", 591022748.0, \"900000000\"], [\"Scrypt\", 2504486.227718, \"4000000\"], [\"X11\", 4407252.0, \"21000000\"], [\"POS 3.0\", 20445861.534425102, \"25000000\"], [\"Ethash\", 1618033.0, \"1618033\"], [\"Scrypt\", 9399342.52839847, \"30000000\"], [\"Scrypt\", 234846265.78215697, \"232000000\"], [\"X13\", 230298925.0, \"800000000\"], [\"C11\", 11251342.1879021, \"19340594\"], [\"X11\", 2167827.1, \"25000000\"], [\"XEVAN\", 419275.38, \"60000000\"], [\"Scrypt\", 25570013.1348022, \"124000000\"], [\"VBFT\", 650848625.0, \"1000000000\"], [\"NIST5\", 13787854.6277781, \"50000000\"], [\"Scrypt\", 845637.81347436, \"3000000\"], [\"Scrypt\", 1182153.5, \"5000000\"], [\"Scrypt\", 267297676.3125, \"500000000\"], [\"Green Protocol\", 9803691.3618195, \"21000000\"], [\"PoS\", 21876586.8530324, \"88000000\"], [\"Scrypt\", 9880502.37178894, \"30000000\"], [\"Quark\", 139739596.506702, \"200000000\"], [\"PoS\", 11075254.0929996, \"80000000\"], [\"X16R\", 4403800.0, \"45000000\"], [\"Scrypt\", 1404157529.46026, \"5121951220\"], [\"XEVAN\", 10904963.0923455, \"21000000\"], [\"Scrypt\", 38706809.466534995, \"26000000\"], [\"Scrypt\", 10200000000.0, \"10200000000\"], [\"Scrypt\", 7630000.0154, \"44000000\"], [\"SHA-256D\", 33238183.7225834, \"100000000\"], [\"Scrypt\", 21599339.6728, \"84000000\"], [\"X15\", 30284196.369129, \"90000000\"], [\"Quark\", 2716264.95302831, \"650000000 \"], [\"SHA-256\", 57811001.000889, \"100262205\"], [\"DPoS\", 18194936.0, \"18081806 \"], [\"X16R\", 36923120.6205934, \"82546564\"], [\"Quark\", 7082392.24744494, \"21000000\"], [\"Quark\", 5919489.76813523, \"5151000\"], [\"Scrypt\", 1042012.45227735, \"16880000000\"], [\"Lyra2REv2\", 13332617.9413708, \"52500000\"], [\"Quark\", 66053877.6256106, \"100000000\"], [\"Scrypt\", 5403802.49590733, \"1000000000\"], [\"X11\", 19269509.94, \"55000000\"], [\"X11\", 30771125.976086702, \"50000000\"], [\"Scrypt\", 107763867.917675, \"260000000\"], [\"PoS\", 9327131.59708692, \"210000000\"], [\"Keccak\", 4672513.84432375, \"366000000\"], [\"X11\", 4504639.0, \"100000000\"], [\"Scrypt\", 1059954080.4343901, \"18000000000\"], [\"SHA-512\", 1000000000.0, \"1000000000\"], [\"XEVAN\", 6787405.18013774, \"50000000\"], [\"XEVAN\", 208515864.36734298, \"70000000000\"], [\"X11\", 17209923728.3266, \"0\"], [\"Quark\", 35312185.7437239, \"54000000\"], [\"Scrypt\", 14777549.394076401, \"21000000\"], [\"Quark\", 18265011.248600602, \"19035999\"], [\"Quark\", 1934701.67524713, \"13370000\"], [\"Scrypt\", 30825710000.0296, \"74800000000\"], [\"X11\", 715659.44237941, \"19700000\"], [\"Scrypt\", 20546528.2059957, \"84000000\"], [\"XEVAN\", 198938144.363399, \"500000000\"], [\"SHA-256D\", 896361168.0, \"5000000000\"], [\"X11\", 15420234.5389336, \"420000000\"], [\"X11\", 23775960.3207514, \"30000000\"], [\"Scrypt\", 15318887081.0146, \"35000000000\"], [\"X11\", 242574105.22384, \"0\"], [\"Scrypt\", 3537150.0, \"200000000\"], [\"Scrypt\", 20576532.0, \"54256119\"], [\"SHA-256\", 4392258.24647793, \"21000000\"], [\"Scrypt\", 9631199.99309942, \"0\"], [\"X11\", 436353624.49031204, \"500000000\"], [\"Scrypt\", 980732528.97974, \"10500000000\"], [\"SHA-256\", 17939725045.334, \"190000000\"], [\"X11\", 494240666.028571, \"1000000000\"], [\"Scrypt\", 60000000.0, \"15000000\"], [\"Scrypt\", 404316475.545465, \"400000000\"], [\"X11\", 201364327.427503, \"208000000\"], [\"Scrypt\", 103621876.167052, \"160000000\"], [\"PoS\", 3821245.74150193, \"9000000\"], [\"X11\", 16901016.6609755, \"16504333\"], [\"SHA-256\", 74676064.9488608, \"105000000\"], [\"Scrypt\", 10000244677.7002, \"10008835635\"], [\"Scrypt\", 252005564.19257003, \"300000000\"], [\"NeoScrypt\", 1120385.00502, \"60168145\"], [\"X13\", 140777.753365, \"120000\"], [\"SHA-256\", 1000000000.0, \"1000000000\"], [\"PoS\", 9283137.5558676, \"8634140\"], [\"PoS\", 1000000000.0, \"1000000000\"], [\"Scrypt\", 14931046.1546605, \"250000000\"], [\"Scrypt\", 128326.99633965, \"1000000\"]], \"hovertemplate\": \"<b>%{hovertext}</b><br><br>Class=%{marker.color}<br>PC 1=%{x}<br>PC 2=%{y}<br>PC 3=%{z}<br>Algorithm=%{customdata[0]}<br>TotalCoinsMined=%{customdata[1]}<br>TotalCoinSupply=%{customdata[2]}<extra></extra>\", \"hovertext\": [\"42 Coin\", \"404Coin\", \"Dash\", \"Bitshares\", \"BitcoinDark\", \"PayCoin\", \"KoboCoin\", \"Aurora Coin\", \"BlueCoin\", \"EnergyCoin\", \"BitBar\", \"CryptoBullion\", \"CasinoCoin\", \"Diamond\", \"Exclusive Coin\", \"FlutterCoin\", \"HoboNickels\", \"HyperStake\", \"IOCoin\", \"MaxCoin\", \"MintCoin\", \"MazaCoin\", \"Nautilus Coin\", \"NavCoin\", \"OpalCoin\", \"Orbitcoin\", \"PotCoin\", \"PhoenixCoin\", \"Reddcoin\", \"SuperCoin\", \"SyncCoin\", \"TeslaCoin\", \"TittieCoin\", \"TorCoin\", \"UnitaryStatus Dollar\", \"UltraCoin\", \"VeriCoin\", \"X11 Coin\", \"Crypti\", \"StealthCoin\", \"ZCC Coin\", \"BurstCoin\", \"StorjCoin\", \"Neutron\", \"FairCoin\", \"RubyCoin\", \"Kore\", \"Dnotes\", \"8BIT Coin\", \"Sativa Coin\", \"Ucoin\", \"Vtorrent\", \"IslaCoin\", \"Nexus\", \"Droidz\", \"Squall Coin\", \"Diggits\", \"Paycon\", \"Emercoin\", \"EverGreenCoin\", \"Decred\", \"EDRCoin\", \"Hitcoin\", \"DubaiCoin\", \"PWR Coin\", \"BillaryCoin\", \"GPU Coin\", \"EuropeCoin\", \"ZeitCoin\", \"SwingCoin\", \"SafeExchangeCoin\", \"Nebuchadnezzar\", \"Ratecoin\", \"Revenu\", \"Clockcoin\", \"VIP Tokens\", \"BitSend\", \"Let it Ride\", \"PutinCoin\", \"iBankCoin\", \"Frankywillcoin\", \"MudraCoin\", \"Lutetium Coin\", \"GoldBlocks\", \"CarterCoin\", \"BitTokens\", \"MustangCoin\", \"ZoneCoin\", \"RootCoin\", \"BitCurrency\", \"Swiscoin\", \"BuzzCoin\", \"Opair\", \"PesoBit\", \"Halloween Coin\", \"CoffeeCoin\", \"RoyalCoin\", \"GanjaCoin V2\", \"TeamUP\", \"LanaCoin\", \"InsaneCoin\", \"EmberCoin\", \"XenixCoin\", \"FreeCoin\", \"PLNCoin\", \"AquariusCoin\", \"Creatio\", \"Eternity\", \"Eurocoin\", \"BitcoinFast\", \"Stakenet\", \"BitConnect Coin\", \"MoneyCoin\", \"Enigma\", \"Russiacoin\", \"PandaCoin\", \"GameUnits\", \"GAKHcoin\", \"Allsafe\", \"LiteCreed\", \"Klingon Empire Darsek\", \"Internet of People\", \"KushCoin\", \"Printerium\", \"Impeach\", \"Zilbercoin\", \"FirstCoin\", \"FindCoin\", \"OpenChat\", \"RenosCoin\", \"VirtacoinPlus\", \"TajCoin\", \"Impact\", \"Atmos\", \"HappyCoin\", \"MacronCoin\", \"Condensate\", \"Independent Money System\", \"ArgusCoin\", \"LomoCoin\", \"ProCurrency\", \"GoldReserve\", \"GrowthCoin\", \"Phreak\", \"Degas Coin\", \"HTML5 Coin\", \"Ultimate Secure Cash\", \"QTUM\", \"Espers\", \"Denarius\", \"Virta Unique Coin\", \"Bitcoin Planet\", \"BritCoin\", \"Linda\", \"DeepOnion\", \"Signatum\", \"Cream\", \"Monoeci\", \"Draftcoin\", \"Stakecoin\", \"CoinonatX\", \"Ethereum Dark\", \"Obsidian\", \"Cardano\", \"Regalcoin\", \"TrezarCoin\", \"TerraNovaCoin\", \"Rupee\", \"WomenCoin\", \"Theresa May Coin\", \"NamoCoin\", \"LUXCoin\", \"Xios\", \"Bitcloud 2.0\", \"KekCoin\", \"BlackholeCoin\", \"Infinity Economics\", \"Magnet\", \"Electra\", \"Bitcoin Diamond\", \"Cash & Back Coin\", \"Bulwark\", \"Kalkulus\", \"GermanCoin\", \"LiteCoin Ultra\", \"PhantomX\", \"Digiwage\", \"Trollcoin\", \"Litecoin Plus\", \"Monkey Project\", \"TokenPay\", \"1717 Masonic Commemorative Token\", \"My Big Coin\", \"Unified Society USDEX\", \"Tokyo Coin\", \"Stipend\", \"Pushi\", \"Ellerium\", \"Velox\", \"Ontology\", \"Bitspace\", \"Briacoin\", \"Ignition\", \"MedicCoin\", \"Bitcoin Green\", \"Deviant Coin\", \"Abjcoin\", \"Carebit\", \"Zealium\", \"Proton\", \"iDealCash\", \"Bitcoin Incognito\", \"HollyWoodCoin\", \"Swisscoin\", \"Xt3ch\", \"TheVig\", \"EmaratCoin\", \"Dekado\", \"Poseidon Quark\", \"BitcoinWSpectrum\", \"Muse\", \"Trivechain\", \"Dystem\", \"Giant\", \"Peony Coin\", \"Absolute Coin\", \"Vitae\", \"TPCash\", \"ARENON\", \"EUNO\", \"MMOCoin\", \"Ketan\", \"XDNA\", \"PAXEX\", \"ThunderStake\", \"Kcash\", \"Bettex coin\", \"BitMoney\", \"Junson Ming Chan Coin\", \"HerbCoin\", \"Oduwa\", \"Galilel\", \"Crypto Sports\", \"Credit\", \"Dash Platinum\", \"Nasdacoin\", \"Beetle Coin\", \"Titan Coin\", \"Award\", \"Insane Coin\", \"LiteDoge\", \"TruckCoin\", \"OrangeCoin\", \"BitstarCoin\", \"NeosCoin\", \"HyperCoin\", \"PinkCoin\", \"AudioCoin\", \"IncaKoin\", \"Piggy Coin\", \"Genstake\", \"XiaoMiCoin\", \"CapriCoin\", \" ClubCoin\", \"Radium\", \"Creditbit \", \"OKCash\", \"HiCoin\", \"WhiteCoin\", \"FriendshipCoin\", \"Triangles Coin\", \"TigerCash\", \"Particl\", \"Nxt\", \"Gapcoin\", \"BitcoinPlus\"], \"legendgroup\": \"0\", \"marker\": {\"color\": [0, 0, 0, 0, 0, 0, 0, 0, 0, 0, 0, 0, 0, 0, 0, 0, 0, 0, 0, 0, 0, 0, 0, 0, 0, 0, 0, 0, 0, 0, 0, 0, 0, 0, 0, 0, 0, 0, 0, 0, 0, 0, 0, 0, 0, 0, 0, 0, 0, 0, 0, 0, 0, 0, 0, 0, 0, 0, 0, 0, 0, 0, 0, 0, 0, 0, 0, 0, 0, 0, 0, 0, 0, 0, 0, 0, 0, 0, 0, 0, 0, 0, 0, 0, 0, 0, 0, 0, 0, 0, 0, 0, 0, 0, 0, 0, 0, 0, 0, 0, 0, 0, 0, 0, 0, 0, 0, 0, 0, 0, 0, 0, 0, 0, 0, 0, 0, 0, 0, 0, 0, 0, 0, 0, 0, 0, 0, 0, 0, 0, 0, 0, 0, 0, 0, 0, 0, 0, 0, 0, 0, 0, 0, 0, 0, 0, 0, 0, 0, 0, 0, 0, 0, 0, 0, 0, 0, 0, 0, 0, 0, 0, 0, 0, 0, 0, 0, 0, 0, 0, 0, 0, 0, 0, 0, 0, 0, 0, 0, 0, 0, 0, 0, 0, 0, 0, 0, 0, 0, 0, 0, 0, 0, 0, 0, 0, 0, 0, 0, 0, 0, 0, 0, 0, 0, 0, 0, 0, 0, 0, 0, 0, 0, 0, 0, 0, 0, 0, 0, 0, 0, 0, 0, 0, 0, 0, 0, 0, 0, 0, 0, 0, 0, 0, 0, 0, 0, 0, 0, 0, 0, 0, 0, 0, 0, 0, 0, 0, 0, 0, 0, 0, 0, 0, 0, 0, 0, 0, 0, 0, 0, 0, 0, 0, 0, 0, 0, 0, 0, 0, 0, 0, 0, 0, 0, 0], \"coloraxis\": \"coloraxis\", \"symbol\": \"circle\"}, \"mode\": \"markers\", \"name\": \"0\", \"scene\": \"scene\", \"showlegend\": true, \"type\": \"scatter3d\", \"x\": [-0.3341973577125254, -0.3175380399782952, -0.4015186599184629, -0.25607757014590826, -0.3173393217314323, -0.26921337894161934, -0.25401906450270484, -0.333856956814766, -0.32643750640734065, -0.3326945048570729, -0.3341932921965145, -0.33417757605505655, 0.6348909945348064, -0.3730339973407, -0.3576496745502309, -0.26717597853538455, -0.33225610073438466, -0.33322418120615227, -0.4014133963717473, -0.3990413192406985, -0.026091507888286795, -0.2806441695618324, -0.2858224323908586, -0.27600096029502674, -0.2766229308370928, -0.3486458044362775, -0.32849907709000026, -0.33259907827354485, 0.023806905918530647, -0.35310316863764213, -0.40178496847809386, -0.243940464371281, -0.32637506032398284, -0.40169657720462404, -0.3094285574968829, -0.33287461323695594, -0.31044478098708, -0.40166109602076416, -0.24440867193606472, -0.2764038782182899, -0.3252974037808996, -0.0885843183693195, -0.33063078881129476, -0.3165510403736936, -0.3724558102878748, -0.2858028042378869, -0.27669821094270086, -0.280455647502137, -0.3341794331209423, -0.2766504276743707, -0.3535477131081344, -0.3339137869447502, -0.4017665044590668, -0.3689117838283918, -0.42237576821748746, -0.3685516647231389, -0.2842043063762191, -0.2761719891379657, -0.30989256548376154, -0.2564616721740382, -0.07817743249182557, -0.3173102468296068, -0.07918620587629473, -0.3173739913380884, -0.24761530999094034, -0.3337895723138326, -0.28407261774118925, -0.39893430440140687, 0.8675369963981909, -0.31717393979331443, -0.095843181872276, -0.3573329401572125, -0.3996098418832012, -0.31591678236594245, -0.3135839530385698, -0.3689268550047132, -0.4005012817037911, -0.3323799192532027, -0.3100824338472887, -0.3338276402918167, -0.3322668812927818, -0.22726584931959026, -0.34103917962318836, -0.4012402883170689, -0.33303187601676876, -0.3173548826807818, -0.4017556807768405, -0.33401688089448717, -0.3341736684295738, -0.2840636305084343, -0.22796805420468888, 0.03221074408827962, -0.3562900696011904, -0.3337879732471152, -0.3879136859518964, -0.35561918619057864, -0.2286971824397748, -0.41535941279340866, -0.35536653410412294, -0.282275444718774, -0.4013482053601317, 0.8550875567475271, -0.40171060234835576, -0.35675379698805015, -0.33371530675530486, -0.3338695512983998, -0.3573329401572125, -0.4012853077971086, -0.31721761475577354, -0.33371607813367216, -0.40211484035711414, -0.33386344459353595, -0.32944914543325376, -0.401739577685852, -0.33307370056110125, 0.3574123441198666, -0.3340627412463153, -0.33413334797166505, -0.3487257011763591, -0.35760129564974347, -0.33035834878810316, -0.31733130542091514, -0.4016495355826477, -0.3339111368485414, -0.3340380287915894, -0.28570899471267547, -0.2758344513998659, -0.22846504781368668, -0.3148925862179129, -0.2854503576280409, -0.40091497679973315, -0.44056171489525997, -0.3996537666393707, -0.35557958261907757, -0.4008129011777873, -0.34997976840810874, -0.39675285831094453, -0.33398134173947575, -0.33398048429822386, -0.32709856743757465, 0.2637307259896093, -0.4012915841273055, -0.2683451934528232, -0.35736715661851076, -0.3331917915040965, 0.8780597221294927, -0.26790308036997673, -0.33115830908247335, 0.5633622523402108, -0.3704624321306832, -0.3689645239446098, -0.4277445578426934, -0.27633551333420175, 0.13089437955183508, -0.2764063302512568, -0.33689825764773057, -0.42724963320302534, -0.40156406093466834, -0.2857834112867754, -0.35723327810391703, -0.3336165031309258, -0.33411627847964015, -0.3141420795750654, 0.6610821972550796, -0.4015047983607825, -0.34364440421065506, -0.3340718361933427, -0.29631704874738957, 0.4349110738710003, -0.31567769959110564, -0.3552274312523242, -0.41003581155300745, -0.33402215995999357, -0.39522952118358057, -0.35892977273903526, -0.333892649112111, -0.09570557495444318, -0.40029715872489025, 0.1890091515448689, -0.2730772242943105, -0.3313526341335549, -0.3221633679242078, -0.34861161642905486, 0.08041656346621934, -0.3330306372911567, -0.40087868424756384, -0.3477760271310232, -0.3205963206122507, -0.33413840277879187, -0.35351964689594295, -0.33266178254172973, -0.2767796500865482, -0.27271938628612413, -0.32968389250236163, -0.2202588681618943, -0.36337370554277554, -0.4015811991246357, -0.3175731193884029, -0.284943027429812, -0.3229129047195241, -0.37006128752610284, -0.3341657534654252, -0.3341474585364117, -0.2793241785372981, -0.34687010231368226, -0.3568277205319423, -0.3338639164148898, -0.39389806117195925, -0.3570163688305046, -0.3115165114136669, -0.2807212774375999, -0.2844923769697479, -0.28547768286077607, -0.13728868100814254, -0.28572952723889994, -0.3476134270788457, -0.3333377999588714, -0.2077426821218624, -0.34431711886848493, -0.26803140435031636, 1.020917315008139, -0.3589156515962021, -0.3487250982324539, -0.39691428658080535, -0.1663975349488393, -0.3443077531408228, -0.3474446111886428, -0.32703868177357276, -0.353096996413618, -0.40105457601669003, -0.28297466373696917, -0.35611566799949657, -0.34746366497106046, -0.3529581354790734, -0.19358477603987942, -0.27904433515695887, -0.26950370316543837, 0.5233130457667814, -0.1435533246628934, -0.39620886984102544, -0.3338679474147002, -0.3966650400704579, -0.3488420794657974, 0.5727817431003206, -0.35357394943695186, -0.3333506569843759, -0.31202800821843635, -0.30231873716952556, -0.3986177489769069, -0.4012818552909366, 0.10112220376063892, -0.39882265380359655, -0.3327356255304362, -0.33356125455528846, -0.26924594055413736, -0.3340797414685568, -0.3929098588834172, -0.24774737435524996, -0.09708200260646101, -0.38865659475967995, -0.33335824301189354, -0.3264227364251278, -0.3978506327173864, -0.331797089522446, -0.357608536051492, -0.39967876473931674, -0.3158544179465163, -0.09302140415103353, -0.3289920390699326, -0.34827143836442687, -0.27680545136847917, -0.25014375327560096, -0.3575444298817819, -0.3969118721461998, -0.33224184802422074, -0.2861261237812404], \"y\": [1.0093384826677416, 1.0094903954314585, 1.2094038452424258, 1.7234009876431668, 0.864248195283735, 0.6778272734932742, 1.738476417341086, 1.0093374950388927, 1.0095811497289677, 1.0093854800977013, 1.009338262973755, 1.009338407590433, 0.28491322589374585, 0.8873697402716271, 1.5931561496191176, 0.23943121095074094, 1.0093159434186265, 1.023622307919008, 1.2094071370571151, 2.0843876946656703, 0.8310410944431809, 0.8637327429073074, 0.8229075323664954, 1.8176354457150328, 1.8176159953751294, 0.5269063631347235, 1.0092253172599492, 1.0093204796421442, 1.0205340364147313, 1.0230006497594424, 1.2094107783740622, 0.1318557458943447, 1.5566099620660345, 1.2094066060417166, 1.0090031022593673, 1.0093104756368216, 0.2279099640587998, 1.2094108373577153, 0.13191047613862408, 1.8176228456157821, 1.00892308226671, 0.4098352595953992, 1.4507414436654087, 0.8642409353550103, 0.887390859906338, 0.8229193705845768, 1.8176053165556179, 0.8227397270864889, 1.0093390432369314, 1.817608198281695, 1.0229728734917882, 1.0093334761392296, 1.2094113564768751, 2.4209727221292368, 1.9183524175902178, 0.7367577425767708, 0.8228999869185949, 1.817595411235205, 0.8638026121350675, 1.7386245906516393, 0.9508602999550343, 0.8642491045176695, 1.2010808378602265, 0.864255088881766, 1.4845322156310374, 1.0093220987349227, 0.8228201283619525, 1.2092335365653253, 0.790308387420503, 0.8642408801521345, 0.2883206975768158, 1.5931521801584663, 1.2094267708293607, 0.8641534339849041, 0.8640166920299408, 1.4806761110747246, 1.2093544954756221, 1.5623118657059434, 1.0087051657998918, 1.009319289586543, 1.0093294807055264, 1.6310882393805257, 1.0229221416929397, 1.2093931263286606, 1.009312494904603, 0.8642484023806906, 1.2094096137937282, 1.0093295584515585, 1.0093392235110745, 0.8229737582410681, 0.4146907631184964, 1.902541073905213, 1.5931473320075715, 1.009351285018639, 1.2088039821952978, 1.5931918985378843, 1.6311804883440697, 1.9436888365310938, 1.5930187382814376, 1.9013737716550798, 1.2094036259513696, 1.852417323294008, 1.2094104315213192, 1.5931494795686678, 1.0093268214509663, 1.0093195976222014, 1.5931521801584663, 1.20938478126497, 0.8642533887611529, 1.0093306405420732, 0.608036077570818, 1.0093295006843341, 1.009035593059614, 1.209408729929801, 1.0092737260340483, 0.8204777972657799, 1.009333674068094, 1.0093381841853273, 1.4829138774545945, 0.5647663388749357, 1.0091116762134569, 0.8642491396916839, 1.2094085252768478, 1.0093335590133665, 1.0093282496392963, 0.8228841495585676, 0.2341223187540848, 1.63117940588219, 1.009248463011535, 0.8229065100097521, 1.209368613466116, 1.8462501893335495, 1.2094011169776875, 1.593144375292546, 1.2093718055876215, 1.5931185155177352, 1.2092212833943425, 1.0093305226836506, 1.009325424371643, 1.008866756053529, 0.6424731721578776, 1.2093984594086524, 0.8220778653675666, 1.5931441729281168, 1.0092970881942631, 1.7116868474601434, 0.6777381182339319, 1.5623039356112778, 1.768361761142006, 1.4806835879878952, 1.4806541214601776, 1.7854060928426363, 1.8176041719041252, 0.9891968445198318, 1.8176096588679123, 1.6750195359631155, 1.7854215701873293, 1.2094110919233412, 0.8229079022129644, 1.5931264380376862, 1.0093231738328452, 1.0093381045889542, 1.7240195796679514, 1.5037691928085493, 1.2094008101183176, 0.5267878945132449, 1.0093314934795736, 0.8178901106208527, 1.0160471146003147, 0.8642460475076665, 1.480334490961606, 1.7434801600700314, 1.0093293933639673, 1.6692637784531121, 1.4995561155974169, 1.0093377526459857, 0.677018414525839, 1.209357410230261, 1.4773747631368663, 1.817581195762216, 1.0092817618578152, 1.294249199680077, 1.482913976522491, 0.9876182959969328, 1.009270910388607, 1.2094044344559547, 1.4828707350853219, 1.0091394672116973, 1.009337551459306, 1.0229730574609615, 1.5623089478698282, -0.11798006667262805, 0.2452641307904888, 1.0093186850933527, 1.6308911300282543, 1.0502711001788922, 1.2093998083459438, 1.3915107979675934, 0.8228602362407891, 1.5119984973489298, 1.480668383795986, 1.009337389866136, 1.009336574545638, 0.8227751105242376, 1.548036449256504, 1.5931208064285047, 1.0093280984876931, 1.6693054160356708, 1.5931204567626671, 0.6830340646106058, 1.0074575887352877, 0.9188800456743832, 0.822911501077374, 1.00842028213962, 0.8228911383926842, 1.904468211103207, 1.0093070903385148, 1.5521714329518892, 1.4826112304200862, 0.6778033538740156, 1.6802180055696656, 0.869458258574889, 1.4829097339845723, 1.6693462630830005, 0.8149434182968489, 1.0043020809062466, 1.48289497358362, 1.0088686288054385, 1.0229626881288856, 1.2093989339467435, 0.8228274451127907, 1.5930584398746408, 0.9075621407375835, 1.022935813165064, 1.001248760711213, 2.132928767313054, 1.2050884553317747, 0.9672431277121485, 1.029553718460334, 1.6693344353908455, 1.0093342159178031, 1.669344425236869, 1.4829113688233537, 0.9858113227932008, 1.0229722611423278, 1.009306688272019, 1.391378968178692, 1.9024854398862951, 1.2092184619736621, 1.2094057008589598, 0.9986716187414564, 1.209503416939553, 1.0092454499883172, 1.0093207363903582, 0.6778203585949005, 1.0093421608066444, 1.2093414621488976, 1.0047578879186532, 0.871019564365029, 1.2091276103054256, 1.0093543177824387, 1.0093041232605056, 1.2093895201577405, 1.009302548838437, 1.593151192619314, 0.7095944465485037, 0.8642370525448817, 0.8220047160352166, 1.0092931477989477, 0.5268789457854268, 1.8176102043239348, 0.6777385718095846, 1.5931534511601269, 1.7661188083546089, 1.009226205415063, 0.8229085659748382], \"z\": [-0.5499160622331373, -0.5503891732572277, -0.5223308819619098, -0.14353370185076675, -0.39393030825544173, -0.10475238188797614, -0.6235057008102616, -0.5499250015789691, -0.5501670117033519, -0.5499646637005423, -0.5499161320208998, -0.549916578578518, -0.33120058902385785, -0.40622001096634025, -0.21955933046441295, -0.21750987646954445, -0.5499640348872152, -0.23380673767288537, -0.5223342861290343, -0.6509967781357655, -0.2691445756376219, -0.39482122406038495, -0.26074301922765386, -0.6364404124375093, -0.636420298240901, -0.3343766759001554, -0.5500485186102888, -0.5499556577137207, -0.561493729761367, -0.23316386178966975, -0.5223249840990529, 0.025825195461062607, -0.2238063625564736, -0.5223266088684293, -0.5505196511396847, -0.5499465002833558, -0.43369664251298706, -0.5223283115574067, 0.025827998236795345, -0.6364273822861154, -0.5500804939365566, -0.2938769170330801, -0.1812116863634859, -0.3939501250037383, -0.4062392496679755, -0.26074565041081, -0.6364163830653604, -0.2608568805766311, -0.5499166419100742, -0.6364181751270096, -0.233147017696283, -0.5499227650045695, -0.5223255813389986, -0.5008874781985161, -0.7106323842791017, -0.1733130864399592, -0.260785006173732, -0.6364287120516947, -0.3940504588510477, -0.6234666491450979, -0.4132483147351987, -0.39393124852230677, -0.5294817031576413, -0.39393060602171176, -0.6690851462897157, -0.5499240675019349, -0.2607743284623838, -0.5223697921603585, -0.28582862642328183, -0.3939334356339501, -0.3122395836117374, -0.21956710572467464, -0.5223860725539698, -0.3939515453498516, -0.39398969067812384, -0.6651508905021989, -0.5223493470270918, -0.06675391258250297, -0.550449149894399, -0.5499225484982908, -0.549966154011279, -0.34725633644259457, -0.2334729388113385, -0.5223364294852485, -0.5499426483694737, -0.3939299284106934, -0.5223255612068881, -0.5499193076129736, -0.5499168283371277, -0.2608018943644442, -0.19992113047433568, -0.7285633150311708, -0.21959416864763406, -0.5499293015142416, -0.522588492004259, -0.21962005986769137, -0.34723441702097746, -0.6093518351199537, -0.21959602620048724, -0.7199346095732491, -0.5223354072670496, -0.6729143337736994, -0.5223269137289431, -0.2195821332644317, -0.5499268961333633, -0.5499214810241018, -0.21956710572467464, -0.5223337396984079, -0.3939344909704777, -0.549927554757358, -0.1508008290899433, -0.5499234059448032, -0.5499893332314383, -0.5223258351961287, -0.5499346328296557, -0.27753493313851274, -0.5499188116182171, -0.5499177231504604, -0.1590586395685624, -0.366769014775242, -0.5499785197058483, -0.3939306908867409, -0.52232820987817, -0.5499228507072718, -0.5499185085390602, -0.2607418978166013, -0.2668915350555758, -0.3472404404233207, -0.5504169802039558, -0.26075280053654654, -0.5223407804827654, -0.8925101607417686, -0.522380333467929, -0.21961266766173934, -0.5223440815541021, -0.21975801591890373, -0.522426025949754, -0.5499204307571466, -0.5499195469101392, -0.5500222452616381, -0.11273494724548577, -0.5223360044868166, -0.2610634441017979, -0.21956476530171545, -0.5499356259664531, -0.6490547854784045, -0.10477161059287027, -0.06678521349856542, -0.8973429230967884, -0.6651111018008221, -0.6651459706663271, -0.7624472154634921, -0.6364258915277299, -0.5587874777414616, -0.6364249711775962, -0.3293400407933468, -0.7624632210631713, -0.5223309551710218, -0.2607441298890504, -0.21956519580269654, -0.5499288930450107, -0.5499181660676582, -0.14208891766348683, -0.1543648589406852, -0.5223307132969126, -0.334489528465299, -0.549918180231757, -0.07506966770868194, -0.5717039179675725, -0.3939744199617188, -0.6654569618136614, -0.5121126735989002, -0.5499191368908022, -0.448267369916328, -0.21687412825622843, -0.5499240916554535, -0.10925458164450233, -0.5223553313152931, -0.6795037068228934, -0.6365090530084284, -0.5499821475895276, -0.3759354159430149, -0.1590617120682305, -0.5571550520099863, -0.549935285144431, -0.5223481235685797, -0.15907639577386753, -0.5502448632744583, -0.5499174752572042, -0.2331478019545821, -0.06674584607230286, 0.07580949874555984, -0.25783356284443065, -0.5500333992688056, -0.347408905639687, -0.5450094530969481, -0.5223284893129934, -0.419703020879343, -0.26075815501375293, -0.00684825642015172, -0.6651191390808524, -0.5499167141386215, -0.5499170590107385, -0.2608934716813144, -0.0644687933181461, -0.21957505386930745, -0.5499231439101921, -0.44831042862512244, -0.21956994018827905, -0.06746253987165558, -0.5510134625150412, -0.0706910014794652, -0.26075295657320086, -0.5550254257290929, -0.2607425910744959, -0.7187354260829141, -0.549933495280333, -0.33429886935655817, -0.15912285934572395, -0.10477977750783556, -0.21984635070926248, -0.356660510037307, -0.15905791873897177, -0.448236927543131, -0.26252436254582573, -0.3642496232404654, -0.15908958135080917, -0.5500241819321684, -0.2331572750517402, -0.5223424353222937, -0.26080503007012235, -0.2195830279238852, -0.3981229934517722, -0.2331562132769485, -0.5522424129301357, -0.0923837727755881, -0.13052332816679882, 0.01321396506248916, -0.2399405923191909, -0.44825371296110617, -0.5499241240425173, -0.4482432747993825, -0.1590550770791342, -0.5700178557406937, -0.23314620624378382, -0.5499330794909645, -0.4198280560710771, -0.7195956306803153, -0.5223755874236018, -0.5223375529930067, -0.5596754825998006, -0.5224207839038536, -0.5499386562639297, -0.5499299389178567, -0.1047502800640652, -0.5499198658851031, -0.5225503065077898, -0.551416233896957, -0.4010325836404439, -0.522626160768197, -0.5499413479403542, -0.5501181341249212, -0.5224265538283882, -0.5499739435425576, -0.21955955036887256, -0.2601929240669238, -0.3939680880436743, -0.2657451273742555, -0.5500473830515229, -0.33438182384105697, -0.6364143808173987, -0.10524723771354967, -0.2195616686710758, -0.47075500485855976, -0.5499484553619481, -0.26073507104061855]}, {\"customdata\": [[\"X13\", 29279424622.5027, \"314159265359\"], [\"Scrypt\", 88.0, \"384000000000\"], [\"CryptoNight\", 184066828814.0, \"184467440735\"], [\"DPoS\", 108202084.0, \"125000000\"], [\"Scrypt\", 163055097500.0, \"200000000000\"], [\"DPoS\", 288090567.493887, \"500000000\"], [\"CryptoNight\", 53139835213.77, \"1000000000000\"], [\"Semux BFT consensus\", 1231147.0, \"100000000\"], [\"Scrypt\", 77872059787.8998, \"92000000000\"], [\"CryptoNight Heavy\", 99553110528.8022, \"184470000000\"], [\"DPoS\", 1000000000.0, \"1000000000\"], [\"DPoS\", 120012140.0, \"159918400\"], [\"DPoS\", 1020544523.0722, \"0\"], [\"DPoS\", 1122382283.37, \"0\"], [\"SHA-256\", 1999999995.3056, \"2000000000\"]], \"hovertemplate\": \"<b>%{hovertext}</b><br><br>Class=%{marker.color}<br>PC 1=%{x}<br>PC 2=%{y}<br>PC 3=%{z}<br>Algorithm=%{customdata[0]}<br>TotalCoinsMined=%{customdata[1]}<br>TotalCoinSupply=%{customdata[2]}<extra></extra>\", \"hovertext\": [\"EliteCoin\", \"MoonCoin\", \"ByteCoin\", \"ARK\", \"gCn Coin\", \"Lamden Tau\", \"TurtleCoin\", \"Semux\", \"Lynx\", \"Qwertycoin\", \"ALAX\", \"Lisk\", \"EOS\", \"Oxycoin\", \"ZEPHYR\"], \"legendgroup\": \"4\", \"marker\": {\"color\": [4, 4, 4, 4, 4, 4, 4, 4, 4, 4, 4, 4, 4, 4, 4], \"coloraxis\": \"coloraxis\", \"symbol\": \"diamond\"}, \"mode\": \"markers\", \"name\": \"4\", \"scene\": \"scene\", \"showlegend\": true, \"type\": \"scatter3d\", \"x\": [2.308987589082175, 2.5618805413788928, 3.8705077708827087, 3.7234349899213255, 3.248069571949643, 3.7282915606702063, 8.055931484373772, 3.9180335835326634, 2.251498088943383, 3.1085714387927723, 3.740531803304592, 3.7238268805691566, 3.7336900097710166, 3.734933661386471, 2.4698211816646554], \"y\": [1.6805346820285392, -1.3003404216107777, -2.2785587561356846, 1.864752786586761, -1.1512371888712172, 1.864644516534487, -2.71342364209314, 1.9571714391697344, 0.3196515699417021, -2.284734873393579, 1.864680434473231, 1.8647408182160599, 1.8651601979505406, 1.8651990895780493, 0.862199416197443], \"z\": [-0.6812740591887162, -0.020613892248148066, 0.2776314984598957, -0.31852795487238333, -0.0655082872561393, -0.3186387432581878, 0.24290411735586, -0.38592110883887554, -0.43518327464603945, 0.3621758335195354, -0.3189728921566864, -0.318536319893237, -0.31887502027132575, -0.318915239303278, -0.20438288133977264]}, {\"customdata\": [[\"SHA-256\", 17927175.0, \"21000000\"], [\"Ethash\", 107684222.6865, \"0\"], [\"Scrypt\", 63039243.30000489, \"84000000\"], [\"CryptoNight-V7\", 17201143.1449131, \"0\"], [\"Ethash\", 113359703.0, \"210000000\"], [\"Equihash\", 7383056.25, \"21000000\"], [\"Multiple\", 11406219141.0, \"21000000000\"], [\"Scrypt\", 5768310.0, \"21000000\"], [\"X11\", 11149733.9976203, \"20000000\"], [\"Scrypt\", 12205795.444954902, \"64000000\"], [\"Multiple\", 1688254250.0, \"2000000000\"], [\"SHA-256\", 170204389.754849, \"169795588\"], [\"Scrypt\", 128940951.183046, \"250000000\"], [\"Scrypt\", 7357794.7925, \"100000000\"], [\"Quark\", 259557164.91477, \"247000000\"], [\"Groestl\", 49548585.14129171, \"84000000\"], [\"Scrypt\", 33442988.3440364, \"48166000\"], [\"Scrypt\", 7219956.64626131, \"21000000 \"], [\"Scrypt\", 4703879.51824446, \"13140000\"], [\"X11\", 4996986.20575291, \"18000000\"], [\"Multiple\", 15929530669.1206, \"16555000000\"], [\"SHA-256\", 18773857500.0, \"21000000000\"], [\"Scrypt\", 12539015186.821999, \"13500000000\"], [\"Scrypt\", 20910478.806249898, \"21000000 \"], [\"Scrypt\", 218871896.499999, \"299792458\"], [\"Scrypt\", 19496786.31025, \"32000000\"], [\"Scrypt\", 1142732.14912776, \"11235813\"], [\"NeoScrypt\", 208669093.00773, \"336000000\"], [\"Scrypt\", 884125802.0, \"1420609614\"], [\"Scrypt\", 65672720.470874794, \"70000000\"], [\"Scrypt\", 41658647.9999715, \"72245700\"], [\"Scrypt\", 90595753018.6314, \"90600000000\"], [\"SHA-256\", 21089348.999, \"21000000\"], [\"Scrypt\", 151447649.8, \"265420800\"], [\"Scrypt\", 19326319.14375, \"20000000\"], [\"Scrypt\", 1104344.22938102, \"1350000\"], [\"Scrypt\", 38151999.993099704, \"42000000\"], [\"HybridScryptHash256\", 40431856.9, \"200000000\"], [\"Scrypt\", 5804204.88794916, \"10000000\"], [\"Scrypt\", 2366066305.76482, \"15000000000\"], [\"SHA-256\", 14736400.0, \"21000000\"], [\"Scrypt\", 334709223.48313797, \"337000000\"], [\"Scrypt\", 1104157.42169891, \"21000000\"], [\"Scrypt\", 24215181.725, \"250000000\"], [\"Scrypt\", 25593737.1355044, \"51200000\"], [\"SHA-256\", 563336541.299966, \"888000000\"], [\"SHA-256\", 43536800.0, \"47011968\"], [\"SHA-256\", 22935396.0, \"42000000\"], [\"SHA-256\", 2278150.0, \"80000000\"], [\"SHA-256\", 200911.79151896, \"250000\"], [\"X11\", 1207310.0, \"0\"], [\"Scrypt\", 23150892.167968698, \"23000000\"], [\"Lyra2REv2\", 51173723.81663471, \"84000000\"], [\"Scrypt\", 119606941.0, \"265420800\"], [\"SHA-256\", 39195739.362088, \"45000000\"], [\"CryptoNight\", 6906587610.38292, \"10000000000\"], [\"Scrypt\", 68194674.8711679, \"105120000\"], [\"Scrypt\", 415032420.0, \"1680000000\"], [\"Scrypt\", 137517654.41397, \"166386000\"], [\"Scrypt\", 181919.2435974, \"2628000\"], [\"Scrypt\", 152270664.860648, \"160000000\"], [\"Scrypt\", 792537250.0, \"1000000000\"], [\"Stanford Folding\", 719416990.0, \"1000000000\"], [\"Multiple\", 65113302.0, \"0\"], [\"QuBit\", 6365285.0, \"0\"], [\"Scrypt\", 10140044.443029301, \"3371337\"], [\"Scrypt\", 4610340640.89, \"10000000000\"], [\"M7 POW\", 708506520.0, \"1840000000\"], [\"Scrypt\", 619478.0, \"619478\"], [\"SHA-256\", 12462620.0, \"21000000\"], [\"Scrypt\", 88213.0, \"92000000000\"], [\"X11\", 32221574.820996, \"33000000\"], [\"Lyra2RE\", 13742738.0, \"65789100\"], [\"SHA-256\", 14747200.0002, \"53760000\"], [\"X11\", 15863837.5, \"21000000\"], [\"Scrypt\", 32565300.0, \"210240000\"], [\"Scrypt\", 75614500.0, \"250000000\"], [\"Ethash\", 10495278.0, \"16906397\"], [\"Blake2b\", 33098296530.0, \"0\"], [\"X11\", 15867695.0, \"16000000\"], [\"SHA-256\", 20997476.865023103, \"21000000\"], [\"Scrypt\", 210000000.0, \"210000000\"], [\"1GB AES Pattern Search\", 11448949.0, \"81962100\"], [\"Scrypt\", 69836100.0, \"84000000\"], [\"SHA-256\", 21739971929.0, \"21626280000 \"], [\"X11\", 45110324.0, \"84000000\"], [\"Dagger\", 5702048.0, \"30000000\"], [\"Scrypt\", 636462.55983338, \"168351300\"], [\"X11GOST\", 17263355.0, \"24000000\"], [\"Scrypt\", 6570807.65677618, \"20000000\"], [\"X11\", 13654082.4987998, \"25000000\"], [\"Scrypt\", 616448.0, \"616448\"], [\"X11\", 1377917.0, \"25000000\"], [\"Equihash\", 115898131.0, \"200000000\"], [\"CryptoNight\", 7822432.72439746, \"10000000\"], [\"SHA-256\", 6243840.0, \"9736000\"], [\"Multiple\", 1000000000.0, \"1200000000\"], [\"Scrypt\", 116845228.0, \"200000000\"], [\"SHA-256\", 9106714.0, \"10638298\"], [\"Scrypt\", 11119200.0, \"30000000\"], [\"Lyra2Z\", 7568281.24956067, \"21400000\"], [\"Ethash\", 26205539.0, \"26205539\"], [\"Equihash\", 5613550.0, \"21000000\"], [\"Scrypt\", 196297971.0, \"10000000000\"], [\"X11\", 824000000.0, \"500000000\"], [\"X11\", 61364813.0, \"228000000\"], [\"CryptoNight\", 978145.0, \"21000000\"], [\"Scrypt\", 894026.0, \"2714286\"], [\"CryptoNight\", 9357088.0, \"25000000\"], [\"Lyra2RE\", 1876146.4435959999, \"9999999\"], [\"X11\", 536982074.0, \"100000000000\"], [\"CryptoNight-V7\", 10969318.522954, \"185000000\"], [\"Scrypt\", 3115258.0, \"3360000\"], [\"X11\", 30385540.0, \"1000000000\"], [\"Equihash\", 6921653.89980891, \"17000000\"], [\"Scrypt\", 99843408.3158479, \"100000000 \"], [\"Lyra2RE\", 18545757.5, \"21000000\"], [\"Dagger-Hashimoto\", 2232901.0, \"2232901\"], [\"Scrypt\", 64096052.0, \"4000000000\"], [\"NIST5\", 10123200.0, \"48252000\"], [\"Scrypt\", 20276099.146523997, \"35520400\"], [\"SHA-256\", 1317747500.0, \"2500000000\"], [\"Scrypt\", 13673406.4325268, \"72000000\"], [\"CryptoNight-V7\", 69036016.8340164, \"105000000\"], [\"Argon2d\", 19784224.6512734, \"0\"], [\"Blake2b\", 133248297.0, \"340282367\"], [\"Cloverhash\", 18407259.0885883, \"30000000\"], [\"CryptoNight\", 1809467143.0, \"2000000000\"], [\"X11\", 35138975.0, \"100000000\"], [\"Scrypt\", 18133195.0, \"19276800\"], [\"Scrypt\", 5167775.0, \" 75000000\"], [\"X11\", 26042364.373555303, \"60000000\"], [\"X11\", 2622886.0, \"18900000\"], [\"CryptoNight\", 14161803.0, \"54000000\"], [\"Time Travel\", 17801865.1605478, \"21000000\"], [\"Keccak\", 2241009149.22257, \"5000000000\"], [\"X11\", 122475638.389743, \"1100000000\"], [\"SHA-256\", 17995589.6469082, \"21000000\"], [\"Scrypt\", 485214.0, \"10500000000\"], [\"Scrypt\", 143006669741.68698, \"0\"], [\"Scrypt\", 9704042.0, \"20000000\"], [\"Scrypt\", 17453749.4042601, \"84000000\"], [\"Scrypt\", 32646731.063036, \"100000000\"], [\"Scrypt\", 33716526.0, \"100000000\"], [\"CryptoNight\", 8946653.0, \"88888888\"], [\"Equihash\", 5211553258.01514, \"21000000000\"], [\"X11\", 2702855668.85288, \"1800000000\"], [\"NeoScrypt\", 4165967.57499639, \"27000000\"], [\"Equihash\", 17202361.088994, \"21000000\"], [\"Dagger\", 33986980.0, \"156306732.71\"], [\"Scrypt\", 99990001.493466, \"100000000\"], [\"X11\", 175215859.0, \"350000000\"], [\"NeoScrypt\", 6375259.04, \"45000000\"], [\"Ethash\", 12756367.0, \"280000000\"], [\"NeoScrypt\", 5832306.875, \"31800000\"], [\"Multiple\", 481730566.566176, \"660000000\"], [\"CryptoNight\", 19281821413.4924, \"85000000000\"], [\"CryptoNight\", 4500000.0, \"12500000\"], [\"Ethash\", 520891780.0, \"10000000000\"], [\"X11\", 80316207.0, \"550000000\"], [\"CryptoNight-V7\", 441250233.377, \"999481516\"], [\"Scrypt\", 3964201248.87125, \"4999999999\"], [\"BLAKE256\", 30089671530.5228, \" 90000000000\"], [\"X11\", 4229040.50393462, \"19800000\"], [\"NeoScrypt\", 7847417.33355824, \"21000000\"], [\"NeoScrypt\", 299797953.0, \"500000000\"], [\"Scrypt\", 45483049.3398182, \"64000000\"], [\"X11\", 8478104.33969947, \"23000000\"], [\"SHA-256\", 20166000.0, \"20166000\"], [\"C11\", 11916588.09471, \"23000000\"], [\"SkunkHash\", 4818338.98949984, \"16600000\"], [\"CryptoNight\", 133932467.77410801, \"336000000\"], [\"Scrypt\", 10000000000.0, \"10000000000\"], [\"Dagger\", 107325266.02778299, \"100000000\"], [\"Lyra2REv2\", 643795911.540095, \"1100000000\"], [\"Scrypt\", 12446100.00278, \"40000000\"], [\"Scrypt\", 14491014421.0, \"18406979840\"], [\"X11\", 211297638.500483, \"500000000\"], [\"Ethash\", 247612453.0, \"6500000000\"], [\"CryptoNight\", 80049082.9057215, \"1000000000\"], [\"Scrypt\", 4070212.1493015997, \"21000000\"], [\"IMesh\", 25000000.0, \"25000000\"], [\"Equihash\", 71355477.0, \"70000000\"], [\"Lyra2Z\", 27340501.6514783, \"300000000\"], [\"X11\", 31801461.1867843, \"100000000\"], [\"CryptoNight\", 16016864.0, \"18400000\"], [\"NIST5\", 21069346.252259802, \"21000000\"], [\"Lyra2RE\", 5097689.71077377, \"26280000\"], [\"Tribus\", 795447.0, \"18000000\"], [\"Lyra2Z\", 6986399.70430446, \"10500000\"], [\"CryptoNight\", 84300.0, \"600000518\"], [\"CryptoNight Heavy\", 19153632.0, \"150000000\"], [\"CryptoNight\", 41294520017.0, \"184000000000\"], [\"Jump Consistent Hash\", 135862416.039898, \"168000000\"], [\"CryptoNight\", 560085952.404637, \"1000000000\"], [\"X16R\", 8125865.02097646, \"22075700\"], [\"HMQ1725\", 8645406.16776286, \"21000000\"], [\"X11\", 4993030.69736615, \"21000000\"], [\"Scrypt\", 1416663.06600024, \"22105263\"], [\"CryptoNight-V7\", 15580199.3087496, \"1750000000\"], [\"Cryptonight-GPU\", 4890897.0, \"88188888\"], [\"XEVAN\", 14746153.0962884, \"210000000\"], [\"SHA-256\", 2100000000.0, \"2100000000\"], [\"X11\", 5015881.37315389, \"25000000\"], [\"X16R\", 9753753.61515394, \"100000000\"], [\"Equihash\", 4235111504.0, \"7600000000\"], [\"Lyra2Z\", 13634850.0, \"84000000\"], [\"SHA-256\", 17992514.6469233, \"21000000\"], [\"CryptoNight\", 1867054873.2839699, \"8080000000\"], [\"Blake\", 1578281.31341127, \"105120001.44\"], [\"Blake\", 15846721.248274697, \"25228800\"], [\"Equihash\", 13475920.0, \"105000000\"], [\"Exosis\", 406091.925, \"21000000\"], [\"Scrypt\", 35284717.173946, \"120000000\"], [\"Equihash\", 35687520.0, \"262800000\"], [\"Equihash\", 25150787.5, \"30886000\"], [\"QuBit\", 12925790.4226959, \"100000000\"], [\"SHA-256\", 52293836.62779579, \"64000000\"], [\"X13\", 1170292.5, \"2100000\"], [\"SHA-256\", 84613099.9999955, \"168000000\"], [\"Scrypt\", 55565076.3863525, \"98100000000\"], [\"NeoScrypt\", 3824685012.0, \"4000000000\"], [\"Blake\", 23356790.1494191, \"7000000000\"], [\"Scrypt\", 780210700.0, \"1000000000\"], [\"SHA-256\", 22986929.0854247, \"42000000\"], [\"Scrypt\", 29583989322.9213, \"50000000000\"], [\"Groestl\", 73298203.8873662, \"105000000\"], [\"Scrypt\", 5052555.91981545, \"5000000\"], [\"Scrypt\", 69684455.4387001, \"182000000\"], [\"Multiple\", 3332922.5, \"2800000\"], [\"Equihash+Scrypt\", 100000000.0, \"2100000000\"], [\"Ethash\", 24487944.095820397, \"24487944\"], [\"CryptoNight\", 980222595.0, \"1400222610\"], [\"Equihash\", 7296537.5, \"21000000\"]], \"hovertemplate\": \"<b>%{hovertext}</b><br><br>Class=%{marker.color}<br>PC 1=%{x}<br>PC 2=%{y}<br>PC 3=%{z}<br>Algorithm=%{customdata[0]}<br>TotalCoinsMined=%{customdata[1]}<br>TotalCoinSupply=%{customdata[2]}<extra></extra>\", \"hovertext\": [\"Bitcoin\", \"Ethereum\", \"Litecoin\", \"Monero\", \"Ethereum Classic\", \"ZCash\", \"DigiByte\", \"ProsperCoin\", \"Spreadcoin\", \"Argentum\", \"MyriadCoin\", \"ZetaCoin\", \"SexCoin\", \"Quatloo\", \"QuarkCoin\", \"Riecoin\", \"Digitalcoin \", \"Catcoin\", \"CannaCoin\", \"CryptCoin\", \"Verge\", \"DevCoin\", \"EarthCoin\", \"E-Gulden\", \"Einsteinium\", \"Emerald\", \"Franko\", \"FeatherCoin\", \"GrandCoin\", \"GlobalCoin\", \"GoldCoin\", \"Infinite Coin\", \"IXcoin\", \"KrugerCoin\", \"LuckyCoin\", \"Litebar \", \"MegaCoin\", \"MediterraneanCoin\", \"MinCoin\", \"NobleCoin\", \"Namecoin\", \"NyanCoin\", \"RonPaulCoin\", \"StableCoin\", \"SmartCoin\", \"SysCoin\", \"TigerCoin\", \"TerraCoin\", \"UnbreakableCoin\", \"Unobtanium\", \"UroCoin\", \"ViaCoin\", \"Vertcoin\", \"WorldCoin\", \"JouleCoin\", \"DigitalNote \", \"MonaCoin\", \"Gulden\", \"PesetaCoin\", \"Wild Beast Coin\", \"Flo\", \"ArtByte\", \"Folding Coin\", \"Unitus\", \"CypherPunkCoin\", \"OmniCron\", \"GreenCoin\", \"Cryptonite\", \"MasterCoin\", \"SoonCoin\", \"1Credit\", \"MarsCoin \", \"Crypto\", \"Anarchists Prime\", \"BowsCoin\", \"Song Coin\", \"BitZeny\", \"Expanse\", \"Siacoin\", \"MindCoin\", \"I0coin\", \"Revolution VR\", \"HOdlcoin\", \"Gamecredits\", \"CarpeDiemCoin\", \"Adzcoin\", \"SoilCoin\", \"YoCoin\", \"SibCoin\", \"Francs\", \"BolivarCoin\", \"Omni\", \"PizzaCoin\", \"Komodo\", \"Karbo\", \"ZayedCoin\", \"Circuits of Value\", \"DopeCoin\", \"DollarCoin\", \"Shilling\", \"ZCoin\", \"Elementrem\", \"ZClassic\", \"KiloCoin\", \"ArtexCoin\", \"Kurrent\", \"Cannabis Industry Coin\", \"OsmiumCoin\", \"Bikercoins\", \"HexxCoin\", \"PacCoin\", \"Citadel\", \"BeaverCoin\", \"VaultCoin\", \"Zero\", \"Canada eCoin\", \"Zoin\", \"DubaiCoin\", \"EB3coin\", \"Coinonat\", \"BenjiRolls\", \"ILCoin\", \"EquiTrader\", \"Quantum Resistant Ledger\", \"Dynamic\", \"Nano\", \"ChanCoin\", \"Dinastycoin\", \"DigitalPrice\", \"Unify\", \"SocialCoin\", \"ArcticCoin\", \"DAS\", \"LeviarCoin\", \"Bitcore\", \"SmartCash\", \"Onix\", \"Bitcoin Cash\", \"Sojourn Coin\", \"NewYorkCoin\", \"FrazCoin\", \"Kronecoin\", \"AdCoin\", \"Linx\", \"Sumokoin\", \"BitcoinZ\", \"Elements\", \"VIVO Coin\", \"Bitcoin Gold\", \"Pirl\", \"eBoost\", \"Pura\", \"Innova\", \"Ellaism\", \"GoByte\", \"SHIELD\", \"UltraNote\", \"BitCoal\", \"DaxxCoin\", \"AC3\", \"Lethean\", \"PopularCoin\", \"Photon\", \"Sucre\", \"SparksPay\", \"GunCoin\", \"IrishCoin\", \"Pioneer Coin\", \"UnitedBitcoin\", \"Interzone\", \"MUNcoin\", \"Niobio Cash\", \"ShareChain\", \"Travelflex\", \"KREDS\", \"BitFlip\", \"LottoCoin\", \"Crypto Improvement Fund\", \"Callisto Network\", \"BitTube\", \"Poseidon\", \"Aidos Kuneen\", \"Bitrolium\", \"Alpenschillling\", \"FuturoCoin\", \"Monero Classic\", \"Jumpcoin\", \"Infinex\", \"KEYCO\", \"GINcoin\", \"PlatinCoin\", \"Loki\", \"Newton Coin\", \"MassGrid\", \"PluraCoin\", \"Motion\", \"PlusOneCoin\", \"Axe\", \"HexCoin\", \"Webchain\", \"Ryo\", \"Urals Coin\", \"Project Pai\", \"Azart\", \"Xchange\", \"CrypticCoin\", \"Actinium\", \"Bitcoin SV\", \"FREDEnergy\", \"Universal Molecule\", \"Lithium\", \"PirateCash\", \"Exosis\", \"Block-Logic\", \"Beam\", \"Bithereum\", \"SLICE\", \"BLAST\", \"Bitcoin Rhodium\", \"GlobalToken\", \"SolarCoin\", \"UFO Coin\", \"BlakeCoin\", \"Crypto Escudo\", \"Crown Coin\", \"SmileyCoin\", \"Groestlcoin\", \"Bata\", \"Pakcoin\", \"JoinCoin\", \"Vollar\", \"Reality Clash\", \"Beldex\", \"Horizen\"], \"legendgroup\": \"1\", \"marker\": {\"color\": [1, 1, 1, 1, 1, 1, 1, 1, 1, 1, 1, 1, 1, 1, 1, 1, 1, 1, 1, 1, 1, 1, 1, 1, 1, 1, 1, 1, 1, 1, 1, 1, 1, 1, 1, 1, 1, 1, 1, 1, 1, 1, 1, 1, 1, 1, 1, 1, 1, 1, 1, 1, 1, 1, 1, 1, 1, 1, 1, 1, 1, 1, 1, 1, 1, 1, 1, 1, 1, 1, 1, 1, 1, 1, 1, 1, 1, 1, 1, 1, 1, 1, 1, 1, 1, 1, 1, 1, 1, 1, 1, 1, 1, 1, 1, 1, 1, 1, 1, 1, 1, 1, 1, 1, 1, 1, 1, 1, 1, 1, 1, 1, 1, 1, 1, 1, 1, 1, 1, 1, 1, 1, 1, 1, 1, 1, 1, 1, 1, 1, 1, 1, 1, 1, 1, 1, 1, 1, 1, 1, 1, 1, 1, 1, 1, 1, 1, 1, 1, 1, 1, 1, 1, 1, 1, 1, 1, 1, 1, 1, 1, 1, 1, 1, 1, 1, 1, 1, 1, 1, 1, 1, 1, 1, 1, 1, 1, 1, 1, 1, 1, 1, 1, 1, 1, 1, 1, 1, 1, 1, 1, 1, 1, 1, 1, 1, 1, 1, 1, 1, 1, 1, 1, 1, 1, 1, 1, 1, 1, 1, 1, 1, 1, 1, 1, 1, 1, 1, 1, 1, 1, 1, 1, 1, 1, 1, 1, 1, 1, 1, 1, 1, 1, 1], \"coloraxis\": \"coloraxis\", \"symbol\": \"square\"}, \"mode\": \"markers\", \"name\": \"1\", \"scene\": \"scene\", \"showlegend\": true, \"type\": \"scatter3d\", \"x\": [-0.14465638323133287, -0.1510715689825585, -0.16034488958471918, -0.14920657083989136, -0.14951279566286488, -0.18717549543134987, 0.16703451645449882, -0.16149112637748483, -0.22902013206414967, -0.16110752578666382, -0.08640313461622628, -0.14174140035519484, -0.1583627064602625, -0.16091139333216792, -0.21961463971903297, -0.19941769814998778, -0.16096048090870974, -0.1614733987419652, -0.16155987379984474, -0.22910945532717722, 0.19074660654276143, 0.23319011410037846, 0.08716827985735211, -0.16130620889066732, -0.15691129968631454, -0.16124545349132874, -0.1616168686409262, -0.17129360430394422, -0.14083755786279323, -0.16041202692229464, -0.16068936082805732, 1.5872499904945985, -0.14461776648651525, -0.15797847781524624, -0.16133264747174697, -0.16168745439554622, -0.1609467075434973, -0.1592851828987889, -0.16156870756144415, -0.02642563203996715, -0.1446953492540703, -0.1552327827642525, -0.1615480854157803, -0.15964162669559973, -0.16103481744300213, -0.1318464385243452, -0.14415914155970302, -0.14444627601356255, -0.1444290220727334, -0.1450200311191108, -0.22928340351445964, -0.16126466339710402, -0.17113537202003612, -0.15836731932963682, -0.14422642522636725, 0.4695688384805635, -0.16013213349640512, -0.14472639286755964, -0.15885101477908659, -0.16168965467848265, -0.15871614361479444, -0.14493929676992404, -0.11500186242307525, -0.12041044359805984, -0.18596501674360105, -0.16156277292934726, -0.034481783227230355, -0.12251867362066328, -0.16169855698671282, -0.14472311685384787, 0.49081758527110764, -0.22867059599966885, -0.15061358743480993, -0.14446286100154576, -0.2289554703357685, -0.15982165947984114, -0.15901393373555164, -0.1521385371069803, 0.3799383680420432, -0.22899088665285236, -0.14461888843703252, -0.15765651368431485, -0.15916457486462315, -0.1602618857775852, 0.273854569128417, -0.22815147053283238, -0.14118478674220616, -0.16050868058479967, -0.13348023886002325, -0.16148841889111382, -0.22895408531650516, -0.16169861548017295, -0.22910400292083505, -0.43787480420268954, 0.31446459255128517, -0.14487895314219346, -0.10048230361025194, -0.1588650547393923, -0.14483759175955357, -0.1613619466764895, -0.13669613613554119, -0.15188072614335119, -0.187197104796088, -0.088386457495828, -0.21568904486352153, -0.22693162264867925, 0.31445902904780304, -0.16168034636921116, 0.3145897241710616, -0.15115419780859043, 0.4865280288686147, -0.14797052769319263, -0.16164864064416581, -0.2218343913813948, -0.18720950085728252, -0.15978195094922154, -0.15087260752116838, -0.14873524894895324, -0.13255702911972897, -0.19763159596678875, -0.16121096736654447, -0.11120009777642394, -0.1610328617128781, -0.14782882690969595, -0.1416026217861067, -0.020220161963513828, -0.16200550490794424, 0.350580878204433, -0.22815975855627935, -0.16135234743772878, -0.1611154551710352, -0.22855455456073426, -0.2291320646295238, 0.3148540876361381, -0.14542993785896627, -0.11479898168968199, -0.22000051055956246, -0.14465554774569467, -0.08723139745051989, 1.5846994142500184, -0.16145015555989795, -0.16090158361411683, -0.16060256263563627, -0.1605894982065123, 0.31503785566330067, 0.025175724704196586, -0.18352380492560522, -0.17598265399535895, -0.1870555812237914, -0.13994351481057501, -0.15978016074054427, -0.22467595616477182, -0.1758280056044402, -0.15024488442812756, -0.1759282596262149, -0.11064150507998625, 1.1526476517465216, 0.31444175042553346, -0.07509859181363088, -0.22441634198782878, -0.1369390387476519, -0.07783591908448928, 1.0998332331646408, -0.2291060667140255, -0.17598025191990468, -0.16901753036660713, -0.16070114105821706, -0.22903148018354125, -0.1446349578043907, -0.19085278383263887, -0.16148867077860277, 0.3183168746278191, 0.031337207185647226, -0.13944726718272604, -0.15669205014660306, -0.16127481560744464, 0.1458099273561504, -0.22317141956857964, -0.10326030044961626, 0.3223683888977299, -0.1615118636966191, -0.14524327541903326, -0.1860467170796432, -0.13447865400187026, -0.2282005165662087, 0.3146242422154495, -0.19769121052632707, -0.15099938712151073, -0.13514130945577565, -0.13678055239070777, 0.3185547816480593, 0.5857303645452483, 2.1236444671626535, -0.13152471925276435, 0.32823064103764904, -0.18720938433223291, -0.1434327817136828, -0.22908822557706465, -0.16153642978723418, -0.13681416712376382, -0.13374518272687383, -0.14384741289633188, -0.104484236001341, -0.22905957578244943, -0.18663681189763853, -0.08179064676771901, -0.13617804858493557, -0.14465558529786282, 0.39440766964802343, -0.14445890476951428, -0.14485130046536882, -0.310929571042323, -0.15368581371541096, -0.16042849361820818, -0.18511482760691056, -0.18688839606252794, -0.18517563077467608, -0.1439317091037751, -0.10429199267329897, -0.14279938419480828, 0.5347604523247856, -0.10114690436143808, -0.09528973148617076, -0.14508982967417933, -0.14444564668702636, 0.5542059954452239, -0.19897871934750624, -0.161613350189445, -0.1595686545400733, -0.12114505146555532, -0.10372704010966305, -0.151913883922569, 0.33620003929899434, -0.187176552005875], \"y\": [-1.264207537268809, -2.059971861458683, -1.1191396424560194, -2.176656993532248, -2.0600687966936904, -2.260933201425667, -1.8157150361618508, -1.1191317832988905, -0.9190569605018016, -1.1191496172920516, -1.8104598728415757, -1.264219602171083, -1.1191928130478601, -1.119168457765765, -0.45913356461840965, -1.241112731888075, -1.1191340345097793, -1.1191312289180744, -1.1191284805305877, -0.9190583663881717, -1.8118899193716422, -1.266945045371666, -1.120706339434147, -1.119126000536316, -1.1191819665437044, -1.119131731515759, -1.1191289419060177, -1.6016345203023206, -1.1194568407748535, -1.1191320298906944, -1.1191422605999894, -1.1272814790439556, -1.2642063296411818, -1.1191914951331825, -1.1191261336060097, -1.1191242912774655, -1.119129326304369, -2.1682733026845256, -1.1191265784974713, -1.1252992436698546, -1.2642087558191075, -1.1191552874036754, -1.119133564528998, -1.1192328076000209, -1.1191384639202846, -1.2644083991039337, -1.264210032511278, -1.264215534908602, -1.2642413567351571, -1.2642045146021166, -0.9190513191413774, -1.1191260887622771, -1.1241608916650077, -1.1192036550332287, -1.264210740870207, -2.263881631304093, -1.1191476405065393, -1.1197583974354586, -1.1191500787074045, -1.119125246660288, -1.1191414308980108, -1.1192933251854884, -2.1665825330447084, -1.810135911838417, -1.5636681290417545, -1.1191217944669054, -1.1220825721638765, -2.2157396097774154, -1.1191241317006992, -1.2642096241709304, -1.1625404584065606, -0.919055048138266, -2.191804844243132, -1.2642242117141032, -0.9190556321131081, -1.1192108552648667, -1.1192131783079522, -2.0600169561389783, -2.2615951701697288, -0.9190532710521021, -1.2642063647269575, -1.119142980064098, -2.3429556537364467, -1.1191370467507042, -1.2661078450132588, -0.9190741937478456, -2.0246139157421297, -1.1192032808076702, -2.068469664753128, -1.1191310049091483, -0.9190583636841856, -1.1191241314279399, -0.9190630519260948, -2.4810406115140498, -2.2618017987922134, -1.2642066834305226, -1.8103451816455463, -1.1191738365008788, -1.2642060159152109, -1.1191339870633017, -2.107621387695785, -2.0600153448516516, -2.260933877196401, -1.1237682858207376, -0.9189730551186802, -0.9191359423221586, -2.2618096037046067, -1.1191250154280874, -2.2618082914740802, -2.1917830482128045, -0.9660384645754271, -2.176746678202918, -1.1191244718680158, -0.9195120936033623, -2.2609314899639923, -1.119133137703536, -2.1917818732169407, -2.2751651011543004, -1.1209872680551978, -0.6477947494230651, -1.11913309523642, -1.2648810222557425, -1.1191528321550237, -2.1766867492470134, -2.1498155044256473, -2.274345038319441, -2.356811388281397, -2.2620528704065053, -0.9190855524662295, -1.1191262479668378, -1.1191574961905661, -0.91907014974011, -0.9190596977778818, -2.261820142172919, -2.156193755725828, -1.2222332315943818, -0.9195241163442304, -1.2642075111414033, -1.1240790250862667, -1.0645101280799005, -1.1191298083335104, -1.119157051460758, -1.1191587999739332, -1.1191583914214864, -2.2618385985069276, -2.2688460983552017, -0.9188690169083015, -1.6015667970897018, -2.260929451453702, -2.0246627201517904, -1.1191330817199079, -0.919150036789154, -1.6015744478821206, -2.06014025112683, -1.6015684259225318, -1.810288272171263, -2.294549372937818, -2.2618042474162343, -2.0645332340269094, -0.919280662281014, -2.1769667229574865, -1.1199697436100693, -1.208577705219727, -0.9190595091166486, -1.6015625596463425, -1.6016771128624052, -1.1191369087784397, -0.9190593965442769, -1.2642062886869807, -1.0781929313100898, -2.239273943504203, -2.2619074827606083, -1.120024272535408, -2.024608140277553, -1.1244140387399193, -1.1191381994986371, -1.122276564999395, -0.9192070448681259, -2.06298588734558, -2.2622414139769638, -1.119132431798906, -2.023635802350104, -2.260931894452861, -2.1077453129603496, -0.9190868270557695, -2.261802633463623, -0.6477777084151873, -2.1917895007306356, -2.1167571307705573, -2.1076164660136505, -2.262083185577859, -2.2357628372636, -2.3328626085426807, -2.143930369392095, -2.262058088901238, -1.258986760380766, -2.298754566755789, -0.9190597836514732, -1.119133966776772, -2.1774834683094735, -2.2320989392242905, -0.7370170768698623, -1.264393514636498, -0.9190616625951153, -1.2590229125395818, -2.2628953040201947, -2.1076486129255683, -1.2642075123157395, -2.2649001365799015, -2.2156762401974497, -2.215633089048698, -0.3189374508292837, -2.235620298438506, -1.1191672308838978, -2.2610365016778924, -2.2609310813433585, -1.5637128153551598, -1.2642147051680472, -0.3108528955103456, -1.2642514419359743, -1.1653979690669454, -1.60198267735663, -2.218921738023843, -1.1192980326691333, -1.2642155152282246, -1.1314218906810756, -1.2411135722272908, -1.1191245059628048, -1.1191833525850063, -1.810160827005226, -1.9733867036654036, -2.0600151902342967, -2.2620865116771434, -2.2609332344669975], \"z\": [0.1760638607226717, 0.3565872674219903, 0.02005077276027919, 0.4109423576142544, 0.3565627690183796, 0.5223947492465799, 0.299956594794022, 0.020080067999657822, 0.0476691273703609, 0.020072968247942472, 0.3058082601578309, 0.175987951328298, 0.020007152433226066, 0.020071067399516217, 0.12163790421314809, 0.16375392117031243, 0.020066259167927335, 0.020079494697351336, 0.020081321424436634, 0.047671769261031845, 0.29864129839567594, 0.16643306443244904, 0.013701702946144102, 0.02007408786646087, 0.019966358505684113, 0.020073480338026237, 0.020082929653313958, 0.23550760824931163, 0.01958483771840971, 0.020051216512965653, 0.020060462436620196, -0.0252969210027113, 0.1760626118776832, 0.019996629426050093, 0.020074819488035092, 0.020083992567605187, 0.020065052933721714, 0.4127137534613538, 0.02008121966501994, 0.017560351774499265, 0.17606512086313253, 0.019916667128098756, 0.020081910024669133, 0.020048512033592394, 0.02006903753135215, 0.17575657138725706, 0.17605098975819197, 0.17605965711664498, 0.17606378788039437, 0.1760730605993543, 0.04767517366748393, 0.020072991083449107, 0.20573272753613686, 0.02000920435386534, 0.17605291742332757, 0.3660888526930376, 0.02004649829775324, 0.01974260625621143, 0.02001262709372728, 0.020084221413551047, 0.02000747747571402, 0.019665587561142738, 0.6017352289298559, 0.30666126228847645, 0.20324939868175532, 0.020080209844176206, 0.017203943022648077, 0.3798098030042519, 0.020084261481793313, 0.1760660188525447, 0.010333863283944226, 0.047659427604928827, 0.35872221873224475, 0.17606164451015244, 0.04766715963252718, 0.020049428288064716, 0.020028212777029854, 0.3566238586516489, 0.5625479810464225, 0.0476676880369923, 0.1760626481609663, 0.019979379011177942, 0.44805861344499615, 0.02004808846129374, 0.16519527306591772, 0.04764893215542249, 0.36967171122252257, 0.020066477619040665, 0.46567978576172214, 0.020079857052908413, 0.047667608394058855, 0.020084262999575043, 0.047672456649666524, 0.9932100825978813, 0.36987219461805193, 0.17606966867191864, 0.3061648625331314, 0.020017228705482525, 0.17606844239961492, 0.020077000889531935, 0.4565563268113637, 0.3566166685854443, 0.522395448081945, 0.01894719152558622, 0.04729723337703719, 0.0476272508069315, 0.3698737318076708, 0.02008393103444283, 0.36986999874919774, 0.3587328180742429, 0.03686502051543282, 0.4109252114308431, 0.020082985361564054, 0.04755766465549238, 0.5223953554116545, 0.020034541833413577, 0.3587250688630763, 0.5517850111194844, 0.01963531584791287, -0.09511687252561225, 0.020072799450483177, 0.175287781289977, 0.020071540756133502, 0.4109107578564916, 0.38620081265691797, 0.5755308819169549, 0.31236903135375627, 0.3689497554224738, 0.04765117439496579, 0.02007536734020087, 0.020074581948891276, 0.04765900636464371, 0.047672611483118944, 0.36986502762961354, 0.4397039861649409, 0.17050330154291288, 0.047510696732800624, 0.1760638337035156, 0.01897153153765702, -0.03639339672631344, 0.020078619637123037, 0.020068775949178504, 0.020061079979005893, 0.02006065748231498, 0.36986338954221687, 0.5181159822215319, 0.04641743112412913, 0.23562112270644145, 0.5223908712848695, 0.36964715389345687, 0.020034483939016995, 0.047569357097954214, 0.23561834244514215, 0.35659508154533687, 0.2356199558842485, 0.30642677614374464, 0.35325255305059494, 0.36987324179045156, 0.35536422253275307, 0.04758563892941832, 0.41066895625420546, 0.017989052325788873, 0.13533654950670732, 0.047671881773627675, 0.23562030469612155, 0.2354542368734813, 0.02005982598191273, 0.047669864526746424, 0.17606306493010393, 0.024990530333166273, 0.264876186427453, 0.36978783837800194, 0.015075391870842152, 0.3696241579294313, 0.20539100047552147, 0.02007541699788461, 0.012410726066372895, 0.04753920939637138, 0.35584309893725735, 0.36973874424562914, 0.0200807386335317, 0.381740908775856, 0.5223642911707902, 0.45651899053721995, 0.04765249248733459, 0.3698680680926717, -0.09511830719439854, 0.3587298203369984, 0.522550143302515, 0.45655771185810246, 0.3698127191083748, 0.421020281567881, 0.334066452222306, 0.3854050432874532, 0.36954916212857836, 0.21335790597356388, 0.511339076879091, 0.047671452866440464, 0.020081669464118646, 0.41075752300666085, 0.46260672723895907, 0.1502760571363961, 0.17502123865941596, 0.04767101989963478, 0.2133490042152087, 0.5199218175319933, 0.45654729622923873, 0.1760638349179329, 0.3682826198147397, 0.5394221391496499, 0.5394249713958889, 0.24156395402420885, 0.37737405276383, 0.02005791844113088, 0.5223579435824872, 0.5223866844202063, 0.20323620916721363, 0.1760457308341439, -0.06641436325602998, 0.176021944408951, 0.009665441614290815, 0.23369119519581005, 0.538682780231989, 0.019670455715223044, 0.1760596367645593, 0.0031016164654416546, 0.16374231597892935, 0.02008204644347414, 0.020037761763477872, 0.30668536460291873, 0.2787813769097492, 0.35661752895964455, 0.36934081872562285, 0.5223947834156382]}, {\"customdata\": [[\"VeChainThor Authority\", 55454734800.0, \"86712634466\"], [\"Proof-of-BibleHash\", 1772091549.88818, \"5200000000\"], [\"SHA-256 + Hive\", 638382332.208514, \"840000000\"], [\"Proof-of-Authority\", 204479039.0, \"252460800\"], [\"ECC 256K1\", 1000000000.0, \"1000000000\"], [\"Leased POS\", 100000000.0, \"100000000\"]], \"hovertemplate\": \"<b>%{hovertext}</b><br><br>Class=%{marker.color}<br>PC 1=%{x}<br>PC 2=%{y}<br>PC 3=%{z}<br>Algorithm=%{customdata[0]}<br>TotalCoinsMined=%{customdata[1]}<br>TotalCoinSupply=%{customdata[2]}<extra></extra>\", \"hovertext\": [\"Vechain\", \"BiblePay\", \"LitecoinCash\", \"Poa Network\", \"Acute Angle Cloud\", \"Waves\"], \"legendgroup\": \"3\", \"marker\": {\"color\": [3, 3, 3, 3, 3, 3], \"coloraxis\": \"coloraxis\", \"symbol\": \"x\"}, \"mode\": \"markers\", \"name\": \"3\", \"scene\": \"scene\", \"showlegend\": true, \"type\": \"scatter3d\", \"x\": [4.392251065173206, -0.17586872397485895, -0.39503066162978584, -0.41232953079556656, -0.322728004002281, -0.39765330827759354], \"y\": [2.360520284599003, 3.8079485469872525, 2.6208819529734617, 2.89014727689007, 3.8328692062325707, 3.8788157233499287], \"z\": [10.036614772591403, 14.432520168105878, 16.805845774047967, 14.597051181624074, 8.053603373596976, 10.997604767117148]}, {\"customdata\": [[\"TRC10\", 989988713439.649, \"990000000000\"]], \"hovertemplate\": \"<b>%{hovertext}</b><br><br>Class=%{marker.color}<br>PC 1=%{x}<br>PC 2=%{y}<br>PC 3=%{z}<br>Algorithm=%{customdata[0]}<br>TotalCoinsMined=%{customdata[1]}<br>TotalCoinSupply=%{customdata[2]}<extra></extra>\", \"hovertext\": [\"BitTorrent\"], \"legendgroup\": \"2\", \"marker\": {\"color\": [2], \"coloraxis\": \"coloraxis\", \"symbol\": \"cross\"}, \"mode\": \"markers\", \"name\": \"2\", \"scene\": \"scene\", \"showlegend\": true, \"type\": \"scatter3d\", \"x\": [34.048974892025996], \"y\": [1.7023035818021786], \"z\": [-1.302670457129517]}],                        {\"coloraxis\": {\"colorbar\": {\"title\": {\"text\": \"Class\"}}, \"colorscale\": [[0.0, \"#0d0887\"], [0.1111111111111111, \"#46039f\"], [0.2222222222222222, \"#7201a8\"], [0.3333333333333333, \"#9c179e\"], [0.4444444444444444, \"#bd3786\"], [0.5555555555555556, \"#d8576b\"], [0.6666666666666666, \"#ed7953\"], [0.7777777777777778, \"#fb9f3a\"], [0.8888888888888888, \"#fdca26\"], [1.0, \"#f0f921\"]]}, \"legend\": {\"title\": {\"text\": \"Class\"}, \"tracegroupgap\": 0, \"x\": 0, \"y\": 1}, \"margin\": {\"t\": 60}, \"scene\": {\"domain\": {\"x\": [0.0, 1.0], \"y\": [0.0, 1.0]}, \"xaxis\": {\"title\": {\"text\": \"PC 1\"}}, \"yaxis\": {\"title\": {\"text\": \"PC 2\"}}, \"zaxis\": {\"title\": {\"text\": \"PC 3\"}}}, \"template\": {\"data\": {\"bar\": [{\"error_x\": {\"color\": \"#2a3f5f\"}, \"error_y\": {\"color\": \"#2a3f5f\"}, \"marker\": {\"line\": {\"color\": \"#E5ECF6\", \"width\": 0.5}}, \"type\": \"bar\"}], \"barpolar\": [{\"marker\": {\"line\": {\"color\": \"#E5ECF6\", \"width\": 0.5}}, \"type\": \"barpolar\"}], \"carpet\": [{\"aaxis\": {\"endlinecolor\": \"#2a3f5f\", \"gridcolor\": \"white\", \"linecolor\": \"white\", \"minorgridcolor\": \"white\", \"startlinecolor\": \"#2a3f5f\"}, \"baxis\": {\"endlinecolor\": \"#2a3f5f\", \"gridcolor\": \"white\", \"linecolor\": \"white\", \"minorgridcolor\": \"white\", \"startlinecolor\": \"#2a3f5f\"}, \"type\": \"carpet\"}], \"choropleth\": [{\"colorbar\": {\"outlinewidth\": 0, \"ticks\": \"\"}, \"type\": \"choropleth\"}], \"contour\": [{\"colorbar\": {\"outlinewidth\": 0, \"ticks\": \"\"}, \"colorscale\": [[0.0, \"#0d0887\"], [0.1111111111111111, \"#46039f\"], [0.2222222222222222, \"#7201a8\"], [0.3333333333333333, \"#9c179e\"], [0.4444444444444444, \"#bd3786\"], [0.5555555555555556, \"#d8576b\"], [0.6666666666666666, \"#ed7953\"], [0.7777777777777778, \"#fb9f3a\"], [0.8888888888888888, \"#fdca26\"], [1.0, \"#f0f921\"]], \"type\": \"contour\"}], \"contourcarpet\": [{\"colorbar\": {\"outlinewidth\": 0, \"ticks\": \"\"}, \"type\": \"contourcarpet\"}], \"heatmap\": [{\"colorbar\": {\"outlinewidth\": 0, \"ticks\": \"\"}, \"colorscale\": [[0.0, \"#0d0887\"], [0.1111111111111111, \"#46039f\"], [0.2222222222222222, \"#7201a8\"], [0.3333333333333333, \"#9c179e\"], [0.4444444444444444, \"#bd3786\"], [0.5555555555555556, \"#d8576b\"], [0.6666666666666666, \"#ed7953\"], [0.7777777777777778, \"#fb9f3a\"], [0.8888888888888888, \"#fdca26\"], [1.0, \"#f0f921\"]], \"type\": \"heatmap\"}], \"heatmapgl\": [{\"colorbar\": {\"outlinewidth\": 0, \"ticks\": \"\"}, \"colorscale\": [[0.0, \"#0d0887\"], [0.1111111111111111, \"#46039f\"], [0.2222222222222222, \"#7201a8\"], [0.3333333333333333, \"#9c179e\"], [0.4444444444444444, \"#bd3786\"], [0.5555555555555556, \"#d8576b\"], [0.6666666666666666, \"#ed7953\"], [0.7777777777777778, \"#fb9f3a\"], [0.8888888888888888, \"#fdca26\"], [1.0, \"#f0f921\"]], \"type\": \"heatmapgl\"}], \"histogram\": [{\"marker\": {\"colorbar\": {\"outlinewidth\": 0, \"ticks\": \"\"}}, \"type\": \"histogram\"}], \"histogram2d\": [{\"colorbar\": {\"outlinewidth\": 0, \"ticks\": \"\"}, \"colorscale\": [[0.0, \"#0d0887\"], [0.1111111111111111, \"#46039f\"], [0.2222222222222222, \"#7201a8\"], [0.3333333333333333, \"#9c179e\"], [0.4444444444444444, \"#bd3786\"], [0.5555555555555556, \"#d8576b\"], [0.6666666666666666, \"#ed7953\"], [0.7777777777777778, \"#fb9f3a\"], [0.8888888888888888, \"#fdca26\"], [1.0, \"#f0f921\"]], \"type\": \"histogram2d\"}], \"histogram2dcontour\": [{\"colorbar\": {\"outlinewidth\": 0, \"ticks\": \"\"}, \"colorscale\": [[0.0, \"#0d0887\"], [0.1111111111111111, \"#46039f\"], [0.2222222222222222, \"#7201a8\"], [0.3333333333333333, \"#9c179e\"], [0.4444444444444444, \"#bd3786\"], [0.5555555555555556, \"#d8576b\"], [0.6666666666666666, \"#ed7953\"], [0.7777777777777778, \"#fb9f3a\"], [0.8888888888888888, \"#fdca26\"], [1.0, \"#f0f921\"]], \"type\": \"histogram2dcontour\"}], \"mesh3d\": [{\"colorbar\": {\"outlinewidth\": 0, \"ticks\": \"\"}, \"type\": \"mesh3d\"}], \"parcoords\": [{\"line\": {\"colorbar\": {\"outlinewidth\": 0, \"ticks\": \"\"}}, \"type\": \"parcoords\"}], \"pie\": [{\"automargin\": true, \"type\": \"pie\"}], \"scatter\": [{\"marker\": {\"colorbar\": {\"outlinewidth\": 0, \"ticks\": \"\"}}, \"type\": \"scatter\"}], \"scatter3d\": [{\"line\": {\"colorbar\": {\"outlinewidth\": 0, \"ticks\": \"\"}}, \"marker\": {\"colorbar\": {\"outlinewidth\": 0, \"ticks\": \"\"}}, \"type\": \"scatter3d\"}], \"scattercarpet\": [{\"marker\": {\"colorbar\": {\"outlinewidth\": 0, \"ticks\": \"\"}}, \"type\": \"scattercarpet\"}], \"scattergeo\": [{\"marker\": {\"colorbar\": {\"outlinewidth\": 0, \"ticks\": \"\"}}, \"type\": \"scattergeo\"}], \"scattergl\": [{\"marker\": {\"colorbar\": {\"outlinewidth\": 0, \"ticks\": \"\"}}, \"type\": \"scattergl\"}], \"scattermapbox\": [{\"marker\": {\"colorbar\": {\"outlinewidth\": 0, \"ticks\": \"\"}}, \"type\": \"scattermapbox\"}], \"scatterpolar\": [{\"marker\": {\"colorbar\": {\"outlinewidth\": 0, \"ticks\": \"\"}}, \"type\": \"scatterpolar\"}], \"scatterpolargl\": [{\"marker\": {\"colorbar\": {\"outlinewidth\": 0, \"ticks\": \"\"}}, \"type\": \"scatterpolargl\"}], \"scatterternary\": [{\"marker\": {\"colorbar\": {\"outlinewidth\": 0, \"ticks\": \"\"}}, \"type\": \"scatterternary\"}], \"surface\": [{\"colorbar\": {\"outlinewidth\": 0, \"ticks\": \"\"}, \"colorscale\": [[0.0, \"#0d0887\"], [0.1111111111111111, \"#46039f\"], [0.2222222222222222, \"#7201a8\"], [0.3333333333333333, \"#9c179e\"], [0.4444444444444444, \"#bd3786\"], [0.5555555555555556, \"#d8576b\"], [0.6666666666666666, \"#ed7953\"], [0.7777777777777778, \"#fb9f3a\"], [0.8888888888888888, \"#fdca26\"], [1.0, \"#f0f921\"]], \"type\": \"surface\"}], \"table\": [{\"cells\": {\"fill\": {\"color\": \"#EBF0F8\"}, \"line\": {\"color\": \"white\"}}, \"header\": {\"fill\": {\"color\": \"#C8D4E3\"}, \"line\": {\"color\": \"white\"}}, \"type\": \"table\"}]}, \"layout\": {\"annotationdefaults\": {\"arrowcolor\": \"#2a3f5f\", \"arrowhead\": 0, \"arrowwidth\": 1}, \"autotypenumbers\": \"strict\", \"coloraxis\": {\"colorbar\": {\"outlinewidth\": 0, \"ticks\": \"\"}}, \"colorscale\": {\"diverging\": [[0, \"#8e0152\"], [0.1, \"#c51b7d\"], [0.2, \"#de77ae\"], [0.3, \"#f1b6da\"], [0.4, \"#fde0ef\"], [0.5, \"#f7f7f7\"], [0.6, \"#e6f5d0\"], [0.7, \"#b8e186\"], [0.8, \"#7fbc41\"], [0.9, \"#4d9221\"], [1, \"#276419\"]], \"sequential\": [[0.0, \"#0d0887\"], [0.1111111111111111, \"#46039f\"], [0.2222222222222222, \"#7201a8\"], [0.3333333333333333, \"#9c179e\"], [0.4444444444444444, \"#bd3786\"], [0.5555555555555556, \"#d8576b\"], [0.6666666666666666, \"#ed7953\"], [0.7777777777777778, \"#fb9f3a\"], [0.8888888888888888, \"#fdca26\"], [1.0, \"#f0f921\"]], \"sequentialminus\": [[0.0, \"#0d0887\"], [0.1111111111111111, \"#46039f\"], [0.2222222222222222, \"#7201a8\"], [0.3333333333333333, \"#9c179e\"], [0.4444444444444444, \"#bd3786\"], [0.5555555555555556, \"#d8576b\"], [0.6666666666666666, \"#ed7953\"], [0.7777777777777778, \"#fb9f3a\"], [0.8888888888888888, \"#fdca26\"], [1.0, \"#f0f921\"]]}, \"colorway\": [\"#636efa\", \"#EF553B\", \"#00cc96\", \"#ab63fa\", \"#FFA15A\", \"#19d3f3\", \"#FF6692\", \"#B6E880\", \"#FF97FF\", \"#FECB52\"], \"font\": {\"color\": \"#2a3f5f\"}, \"geo\": {\"bgcolor\": \"white\", \"lakecolor\": \"white\", \"landcolor\": \"#E5ECF6\", \"showlakes\": true, \"showland\": true, \"subunitcolor\": \"white\"}, \"hoverlabel\": {\"align\": \"left\"}, \"hovermode\": \"closest\", \"mapbox\": {\"style\": \"light\"}, \"paper_bgcolor\": \"white\", \"plot_bgcolor\": \"#E5ECF6\", \"polar\": {\"angularaxis\": {\"gridcolor\": \"white\", \"linecolor\": \"white\", \"ticks\": \"\"}, \"bgcolor\": \"#E5ECF6\", \"radialaxis\": {\"gridcolor\": \"white\", \"linecolor\": \"white\", \"ticks\": \"\"}}, \"scene\": {\"xaxis\": {\"backgroundcolor\": \"#E5ECF6\", \"gridcolor\": \"white\", \"gridwidth\": 2, \"linecolor\": \"white\", \"showbackground\": true, \"ticks\": \"\", \"zerolinecolor\": \"white\"}, \"yaxis\": {\"backgroundcolor\": \"#E5ECF6\", \"gridcolor\": \"white\", \"gridwidth\": 2, \"linecolor\": \"white\", \"showbackground\": true, \"ticks\": \"\", \"zerolinecolor\": \"white\"}, \"zaxis\": {\"backgroundcolor\": \"#E5ECF6\", \"gridcolor\": \"white\", \"gridwidth\": 2, \"linecolor\": \"white\", \"showbackground\": true, \"ticks\": \"\", \"zerolinecolor\": \"white\"}}, \"shapedefaults\": {\"line\": {\"color\": \"#2a3f5f\"}}, \"ternary\": {\"aaxis\": {\"gridcolor\": \"white\", \"linecolor\": \"white\", \"ticks\": \"\"}, \"baxis\": {\"gridcolor\": \"white\", \"linecolor\": \"white\", \"ticks\": \"\"}, \"bgcolor\": \"#E5ECF6\", \"caxis\": {\"gridcolor\": \"white\", \"linecolor\": \"white\", \"ticks\": \"\"}}, \"title\": {\"x\": 0.05}, \"xaxis\": {\"automargin\": true, \"gridcolor\": \"white\", \"linecolor\": \"white\", \"ticks\": \"\", \"title\": {\"standoff\": 15}, \"zerolinecolor\": \"white\", \"zerolinewidth\": 2}, \"yaxis\": {\"automargin\": true, \"gridcolor\": \"white\", \"linecolor\": \"white\", \"ticks\": \"\", \"title\": {\"standoff\": 15}, \"zerolinecolor\": \"white\", \"zerolinewidth\": 2}}}},                        {\"responsive\": true}                    ).then(function(){\n",
       "                            \n",
       "var gd = document.getElementById('c3c64fa0-29a0-43b0-9bb7-56782fecaf92');\n",
       "var x = new MutationObserver(function (mutations, observer) {{\n",
       "        var display = window.getComputedStyle(gd).display;\n",
       "        if (!display || display === 'none') {{\n",
       "            console.log([gd, 'removed!']);\n",
       "            Plotly.purge(gd);\n",
       "            observer.disconnect();\n",
       "        }}\n",
       "}});\n",
       "\n",
       "// Listen for the removal of the full notebook cells\n",
       "var notebookContainer = gd.closest('#notebook-container');\n",
       "if (notebookContainer) {{\n",
       "    x.observe(notebookContainer, {childList: true});\n",
       "}}\n",
       "\n",
       "// Listen for the clearing of the current output cell\n",
       "var outputEl = gd.closest('.output');\n",
       "if (outputEl) {{\n",
       "    x.observe(outputEl, {childList: true});\n",
       "}}\n",
       "\n",
       "                        })                };                });            </script>        </div>"
      ]
     },
     "metadata": {},
     "output_type": "display_data"
    }
   ],
   "source": [
    "fig = px.scatter_3d(\n",
    "    clustered_df2,\n",
    "    x=\"PC 1\",\n",
    "    y=\"PC 2\",\n",
    "    z=\"PC 3\",\n",
    "    color=\"Class\",\n",
    "    symbol=\"Class\",\n",
    "    hover_name=\"CoinName\", hover_data=[\"Algorithm\", \"TotalCoinsMined\", \"TotalCoinSupply\"]\n",
    ")\n",
    "\n",
    "fig.update_layout(legend=dict(x=0, y=1))\n",
    "fig.show()\n"
   ]
  },
  {
   "cell_type": "code",
   "execution_count": 105,
   "metadata": {},
   "outputs": [
    {
     "data": {},
     "metadata": {},
     "output_type": "display_data"
    },
    {
     "data": {
      "application/vnd.holoviews_exec.v0+json": "",
      "text/html": [
       "<div id='2594'>\n",
       "\n",
       "\n",
       "\n",
       "\n",
       "\n",
       "  <div class=\"bk-root\" id=\"ff3dfd79-c8d0-434f-8b22-0e556a960e64\" data-root-id=\"2594\"></div>\n",
       "</div>\n",
       "<script type=\"application/javascript\">(function(root) {\n",
       "  function embed_document(root) {\n",
       "  var docs_json = {\"b382c354-ebae-4a50-a3dd-6ef4a8594c86\":{\"roots\":{\"references\":[{\"attributes\":{},\"id\":\"2614\",\"type\":\"NumberEditor\"},{\"attributes\":{\"margin\":[5,5,5,5],\"name\":\"HSpacer05238\",\"sizing_mode\":\"stretch_width\"},\"id\":\"2595\",\"type\":\"Spacer\"},{\"attributes\":{},\"id\":\"2624\",\"type\":\"IntEditor\"},{\"attributes\":{\"source\":{\"id\":\"2596\"}},\"id\":\"2629\",\"type\":\"CDSView\"},{\"attributes\":{},\"id\":\"2598\",\"type\":\"StringFormatter\"},{\"attributes\":{\"format\":\"0,0.0[00000]\"},\"id\":\"2613\",\"type\":\"NumberFormatter\"},{\"attributes\":{\"editor\":{\"id\":\"2614\"},\"field\":\"TotalCoinsMined\",\"formatter\":{\"id\":\"2613\"},\"title\":\"TotalCoinsMined\"},\"id\":\"2615\",\"type\":\"TableColumn\"},{\"attributes\":{\"columns\":[{\"id\":\"2600\"},{\"id\":\"2605\"},{\"id\":\"2610\"},{\"id\":\"2615\"},{\"id\":\"2620\"},{\"id\":\"2625\"}],\"height\":300,\"reorderable\":false,\"source\":{\"id\":\"2596\"},\"view\":{\"id\":\"2629\"},\"width\":700},\"id\":\"2628\",\"type\":\"DataTable\"},{\"attributes\":{},\"id\":\"2619\",\"type\":\"StringEditor\"},{\"attributes\":{},\"id\":\"2623\",\"type\":\"NumberFormatter\"},{\"attributes\":{\"editor\":{\"id\":\"2619\"},\"field\":\"TotalCoinSupply\",\"formatter\":{\"id\":\"2618\"},\"title\":\"TotalCoinSupply\"},\"id\":\"2620\",\"type\":\"TableColumn\"},{\"attributes\":{},\"id\":\"2618\",\"type\":\"StringFormatter\"},{\"attributes\":{\"editor\":{\"id\":\"2609\"},\"field\":\"ProofType\",\"formatter\":{\"id\":\"2608\"},\"title\":\"ProofType\"},\"id\":\"2610\",\"type\":\"TableColumn\"},{\"attributes\":{\"editor\":{\"id\":\"2604\"},\"field\":\"Algorithm\",\"formatter\":{\"id\":\"2603\"},\"title\":\"Algorithm\"},\"id\":\"2605\",\"type\":\"TableColumn\"},{\"attributes\":{},\"id\":\"2604\",\"type\":\"StringEditor\"},{\"attributes\":{\"data\":{\"Algorithm\":[\"Scrypt\",\"Scrypt\",\"X13\",\"SHA-256\",\"Ethash\",\"Scrypt\",\"X11\",\"CryptoNight-V7\",\"Ethash\",\"Equihash\",\"SHA-512\",\"Multiple\",\"SHA-256\",\"SHA-256\",\"Scrypt\",\"X15\",\"X11\",\"Scrypt\",\"Scrypt\",\"Scrypt\",\"Multiple\",\"Scrypt\",\"SHA-256\",\"Scrypt\",\"Scrypt\",\"Scrypt\",\"Quark\",\"Groestl\",\"Scrypt\",\"Scrypt\",\"Scrypt\",\"Scrypt\",\"Scrypt\",\"X11\",\"Scrypt\",\"Groestl\",\"Multiple\",\"SHA-256\",\"Scrypt\",\"Scrypt\",\"Scrypt\",\"Scrypt\",\"PoS\",\"Scrypt\",\"Scrypt\",\"NeoScrypt\",\"Scrypt\",\"Scrypt\",\"Scrypt\",\"Scrypt\",\"X11\",\"Scrypt\",\"X11\",\"SHA-256\",\"Scrypt\",\"Scrypt\",\"Scrypt\",\"SHA3\",\"Scrypt\",\"HybridScryptHash256\",\"Scrypt\",\"Scrypt\",\"SHA-256\",\"Scrypt\",\"X13\",\"Scrypt\",\"SHA-256\",\"Scrypt\",\"X13\",\"NeoScrypt\",\"Scrypt\",\"Scrypt\",\"Scrypt\",\"Scrypt\",\"Scrypt\",\"Scrypt\",\"X11\",\"X11\",\"SHA-256\",\"Multiple\",\"SHA-256\",\"PHI1612\",\"X11\",\"SHA-256\",\"SHA-256\",\"SHA-256\",\"X11\",\"Scrypt\",\"Scrypt\",\"Scrypt\",\"Scrypt\",\"Lyra2REv2\",\"Scrypt\",\"X11\",\"Multiple\",\"SHA-256\",\"X13\",\"Scrypt\",\"CryptoNight\",\"CryptoNight\",\"Shabal256\",\"Counterparty\",\"Scrypt\",\"SHA-256\",\"Groestl\",\"Scrypt\",\"Scrypt\",\"Scrypt\",\"X13\",\"Scrypt\",\"Scrypt\",\"Scrypt\",\"Scrypt\",\"X13\",\"Scrypt\",\"Stanford Folding\",\"X11\",\"Multiple\",\"QuBit\",\"Scrypt\",\"Scrypt\",\"Scrypt\",\"M7 POW\",\"Scrypt\",\"SHA-256\",\"Scrypt\",\"X11\",\"SHA3\",\"X11\",\"Lyra2RE\",\"SHA-256\",\"QUAIT\",\"X11\",\"X11\",\"Scrypt\",\"Scrypt\",\"Scrypt\",\"Ethash\",\"X13\",\"Blake2b\",\"SHA-256\",\"X15\",\"X11\",\"SHA-256\",\"BLAKE256\",\"Scrypt\",\"1GB AES Pattern Search\",\"SHA-256\",\"X11\",\"Scrypt\",\"SHA-256\",\"SHA-256\",\"NIST5\",\"Scrypt\",\"Scrypt\",\"X11\",\"Dagger\",\"Scrypt\",\"X11GOST\",\"X11\",\"Scrypt\",\"SHA-256\",\"Scrypt\",\"PoS\",\"Scrypt\",\"X11\",\"X11\",\"SHA-256\",\"SHA-256\",\"NIST5\",\"X11\",\"Scrypt\",\"POS 3.0\",\"Scrypt\",\"Scrypt\",\"Scrypt\",\"X13\",\"X11\",\"X11\",\"Equihash\",\"X11\",\"Scrypt\",\"CryptoNight\",\"SHA-256\",\"SHA-256\",\"X11\",\"Scrypt\",\"Multiple\",\"Scrypt\",\"Scrypt\",\"Scrypt\",\"SHA-256\",\"Scrypt\",\"Scrypt\",\"SHA-256D\",\"PoS\",\"Scrypt\",\"X11\",\"Lyra2Z\",\"PoS\",\"X13\",\"X14\",\"PoS\",\"SHA-256D\",\"Ethash\",\"Equihash\",\"DPoS\",\"X11\",\"Scrypt\",\"X11\",\"X13\",\"X11\",\"PoS\",\"Scrypt\",\"Scrypt\",\"X11\",\"PoS\",\"X11\",\"SHA-256\",\"Scrypt\",\"X11\",\"Scrypt\",\"Scrypt\",\"X11\",\"CryptoNight\",\"Scrypt\",\"Scrypt\",\"Scrypt\",\"Scrypt\",\"Quark\",\"QuBit\",\"Scrypt\",\"CryptoNight\",\"Lyra2RE\",\"Scrypt\",\"SHA-256\",\"X11\",\"Scrypt\",\"X11\",\"Scrypt\",\"CryptoNight-V7\",\"Scrypt\",\"Scrypt\",\"Scrypt\",\"X13\",\"X11\",\"Equihash\",\"Scrypt\",\"Scrypt\",\"Lyra2RE\",\"Scrypt\",\"Dagger-Hashimoto\",\"X11\",\"Blake2S\",\"X11\",\"Scrypt\",\"PoS\",\"X11\",\"NIST5\",\"PoS\",\"X11\",\"Scrypt\",\"Scrypt\",\"Scrypt\",\"SHA-256\",\"X11\",\"Scrypt\",\"Scrypt\",\"SHA-256\",\"PoS\",\"Scrypt\",\"X15\",\"SHA-256\",\"Scrypt\",\"POS 3.0\",\"CryptoNight-V7\",\"536\",\"Argon2d\",\"Blake2b\",\"Cloverhash\",\"CryptoNight\",\"NIST5\",\"X11\",\"NIST5\",\"Skein\",\"Scrypt\",\"X13\",\"Scrypt\",\"X11\",\"X11\",\"Scrypt\",\"CryptoNight\",\"X13\",\"Time Travel\",\"Scrypt\",\"Keccak\",\"SkunkHash v2 Raptor\",\"X11\",\"Skein\",\"SHA-256\",\"X11\",\"Scrypt\",\"VeChainThor Authority\",\"Scrypt\",\"PoS\",\"Scrypt\",\"Scrypt\",\"Scrypt\",\"Scrypt\",\"Scrypt\",\"Scrypt\",\"Scrypt\",\"CryptoNight\",\"SHA-512\",\"Ouroboros\",\"X11\",\"Equihash\",\"NeoScrypt\",\"X11\",\"Scrypt\",\"NeoScrypt\",\"Lyra2REv2\",\"Equihash\",\"Scrypt\",\"SHA-256\",\"NIST5\",\"PHI1612\",\"Dagger\",\"Scrypt\",\"Quark\",\"Scrypt\",\"POS 2.0\",\"Scrypt\",\"SHA-256\",\"X11\",\"NeoScrypt\",\"Ethash\",\"NeoScrypt\",\"X11\",\"DPoS\",\"NIST5\",\"X13\",\"Multiple\",\"Scrypt\",\"CryptoNight\",\"CryptoNight\",\"Ethash\",\"NIST5\",\"Quark\",\"X11\",\"CryptoNight-V7\",\"Scrypt\",\"Scrypt\",\"Scrypt\",\"X11\",\"BLAKE256\",\"X11\",\"NeoScrypt\",\"Quark\",\"NeoScrypt\",\"Scrypt\",\"Scrypt\",\"Scrypt\",\"X11\",\"X11\",\"SHA-256\",\"C11\",\"POS 3.0\",\"Ethash\",\"Scrypt\",\"CryptoNight\",\"SkunkHash\",\"Scrypt\",\"CryptoNight\",\"Scrypt\",\"Dagger\",\"Lyra2REv2\",\"X13\",\"Proof-of-BibleHash\",\"SHA-256 + Hive\",\"Scrypt\",\"Scrypt\",\"X11\",\"C11\",\"Proof-of-Authority\",\"X11\",\"XEVAN\",\"Scrypt\",\"VBFT\",\"Ethash\",\"CryptoNight\",\"Scrypt\",\"IMesh\",\"NIST5\",\"Scrypt\",\"Scrypt\",\"Equihash\",\"Scrypt\",\"Lyra2Z\",\"Green Protocol\",\"PoS\",\"Scrypt\",\"Semux BFT consensus\",\"X11\",\"Quark\",\"PoS\",\"CryptoNight\",\"X16R\",\"Scrypt\",\"NIST5\",\"Lyra2RE\",\"XEVAN\",\"Tribus\",\"Scrypt\",\"Lyra2Z\",\"CryptoNight\",\"CryptoNight Heavy\",\"CryptoNight\",\"Scrypt\",\"Scrypt\",\"Jump Consistent Hash\",\"SHA-256D\",\"CryptoNight\",\"Scrypt\",\"X15\",\"Scrypt\",\"Quark\",\"SHA-256\",\"DPoS\",\"X16R\",\"HMQ1725\",\"X11\",\"X16R\",\"Quark\",\"Quark\",\"Scrypt\",\"Lyra2REv2\",\"Quark\",\"Scrypt\",\"Scrypt\",\"CryptoNight-V7\",\"Cryptonight-GPU\",\"XEVAN\",\"CryptoNight Heavy\",\"X11\",\"X11\",\"Scrypt\",\"PoS\",\"SHA-256\",\"Keccak\",\"X11\",\"X11\",\"Scrypt\",\"SHA-512\",\"X16R\",\"ECC 256K1\",\"Equihash\",\"XEVAN\",\"Lyra2Z\",\"SHA-256\",\"XEVAN\",\"X11\",\"CryptoNight\",\"Quark\",\"Blake\",\"Blake\",\"Equihash\",\"Exosis\",\"Scrypt\",\"Scrypt\",\"Equihash\",\"Quark\",\"Equihash\",\"Quark\",\"Scrypt\",\"QuBit\",\"X11\",\"Scrypt\",\"XEVAN\",\"SHA-256D\",\"X11\",\"SHA-256\",\"X13\",\"SHA-256\",\"X11\",\"DPoS\",\"Scrypt\",\"Scrypt\",\"X11\",\"NeoScrypt\",\"Scrypt\",\"Blake\",\"Scrypt\",\"SHA-256\",\"Scrypt\",\"X11\",\"Scrypt\",\"Scrypt\",\"SHA-256\",\"X11\",\"SHA-256\",\"Scrypt\",\"Scrypt\",\"Scrypt\",\"Groestl\",\"X11\",\"Scrypt\",\"PoS\",\"Scrypt\",\"Scrypt\",\"X11\",\"SHA-256\",\"DPoS\",\"Scrypt\",\"Scrypt\",\"NeoScrypt\",\"Multiple\",\"X13\",\"Equihash+Scrypt\",\"DPoS\",\"Ethash\",\"DPoS\",\"SHA-256\",\"Leased POS\",\"PoS\",\"TRC10\",\"PoS\",\"SHA-256\",\"Scrypt\",\"CryptoNight\",\"Equihash\",\"Scrypt\"],\"Class\":{\"__ndarray__\":\"AAAAAAAAAAAEAAAAAQAAAAEAAAABAAAAAAAAAAEAAAABAAAAAQAAAAAAAAABAAAAAAAAAAAAAAABAAAAAAAAAAEAAAABAAAAAAAAAAAAAAABAAAABAAAAAEAAAABAAAAAQAAAAAAAAABAAAAAQAAAAEAAAAAAAAAAQAAAAAAAAABAAAAAQAAAAAAAAAAAAAAAQAAAAEAAAABAAAAAQAAAAEAAAABAAAAAAAAAAAAAAABAAAAAQAAAAEAAAABAAAAAQAAAAAAAAAAAAAAAQAAAAAAAAABAAAAAQAAAAEAAAABAAAAAAAAAAEAAAABAAAAAAAAAAEAAAAAAAAAAAAAAAAAAAABAAAAAQAAAAEAAAAAAAAAAAAAAAAAAAAAAAAAAAAAAAEAAAABAAAAAQAAAAAAAAAAAAAAAQAAAAAAAAABAAAAAAAAAAAAAAABAAAAAQAAAAEAAAABAAAAAAAAAAAAAAABAAAAAAAAAAEAAAABAAAAAAAAAAAAAAABAAAAAAAAAAAAAAAEAAAAAQAAAAAAAAAAAAAAAQAAAAAAAAAAAAAAAQAAAAAAAAABAAAAAAAAAAEAAAAAAAAAAQAAAAAAAAAAAAAAAQAAAAEAAAAAAAAAAQAAAAEAAAABAAAAAAAAAAEAAAABAAAAAQAAAAEAAAABAAAAAAAAAAAAAAABAAAAAQAAAAEAAAAAAAAAAQAAAAAAAAABAAAAAQAAAAAAAAABAAAAAAAAAAEAAAAAAAAAAAAAAAEAAAABAAAAAAAAAAEAAAABAAAAAAAAAAAAAAABAAAAAAAAAAEAAAAAAAAAAAAAAAAAAAABAAAAAQAAAAEAAAABAAAAAAAAAAAAAAAAAAAAAAAAAAAAAAABAAAAAQAAAAAAAAAAAAAAAAAAAAAAAAAAAAAAAQAAAAAAAAAAAAAAAAAAAAAAAAAAAAAAAQAAAAAAAAABAAAAAAAAAAAAAAABAAAAAAAAAAEAAAAAAAAAAAAAAAEAAAAAAAAAAQAAAAAAAAABAAAAAAAAAAEAAAAAAAAAAAAAAAAAAAAAAAAAAQAAAAAAAAAAAAAAAAAAAAAAAAAAAAAAAQAAAAEAAAAEAAAAAAAAAAEAAAABAAAAAAAAAAAAAAAAAAAAAAAAAAAAAAABAAAAAAAAAAAAAAAAAAAAAAAAAAAAAAAAAAAAAAAAAAAAAAABAAAAAAAAAAAAAAAAAAAAAAAAAAAAAAAAAAAAAQAAAAEAAAABAAAAAAAAAAAAAAAAAAAAAAAAAAEAAAAAAAAAAQAAAAAAAAAAAAAAAQAAAAAAAAABAAAAAQAAAAAAAAABAAAAAQAAAAAAAAABAAAAAAAAAAAAAAAAAAAAAQAAAAAAAAAAAAAAAQAAAAAAAAAAAAAAAAAAAAAAAAAAAAAAAAAAAAAAAAABAAAAAAAAAAEAAAAAAAAAAAAAAAAAAAAAAAAAAQAAAAAAAAABAAAAAAAAAAEAAAABAAAAAQAAAAEAAAAAAAAAAQAAAAAAAAAAAAAAAQAAAAAAAAABAAAAAQAAAAEAAAAAAAAAAQAAAAAAAAABAAAABAAAAAEAAAAAAAAAAQAAAAAAAAABAAAAAAAAAAAAAAADAAAAAQAAAAAAAAABAAAAAQAAAAEAAAABAAAAAQAAAAAAAAAAAAAAAQAAAAAAAAAAAAAAAAAAAAEAAAAAAAAAAQAAAAAAAAABAAAAAAAAAAEAAAAAAAAAAAAAAAAAAAAAAAAAAQAAAAAAAAAAAAAAAQAAAAAAAAAAAAAAAAAAAAEAAAABAAAAAQAAAAEAAAAAAAAABAAAAAAAAAAAAAAAAQAAAAAAAAABAAAAAQAAAAEAAAAAAAAAAAAAAAEAAAABAAAAAAAAAAAAAAABAAAAAAAAAAEAAAABAAAAAQAAAAAAAAABAAAAAQAAAAAAAAAAAAAAAAAAAAEAAAABAAAAAQAAAAAAAAAAAAAAAAAAAAQAAAABAAAAAAAAAAEAAAABAAAAAQAAAAEAAAAAAAAAAwAAAAMAAAABAAAAAQAAAAEAAAAAAAAAAwAAAAAAAAAAAAAAAAAAAAAAAAABAAAAAQAAAAEAAAABAAAAAAAAAAAAAAAAAAAAAQAAAAAAAAABAAAAAAAAAAAAAAAAAAAABAAAAAEAAAAAAAAAAAAAAAEAAAAAAAAAAAAAAAEAAAABAAAAAAAAAAEAAAAAAAAAAQAAAAEAAAABAAAAAQAAAAAAAAAAAAAAAQAAAAAAAAABAAAAAAAAAAAAAAAEAAAAAAAAAAAAAAAAAAAAAQAAAAEAAAABAAAAAAAAAAAAAAAAAAAAAAAAAAAAAAAAAAAAAQAAAAAAAAABAAAAAQAAAAEAAAAEAAAAAAAAAAAAAAAAAAAAAAAAAAEAAAAAAAAAAAAAAAEAAAAAAAAAAAAAAAEAAAADAAAAAQAAAAAAAAABAAAAAQAAAAAAAAAAAAAAAQAAAAAAAAABAAAAAQAAAAEAAAABAAAAAQAAAAAAAAABAAAAAAAAAAEAAAAAAAAAAAAAAAEAAAAAAAAAAAAAAAAAAAAAAAAAAAAAAAEAAAABAAAAAQAAAAAAAAAEAAAAAAAAAAEAAAAAAAAAAQAAAAAAAAABAAAAAAAAAAAAAAAAAAAAAAAAAAEAAAAAAAAAAAAAAAAAAAABAAAAAAAAAAEAAAAAAAAAAQAAAAAAAAAAAAAAAAAAAAEAAAABAAAAAAAAAAAAAAAEAAAAAAAAAAAAAAAAAAAAAQAAAAAAAAABAAAABAAAAAEAAAAEAAAAAAAAAAMAAAAAAAAAAgAAAAAAAAAEAAAAAAAAAAEAAAABAAAAAAAAAA==\",\"dtype\":\"int32\",\"order\":\"little\",\"shape\":[532]},\"CoinName\":[\"42 Coin\",\"404Coin\",\"EliteCoin\",\"Bitcoin\",\"Ethereum\",\"Litecoin\",\"Dash\",\"Monero\",\"Ethereum Classic\",\"ZCash\",\"Bitshares\",\"DigiByte\",\"BitcoinDark\",\"PayCoin\",\"ProsperCoin\",\"KoboCoin\",\"Spreadcoin\",\"Argentum\",\"Aurora Coin\",\"BlueCoin\",\"MyriadCoin\",\"MoonCoin\",\"ZetaCoin\",\"SexCoin\",\"Quatloo\",\"EnergyCoin\",\"QuarkCoin\",\"Riecoin\",\"Digitalcoin \",\"BitBar\",\"Catcoin\",\"CryptoBullion\",\"CannaCoin\",\"CryptCoin\",\"CasinoCoin\",\"Diamond\",\"Verge\",\"DevCoin\",\"EarthCoin\",\"E-Gulden\",\"Einsteinium\",\"Emerald\",\"Exclusive Coin\",\"FlutterCoin\",\"Franko\",\"FeatherCoin\",\"GrandCoin\",\"GlobalCoin\",\"GoldCoin\",\"HoboNickels\",\"HyperStake\",\"Infinite Coin\",\"IOCoin\",\"IXcoin\",\"KrugerCoin\",\"LuckyCoin\",\"Litebar \",\"MaxCoin\",\"MegaCoin\",\"MediterraneanCoin\",\"MintCoin\",\"MinCoin\",\"MazaCoin\",\"Nautilus Coin\",\"NavCoin\",\"NobleCoin\",\"Namecoin\",\"NyanCoin\",\"OpalCoin\",\"Orbitcoin\",\"PotCoin\",\"PhoenixCoin\",\"Reddcoin\",\"RonPaulCoin\",\"StableCoin\",\"SmartCoin\",\"SuperCoin\",\"SyncCoin\",\"SysCoin\",\"TeslaCoin\",\"TigerCoin\",\"TittieCoin\",\"TorCoin\",\"TerraCoin\",\"UnbreakableCoin\",\"Unobtanium\",\"UroCoin\",\"UnitaryStatus Dollar\",\"UltraCoin\",\"ViaCoin\",\"VeriCoin\",\"Vertcoin\",\"WorldCoin\",\"X11 Coin\",\"Crypti\",\"JouleCoin\",\"StealthCoin\",\"ZCC Coin\",\"ByteCoin\",\"DigitalNote \",\"BurstCoin\",\"StorjCoin\",\"MonaCoin\",\"Neutron\",\"FairCoin\",\"Gulden\",\"RubyCoin\",\"PesetaCoin\",\"Kore\",\"Wild Beast Coin\",\"Dnotes\",\"Flo\",\"8BIT Coin\",\"Sativa Coin\",\"ArtByte\",\"Folding Coin\",\"Ucoin\",\"Unitus\",\"CypherPunkCoin\",\"OmniCron\",\"Vtorrent\",\"GreenCoin\",\"Cryptonite\",\"MasterCoin\",\"SoonCoin\",\"1Credit\",\"IslaCoin\",\"Nexus\",\"MarsCoin \",\"Crypto\",\"Anarchists Prime\",\"Droidz\",\"BowsCoin\",\"Squall Coin\",\"Song Coin\",\"BitZeny\",\"Diggits\",\"Expanse\",\"Paycon\",\"Siacoin\",\"Emercoin\",\"EverGreenCoin\",\"MindCoin\",\"I0coin\",\"Decred\",\"Revolution VR\",\"HOdlcoin\",\"EDRCoin\",\"Hitcoin\",\"Gamecredits\",\"DubaiCoin\",\"CarpeDiemCoin\",\"PWR Coin\",\"BillaryCoin\",\"GPU Coin\",\"Adzcoin\",\"SoilCoin\",\"YoCoin\",\"SibCoin\",\"EuropeCoin\",\"ZeitCoin\",\"SwingCoin\",\"SafeExchangeCoin\",\"Nebuchadnezzar\",\"Francs\",\"BolivarCoin\",\"Ratecoin\",\"Revenu\",\"Clockcoin\",\"VIP Tokens\",\"BitSend\",\"Omni\",\"Let it Ride\",\"PutinCoin\",\"iBankCoin\",\"Frankywillcoin\",\"MudraCoin\",\"PizzaCoin\",\"Lutetium Coin\",\"Komodo\",\"GoldBlocks\",\"CarterCoin\",\"Karbo\",\"BitTokens\",\"ZayedCoin\",\"MustangCoin\",\"ZoneCoin\",\"Circuits of Value\",\"RootCoin\",\"DopeCoin\",\"BitCurrency\",\"DollarCoin\",\"Swiscoin\",\"Shilling\",\"BuzzCoin\",\"Opair\",\"PesoBit\",\"Halloween Coin\",\"ZCoin\",\"CoffeeCoin\",\"RoyalCoin\",\"GanjaCoin V2\",\"TeamUP\",\"LanaCoin\",\"Elementrem\",\"ZClassic\",\"ARK\",\"InsaneCoin\",\"KiloCoin\",\"ArtexCoin\",\"EmberCoin\",\"XenixCoin\",\"FreeCoin\",\"PLNCoin\",\"AquariusCoin\",\"Kurrent\",\"Creatio\",\"Eternity\",\"Eurocoin\",\"BitcoinFast\",\"Stakenet\",\"BitConnect Coin\",\"MoneyCoin\",\"Enigma\",\"Cannabis Industry Coin\",\"Russiacoin\",\"PandaCoin\",\"GameUnits\",\"GAKHcoin\",\"Allsafe\",\"LiteCreed\",\"OsmiumCoin\",\"Bikercoins\",\"HexxCoin\",\"Klingon Empire Darsek\",\"Internet of People\",\"KushCoin\",\"Printerium\",\"PacCoin\",\"Impeach\",\"Citadel\",\"Zilbercoin\",\"FirstCoin\",\"BeaverCoin\",\"FindCoin\",\"VaultCoin\",\"Zero\",\"OpenChat\",\"Canada eCoin\",\"Zoin\",\"RenosCoin\",\"DubaiCoin\",\"VirtacoinPlus\",\"TajCoin\",\"Impact\",\"EB3coin\",\"Atmos\",\"HappyCoin\",\"Coinonat\",\"MacronCoin\",\"Condensate\",\"Independent Money System\",\"ArgusCoin\",\"LomoCoin\",\"ProCurrency\",\"GoldReserve\",\"BenjiRolls\",\"GrowthCoin\",\"ILCoin\",\"Phreak\",\"Degas Coin\",\"HTML5 Coin\",\"Ultimate Secure Cash\",\"EquiTrader\",\"QTUM\",\"Quantum Resistant Ledger\",\"Espers\",\"Dynamic\",\"Nano\",\"ChanCoin\",\"Dinastycoin\",\"Denarius\",\"DigitalPrice\",\"Virta Unique Coin\",\"Bitcoin Planet\",\"Unify\",\"BritCoin\",\"SocialCoin\",\"ArcticCoin\",\"DAS\",\"Linda\",\"LeviarCoin\",\"DeepOnion\",\"Bitcore\",\"gCn Coin\",\"SmartCash\",\"Signatum\",\"Onix\",\"Cream\",\"Bitcoin Cash\",\"Monoeci\",\"Draftcoin\",\"Vechain\",\"Sojourn Coin\",\"Stakecoin\",\"NewYorkCoin\",\"FrazCoin\",\"Kronecoin\",\"AdCoin\",\"Linx\",\"CoinonatX\",\"Ethereum Dark\",\"Sumokoin\",\"Obsidian\",\"Cardano\",\"Regalcoin\",\"BitcoinZ\",\"TrezarCoin\",\"Elements\",\"TerraNovaCoin\",\"VIVO Coin\",\"Rupee\",\"Bitcoin Gold\",\"WomenCoin\",\"Theresa May Coin\",\"NamoCoin\",\"LUXCoin\",\"Pirl\",\"Xios\",\"Bitcloud 2.0\",\"eBoost\",\"KekCoin\",\"BlackholeCoin\",\"Infinity Economics\",\"Pura\",\"Innova\",\"Ellaism\",\"GoByte\",\"Magnet\",\"Lamden Tau\",\"Electra\",\"Bitcoin Diamond\",\"SHIELD\",\"Cash & Back Coin\",\"UltraNote\",\"BitCoal\",\"DaxxCoin\",\"Bulwark\",\"Kalkulus\",\"AC3\",\"Lethean\",\"GermanCoin\",\"LiteCoin Ultra\",\"PopularCoin\",\"PhantomX\",\"Photon\",\"Sucre\",\"SparksPay\",\"Digiwage\",\"GunCoin\",\"IrishCoin\",\"Trollcoin\",\"Litecoin Plus\",\"Monkey Project\",\"Pioneer Coin\",\"UnitedBitcoin\",\"Interzone\",\"TokenPay\",\"1717 Masonic Commemorative Token\",\"My Big Coin\",\"TurtleCoin\",\"MUNcoin\",\"Unified Society USDEX\",\"Niobio Cash\",\"ShareChain\",\"Travelflex\",\"KREDS\",\"Tokyo Coin\",\"BiblePay\",\"LitecoinCash\",\"BitFlip\",\"LottoCoin\",\"Crypto Improvement Fund\",\"Stipend\",\"Poa Network\",\"Pushi\",\"Ellerium\",\"Velox\",\"Ontology\",\"Callisto Network\",\"BitTube\",\"Poseidon\",\"Aidos Kuneen\",\"Bitspace\",\"Briacoin\",\"Ignition\",\"Bitrolium\",\"MedicCoin\",\"Alpenschillling\",\"Bitcoin Green\",\"Deviant Coin\",\"Abjcoin\",\"Semux\",\"FuturoCoin\",\"Carebit\",\"Zealium\",\"Monero Classic\",\"Proton\",\"iDealCash\",\"Jumpcoin\",\"Infinex\",\"Bitcoin Incognito\",\"KEYCO\",\"HollyWoodCoin\",\"GINcoin\",\"PlatinCoin\",\"Loki\",\"Newton Coin\",\"Swisscoin\",\"Xt3ch\",\"MassGrid\",\"TheVig\",\"PluraCoin\",\"EmaratCoin\",\"Dekado\",\"Lynx\",\"Poseidon Quark\",\"BitcoinWSpectrum\",\"Muse\",\"Motion\",\"PlusOneCoin\",\"Axe\",\"Trivechain\",\"Dystem\",\"Giant\",\"Peony Coin\",\"Absolute Coin\",\"Vitae\",\"HexCoin\",\"TPCash\",\"Webchain\",\"Ryo\",\"Urals Coin\",\"Qwertycoin\",\"ARENON\",\"EUNO\",\"MMOCoin\",\"Ketan\",\"Project Pai\",\"XDNA\",\"PAXEX\",\"Azart\",\"ThunderStake\",\"Kcash\",\"Xchange\",\"Acute Angle Cloud\",\"CrypticCoin\",\"Bettex coin\",\"Actinium\",\"Bitcoin SV\",\"BitMoney\",\"Junson Ming Chan Coin\",\"FREDEnergy\",\"HerbCoin\",\"Universal Molecule\",\"Lithium\",\"PirateCash\",\"Exosis\",\"Block-Logic\",\"Oduwa\",\"Beam\",\"Galilel\",\"Bithereum\",\"Crypto Sports\",\"Credit\",\"SLICE\",\"Dash Platinum\",\"Nasdacoin\",\"Beetle Coin\",\"Titan Coin\",\"Award\",\"BLAST\",\"Bitcoin Rhodium\",\"GlobalToken\",\"Insane Coin\",\"ALAX\",\"LiteDoge\",\"SolarCoin\",\"TruckCoin\",\"UFO Coin\",\"OrangeCoin\",\"BlakeCoin\",\"BitstarCoin\",\"NeosCoin\",\"HyperCoin\",\"PinkCoin\",\"Crypto Escudo\",\"AudioCoin\",\"IncaKoin\",\"Piggy Coin\",\"Crown Coin\",\"Genstake\",\"SmileyCoin\",\"XiaoMiCoin\",\"Groestlcoin\",\"CapriCoin\",\" ClubCoin\",\"Radium\",\"Bata\",\"Pakcoin\",\"Creditbit \",\"OKCash\",\"Lisk\",\"HiCoin\",\"WhiteCoin\",\"FriendshipCoin\",\"JoinCoin\",\"Triangles Coin\",\"Vollar\",\"EOS\",\"Reality Clash\",\"Oxycoin\",\"TigerCash\",\"Waves\",\"Particl\",\"BitTorrent\",\"Nxt\",\"ZEPHYR\",\"Gapcoin\",\"Beldex\",\"Horizen\",\"BitcoinPlus\"],\"ProofType\":[\"PoW/PoS\",\"PoW/PoS\",\"PoW/PoS\",\"PoW\",\"PoW\",\"PoW\",\"PoW/PoS\",\"PoW\",\"PoW\",\"PoW\",\"PoS\",\"PoW\",\"PoW/PoS\",\"PoS\",\"PoW\",\"PoW/PoS\",\"PoW\",\"PoW\",\"PoW/PoS\",\"PoW/PoS\",\"PoW\",\"PoW\",\"PoW\",\"PoW\",\"PoW\",\"PoW/PoS\",\"PoW\",\"PoW\",\"PoW\",\"PoW/PoS\",\"PoW\",\"PoW/PoS\",\"PoW\",\"PoW\",\"PoC\",\"PoW/PoS\",\"PoW\",\"PoW\",\"PoW\",\"PoW\",\"PoW\",\"PoW\",\"PoS\",\"PoS/PoW/PoT\",\"PoW\",\"PoW\",\"PoW\",\"PoW\",\"PoW\",\"PoW/PoS\",\"PoS\",\"PoW\",\"PoW/PoS\",\"PoW\",\"PoW\",\"PoW\",\"PoW\",\"PoW/PoS\",\"PoW\",\"PoW\",\"PoS\",\"PoW\",\"PoW/PoS\",\"PoS\",\"PoW/PoS\",\"PoW\",\"PoW\",\"PoW\",\"PoW/PoS\",\"PoW/PoS\",\"PoW/PoS\",\"PoW/PoS\",\"PoW/PoS\",\"PoW\",\"PoW\",\"PoW\",\"PoS\",\"PoW/PoS\",\"PoW\",\"PoS\",\"PoW\",\"PoS\",\"PoW/PoS\",\"PoW\",\"PoW\",\"PoW\",\"PoW\",\"PoW/PoS\",\"PoW/PoS\",\"PoW\",\"PoST\",\"PoW\",\"PoW\",\"PoW/PoS\",\"PoS\",\"PoW\",\"PoW/PoS\",\"PoW/PoS\",\"PoW\",\"PoW\",\"PoC\",\"PoS\",\"PoW\",\"PoW/PoS\",\"PoW/PoS\",\"PoW\",\"PoS\",\"PoW\",\"PoW/PoS\",\"PoW\",\"PoS\",\"PoW\",\"PoW/PoS\",\"PoW/PoS\",\"PoW\",\"PoW\",\"PoS\",\"PoW\",\"PoW\",\"PoW\",\"PoW/PoS\",\"PoW\",\"PoW\",\"PoW\",\"PoW\",\"PoW\",\"PoW/PoS\",\"PoW/nPoS\",\"PoW\",\"PoW\",\"PoW\",\"PoW/PoS\",\"PoW\",\"PoS/PoW\",\"PoW\",\"PoW\",\"PoS\",\"PoW\",\"PoW/PoS\",\"PoW\",\"PoW/PoS\",\"PoW/PoS\",\"PoW\",\"PoW\",\"PoW/PoS\",\"PoW\",\"PoW\",\"PoW/PoS\",\"PoW/PoS\",\"PoW\",\"PoW/PoS\",\"PoW\",\"PoW/PoS\",\"PoW/PoS\",\"PoS\",\"PoW\",\"PoW\",\"PoW\",\"PoW\",\"PoW/PoS\",\"PoS\",\"PoW/PoS\",\"PoC\",\"PoS\",\"PoW\",\"PoW\",\"PoW/PoS\",\"PoW/PoS\",\"PoW/PoS\",\"PoW/PoS\",\"PoW/PoS\",\"PoW\",\"PoS\",\"PoW/PoS\",\"PoW/PoS\",\"PoW/PoS\",\"PoS\",\"PoW\",\"PoS\",\"dPoW/PoW\",\"PoW/PoS\",\"PoW/PoS\",\"PoW\",\"PoW/PoS\",\"PoW\",\"PoW/PoS\",\"PoW/PoS\",\"PoW\",\"PoW/PoS\",\"PoW\",\"PoS\",\"PoW\",\"PoW/PoW\",\"PoW\",\"PoW/PoS\",\"PoS\",\"PoW/PoS\",\"PoW/PoS\",\"PoW\",\"PoS\",\"PoS\",\"PoW/PoS\",\"PoS\",\"PoW/PoS\",\"PoW\",\"PoW\",\"DPoS\",\"PoW/PoS\",\"PoW\",\"PoW\",\"PoW/PoS\",\"PoW/PoS\",\"PoS\",\"PoW/PoS\",\"PoW/PoS\",\"PoW\",\"PoS\",\"PoW/PoS\",\"PoW/PoS\",\"PoW/PoS\",\"TPoS\",\"PoW/PoS\",\"PoW/PoS\",\"PoW/PoS\",\"PoW\",\"PoW/PoS\",\"PoS\",\"PoW/PoS\",\"PoW/PoS\",\"PoS\",\"PoW/PoS\",\"PoW\",\"PoW\",\"PoW\",\"PoW/PoS\",\"PoW/PoS\",\"PoW/PoS\",\"PoW/PoS\",\"PoW\",\"PoW/PoS\",\"PoW\",\"PoS\",\"PoW/PoS \",\"PoW\",\"PoS\",\"PoW\",\"PoW\",\"PoW/PoS\",\"PoW\",\"PoW\",\"PoS\",\"PoW\",\"PoW/PoS\",\"PoW/PoS\",\"PoW/PoS\",\"PoW\",\"PoS\",\"PoW/PoS\",\"PoW\",\"PoS\",\"PoW/PoS\",\"PoW/PoS\",\"PoW/PoS\",\"PoW/PoS\",\"PoS\",\"PoW/PoS\",\"PoW\",\"PoS\",\"PoW\",\"PoS\",\"PoW/PoS\",\"PoW/PoS\",\"PoS\",\"PoW\",\"PoS\",\"PoW\",\"PoW/PoS\",\"PoW\",\"PoW\",\"PoW\",\"PoW\",\"PoW/PoS\",\"PoW\",\"PoW/PoS\",\"PoW/PoS\",\"PoW\",\"PoW/PoS\",\"PoW\",\"PoW\",\"PoW\",\"PoW/PoS\",\"PoW\",\"PoW/PoS\",\"PoW\",\"PoW\",\"PoW\",\"PoS\",\"PoW\",\"PoW/PoS\",\"PoW\",\"PoW/PoS\",\"PoS\",\"Proof of Authority\",\"PoW\",\"PoS\",\"PoW\",\"PoW\",\"PoW\",\"PoW\",\"PoW\",\"PoW/PoS\",\"PoW/PoS\",\"PoW\",\"PoS\",\"PoS\",\"PoW/PoS\",\"PoW\",\"PoW/PoS\",\"PoW\",\"PoW/PoS\",\"PoW\",\"PoS\",\"PoW\",\"PoW/PoS\",\"PoW/PoS\",\"PoW/PoS\",\"PoW/PoS\",\"PoW\",\"PoW/PoS\",\"PoW/PoS\",\"PoW\",\"PoS\",\"PoW/PoS\",\"PoS\",\"PoW\",\"PoW\",\"PoW\",\"PoW\",\"PoW/PoS\",\"DPoS\",\"PoW/PoS\",\"PoW/PoS\",\"PoW\",\"PoW/PoS\",\"PoW\",\"PoW\",\"PoW\",\"PoS\",\"PoS\",\"PoW\",\"PoW\",\"PoW/PoS\",\"PoW/PoS\",\"PoW\",\"PoW/PoS\",\"PoW\",\"PoW\",\"PoW\",\"PoS\",\"PoW\",\"PoW\",\"PoW/PoS\",\"PoW/PoS\",\"PoS\",\"PoW\",\"PoW\",\"PoW\",\"PoS\",\"PoS\",\"PoW and PoS\",\"PoW\",\"PoW\",\"PoW/PoS\",\"PoW\",\"PoW\",\"PoW\",\"PoW\",\"PoS\",\"POBh\",\"PoW + Hive\",\"PoW\",\"PoW\",\"PoW\",\"PoW/PoS\",\"PoA\",\"PoW/PoS\",\"PoW/PoS\",\"PoS\",\"PoS\",\"PoW\",\"PoW\",\"PoW\",\"PoW\",\"PoW/PoS\",\"PoW/PoS\",\"PoW/PoS\",\"PoW\",\"PoS\",\"PoW\",\"PoS\",\"PoS\",\"PoW/PoS\",\"DPoS\",\"PoW\",\"PoW/PoS\",\"PoS\",\"PoW\",\"PoS\",\"PoW/PoS\",\"PoW\",\"PoW\",\"PoS/PoW\",\"PoW\",\"PoS\",\"PoW\",\"PoW\",\"PoW\",\"PoW\",\"PoW/PoS\",\"PoS\",\"PoW\",\"PoW/PoS\",\"PoW\",\"PoW/PoS\",\"PoS\",\"HPoW\",\"PoS\",\"PoS\",\"PoS\",\"PoW\",\"PoW\",\"PoW\",\"PoW/PoS\",\"PoS\",\"PoW/PoS\",\"PoS\",\"PoW/PoS\",\"PoS\",\"PoW\",\"PoW/PoS\",\"PoW\",\"PoW\",\"PoW\",\"PoW\",\"PoS\",\"PoW/PoS\",\"PoS\",\"PoS\",\"PoW\",\"PoW/PoS\",\"PoS\",\"PoW\",\"PoW/PoS\",\"Zero-Knowledge Proof\",\"PoW\",\"DPOS\",\"PoW\",\"PoS\",\"PoW\",\"PoW\",\"Pos\",\"PoS\",\"PoW\",\"PoW/PoS\",\"PoW\",\"PoW\",\"PoS\",\"PoW\",\"PoW\",\"PoW/PoS\",\"PoW\",\"PoW/PoS\",\"PoW\",\"PoS\",\"PoW/PoS\",\"PoW\",\"PoS\",\"PoW/PoS\",\"PoW/PoS\",\"PoW/PoS\",\"PoW/PoS\",\"PoW\",\"PoW\",\"PoW\",\"PoW/PoS\",\"DPoS\",\"PoW/PoS\",\"PoW\",\"PoW/PoS\",\"PoW\",\"PoW/PoS\",\"PoW\",\"PoW/PoS\",\"PoS\",\"PoW/PoS\",\"PoW/PoS\",\"PoW\",\"PoW/PoS\",\"PoW/PoS\",\"PoW/PoS\",\"PoW\",\"PoW/PoS\",\"PoW\",\"PoW/PoS\",\"PoW\",\"PoW/PoS\",\"PoW/PoS\",\"PoS\",\"PoW\",\"PoW\",\"Proof of Trust\",\"PoW/PoS\",\"DPoS\",\"PoS\",\"PoW/PoS\",\"PoW/PoS\",\"PoW\",\"PoW/PoS\",\"PoW\",\"DPoS\",\"PoW\",\"DPoS\",\"PoS\",\"LPoS\",\"PoS\",\"DPoS\",\"PoS/LPoS\",\"DPoS\",\"PoW/PoS\",\"PoW\",\"PoW\",\"PoS\"],\"TotalCoinSupply\":[\"42\",\"532000000\",\"314159265359\",\"21000000\",\"0\",\"84000000\",\"22000000\",\"0\",\"210000000\",\"21000000\",\"3600570502\",\"21000000000\",\"22000000\",\"12500000\",\"21000000\",\"350000000\",\"20000000\",\"64000000\",\"16768584\",\"0\",\"2000000000\",\"384000000000\",\"169795588\",\"250000000\",\"100000000\",\"0\",\"247000000\",\"84000000\",\"48166000\",\"500000\",\"21000000 \",\"1000000\",\"13140000\",\"18000000\",\"40000000000\",\"4380000\",\"16555000000\",\"21000000000\",\"13500000000\",\"21000000 \",\"299792458\",\"32000000\",\"0\",\"0\",\"11235813\",\"336000000\",\"1420609614\",\"70000000\",\"72245700\",\"120000000\",\"0\",\"90600000000\",\"22000000\",\"21000000\",\"265420800\",\"20000000\",\"1350000\",\"100000000\",\"42000000\",\"200000000\",\"0\",\"10000000\",\"2419200000\",\"16180000\",\"0\",\"15000000000\",\"21000000\",\"337000000\",\"0\",\"3770000\",\"420000000\",\"98000000\",\"0\",\"21000000\",\"250000000\",\"51200000\",\"0\",\"1000\",\"888000000\",\"100000000\",\"47011968\",\"2300000000\",\"10000000\",\"42000000\",\"80000000\",\"250000\",\"0\",\"1600000000\",\"100000000\",\"23000000\",\"0\",\"84000000\",\"265420800\",\"5500000\",\"0\",\"45000000\",\"0\",\"1000000000\",\"184467440735\",\"10000000000\",\"2158812800\",\"500000000\",\"105120000\",\"68000000\",\"0\",\"1680000000\",\"0\",\"166386000\",\"12000000\",\"2628000\",\"500000000\",\"160000000\",\"0\",\"10000000\",\"1000000000\",\"1000000000\",\"20000000\",\"0\",\"0\",\"3371337\",\"20000000\",\"10000000000\",\"1840000000\",\"619478\",\"21000000\",\"92000000000\",\"0\",\"78000000\",\"33000000\",\"65789100\",\"53760000\",\"5060000\",\"21000000\",\"0\",\"210240000\",\"250000000\",\"100000000\",\"16906397\",\"50000000\",\"0\",\"1000000000\",\"26298000\",\"16000000\",\"21000000\",\"21000000\",\"210000000\",\"81962100\",\"22000000\",\"26550000000\",\"84000000\",\"10500000\",\"21626280000 \",\"0\",\"42000000\",\"221052632\",\"84000000\",\"30000000\",\"168351300\",\"24000000\",\"384000000\",\" 99000000000\",\"40000000\",\"2147483647\",\"20000000\",\"20000000\",\"25000000\",\"75000000\",\"222725000\",\"525000000\",\"90000000\",\"139000000\",\"616448\",\"33500000\",\"2000000000\",\"44333333\",\"100000000\",\"200000000\",\"25000000\",\"657000000\",\"200000000\",\"50000000\",\"90000000\",\"10000000\",\"21000000\",\"9736000\",\"3000000\",\"21000000\",\"1200000000\",\"0\",\"200000000\",\"0\",\"10638298\",\"3100000000\",\"30000000\",\"20000000000\",\"74000000\",\"0\",\"1500000000\",\"21400000\",\"39999898\",\"2500124\",\"100000000\",\"301000000\",\"7506000000\",\"26205539\",\"21000000\",\"125000000\",\"30000000\",\"10000000000\",\"500000000\",\"850000000\",\"3853326.77707314\",\"50000000\",\"38540000 \",\"42000000\",\"228000000\",\"20000000\",\"60000000\",\"20000000\",\"33000000\",\"76500000\",\"28000000\",\"650659833\",\"5000000\",\"21000000\",\"144000000\",\"32514916898\",\"13000000\",\"3315789\",\"15000000\",\"78835200\",\"2714286\",\"25000000\",\"9999999\",\"500000000\",\"21000000\",\"9354000\",\"20000000\",\"100000000000\",\"21933333\",\"185000000\",\"55000000\",\"110000000\",\"3360000\",\"14524851.4827\",\"1000000000\",\"17000000\",\"1000000000\",\"100000000 \",\"21000000\",\"34426423\",\"2232901\",\"100000000\",\"36900000\",\"110000000\",\"4000000000\",\"110290030\",\"100000000\",\"48252000\",\"400000000\",\"500000000\",\"21212121\",\"28600000\",\"1000000000\",\"75000000000\",\"40000000\",\"35520400\",\"2000000000\",\"2500000000\",\"30000000\",\"105000000\",\"90000000000\",\"200084200\",\"72000000\",\"100000000\",\"105000000\",\"50000000000\",\"0\",\"340282367\",\"30000000\",\"2000000000\",\"10000000\",\"100000000\",\"120000000\",\"100000000\",\"19276800\",\"30000000\",\" 75000000\",\"60000000\",\"18900000\",\"50000000000\",\"54000000\",\"18898187.6216583\",\"21000000\",\"200000000000\",\"5000000000\",\"137500000\",\"1100000000\",\"100000000\",\"21000000\",\"9507271\",\"17405891.19707116\",\"86712634466\",\"10500000000\",\"61599965\",\"0\",\"20000000\",\"84000000\",\"100000000\",\"100000000\",\"48252000\",\"4200000\",\"88888888\",\"91388946\",\"45000000000\",\"27000000\",\"21000000000\",\"400000000\",\"1800000000\",\"15733333\",\"27000000\",\"24000000\",\"21000000\",\"25000000000\",\"100000000\",\"1200000000\",\"60000000\",\"156306732.71\",\"21000000\",\"200000000\",\"100000000\",\"21000000\",\"14788275.991\",\"9000000000\",\"350000000\",\"45000000\",\"280000000\",\"31800000\",\"144000000\",\"500000000\",\"30000000000\",\"210000000\",\"660000000\",\"210000000\",\"85000000000\",\"12500000\",\"10000000000\",\"27716121\",\"20000000\",\"550000000\",\"999481516\",\"50000000000\",\"150000000\",\"4999999999\",\"50000000\",\" 90000000000\",\"19800000\",\"21000000\",\"120000000\",\"500000000\",\"64000000\",\"900000000\",\"4000000\",\"21000000\",\"23000000\",\"20166000\",\"23000000\",\"25000000\",\"1618033\",\"30000000\",\"1000000000000\",\"16600000\",\"232000000\",\"336000000\",\"10000000000\",\"100000000\",\"1100000000\",\"800000000\",\"5200000000\",\"840000000\",\"40000000\",\"18406979840\",\"500000000\",\"19340594\",\"252460800\",\"25000000\",\"60000000\",\"124000000\",\"1000000000\",\"6500000000\",\"1000000000\",\"21000000\",\"25000000\",\"50000000\",\"3000000\",\"5000000\",\"70000000\",\"500000000\",\"300000000\",\"21000000\",\"88000000\",\"30000000\",\"100000000\",\"100000000\",\"200000000\",\"80000000\",\"18400000\",\"45000000\",\"5121951220\",\"21000000\",\"26280000\",\"21000000\",\"18000000\",\"26000000\",\"10500000\",\"600000518\",\"150000000\",\"184000000000\",\"10200000000\",\"44000000\",\"168000000\",\"100000000\",\"1000000000\",\"84000000\",\"90000000\",\"92000000000\",\"650000000 \",\"100262205\",\"18081806 \",\"22075700\",\"21000000\",\"21000000\",\"82546564\",\"21000000\",\"5151000\",\"16880000000\",\"52500000\",\"100000000\",\"22105263\",\"1000000000\",\"1750000000\",\"88188888\",\"210000000\",\"184470000000\",\"55000000\",\"50000000\",\"260000000\",\"210000000\",\"2100000000\",\"366000000\",\"100000000\",\"25000000\",\"18000000000\",\"1000000000\",\"100000000\",\"1000000000\",\"7600000000\",\"50000000\",\"84000000\",\"21000000\",\"70000000000\",\"0\",\"8080000000\",\"54000000\",\"105120001.44\",\"25228800\",\"105000000\",\"21000000\",\"120000000\",\"21000000\",\"262800000\",\"19035999\",\"30886000\",\"13370000\",\"74800000000\",\"100000000\",\"19700000\",\"84000000\",\"500000000\",\"5000000000\",\"420000000\",\"64000000\",\"2100000\",\"168000000\",\"30000000\",\"1000000000\",\"35000000000\",\"98100000000\",\"0\",\"4000000000\",\"200000000\",\"7000000000\",\"54256119\",\"21000000\",\"0\",\"500000000\",\"1000000000\",\"10500000000\",\"190000000\",\"1000000000\",\"42000000\",\"15000000\",\"50000000000\",\"400000000\",\"105000000\",\"208000000\",\"160000000\",\"9000000\",\"5000000\",\"182000000\",\"16504333\",\"105000000\",\"159918400\",\"10008835635\",\"300000000\",\"60168145\",\"2800000\",\"120000\",\"2100000000\",\"0\",\"24487944\",\"0\",\"1000000000\",\"100000000\",\"8634140\",\"990000000000\",\"1000000000\",\"2000000000\",\"250000000\",\"1400222610\",\"21000000\",\"1000000\"],\"TotalCoinsMined\":{\"__ndarray__\":\"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\",\"dtype\":\"float64\",\"order\":\"little\",\"shape\":[532]}},\"selected\":{\"id\":\"2597\"},\"selection_policy\":{\"id\":\"2630\"}},\"id\":\"2596\",\"type\":\"ColumnDataSource\"},{\"attributes\":{\"margin\":[5,5,5,5],\"name\":\"HSpacer05239\",\"sizing_mode\":\"stretch_width\"},\"id\":\"2634\",\"type\":\"Spacer\"},{\"attributes\":{\"editor\":{\"id\":\"2624\"},\"field\":\"Class\",\"formatter\":{\"id\":\"2623\"},\"title\":\"Class\"},\"id\":\"2625\",\"type\":\"TableColumn\"},{\"attributes\":{},\"id\":\"2603\",\"type\":\"StringFormatter\"},{\"attributes\":{},\"id\":\"2599\",\"type\":\"StringEditor\"},{\"attributes\":{},\"id\":\"2630\",\"type\":\"UnionRenderers\"},{\"attributes\":{},\"id\":\"2597\",\"type\":\"Selection\"},{\"attributes\":{\"editor\":{\"id\":\"2599\"},\"field\":\"CoinName\",\"formatter\":{\"id\":\"2598\"},\"title\":\"CoinName\"},\"id\":\"2600\",\"type\":\"TableColumn\"},{\"attributes\":{\"children\":[{\"id\":\"2595\"},{\"id\":\"2628\"},{\"id\":\"2634\"}],\"margin\":[0,0,0,0],\"name\":\"Row05234\",\"tags\":[\"embedded\"]},\"id\":\"2594\",\"type\":\"Row\"},{\"attributes\":{},\"id\":\"2609\",\"type\":\"StringEditor\"},{\"attributes\":{},\"id\":\"2608\",\"type\":\"StringFormatter\"}],\"root_ids\":[\"2594\"]},\"title\":\"Bokeh Application\",\"version\":\"2.1.1\"}};\n",
       "  var render_items = [{\"docid\":\"b382c354-ebae-4a50-a3dd-6ef4a8594c86\",\"root_ids\":[\"2594\"],\"roots\":{\"2594\":\"ff3dfd79-c8d0-434f-8b22-0e556a960e64\"}}];\n",
       "  root.Bokeh.embed.embed_items_notebook(docs_json, render_items);\n",
       "  }\n",
       "if (root.Bokeh !== undefined) {\n",
       "    embed_document(root);\n",
       "  } else {\n",
       "    var attempts = 0;\n",
       "    var timer = setInterval(function(root) {\n",
       "      if (root.Bokeh !== undefined) {\n",
       "        clearInterval(timer);\n",
       "        embed_document(root);\n",
       "      } else if (document.readyState == \"complete\") {\n",
       "        attempts++;\n",
       "        if (attempts > 100) {\n",
       "          clearInterval(timer);\n",
       "          console.log(\"Bokeh: ERROR: Unable to run BokehJS code because BokehJS library is missing\");\n",
       "        }\n",
       "      }\n",
       "    }, 10, root)\n",
       "  }\n",
       "})(window);</script>"
      ],
      "text/plain": [
       ":Table   [CoinName,Algorithm,ProofType,TotalCoinsMined,TotalCoinSupply,Class]"
      ]
     },
     "execution_count": 105,
     "metadata": {
      "application/vnd.holoviews_exec.v0+json": {
       "id": "2594"
      }
     },
     "output_type": "execute_result"
    }
   ],
   "source": [
    "# Create a table with tradable cryptocurrencies.\n",
    "clustered_df2.hvplot.table(columns=['CoinName', 'Algorithm', 'ProofType', 'TotalCoinsMined', \n",
    "                                  'TotalCoinSupply', 'Class'], sortable=True, selectable=True)"
   ]
  },
  {
   "cell_type": "code",
   "execution_count": 106,
   "metadata": {},
   "outputs": [
    {
     "data": {
      "text/plain": [
       "array([[4.20000000e-11, 0.00000000e+00],\n",
       "       [5.32000000e-04, 1.06585544e-03],\n",
       "       [3.14159265e-01, 2.95755135e-02],\n",
       "       ...,\n",
       "       [1.40022261e-03, 9.90135079e-04],\n",
       "       [2.10000000e-05, 7.37028150e-06],\n",
       "       [1.00000000e-06, 1.29582282e-07]])"
      ]
     },
     "execution_count": 106,
     "metadata": {},
     "output_type": "execute_result"
    }
   ],
   "source": [
    "# Scaling data to create the scatter plot with tradable cryptocurrencies.\n",
    "# transform only TotalCoinSupply, TotalCoinsMined\n",
    "\n",
    "cluster_df2 = clustered_df2[['TotalCoinSupply', 'TotalCoinsMined']]\n",
    "X_minmax2 = MinMaxScaler().fit_transform(cluster_df2)\n",
    "X_minmax2"
   ]
  },
  {
   "cell_type": "code",
   "execution_count": 107,
   "metadata": {},
   "outputs": [
    {
     "data": {
      "text/html": [
       "<div>\n",
       "<style scoped>\n",
       "    .dataframe tbody tr th:only-of-type {\n",
       "        vertical-align: middle;\n",
       "    }\n",
       "\n",
       "    .dataframe tbody tr th {\n",
       "        vertical-align: top;\n",
       "    }\n",
       "\n",
       "    .dataframe thead th {\n",
       "        text-align: right;\n",
       "    }\n",
       "</style>\n",
       "<table border=\"1\" class=\"dataframe\">\n",
       "  <thead>\n",
       "    <tr style=\"text-align: right;\">\n",
       "      <th></th>\n",
       "      <th>TotalCoinSupply_scaled</th>\n",
       "      <th>TotalCoinsMined_scaled</th>\n",
       "      <th>CoinName</th>\n",
       "      <th>Class</th>\n",
       "    </tr>\n",
       "  </thead>\n",
       "  <tbody>\n",
       "    <tr>\n",
       "      <th>42</th>\n",
       "      <td>4.200000e-11</td>\n",
       "      <td>0.000000e+00</td>\n",
       "      <td>42 Coin</td>\n",
       "      <td>0</td>\n",
       "    </tr>\n",
       "    <tr>\n",
       "      <th>404</th>\n",
       "      <td>5.320000e-04</td>\n",
       "      <td>1.065855e-03</td>\n",
       "      <td>404Coin</td>\n",
       "      <td>0</td>\n",
       "    </tr>\n",
       "    <tr>\n",
       "      <th>1337</th>\n",
       "      <td>3.141593e-01</td>\n",
       "      <td>2.957551e-02</td>\n",
       "      <td>EliteCoin</td>\n",
       "      <td>4</td>\n",
       "    </tr>\n",
       "    <tr>\n",
       "      <th>BTC</th>\n",
       "      <td>2.100000e-05</td>\n",
       "      <td>1.810842e-05</td>\n",
       "      <td>Bitcoin</td>\n",
       "      <td>1</td>\n",
       "    </tr>\n",
       "    <tr>\n",
       "      <th>ETH</th>\n",
       "      <td>0.000000e+00</td>\n",
       "      <td>1.087731e-04</td>\n",
       "      <td>Ethereum</td>\n",
       "      <td>1</td>\n",
       "    </tr>\n",
       "    <tr>\n",
       "      <th>...</th>\n",
       "      <td>...</td>\n",
       "      <td>...</td>\n",
       "      <td>...</td>\n",
       "      <td>...</td>\n",
       "    </tr>\n",
       "    <tr>\n",
       "      <th>ZEPH</th>\n",
       "      <td>2.000000e-03</td>\n",
       "      <td>2.020225e-03</td>\n",
       "      <td>ZEPHYR</td>\n",
       "      <td>4</td>\n",
       "    </tr>\n",
       "    <tr>\n",
       "      <th>GAP</th>\n",
       "      <td>2.500000e-04</td>\n",
       "      <td>1.508199e-05</td>\n",
       "      <td>Gapcoin</td>\n",
       "      <td>0</td>\n",
       "    </tr>\n",
       "    <tr>\n",
       "      <th>BDX</th>\n",
       "      <td>1.400223e-03</td>\n",
       "      <td>9.901351e-04</td>\n",
       "      <td>Beldex</td>\n",
       "      <td>1</td>\n",
       "    </tr>\n",
       "    <tr>\n",
       "      <th>ZEN</th>\n",
       "      <td>2.100000e-05</td>\n",
       "      <td>7.370282e-06</td>\n",
       "      <td>Horizen</td>\n",
       "      <td>1</td>\n",
       "    </tr>\n",
       "    <tr>\n",
       "      <th>XBC</th>\n",
       "      <td>1.000000e-06</td>\n",
       "      <td>1.295823e-07</td>\n",
       "      <td>BitcoinPlus</td>\n",
       "      <td>0</td>\n",
       "    </tr>\n",
       "  </tbody>\n",
       "</table>\n",
       "<p>532 rows × 4 columns</p>\n",
       "</div>"
      ],
      "text/plain": [
       "      TotalCoinSupply_scaled  TotalCoinsMined_scaled     CoinName  Class\n",
       "42              4.200000e-11            0.000000e+00      42 Coin      0\n",
       "404             5.320000e-04            1.065855e-03      404Coin      0\n",
       "1337            3.141593e-01            2.957551e-02    EliteCoin      4\n",
       "BTC             2.100000e-05            1.810842e-05      Bitcoin      1\n",
       "ETH             0.000000e+00            1.087731e-04     Ethereum      1\n",
       "...                      ...                     ...          ...    ...\n",
       "ZEPH            2.000000e-03            2.020225e-03       ZEPHYR      4\n",
       "GAP             2.500000e-04            1.508199e-05      Gapcoin      0\n",
       "BDX             1.400223e-03            9.901351e-04       Beldex      1\n",
       "ZEN             2.100000e-05            7.370282e-06      Horizen      1\n",
       "XBC             1.000000e-06            1.295823e-07  BitcoinPlus      0\n",
       "\n",
       "[532 rows x 4 columns]"
      ]
     },
     "execution_count": 107,
     "metadata": {},
     "output_type": "execute_result"
    }
   ],
   "source": [
    "# Create a new DataFrame that has the scaled data with the clustered_df DataFrame index.\n",
    "index_values = (clustered_df2.index.tolist())\n",
    "\n",
    "plot_df2 = pd.DataFrame(\n",
    "    data = X_minmax2, columns=[\"TotalCoinSupply_scaled\", \"TotalCoinsMined_scaled\"], index = index_values)\n",
    "\n",
    "# Add the \"CoinName\" column from the clustered_df DataFrame to the new DataFrame.\n",
    "plot_df2 = plot_df2.join(cc_names_df, how='inner')\n",
    "\n",
    "# Add the \"Class\" column from the clustered_df DataFrame to the new DataFrame. \n",
    "class_df2 = clustered_df2['Class']\n",
    "plot_df2 = plot_df2.join(class_df2, how='inner')\n",
    "\n",
    "plot_df2"
   ]
  },
  {
   "cell_type": "code",
   "execution_count": 108,
   "metadata": {},
   "outputs": [
    {
     "data": {},
     "metadata": {},
     "output_type": "display_data"
    },
    {
     "data": {
      "application/vnd.holoviews_exec.v0+json": "",
      "text/html": [
       "<div id='2646'>\n",
       "\n",
       "\n",
       "\n",
       "\n",
       "\n",
       "  <div class=\"bk-root\" id=\"838a9f0a-f9ca-40ed-9fb7-c9d225073325\" data-root-id=\"2646\"></div>\n",
       "</div>\n",
       "<script type=\"application/javascript\">(function(root) {\n",
       "  function embed_document(root) {\n",
       "  var docs_json = {\"65887bb0-b033-4c9c-a074-9a36951735e0\":{\"roots\":{\"references\":[{\"attributes\":{},\"id\":\"2767\",\"type\":\"UnionRenderers\"},{\"attributes\":{\"fill_alpha\":{\"value\":0.2},\"fill_color\":{\"value\":\"#ff7e0e\"},\"line_alpha\":{\"value\":0.2},\"line_color\":{\"value\":\"#ff7e0e\"},\"size\":{\"units\":\"screen\",\"value\":5.477225575051661},\"x\":{\"field\":\"TotalCoinsMined_scaled\"},\"y\":{\"field\":\"TotalCoinSupply_scaled\"}},\"id\":\"2712\",\"type\":\"Scatter\"},{\"attributes\":{\"label\":{\"value\":\"0\"},\"renderers\":[{\"id\":\"2695\"}]},\"id\":\"2706\",\"type\":\"LegendItem\"},{\"attributes\":{\"label\":{\"value\":\"1\"},\"renderers\":[{\"id\":\"2713\"}]},\"id\":\"2725\",\"type\":\"LegendItem\"},{\"attributes\":{\"fill_alpha\":{\"value\":0.1},\"fill_color\":{\"value\":\"#ff7e0e\"},\"line_alpha\":{\"value\":0.1},\"line_color\":{\"value\":\"#ff7e0e\"},\"size\":{\"units\":\"screen\",\"value\":5.477225575051661},\"x\":{\"field\":\"TotalCoinsMined_scaled\"},\"y\":{\"field\":\"TotalCoinSupply_scaled\"}},\"id\":\"2711\",\"type\":\"Scatter\"},{\"attributes\":{\"source\":{\"id\":\"2770\"}},\"id\":\"2777\",\"type\":\"CDSView\"},{\"attributes\":{\"axis\":{\"id\":\"2664\"},\"grid_line_color\":null,\"ticker\":null},\"id\":\"2667\",\"type\":\"Grid\"},{\"attributes\":{},\"id\":\"2665\",\"type\":\"BasicTicker\"},{\"attributes\":{\"label\":{\"value\":\"4\"},\"renderers\":[{\"id\":\"2776\"}]},\"id\":\"2794\",\"type\":\"LegendItem\"},{\"attributes\":{\"bottom_units\":\"screen\",\"fill_alpha\":0.5,\"fill_color\":\"lightgrey\",\"left_units\":\"screen\",\"level\":\"overlay\",\"line_alpha\":1.0,\"line_color\":\"black\",\"line_dash\":[4,4],\"line_width\":2,\"right_units\":\"screen\",\"top_units\":\"screen\"},\"id\":\"2677\",\"type\":\"BoxAnnotation\"},{\"attributes\":{\"data_source\":{\"id\":\"2770\"},\"glyph\":{\"id\":\"2773\"},\"hover_glyph\":null,\"muted_glyph\":{\"id\":\"2775\"},\"nonselection_glyph\":{\"id\":\"2774\"},\"selection_glyph\":null,\"view\":{\"id\":\"2777\"}},\"id\":\"2776\",\"type\":\"GlyphRenderer\"},{\"attributes\":{\"fill_alpha\":{\"value\":0.2},\"fill_color\":{\"value\":\"#9367bc\"},\"line_alpha\":{\"value\":0.2},\"line_color\":{\"value\":\"#9367bc\"},\"size\":{\"units\":\"screen\",\"value\":5.477225575051661},\"x\":{\"field\":\"TotalCoinsMined_scaled\"},\"y\":{\"field\":\"TotalCoinSupply_scaled\"}},\"id\":\"2775\",\"type\":\"Scatter\"},{\"attributes\":{},\"id\":\"2771\",\"type\":\"Selection\"},{\"attributes\":{\"data_source\":{\"id\":\"2707\"},\"glyph\":{\"id\":\"2710\"},\"hover_glyph\":null,\"muted_glyph\":{\"id\":\"2712\"},\"nonselection_glyph\":{\"id\":\"2711\"},\"selection_glyph\":null,\"view\":{\"id\":\"2714\"}},\"id\":\"2713\",\"type\":\"GlyphRenderer\"},{\"attributes\":{\"fill_alpha\":{\"value\":0.2},\"fill_color\":{\"value\":\"#2ba02b\"},\"line_alpha\":{\"value\":0.2},\"line_color\":{\"value\":\"#2ba02b\"},\"size\":{\"units\":\"screen\",\"value\":5.477225575051661},\"x\":{\"field\":\"TotalCoinsMined_scaled\"},\"y\":{\"field\":\"TotalCoinSupply_scaled\"}},\"id\":\"2731\",\"type\":\"Scatter\"},{\"attributes\":{\"fill_color\":{\"value\":\"#9367bc\"},\"line_color\":{\"value\":\"#9367bc\"},\"size\":{\"units\":\"screen\",\"value\":5.477225575051661},\"x\":{\"field\":\"TotalCoinsMined_scaled\"},\"y\":{\"field\":\"TotalCoinSupply_scaled\"}},\"id\":\"2773\",\"type\":\"Scatter\"},{\"attributes\":{},\"id\":\"2723\",\"type\":\"UnionRenderers\"},{\"attributes\":{\"children\":[{\"id\":\"2647\"},{\"id\":\"2655\"},{\"id\":\"2939\"}],\"margin\":[0,0,0,0],\"name\":\"Row05444\",\"tags\":[\"embedded\"]},\"id\":\"2646\",\"type\":\"Row\"},{\"attributes\":{\"source\":{\"id\":\"2707\"}},\"id\":\"2714\",\"type\":\"CDSView\"},{\"attributes\":{},\"id\":\"2703\",\"type\":\"UnionRenderers\"},{\"attributes\":{\"text\":\"\",\"text_color\":{\"value\":\"black\"},\"text_font_size\":{\"value\":\"12pt\"}},\"id\":\"2656\",\"type\":\"Title\"},{\"attributes\":{},\"id\":\"2727\",\"type\":\"Selection\"},{\"attributes\":{\"fill_alpha\":{\"value\":0.1},\"fill_color\":{\"value\":\"#9367bc\"},\"line_alpha\":{\"value\":0.1},\"line_color\":{\"value\":\"#9367bc\"},\"size\":{\"units\":\"screen\",\"value\":5.477225575051661},\"x\":{\"field\":\"TotalCoinsMined_scaled\"},\"y\":{\"field\":\"TotalCoinSupply_scaled\"}},\"id\":\"2774\",\"type\":\"Scatter\"},{\"attributes\":{\"axis_label\":\"Total Cryptocurrency Coins Mined\",\"bounds\":\"auto\",\"formatter\":{\"id\":\"2686\"},\"major_label_orientation\":\"horizontal\",\"ticker\":{\"id\":\"2665\"}},\"id\":\"2664\",\"type\":\"LinearAxis\"},{\"attributes\":{\"margin\":[5,5,5,5],\"name\":\"HSpacer05448\",\"sizing_mode\":\"stretch_width\"},\"id\":\"2647\",\"type\":\"Spacer\"},{\"attributes\":{\"below\":[{\"id\":\"2664\"}],\"center\":[{\"id\":\"2667\"},{\"id\":\"2671\"}],\"left\":[{\"id\":\"2668\"}],\"margin\":null,\"min_border_bottom\":10,\"min_border_left\":10,\"min_border_right\":10,\"min_border_top\":10,\"plot_height\":300,\"plot_width\":700,\"renderers\":[{\"id\":\"2695\"},{\"id\":\"2713\"},{\"id\":\"2732\"},{\"id\":\"2753\"},{\"id\":\"2776\"}],\"right\":[{\"id\":\"2705\"}],\"sizing_mode\":\"fixed\",\"title\":{\"id\":\"2656\"},\"toolbar\":{\"id\":\"2678\"},\"x_range\":{\"id\":\"2648\"},\"x_scale\":{\"id\":\"2660\"},\"y_range\":{\"id\":\"2649\"},\"y_scale\":{\"id\":\"2662\"}},\"id\":\"2655\",\"subtype\":\"Figure\",\"type\":\"Plot\"},{\"attributes\":{},\"id\":\"2662\",\"type\":\"LinearScale\"},{\"attributes\":{\"data_source\":{\"id\":\"2726\"},\"glyph\":{\"id\":\"2729\"},\"hover_glyph\":null,\"muted_glyph\":{\"id\":\"2731\"},\"nonselection_glyph\":{\"id\":\"2730\"},\"selection_glyph\":null,\"view\":{\"id\":\"2733\"}},\"id\":\"2732\",\"type\":\"GlyphRenderer\"},{\"attributes\":{\"end\":1.042857142857143,\"reset_end\":1.042857142857143,\"reset_start\":-0.04285714285714286,\"start\":-0.04285714285714286,\"tags\":[[[\"TotalCoinsMined_scaled\",\"TotalCoinsMined_scaled\",null]]]},\"id\":\"2648\",\"type\":\"Range1d\"},{\"attributes\":{\"source\":{\"id\":\"2689\"}},\"id\":\"2696\",\"type\":\"CDSView\"},{\"attributes\":{\"source\":{\"id\":\"2726\"}},\"id\":\"2733\",\"type\":\"CDSView\"},{\"attributes\":{},\"id\":\"2660\",\"type\":\"LinearScale\"},{\"attributes\":{\"axis\":{\"id\":\"2668\"},\"dimension\":1,\"grid_line_color\":null,\"ticker\":null},\"id\":\"2671\",\"type\":\"Grid\"},{\"attributes\":{\"fill_color\":{\"value\":\"#2ba02b\"},\"line_color\":{\"value\":\"#2ba02b\"},\"size\":{\"units\":\"screen\",\"value\":5.477225575051661},\"x\":{\"field\":\"TotalCoinsMined_scaled\"},\"y\":{\"field\":\"TotalCoinSupply_scaled\"}},\"id\":\"2729\",\"type\":\"Scatter\"},{\"attributes\":{\"margin\":[5,5,5,5],\"name\":\"HSpacer05449\",\"sizing_mode\":\"stretch_width\"},\"id\":\"2939\",\"type\":\"Spacer\"},{\"attributes\":{\"data\":{\"Class\":[4,4,4,4,4,4,4,4,4,4,4,4,4,4,4],\"TotalCoinSupply_scaled\":{\"__ndarray__\":\"VfKcdi8b1D/6fmq8dJPYPzgbkQyhnMc//Knx0k1iID+ZmZmZmZnJP/yp8dJNYkA/AAAAAAAA8D8sQxzr4jYaP1pkO99Pjbc/W+uLhLacxz/8qfHSTWJQP/M1l5j49SQ/AAAAAAAAAAAAAAAAAAAAAPyp8dJNYmA/\",\"dtype\":\"float64\",\"order\":\"little\",\"shape\":[15]},\"TotalCoinsMined_scaled\":{\"__ndarray__\":\"SAVfHQtJnj+KZPYUZovJPVhQT91+zMc/jJ8MEr+mHD8YHfdCBRXFP7qKEQM8EjM/rV/sZZR7qz+aEdS4Bt20PnwmmCQII7Q/uLDcOEq+uT96Q0MFuIxQPzLjHxJSxx8/RW+UnMLjUD8RwmraN5NSPwcccQq4jGA/\",\"dtype\":\"float64\",\"order\":\"little\",\"shape\":[15]}},\"selected\":{\"id\":\"2771\"},\"selection_policy\":{\"id\":\"2792\"}},\"id\":\"2770\",\"type\":\"ColumnDataSource\"},{\"attributes\":{\"label\":{\"value\":\"2\"},\"renderers\":[{\"id\":\"2732\"}]},\"id\":\"2746\",\"type\":\"LegendItem\"},{\"attributes\":{},\"id\":\"2669\",\"type\":\"BasicTicker\"},{\"attributes\":{\"axis_label\":\"Total Cryptocurrency Coin Supply\",\"bounds\":\"auto\",\"formatter\":{\"id\":\"2688\"},\"major_label_orientation\":\"horizontal\",\"ticker\":{\"id\":\"2669\"}},\"id\":\"2668\",\"type\":\"LinearAxis\"},{\"attributes\":{},\"id\":\"2686\",\"type\":\"BasicTickFormatter\"},{\"attributes\":{},\"id\":\"2690\",\"type\":\"Selection\"},{\"attributes\":{},\"id\":\"2792\",\"type\":\"UnionRenderers\"},{\"attributes\":{\"data_source\":{\"id\":\"2689\"},\"glyph\":{\"id\":\"2692\"},\"hover_glyph\":null,\"muted_glyph\":{\"id\":\"2694\"},\"nonselection_glyph\":{\"id\":\"2693\"},\"selection_glyph\":null,\"view\":{\"id\":\"2696\"}},\"id\":\"2695\",\"type\":\"GlyphRenderer\"},{\"attributes\":{\"data\":{\"Class\":[0,0,0,0,0,0,0,0,0,0,0,0,0,0,0,0,0,0,0,0,0,0,0,0,0,0,0,0,0,0,0,0,0,0,0,0,0,0,0,0,0,0,0,0,0,0,0,0,0,0,0,0,0,0,0,0,0,0,0,0,0,0,0,0,0,0,0,0,0,0,0,0,0,0,0,0,0,0,0,0,0,0,0,0,0,0,0,0,0,0,0,0,0,0,0,0,0,0,0,0,0,0,0,0,0,0,0,0,0,0,0,0,0,0,0,0,0,0,0,0,0,0,0,0,0,0,0,0,0,0,0,0,0,0,0,0,0,0,0,0,0,0,0,0,0,0,0,0,0,0,0,0,0,0,0,0,0,0,0,0,0,0,0,0,0,0,0,0,0,0,0,0,0,0,0,0,0,0,0,0,0,0,0,0,0,0,0,0,0,0,0,0,0,0,0,0,0,0,0,0,0,0,0,0,0,0,0,0,0,0,0,0,0,0,0,0,0,0,0,0,0,0,0,0,0,0,0,0,0,0,0,0,0,0,0,0,0,0,0,0,0,0,0,0,0,0,0,0,0,0,0,0,0,0,0,0,0,0,0,0,0,0,0,0,0,0,0,0,0,0,0,0,0,0,0,0],\"TotalCoinSupply_scaled\":{\"__ndarray__\":\"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\",\"dtype\":\"float64\",\"order\":\"little\",\"shape\":[276]},\"TotalCoinsMined_scaled\":{\"__ndarray__\":\"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\",\"dtype\":\"float64\",\"order\":\"little\",\"shape\":[276]}},\"selected\":{\"id\":\"2690\"},\"selection_policy\":{\"id\":\"2703\"}},\"id\":\"2689\",\"type\":\"ColumnDataSource\"},{\"attributes\":{\"data\":{\"Class\":[1,1,1,1,1,1,1,1,1,1,1,1,1,1,1,1,1,1,1,1,1,1,1,1,1,1,1,1,1,1,1,1,1,1,1,1,1,1,1,1,1,1,1,1,1,1,1,1,1,1,1,1,1,1,1,1,1,1,1,1,1,1,1,1,1,1,1,1,1,1,1,1,1,1,1,1,1,1,1,1,1,1,1,1,1,1,1,1,1,1,1,1,1,1,1,1,1,1,1,1,1,1,1,1,1,1,1,1,1,1,1,1,1,1,1,1,1,1,1,1,1,1,1,1,1,1,1,1,1,1,1,1,1,1,1,1,1,1,1,1,1,1,1,1,1,1,1,1,1,1,1,1,1,1,1,1,1,1,1,1,1,1,1,1,1,1,1,1,1,1,1,1,1,1,1,1,1,1,1,1,1,1,1,1,1,1,1,1,1,1,1,1,1,1,1,1,1,1,1,1,1,1,1,1,1,1,1,1,1,1,1,1,1,1,1,1,1,1,1,1,1,1,1,1,1,1,1,1,1,1,1,1,1,1],\"TotalCoinSupply_scaled\":{\"__ndarray__\":\"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\",\"dtype\":\"float64\",\"order\":\"little\",\"shape\":[234]},\"TotalCoinsMined_scaled\":{\"__ndarray__\":\"r6i7QfH88j5vitZPpIMcP2oafiZFsRA/CBAnMBQ48j7wDEJVXgQePwFvcySeR98+S6ekP56Yhz8O0fKLQ3DYPunoanR6nuc+QPQHNS7b6T4I4yegqPBbP3DKsyzdiCY/L+6KjEoSIT/oRTYbOCzfPiAs0bCuLjE/EW8kTYs9Cj+fTR0ZB7YBPzYVi0u4lt4+B4zTUMjt0z4X972eryvVPsxlih8PepA/2ECk8Dhrkz/zEfYUifCJP77jW4PdJfY+1CRCbGP6LD+d3gfkiqb0Puziq35yXbM+4fJtu5OgKz8zhSq3lUNNP7Gfa3bJYxE/GvyFqN0PBj8X1qv+Um23P9oNVa5dVvY+Ghr3riANJD/pq5EDUnj0PsOmmLPntrI+dJOYt3M0BD/EN/Ari2kFP3cMJQkyl9g+vxok0C2UYz9pHLAFhzfvPlf2xWZGKDY//bQsOhi2sj5Ru1R/76X5PpV2kxm7G/s+EyTYm2WlQj9dbDIPfw4HP7G8Ce/rSvg+bL2nE6xNwz6yOWnioDuLPgZ+n5+cdbQ+So3LeFqF+D4231tR3xkLP2V9tGjaqx8/PlWL/fTBBD8SQ1RVUZN8Pyw3AHS+DhI/vHcWlIB5Oz9XT2Lk/DQiP7xa70NzqIg+/S8r0gUpJD+7jf7QgztKP4Wftlbvz0c/Re2gid09ET9Fe9kzvvfaPq5c/HTseuU+RG/57S0Tcz9okINYfHNHP/A5J/24/qQ+VCyn2nRm6j4lW2FiVuh3PlEjiUBvEAE/0L1ZHKoc7T5yrZVfYj3vPnLL2el3zfA+O0bJ/Qg/AT/NwWkjtwUUP6kiwRuRO+Y+Lul4dCEeoT8Jlvatg87wPr1leW50PfY+ANsjv6/NKz+3afQdvkDoPvrxCBcDfhI/xVkib6J8lj+p8MOs0+MHP8gfzWVlKNg+ZvPNIBiSpT6KjUKW8kjyPoRXNiKn1ts+8H9TLJbs7D5UiniRbuSkPlm2qvTFWbc+8FkqM3GwHj+LagAvFZLgPgCBwBIGdNo+ekNDBbiMUD/UO02+pPAeP9YUPmyMSuM+uL3MdOuN5z7YMx6jQQjgPmMAO/aewfs+hTD+QGnI1z6i/2L5Rf0pP1o9XtEcRks/O4JDwcM/ED+1ww3+ZpOwPtSsdbzrTK4+DHACjFPS4z7F/3TBSsu/Po4zrH4VxkE/0p/hlqM85z4KTczmhmXKPqsP156DFwA/84jwQy5T3T7p+YLyIXAaP9aj38qrpPM+y6MlnoTrwj5cbEGW6PgQP4GHiPbJceU+NN5Obdp59T7Je+X67M5VP3PWT+QQ9+w+/1QSxMZHEj9hKn9Ae/T0PrWHiodIpCE/L438AR5/8z6ErCojNPJdP+bivAz2mwI/yQQoA8408z7nbwBu7OTVPvjw10pglfs+1BmvOnk5xj4J18Vn7P/tPvRo7PL22vI+gc0bUEOLYj9LwcxRKDcgPyRl/jd+D/M+/Y1TnL1xoD4DNdImbn3CP/jx38F6juQ+1996s5J88j6p3Vc8E0oBP3gVJ9Mc2wE/uBZMWL/z4j4pupu9+I91P3sMH7KeXWY/uNaq91ym0T7bHSC7aDjyPl7TxYbH/wE/Esjo3RF6Gj88xJCxuDInP9pcGpKPAts+LsltZsEF6z491TfErLXYPniYzdXT4z8/5YO/i7rxkz8tUFOdpxDTPpkfTG2+PUE/YzWXr25EFT+/sGvyzzU9P0ryBjnNZnA/wKP4upcfnz8oDYelxerRPlT2YcShn+A+M9MbVqPYMz/pmLbtWxYIP2UO7kqn9eE+wa/X9f9b9T6YqjPlVz7pPpumGNzsadQ+DtRa8Xi7IT9Qn7IT5q+EP9fxBx9Paxw/UDLYFSpPRT98tg9nf13qPmZF6WRL+o0/Z3XZGKv5Kz/YL9a/QWQwPxWp9R5TMhU/2UGAvoE+0T4HcrwwvXr6PvdglsAB5RI/WV3Wt131/D428IRIetcAP8qbJCj29vA++9PFM/FQ9j72TR636JjVPvx87g2S9ao+yzphbmeZ3T6Pmy8IuNh2PhjZ6gl/SfQ+g1nCOEpbpT+RgAu44vwhP4LOT27aiUI/9ZfpU6I24T4f5SubYVDiPs9e0ldlJ9U+eNZihN4BuD7q8GBWj4DwPtGA3ySfuNQ+lr1vCNE87z6/lPALjmBhP9ta2gEuQNU+Gw5gKXCp5D5Pq/yKvoVxP1or9CUo4uw+15j5xKgO8z6tFR/LL+ZeP7REtqoIv7o+dWqPzNPI8D6YRvIV+IvsPmrMMqxthps+Gw5UWrivAj+bmw6DVOYCP3FvzQOgo/o+lM2DQKJh6z6xea5Mu7ELP7JfNdwD1bM+fja4QLVnFj8aiAbhOm0NP7DYIMkOpm8/lyfwwS69+D4gof8PEdNJP1hseRLlWPg+ZbOty7CZnj/sBEYPs2gTPxWZdvn0Z9U+VjnBgrtzEj8gMXRQrz3MPvtFfmC/eho/gceFIuXv+T6pGh9y7ThQP37YbI3H6d4+\",\"dtype\":\"float64\",\"order\":\"little\",\"shape\":[234]}},\"selected\":{\"id\":\"2708\"},\"selection_policy\":{\"id\":\"2723\"}},\"id\":\"2707\",\"type\":\"ColumnDataSource\"},{\"attributes\":{\"fill_alpha\":{\"value\":0.1},\"fill_color\":{\"value\":\"#2ba02b\"},\"line_alpha\":{\"value\":0.1},\"line_color\":{\"value\":\"#2ba02b\"},\"size\":{\"units\":\"screen\",\"value\":5.477225575051661},\"x\":{\"field\":\"TotalCoinsMined_scaled\"},\"y\":{\"field\":\"TotalCoinSupply_scaled\"}},\"id\":\"2730\",\"type\":\"Scatter\"},{\"attributes\":{\"fill_alpha\":{\"value\":0.1},\"fill_color\":{\"value\":\"#1f77b3\"},\"line_alpha\":{\"value\":0.1},\"line_color\":{\"value\":\"#1f77b3\"},\"size\":{\"units\":\"screen\",\"value\":5.477225575051661},\"x\":{\"field\":\"TotalCoinsMined_scaled\"},\"y\":{\"field\":\"TotalCoinSupply_scaled\"}},\"id\":\"2693\",\"type\":\"Scatter\"},{\"attributes\":{},\"id\":\"2744\",\"type\":\"UnionRenderers\"},{\"attributes\":{\"fill_color\":{\"value\":\"#1f77b3\"},\"line_color\":{\"value\":\"#1f77b3\"},\"size\":{\"units\":\"screen\",\"value\":5.477225575051661},\"x\":{\"field\":\"TotalCoinsMined_scaled\"},\"y\":{\"field\":\"TotalCoinSupply_scaled\"}},\"id\":\"2692\",\"type\":\"Scatter\"},{\"attributes\":{\"fill_alpha\":{\"value\":0.2},\"fill_color\":{\"value\":\"#1f77b3\"},\"line_alpha\":{\"value\":0.2},\"line_color\":{\"value\":\"#1f77b3\"},\"size\":{\"units\":\"screen\",\"value\":5.477225575051661},\"x\":{\"field\":\"TotalCoinsMined_scaled\"},\"y\":{\"field\":\"TotalCoinSupply_scaled\"}},\"id\":\"2694\",\"type\":\"Scatter\"},{\"attributes\":{\"click_policy\":\"mute\",\"items\":[{\"id\":\"2706\"},{\"id\":\"2725\"},{\"id\":\"2746\"},{\"id\":\"2769\"},{\"id\":\"2794\"}],\"location\":[0,0],\"title\":\"Class\"},\"id\":\"2705\",\"type\":\"Legend\"},{\"attributes\":{\"source\":{\"id\":\"2747\"}},\"id\":\"2754\",\"type\":\"CDSView\"},{\"attributes\":{\"fill_color\":{\"value\":\"#d62628\"},\"line_color\":{\"value\":\"#d62628\"},\"size\":{\"units\":\"screen\",\"value\":5.477225575051661},\"x\":{\"field\":\"TotalCoinsMined_scaled\"},\"y\":{\"field\":\"TotalCoinSupply_scaled\"}},\"id\":\"2750\",\"type\":\"Scatter\"},{\"attributes\":{},\"id\":\"2672\",\"type\":\"SaveTool\"},{\"attributes\":{},\"id\":\"2688\",\"type\":\"BasicTickFormatter\"},{\"attributes\":{\"data\":{\"Class\":[3,3,3,3,3,3],\"TotalCoinSupply_scaled\":{\"__ndarray__\":\"+nQumcwytj+U9gZfmEx1P7x5qkNuhks/hFoo4ZaLMD/8qfHSTWJQPyxDHOviNho/\",\"dtype\":\"float64\",\"order\":\"little\",\"shape\":[6]},\"TotalCoinsMined_scaled\":{\"__ndarray__\":\"zaDgBxGurD+PWA2R2lNdP5CkxfJKIUU/nBkleI8SKz96Q0MFuIxQP/tFfmC/eho/\",\"dtype\":\"float64\",\"order\":\"little\",\"shape\":[6]}},\"selected\":{\"id\":\"2748\"},\"selection_policy\":{\"id\":\"2767\"}},\"id\":\"2747\",\"type\":\"ColumnDataSource\"},{\"attributes\":{},\"id\":\"2673\",\"type\":\"PanTool\"},{\"attributes\":{},\"id\":\"2674\",\"type\":\"WheelZoomTool\"},{\"attributes\":{\"active_drag\":\"auto\",\"active_inspect\":\"auto\",\"active_multi\":null,\"active_scroll\":\"auto\",\"active_tap\":\"auto\",\"tools\":[{\"id\":\"2650\"},{\"id\":\"2672\"},{\"id\":\"2673\"},{\"id\":\"2674\"},{\"id\":\"2675\"},{\"id\":\"2676\"}]},\"id\":\"2678\",\"type\":\"Toolbar\"},{\"attributes\":{\"overlay\":{\"id\":\"2677\"}},\"id\":\"2675\",\"type\":\"BoxZoomTool\"},{\"attributes\":{\"callback\":null,\"renderers\":[{\"id\":\"2695\"},{\"id\":\"2713\"},{\"id\":\"2732\"},{\"id\":\"2753\"},{\"id\":\"2776\"}],\"tags\":[\"hv_created\"],\"tooltips\":[[\"Class\",\"@{Class}\"],[\"TotalCoinsMined_scaled\",\"@{TotalCoinsMined_scaled}\"],[\"TotalCoinSupply_scaled\",\"@{TotalCoinSupply_scaled}\"]]},\"id\":\"2650\",\"type\":\"HoverTool\"},{\"attributes\":{},\"id\":\"2748\",\"type\":\"Selection\"},{\"attributes\":{\"fill_alpha\":{\"value\":0.2},\"fill_color\":{\"value\":\"#d62628\"},\"line_alpha\":{\"value\":0.2},\"line_color\":{\"value\":\"#d62628\"},\"size\":{\"units\":\"screen\",\"value\":5.477225575051661},\"x\":{\"field\":\"TotalCoinsMined_scaled\"},\"y\":{\"field\":\"TotalCoinSupply_scaled\"}},\"id\":\"2752\",\"type\":\"Scatter\"},{\"attributes\":{\"data_source\":{\"id\":\"2747\"},\"glyph\":{\"id\":\"2750\"},\"hover_glyph\":null,\"muted_glyph\":{\"id\":\"2752\"},\"nonselection_glyph\":{\"id\":\"2751\"},\"selection_glyph\":null,\"view\":{\"id\":\"2754\"}},\"id\":\"2753\",\"type\":\"GlyphRenderer\"},{\"attributes\":{},\"id\":\"2676\",\"type\":\"ResetTool\"},{\"attributes\":{\"label\":{\"value\":\"3\"},\"renderers\":[{\"id\":\"2753\"}]},\"id\":\"2769\",\"type\":\"LegendItem\"},{\"attributes\":{\"data\":{\"Class\":[2],\"TotalCoinSupply_scaled\":{\"__ndarray__\":\"rkfhehSu7z8=\",\"dtype\":\"float64\",\"order\":\"little\",\"shape\":[1]},\"TotalCoinsMined_scaled\":{\"__ndarray__\":\"AAAAAAAA8D8=\",\"dtype\":\"float64\",\"order\":\"little\",\"shape\":[1]}},\"selected\":{\"id\":\"2727\"},\"selection_policy\":{\"id\":\"2744\"}},\"id\":\"2726\",\"type\":\"ColumnDataSource\"},{\"attributes\":{\"fill_alpha\":{\"value\":0.1},\"fill_color\":{\"value\":\"#d62628\"},\"line_alpha\":{\"value\":0.1},\"line_color\":{\"value\":\"#d62628\"},\"size\":{\"units\":\"screen\",\"value\":5.477225575051661},\"x\":{\"field\":\"TotalCoinsMined_scaled\"},\"y\":{\"field\":\"TotalCoinSupply_scaled\"}},\"id\":\"2751\",\"type\":\"Scatter\"},{\"attributes\":{},\"id\":\"2708\",\"type\":\"Selection\"},{\"attributes\":{\"fill_color\":{\"value\":\"#ff7e0e\"},\"line_color\":{\"value\":\"#ff7e0e\"},\"size\":{\"units\":\"screen\",\"value\":5.477225575051661},\"x\":{\"field\":\"TotalCoinsMined_scaled\"},\"y\":{\"field\":\"TotalCoinSupply_scaled\"}},\"id\":\"2710\",\"type\":\"Scatter\"},{\"attributes\":{\"end\":1.1,\"reset_end\":1.1,\"reset_start\":-0.1,\"start\":-0.1,\"tags\":[[[\"TotalCoinSupply_scaled\",\"TotalCoinSupply_scaled\",null]]]},\"id\":\"2649\",\"type\":\"Range1d\"}],\"root_ids\":[\"2646\"]},\"title\":\"Bokeh Application\",\"version\":\"2.1.1\"}};\n",
       "  var render_items = [{\"docid\":\"65887bb0-b033-4c9c-a074-9a36951735e0\",\"root_ids\":[\"2646\"],\"roots\":{\"2646\":\"838a9f0a-f9ca-40ed-9fb7-c9d225073325\"}}];\n",
       "  root.Bokeh.embed.embed_items_notebook(docs_json, render_items);\n",
       "  }\n",
       "if (root.Bokeh !== undefined) {\n",
       "    embed_document(root);\n",
       "  } else {\n",
       "    var attempts = 0;\n",
       "    var timer = setInterval(function(root) {\n",
       "      if (root.Bokeh !== undefined) {\n",
       "        clearInterval(timer);\n",
       "        embed_document(root);\n",
       "      } else if (document.readyState == \"complete\") {\n",
       "        attempts++;\n",
       "        if (attempts > 100) {\n",
       "          clearInterval(timer);\n",
       "          console.log(\"Bokeh: ERROR: Unable to run BokehJS code because BokehJS library is missing\");\n",
       "        }\n",
       "      }\n",
       "    }, 10, root)\n",
       "  }\n",
       "})(window);</script>"
      ],
      "text/plain": [
       ":NdOverlay   [Class]\n",
       "   :Scatter   [TotalCoinsMined_scaled]   (TotalCoinSupply_scaled)"
      ]
     },
     "execution_count": 108,
     "metadata": {
      "application/vnd.holoviews_exec.v0+json": {
       "id": "2646"
      }
     },
     "output_type": "execute_result"
    }
   ],
   "source": [
    "# Create a hvplot.scatter plot using x=\"TotalCoinsMined\" and y=\"TotalCoinSupply\".\n",
    "plot_df2.hvplot.scatter(x=\"TotalCoinsMined_scaled\", y=\"TotalCoinSupply_scaled\", by=\"Class\",\n",
    "                      xlabel=\"Total Cryptocurrency Coins Mined\",\n",
    "                      ylabel=\"Total Cryptocurrency Coin Supply\",\n",
    "                      )\n"
   ]
  },
  {
   "cell_type": "code",
   "execution_count": null,
   "metadata": {},
   "outputs": [],
   "source": []
  }
 ],
 "metadata": {
  "file_extension": ".py",
  "kernelspec": {
   "display_name": "PythonData",
   "language": "python",
   "name": "pythondata"
  },
  "language_info": {
   "codemirror_mode": {
    "name": "ipython",
    "version": 3
   },
   "file_extension": ".py",
   "mimetype": "text/x-python",
   "name": "python",
   "nbconvert_exporter": "python",
   "pygments_lexer": "ipython3",
   "version": "3.7.7"
  },
  "latex_envs": {
   "LaTeX_envs_menu_present": true,
   "autoclose": false,
   "autocomplete": true,
   "bibliofile": "biblio.bib",
   "cite_by": "apalike",
   "current_citInitial": 1,
   "eqLabelWithNumbers": true,
   "eqNumInitial": 1,
   "hotkeys": {
    "equation": "Ctrl-E",
    "itemize": "Ctrl-I"
   },
   "labels_anchors": false,
   "latex_user_defs": false,
   "report_style_numbering": false,
   "user_envs_cfg": false
  },
  "mimetype": "text/x-python",
  "name": "python",
  "npconvert_exporter": "python",
  "pygments_lexer": "ipython3",
  "version": 3
 },
 "nbformat": 4,
 "nbformat_minor": 2
}
